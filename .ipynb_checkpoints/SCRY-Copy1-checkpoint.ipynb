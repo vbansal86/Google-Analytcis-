{
 "cells": [
  {
   "cell_type": "code",
   "execution_count": 1,
   "metadata": {},
   "outputs": [
    {
     "name": "stderr",
     "output_type": "stream",
     "text": [
      "Using TensorFlow backend.\n",
      "C:\\Users\\vbdon\\Anaconda3\\envs\\tensorflow\\lib\\site-packages\\sklearn\\cross_validation.py:41: DeprecationWarning: This module was deprecated in version 0.18 in favor of the model_selection module into which all the refactored classes and functions are moved. Also note that the interface of the new CV iterators are different from that of this module. This module will be removed in 0.20.\n",
      "  \"This module will be removed in 0.20.\", DeprecationWarning)\n"
     ]
    }
   ],
   "source": [
    "import numpy as np\n",
    "import pandas as pd \n",
    "import seaborn as sns\n",
    "from sklearn import preprocessing\n",
    "from sklearn import model_selection\n",
    "from matplotlib import pyplot as plt\n",
    "from sklearn import linear_model,decomposition\n",
    "from sklearn.pipeline import Pipeline\n",
    "from sklearn.metrics import classification_report\n",
    "from sklearn.ensemble import RandomForestClassifier\n",
    "from sklearn import metrics\n",
    "from sklearn.metrics import roc_curve,auc\n",
    "from sklearn.feature_selection import RFE\n",
    "from sklearn import svm\n",
    "from keras.models import Sequential \n",
    "from keras.optimizers import SGD\n",
    "from keras.layers import Dense , Dropout\n",
    "from keras.wrappers.scikit_learn import KerasClassifier\n",
    "from keras.utils import np_utils\n",
    "import pickle\n",
    "import xgboost as xgb\n",
    "from xgboost.sklearn import XGBClassifier\n",
    "%matplotlib inline"
   ]
  },
  {
   "cell_type": "code",
   "execution_count": 2,
   "metadata": {},
   "outputs": [],
   "source": [
    "df1 = pd.read_csv('Final_Development set_With corrected dates and errors_Dimension1.csv',delimiter=';')\n",
    "df2 = pd.read_csv('Final_Development set_With corrected dates and errors_Dimension2.csv',delimiter=';')\n",
    "\n",
    "#remove duplicate rows in both dataframe caused during data extraction\n",
    "df2 = df2.drop_duplicates()\n",
    "df1 = df1.drop_duplicates()"
   ]
  },
  {
   "cell_type": "code",
   "execution_count": 3,
   "metadata": {},
   "outputs": [],
   "source": [
    "tf1 = pd.read_csv(r'Test_data_sets_Without_labels_Final/test_dim_1_Without labels_Final.csv',delimiter=';').drop_duplicates()\n",
    "tf2 = pd.read_csv(r'Test_data_sets_Without_labels_Final/test_dim_2_Without labels_Final.csv',delimiter=';').drop_duplicates()"
   ]
  },
  {
   "cell_type": "code",
   "execution_count": 4,
   "metadata": {},
   "outputs": [
    {
     "name": "stdout",
     "output_type": "stream",
     "text": [
      "<class 'pandas.core.frame.DataFrame'>\n",
      "Int64Index: 18187 entries, 0 to 18186\n",
      "Data columns (total 10 columns):\n",
      "ga.dateHourMinute                    18187 non-null int64\n",
      "ga.sessionDurationBucket             18187 non-null int64\n",
      "ga.browser.encoded                   18187 non-null object\n",
      "ga.operatingSystem.encoded           18187 non-null object\n",
      "ga.operatingSystemVersion.encoded    18187 non-null object\n",
      "ga.language.encoded                  18187 non-null object\n",
      "ga.DeviceInfo.encoded                18187 non-null object\n",
      "Unique.code                          18187 non-null object\n",
      "ga.sessionsWithEvent                 18187 non-null int64\n",
      "Success                              0 non-null float64\n",
      "dtypes: float64(1), int64(3), object(6)\n",
      "memory usage: 1.5+ MB\n"
     ]
    }
   ],
   "source": [
    "tf1.info()"
   ]
  },
  {
   "cell_type": "code",
   "execution_count": 5,
   "metadata": {},
   "outputs": [
    {
     "name": "stdout",
     "output_type": "stream",
     "text": [
      "<class 'pandas.core.frame.DataFrame'>\n",
      "Int64Index: 42434 entries, 0 to 42433\n",
      "Data columns (total 10 columns):\n",
      "ga.dateHourMinute                    42434 non-null int64\n",
      "ga.sessionDurationBucket             42434 non-null int64\n",
      "ga.browser.encoded                   42434 non-null object\n",
      "ga.operatingSystem.encoded           42434 non-null object\n",
      "ga.operatingSystemVersion.encoded    42434 non-null object\n",
      "ga.language.encoded                  42434 non-null object\n",
      "ga.DeviceInfo.encoded                42434 non-null object\n",
      "Unique.code                          42434 non-null object\n",
      "ga.sessionsWithEvent                 42434 non-null int64\n",
      "Success                              42434 non-null bool\n",
      "dtypes: bool(1), int64(3), object(6)\n",
      "memory usage: 3.3+ MB\n"
     ]
    }
   ],
   "source": [
    "df1.info()"
   ]
  },
  {
   "cell_type": "code",
   "execution_count": 4,
   "metadata": {
    "scrolled": false
   },
   "outputs": [
    {
     "name": "stdout",
     "output_type": "stream",
     "text": [
      "<class 'pandas.core.frame.DataFrame'>\n",
      "Int64Index: 42435 entries, 0 to 42435\n",
      "Data columns (total 8 columns):\n",
      "ga.dateHourMinute                 42435 non-null int64\n",
      "ga.userType                       42435 non-null object\n",
      "ga.sessionCount                   42435 non-null int64\n",
      "ga.userBucket                     42435 non-null int64\n",
      "ga.sessionDurationBucket          42435 non-null int64\n",
      "ga.sessionsWithEvent              42435 non-null int64\n",
      "ga.uniqueDimensionCombinations    42435 non-null int64\n",
      "Sucess                            42435 non-null bool\n",
      "dtypes: bool(1), int64(6), object(1)\n",
      "memory usage: 2.6+ MB\n"
     ]
    }
   ],
   "source": [
    "df2.info()"
   ]
  },
  {
   "cell_type": "code",
   "execution_count": null,
   "metadata": {},
   "outputs": [],
   "source": []
  },
  {
   "cell_type": "code",
   "execution_count": 6,
   "metadata": {},
   "outputs": [],
   "source": [
    "df1.columns = [w.replace('.','_') for w in df1.columns]\n",
    "df2.columns = [w.replace('.','_') for w in df2.columns]"
   ]
  },
  {
   "cell_type": "code",
   "execution_count": 7,
   "metadata": {},
   "outputs": [],
   "source": [
    "tf1.columns = [w.replace('.','_') for w in tf1.columns]\n",
    "tf2.columns = [w.replace('.','_') for w in tf2.columns]"
   ]
  },
  {
   "cell_type": "code",
   "execution_count": 8,
   "metadata": {},
   "outputs": [
    {
     "data": {
      "text/html": [
       "<div>\n",
       "<style scoped>\n",
       "    .dataframe tbody tr th:only-of-type {\n",
       "        vertical-align: middle;\n",
       "    }\n",
       "\n",
       "    .dataframe tbody tr th {\n",
       "        vertical-align: top;\n",
       "    }\n",
       "\n",
       "    .dataframe thead th {\n",
       "        text-align: right;\n",
       "    }\n",
       "</style>\n",
       "<table border=\"1\" class=\"dataframe\">\n",
       "  <thead>\n",
       "    <tr style=\"text-align: right;\">\n",
       "      <th></th>\n",
       "      <th>ga_dateHourMinute</th>\n",
       "      <th>ga_sessionDurationBucket</th>\n",
       "      <th>ga_browser_encoded</th>\n",
       "      <th>ga_operatingSystem_encoded</th>\n",
       "      <th>ga_operatingSystemVersion_encoded</th>\n",
       "      <th>ga_language_encoded</th>\n",
       "      <th>ga_DeviceInfo_encoded</th>\n",
       "      <th>Unique_code</th>\n",
       "      <th>ga_sessionsWithEvent</th>\n",
       "      <th>Success</th>\n",
       "    </tr>\n",
       "  </thead>\n",
       "  <tbody>\n",
       "    <tr>\n",
       "      <th>0</th>\n",
       "      <td>201804031151</td>\n",
       "      <td>1</td>\n",
       "      <td>A6</td>\n",
       "      <td>B2</td>\n",
       "      <td>C44</td>\n",
       "      <td>D30</td>\n",
       "      <td>E1</td>\n",
       "      <td>A6B2C44D30E1</td>\n",
       "      <td>1</td>\n",
       "      <td>False</td>\n",
       "    </tr>\n",
       "    <tr>\n",
       "      <th>1</th>\n",
       "      <td>201804141014</td>\n",
       "      <td>3</td>\n",
       "      <td>A4</td>\n",
       "      <td>B2</td>\n",
       "      <td>C42</td>\n",
       "      <td>D54</td>\n",
       "      <td>E1</td>\n",
       "      <td>A4B2C42D54E1</td>\n",
       "      <td>1</td>\n",
       "      <td>False</td>\n",
       "    </tr>\n",
       "    <tr>\n",
       "      <th>2</th>\n",
       "      <td>201804141045</td>\n",
       "      <td>1</td>\n",
       "      <td>A4</td>\n",
       "      <td>B2</td>\n",
       "      <td>C49</td>\n",
       "      <td>D53</td>\n",
       "      <td>E1</td>\n",
       "      <td>A4B2C49D53E1</td>\n",
       "      <td>1</td>\n",
       "      <td>False</td>\n",
       "    </tr>\n",
       "    <tr>\n",
       "      <th>3</th>\n",
       "      <td>201804231929</td>\n",
       "      <td>2</td>\n",
       "      <td>A3</td>\n",
       "      <td>B2</td>\n",
       "      <td>C51</td>\n",
       "      <td>D13</td>\n",
       "      <td>E1</td>\n",
       "      <td>A3B2C51D13E1</td>\n",
       "      <td>1</td>\n",
       "      <td>False</td>\n",
       "    </tr>\n",
       "    <tr>\n",
       "      <th>4</th>\n",
       "      <td>201806061033</td>\n",
       "      <td>1</td>\n",
       "      <td>A6</td>\n",
       "      <td>B2</td>\n",
       "      <td>C44</td>\n",
       "      <td>D31</td>\n",
       "      <td>E1</td>\n",
       "      <td>A6B2C44D31E1</td>\n",
       "      <td>1</td>\n",
       "      <td>False</td>\n",
       "    </tr>\n",
       "  </tbody>\n",
       "</table>\n",
       "</div>"
      ],
      "text/plain": [
       "   ga_dateHourMinute  ga_sessionDurationBucket ga_browser_encoded  \\\n",
       "0       201804031151                         1                 A6   \n",
       "1       201804141014                         3                 A4   \n",
       "2       201804141045                         1                 A4   \n",
       "3       201804231929                         2                 A3   \n",
       "4       201806061033                         1                 A6   \n",
       "\n",
       "  ga_operatingSystem_encoded ga_operatingSystemVersion_encoded  \\\n",
       "0                         B2                               C44   \n",
       "1                         B2                               C42   \n",
       "2                         B2                               C49   \n",
       "3                         B2                               C51   \n",
       "4                         B2                               C44   \n",
       "\n",
       "  ga_language_encoded ga_DeviceInfo_encoded   Unique_code  \\\n",
       "0                 D30                    E1  A6B2C44D30E1   \n",
       "1                 D54                    E1  A4B2C42D54E1   \n",
       "2                 D53                    E1  A4B2C49D53E1   \n",
       "3                 D13                    E1  A3B2C51D13E1   \n",
       "4                 D31                    E1  A6B2C44D31E1   \n",
       "\n",
       "   ga_sessionsWithEvent  Success  \n",
       "0                     1    False  \n",
       "1                     1    False  \n",
       "2                     1    False  \n",
       "3                     1    False  \n",
       "4                     1    False  "
      ]
     },
     "execution_count": 8,
     "metadata": {},
     "output_type": "execute_result"
    }
   ],
   "source": [
    "df1.head()"
   ]
  },
  {
   "cell_type": "code",
   "execution_count": 9,
   "metadata": {},
   "outputs": [
    {
     "data": {
      "text/html": [
       "<div>\n",
       "<style scoped>\n",
       "    .dataframe tbody tr th:only-of-type {\n",
       "        vertical-align: middle;\n",
       "    }\n",
       "\n",
       "    .dataframe tbody tr th {\n",
       "        vertical-align: top;\n",
       "    }\n",
       "\n",
       "    .dataframe thead th {\n",
       "        text-align: right;\n",
       "    }\n",
       "</style>\n",
       "<table border=\"1\" class=\"dataframe\">\n",
       "  <thead>\n",
       "    <tr style=\"text-align: right;\">\n",
       "      <th></th>\n",
       "      <th>ga_dateHourMinute</th>\n",
       "      <th>ga_userType</th>\n",
       "      <th>ga_sessionCount</th>\n",
       "      <th>ga_userBucket</th>\n",
       "      <th>ga_sessionDurationBucket</th>\n",
       "      <th>ga_sessionsWithEvent</th>\n",
       "      <th>ga_uniqueDimensionCombinations</th>\n",
       "      <th>Sucess</th>\n",
       "    </tr>\n",
       "  </thead>\n",
       "  <tbody>\n",
       "    <tr>\n",
       "      <th>0</th>\n",
       "      <td>201803151836</td>\n",
       "      <td>New Visitor</td>\n",
       "      <td>1</td>\n",
       "      <td>79</td>\n",
       "      <td>1</td>\n",
       "      <td>1</td>\n",
       "      <td>1</td>\n",
       "      <td>False</td>\n",
       "    </tr>\n",
       "    <tr>\n",
       "      <th>1</th>\n",
       "      <td>201803151838</td>\n",
       "      <td>Returning Visitor</td>\n",
       "      <td>2</td>\n",
       "      <td>30</td>\n",
       "      <td>1</td>\n",
       "      <td>1</td>\n",
       "      <td>1</td>\n",
       "      <td>False</td>\n",
       "    </tr>\n",
       "    <tr>\n",
       "      <th>2</th>\n",
       "      <td>201803151841</td>\n",
       "      <td>New Visitor</td>\n",
       "      <td>1</td>\n",
       "      <td>19</td>\n",
       "      <td>220</td>\n",
       "      <td>1</td>\n",
       "      <td>1</td>\n",
       "      <td>False</td>\n",
       "    </tr>\n",
       "    <tr>\n",
       "      <th>3</th>\n",
       "      <td>201803151842</td>\n",
       "      <td>New Visitor</td>\n",
       "      <td>1</td>\n",
       "      <td>10</td>\n",
       "      <td>80</td>\n",
       "      <td>1</td>\n",
       "      <td>1</td>\n",
       "      <td>False</td>\n",
       "    </tr>\n",
       "    <tr>\n",
       "      <th>4</th>\n",
       "      <td>201803151926</td>\n",
       "      <td>Returning Visitor</td>\n",
       "      <td>2</td>\n",
       "      <td>48</td>\n",
       "      <td>207</td>\n",
       "      <td>1</td>\n",
       "      <td>1</td>\n",
       "      <td>False</td>\n",
       "    </tr>\n",
       "  </tbody>\n",
       "</table>\n",
       "</div>"
      ],
      "text/plain": [
       "   ga_dateHourMinute        ga_userType  ga_sessionCount  ga_userBucket  \\\n",
       "0       201803151836        New Visitor                1             79   \n",
       "1       201803151838  Returning Visitor                2             30   \n",
       "2       201803151841        New Visitor                1             19   \n",
       "3       201803151842        New Visitor                1             10   \n",
       "4       201803151926  Returning Visitor                2             48   \n",
       "\n",
       "   ga_sessionDurationBucket  ga_sessionsWithEvent  \\\n",
       "0                         1                     1   \n",
       "1                         1                     1   \n",
       "2                       220                     1   \n",
       "3                        80                     1   \n",
       "4                       207                     1   \n",
       "\n",
       "   ga_uniqueDimensionCombinations  Sucess  \n",
       "0                               1   False  \n",
       "1                               1   False  \n",
       "2                               1   False  \n",
       "3                               1   False  \n",
       "4                               1   False  "
      ]
     },
     "execution_count": 9,
     "metadata": {},
     "output_type": "execute_result"
    }
   ],
   "source": [
    "df2.head()"
   ]
  },
  {
   "cell_type": "code",
   "execution_count": 10,
   "metadata": {},
   "outputs": [],
   "source": [
    "df2['Success'] = np.where(df2['Sucess'] == True,1,0)\n",
    "df1['Success'] = np.where(df1['Success']==True,1,0)\n",
    "del df2['Sucess']"
   ]
  },
  {
   "cell_type": "code",
   "execution_count": 11,
   "metadata": {},
   "outputs": [
    {
     "data": {
      "text/html": [
       "<div>\n",
       "<style scoped>\n",
       "    .dataframe tbody tr th:only-of-type {\n",
       "        vertical-align: middle;\n",
       "    }\n",
       "\n",
       "    .dataframe tbody tr th {\n",
       "        vertical-align: top;\n",
       "    }\n",
       "\n",
       "    .dataframe thead th {\n",
       "        text-align: right;\n",
       "    }\n",
       "</style>\n",
       "<table border=\"1\" class=\"dataframe\">\n",
       "  <thead>\n",
       "    <tr style=\"text-align: right;\">\n",
       "      <th></th>\n",
       "      <th>ga_dateHourMinute</th>\n",
       "      <th>ga_sessionDurationBucket</th>\n",
       "      <th>ga_browser_encoded</th>\n",
       "      <th>ga_operatingSystem_encoded</th>\n",
       "      <th>ga_operatingSystemVersion_encoded</th>\n",
       "      <th>ga_language_encoded</th>\n",
       "      <th>ga_DeviceInfo_encoded</th>\n",
       "      <th>Unique_code</th>\n",
       "      <th>ga_sessionsWithEvent</th>\n",
       "      <th>Success</th>\n",
       "    </tr>\n",
       "  </thead>\n",
       "  <tbody>\n",
       "    <tr>\n",
       "      <th>0</th>\n",
       "      <td>201804031151</td>\n",
       "      <td>1</td>\n",
       "      <td>A6</td>\n",
       "      <td>B2</td>\n",
       "      <td>C44</td>\n",
       "      <td>D30</td>\n",
       "      <td>E1</td>\n",
       "      <td>A6B2C44D30E1</td>\n",
       "      <td>1</td>\n",
       "      <td>0</td>\n",
       "    </tr>\n",
       "    <tr>\n",
       "      <th>1</th>\n",
       "      <td>201804141014</td>\n",
       "      <td>3</td>\n",
       "      <td>A4</td>\n",
       "      <td>B2</td>\n",
       "      <td>C42</td>\n",
       "      <td>D54</td>\n",
       "      <td>E1</td>\n",
       "      <td>A4B2C42D54E1</td>\n",
       "      <td>1</td>\n",
       "      <td>0</td>\n",
       "    </tr>\n",
       "    <tr>\n",
       "      <th>2</th>\n",
       "      <td>201804141045</td>\n",
       "      <td>1</td>\n",
       "      <td>A4</td>\n",
       "      <td>B2</td>\n",
       "      <td>C49</td>\n",
       "      <td>D53</td>\n",
       "      <td>E1</td>\n",
       "      <td>A4B2C49D53E1</td>\n",
       "      <td>1</td>\n",
       "      <td>0</td>\n",
       "    </tr>\n",
       "    <tr>\n",
       "      <th>3</th>\n",
       "      <td>201804231929</td>\n",
       "      <td>2</td>\n",
       "      <td>A3</td>\n",
       "      <td>B2</td>\n",
       "      <td>C51</td>\n",
       "      <td>D13</td>\n",
       "      <td>E1</td>\n",
       "      <td>A3B2C51D13E1</td>\n",
       "      <td>1</td>\n",
       "      <td>0</td>\n",
       "    </tr>\n",
       "    <tr>\n",
       "      <th>4</th>\n",
       "      <td>201806061033</td>\n",
       "      <td>1</td>\n",
       "      <td>A6</td>\n",
       "      <td>B2</td>\n",
       "      <td>C44</td>\n",
       "      <td>D31</td>\n",
       "      <td>E1</td>\n",
       "      <td>A6B2C44D31E1</td>\n",
       "      <td>1</td>\n",
       "      <td>0</td>\n",
       "    </tr>\n",
       "  </tbody>\n",
       "</table>\n",
       "</div>"
      ],
      "text/plain": [
       "   ga_dateHourMinute  ga_sessionDurationBucket ga_browser_encoded  \\\n",
       "0       201804031151                         1                 A6   \n",
       "1       201804141014                         3                 A4   \n",
       "2       201804141045                         1                 A4   \n",
       "3       201804231929                         2                 A3   \n",
       "4       201806061033                         1                 A6   \n",
       "\n",
       "  ga_operatingSystem_encoded ga_operatingSystemVersion_encoded  \\\n",
       "0                         B2                               C44   \n",
       "1                         B2                               C42   \n",
       "2                         B2                               C49   \n",
       "3                         B2                               C51   \n",
       "4                         B2                               C44   \n",
       "\n",
       "  ga_language_encoded ga_DeviceInfo_encoded   Unique_code  \\\n",
       "0                 D30                    E1  A6B2C44D30E1   \n",
       "1                 D54                    E1  A4B2C42D54E1   \n",
       "2                 D53                    E1  A4B2C49D53E1   \n",
       "3                 D13                    E1  A3B2C51D13E1   \n",
       "4                 D31                    E1  A6B2C44D31E1   \n",
       "\n",
       "   ga_sessionsWithEvent  Success  \n",
       "0                     1        0  \n",
       "1                     1        0  \n",
       "2                     1        0  \n",
       "3                     1        0  \n",
       "4                     1        0  "
      ]
     },
     "execution_count": 11,
     "metadata": {},
     "output_type": "execute_result"
    }
   ],
   "source": [
    "df1.head()"
   ]
  },
  {
   "cell_type": "code",
   "execution_count": 12,
   "metadata": {},
   "outputs": [
    {
     "data": {
      "text/html": [
       "<div>\n",
       "<style scoped>\n",
       "    .dataframe tbody tr th:only-of-type {\n",
       "        vertical-align: middle;\n",
       "    }\n",
       "\n",
       "    .dataframe tbody tr th {\n",
       "        vertical-align: top;\n",
       "    }\n",
       "\n",
       "    .dataframe thead th {\n",
       "        text-align: right;\n",
       "    }\n",
       "</style>\n",
       "<table border=\"1\" class=\"dataframe\">\n",
       "  <thead>\n",
       "    <tr style=\"text-align: right;\">\n",
       "      <th></th>\n",
       "      <th>ga_dateHourMinute</th>\n",
       "      <th>ga_userType</th>\n",
       "      <th>ga_sessionCount</th>\n",
       "      <th>ga_userBucket</th>\n",
       "      <th>ga_sessionDurationBucket</th>\n",
       "      <th>ga_sessionsWithEvent</th>\n",
       "      <th>ga_uniqueDimensionCombinations</th>\n",
       "      <th>Success</th>\n",
       "    </tr>\n",
       "  </thead>\n",
       "  <tbody>\n",
       "    <tr>\n",
       "      <th>0</th>\n",
       "      <td>201803151836</td>\n",
       "      <td>New Visitor</td>\n",
       "      <td>1</td>\n",
       "      <td>79</td>\n",
       "      <td>1</td>\n",
       "      <td>1</td>\n",
       "      <td>1</td>\n",
       "      <td>0</td>\n",
       "    </tr>\n",
       "    <tr>\n",
       "      <th>1</th>\n",
       "      <td>201803151838</td>\n",
       "      <td>Returning Visitor</td>\n",
       "      <td>2</td>\n",
       "      <td>30</td>\n",
       "      <td>1</td>\n",
       "      <td>1</td>\n",
       "      <td>1</td>\n",
       "      <td>0</td>\n",
       "    </tr>\n",
       "    <tr>\n",
       "      <th>2</th>\n",
       "      <td>201803151841</td>\n",
       "      <td>New Visitor</td>\n",
       "      <td>1</td>\n",
       "      <td>19</td>\n",
       "      <td>220</td>\n",
       "      <td>1</td>\n",
       "      <td>1</td>\n",
       "      <td>0</td>\n",
       "    </tr>\n",
       "    <tr>\n",
       "      <th>3</th>\n",
       "      <td>201803151842</td>\n",
       "      <td>New Visitor</td>\n",
       "      <td>1</td>\n",
       "      <td>10</td>\n",
       "      <td>80</td>\n",
       "      <td>1</td>\n",
       "      <td>1</td>\n",
       "      <td>0</td>\n",
       "    </tr>\n",
       "    <tr>\n",
       "      <th>4</th>\n",
       "      <td>201803151926</td>\n",
       "      <td>Returning Visitor</td>\n",
       "      <td>2</td>\n",
       "      <td>48</td>\n",
       "      <td>207</td>\n",
       "      <td>1</td>\n",
       "      <td>1</td>\n",
       "      <td>0</td>\n",
       "    </tr>\n",
       "  </tbody>\n",
       "</table>\n",
       "</div>"
      ],
      "text/plain": [
       "   ga_dateHourMinute        ga_userType  ga_sessionCount  ga_userBucket  \\\n",
       "0       201803151836        New Visitor                1             79   \n",
       "1       201803151838  Returning Visitor                2             30   \n",
       "2       201803151841        New Visitor                1             19   \n",
       "3       201803151842        New Visitor                1             10   \n",
       "4       201803151926  Returning Visitor                2             48   \n",
       "\n",
       "   ga_sessionDurationBucket  ga_sessionsWithEvent  \\\n",
       "0                         1                     1   \n",
       "1                         1                     1   \n",
       "2                       220                     1   \n",
       "3                        80                     1   \n",
       "4                       207                     1   \n",
       "\n",
       "   ga_uniqueDimensionCombinations  Success  \n",
       "0                               1        0  \n",
       "1                               1        0  \n",
       "2                               1        0  \n",
       "3                               1        0  \n",
       "4                               1        0  "
      ]
     },
     "execution_count": 12,
     "metadata": {},
     "output_type": "execute_result"
    }
   ],
   "source": [
    "df2.head()"
   ]
  },
  {
   "cell_type": "code",
   "execution_count": 13,
   "metadata": {},
   "outputs": [
    {
     "data": {
      "text/html": [
       "<div>\n",
       "<style scoped>\n",
       "    .dataframe tbody tr th:only-of-type {\n",
       "        vertical-align: middle;\n",
       "    }\n",
       "\n",
       "    .dataframe tbody tr th {\n",
       "        vertical-align: top;\n",
       "    }\n",
       "\n",
       "    .dataframe thead th {\n",
       "        text-align: right;\n",
       "    }\n",
       "</style>\n",
       "<table border=\"1\" class=\"dataframe\">\n",
       "  <thead>\n",
       "    <tr style=\"text-align: right;\">\n",
       "      <th></th>\n",
       "      <th>ga_dateHourMinute</th>\n",
       "      <th>ga_sessionDurationBucket</th>\n",
       "      <th>ga_browser_encoded</th>\n",
       "      <th>ga_operatingSystem_encoded</th>\n",
       "      <th>ga_operatingSystemVersion_encoded</th>\n",
       "      <th>ga_language_encoded</th>\n",
       "      <th>ga_DeviceInfo_encoded</th>\n",
       "      <th>Unique_code</th>\n",
       "      <th>ga_sessionsWithEvent</th>\n",
       "      <th>Success</th>\n",
       "    </tr>\n",
       "  </thead>\n",
       "  <tbody>\n",
       "    <tr>\n",
       "      <th>41315</th>\n",
       "      <td>201803151411</td>\n",
       "      <td>971</td>\n",
       "      <td>A4</td>\n",
       "      <td>B8</td>\n",
       "      <td>C2</td>\n",
       "      <td>D54</td>\n",
       "      <td>E359</td>\n",
       "      <td>A4B8C2D54E359</td>\n",
       "      <td>1</td>\n",
       "      <td>1</td>\n",
       "    </tr>\n",
       "    <tr>\n",
       "      <th>40956</th>\n",
       "      <td>201803151413</td>\n",
       "      <td>597</td>\n",
       "      <td>A4</td>\n",
       "      <td>B8</td>\n",
       "      <td>C2</td>\n",
       "      <td>D31</td>\n",
       "      <td>E359</td>\n",
       "      <td>A4B8C2D31E359</td>\n",
       "      <td>1</td>\n",
       "      <td>0</td>\n",
       "    </tr>\n",
       "    <tr>\n",
       "      <th>41316</th>\n",
       "      <td>201803151414</td>\n",
       "      <td>971</td>\n",
       "      <td>A4</td>\n",
       "      <td>B8</td>\n",
       "      <td>C2</td>\n",
       "      <td>D54</td>\n",
       "      <td>E359</td>\n",
       "      <td>A4B8C2D54E359</td>\n",
       "      <td>0</td>\n",
       "      <td>1</td>\n",
       "    </tr>\n",
       "    <tr>\n",
       "      <th>41317</th>\n",
       "      <td>201803151416</td>\n",
       "      <td>971</td>\n",
       "      <td>A4</td>\n",
       "      <td>B8</td>\n",
       "      <td>C2</td>\n",
       "      <td>D54</td>\n",
       "      <td>E359</td>\n",
       "      <td>A4B8C2D54E359</td>\n",
       "      <td>0</td>\n",
       "      <td>1</td>\n",
       "    </tr>\n",
       "    <tr>\n",
       "      <th>41318</th>\n",
       "      <td>201803151418</td>\n",
       "      <td>971</td>\n",
       "      <td>A4</td>\n",
       "      <td>B8</td>\n",
       "      <td>C2</td>\n",
       "      <td>D54</td>\n",
       "      <td>E359</td>\n",
       "      <td>A4B8C2D54E359</td>\n",
       "      <td>0</td>\n",
       "      <td>1</td>\n",
       "    </tr>\n",
       "    <tr>\n",
       "      <th>41319</th>\n",
       "      <td>201803151420</td>\n",
       "      <td>971</td>\n",
       "      <td>A4</td>\n",
       "      <td>B8</td>\n",
       "      <td>C2</td>\n",
       "      <td>D54</td>\n",
       "      <td>E359</td>\n",
       "      <td>A4B8C2D54E359</td>\n",
       "      <td>0</td>\n",
       "      <td>1</td>\n",
       "    </tr>\n",
       "    <tr>\n",
       "      <th>40957</th>\n",
       "      <td>201803151423</td>\n",
       "      <td>597</td>\n",
       "      <td>A4</td>\n",
       "      <td>B8</td>\n",
       "      <td>C2</td>\n",
       "      <td>D31</td>\n",
       "      <td>E359</td>\n",
       "      <td>A4B8C2D31E359</td>\n",
       "      <td>0</td>\n",
       "      <td>0</td>\n",
       "    </tr>\n",
       "    <tr>\n",
       "      <th>37845</th>\n",
       "      <td>201803151426</td>\n",
       "      <td>36</td>\n",
       "      <td>A4</td>\n",
       "      <td>B8</td>\n",
       "      <td>C2</td>\n",
       "      <td>D25</td>\n",
       "      <td>E359</td>\n",
       "      <td>A4B8C2D25E359</td>\n",
       "      <td>1</td>\n",
       "      <td>0</td>\n",
       "    </tr>\n",
       "    <tr>\n",
       "      <th>40314</th>\n",
       "      <td>201803151430</td>\n",
       "      <td>2</td>\n",
       "      <td>A7</td>\n",
       "      <td>B8</td>\n",
       "      <td>C2</td>\n",
       "      <td>D77</td>\n",
       "      <td>E359</td>\n",
       "      <td>A7B8C2D77E359</td>\n",
       "      <td>1</td>\n",
       "      <td>0</td>\n",
       "    </tr>\n",
       "    <tr>\n",
       "      <th>40958</th>\n",
       "      <td>201803151431</td>\n",
       "      <td>133</td>\n",
       "      <td>A4</td>\n",
       "      <td>B8</td>\n",
       "      <td>C2</td>\n",
       "      <td>D31</td>\n",
       "      <td>E359</td>\n",
       "      <td>A4B8C2D31E359</td>\n",
       "      <td>1</td>\n",
       "      <td>0</td>\n",
       "    </tr>\n",
       "  </tbody>\n",
       "</table>\n",
       "</div>"
      ],
      "text/plain": [
       "       ga_dateHourMinute  ga_sessionDurationBucket ga_browser_encoded  \\\n",
       "41315       201803151411                       971                 A4   \n",
       "40956       201803151413                       597                 A4   \n",
       "41316       201803151414                       971                 A4   \n",
       "41317       201803151416                       971                 A4   \n",
       "41318       201803151418                       971                 A4   \n",
       "41319       201803151420                       971                 A4   \n",
       "40957       201803151423                       597                 A4   \n",
       "37845       201803151426                        36                 A4   \n",
       "40314       201803151430                         2                 A7   \n",
       "40958       201803151431                       133                 A4   \n",
       "\n",
       "      ga_operatingSystem_encoded ga_operatingSystemVersion_encoded  \\\n",
       "41315                         B8                                C2   \n",
       "40956                         B8                                C2   \n",
       "41316                         B8                                C2   \n",
       "41317                         B8                                C2   \n",
       "41318                         B8                                C2   \n",
       "41319                         B8                                C2   \n",
       "40957                         B8                                C2   \n",
       "37845                         B8                                C2   \n",
       "40314                         B8                                C2   \n",
       "40958                         B8                                C2   \n",
       "\n",
       "      ga_language_encoded ga_DeviceInfo_encoded    Unique_code  \\\n",
       "41315                 D54                  E359  A4B8C2D54E359   \n",
       "40956                 D31                  E359  A4B8C2D31E359   \n",
       "41316                 D54                  E359  A4B8C2D54E359   \n",
       "41317                 D54                  E359  A4B8C2D54E359   \n",
       "41318                 D54                  E359  A4B8C2D54E359   \n",
       "41319                 D54                  E359  A4B8C2D54E359   \n",
       "40957                 D31                  E359  A4B8C2D31E359   \n",
       "37845                 D25                  E359  A4B8C2D25E359   \n",
       "40314                 D77                  E359  A7B8C2D77E359   \n",
       "40958                 D31                  E359  A4B8C2D31E359   \n",
       "\n",
       "       ga_sessionsWithEvent  Success  \n",
       "41315                     1        1  \n",
       "40956                     1        0  \n",
       "41316                     0        1  \n",
       "41317                     0        1  \n",
       "41318                     0        1  \n",
       "41319                     0        1  \n",
       "40957                     0        0  \n",
       "37845                     1        0  \n",
       "40314                     1        0  \n",
       "40958                     1        0  "
      ]
     },
     "execution_count": 13,
     "metadata": {},
     "output_type": "execute_result"
    }
   ],
   "source": [
    "df1.sort_values('ga_dateHourMinute').head(n=10)"
   ]
  },
  {
   "cell_type": "code",
   "execution_count": 14,
   "metadata": {
    "scrolled": true
   },
   "outputs": [
    {
     "data": {
      "text/html": [
       "<div>\n",
       "<style scoped>\n",
       "    .dataframe tbody tr th:only-of-type {\n",
       "        vertical-align: middle;\n",
       "    }\n",
       "\n",
       "    .dataframe tbody tr th {\n",
       "        vertical-align: top;\n",
       "    }\n",
       "\n",
       "    .dataframe thead th {\n",
       "        text-align: right;\n",
       "    }\n",
       "</style>\n",
       "<table border=\"1\" class=\"dataframe\">\n",
       "  <thead>\n",
       "    <tr style=\"text-align: right;\">\n",
       "      <th></th>\n",
       "      <th>ga_dateHourMinute</th>\n",
       "      <th>ga_userType</th>\n",
       "      <th>ga_sessionCount</th>\n",
       "      <th>ga_userBucket</th>\n",
       "      <th>ga_sessionDurationBucket</th>\n",
       "      <th>ga_sessionsWithEvent</th>\n",
       "      <th>ga_uniqueDimensionCombinations</th>\n",
       "      <th>Success</th>\n",
       "    </tr>\n",
       "  </thead>\n",
       "  <tbody>\n",
       "    <tr>\n",
       "      <th>6871</th>\n",
       "      <td>201803151410</td>\n",
       "      <td>New Visitor</td>\n",
       "      <td>1</td>\n",
       "      <td>87</td>\n",
       "      <td>10</td>\n",
       "      <td>1</td>\n",
       "      <td>1</td>\n",
       "      <td>0</td>\n",
       "    </tr>\n",
       "    <tr>\n",
       "      <th>28498</th>\n",
       "      <td>201803151412</td>\n",
       "      <td>New Visitor</td>\n",
       "      <td>1</td>\n",
       "      <td>64</td>\n",
       "      <td>971</td>\n",
       "      <td>0</td>\n",
       "      <td>1</td>\n",
       "      <td>1</td>\n",
       "    </tr>\n",
       "    <tr>\n",
       "      <th>6872</th>\n",
       "      <td>201803151413</td>\n",
       "      <td>New Visitor</td>\n",
       "      <td>1</td>\n",
       "      <td>97</td>\n",
       "      <td>597</td>\n",
       "      <td>1</td>\n",
       "      <td>1</td>\n",
       "      <td>0</td>\n",
       "    </tr>\n",
       "    <tr>\n",
       "      <th>28499</th>\n",
       "      <td>201803151416</td>\n",
       "      <td>New Visitor</td>\n",
       "      <td>1</td>\n",
       "      <td>64</td>\n",
       "      <td>971</td>\n",
       "      <td>0</td>\n",
       "      <td>1</td>\n",
       "      <td>1</td>\n",
       "    </tr>\n",
       "    <tr>\n",
       "      <th>28500</th>\n",
       "      <td>201803151420</td>\n",
       "      <td>New Visitor</td>\n",
       "      <td>1</td>\n",
       "      <td>64</td>\n",
       "      <td>971</td>\n",
       "      <td>0</td>\n",
       "      <td>1</td>\n",
       "      <td>1</td>\n",
       "    </tr>\n",
       "    <tr>\n",
       "      <th>28501</th>\n",
       "      <td>201803151421</td>\n",
       "      <td>New Visitor</td>\n",
       "      <td>1</td>\n",
       "      <td>64</td>\n",
       "      <td>971</td>\n",
       "      <td>0</td>\n",
       "      <td>1</td>\n",
       "      <td>1</td>\n",
       "    </tr>\n",
       "    <tr>\n",
       "      <th>28502</th>\n",
       "      <td>201803151422</td>\n",
       "      <td>New Visitor</td>\n",
       "      <td>1</td>\n",
       "      <td>64</td>\n",
       "      <td>971</td>\n",
       "      <td>0</td>\n",
       "      <td>1</td>\n",
       "      <td>1</td>\n",
       "    </tr>\n",
       "    <tr>\n",
       "      <th>6873</th>\n",
       "      <td>201803151423</td>\n",
       "      <td>New Visitor</td>\n",
       "      <td>1</td>\n",
       "      <td>97</td>\n",
       "      <td>597</td>\n",
       "      <td>0</td>\n",
       "      <td>1</td>\n",
       "      <td>0</td>\n",
       "    </tr>\n",
       "    <tr>\n",
       "      <th>6874</th>\n",
       "      <td>201803151426</td>\n",
       "      <td>New Visitor</td>\n",
       "      <td>1</td>\n",
       "      <td>84</td>\n",
       "      <td>36</td>\n",
       "      <td>1</td>\n",
       "      <td>1</td>\n",
       "      <td>0</td>\n",
       "    </tr>\n",
       "    <tr>\n",
       "      <th>6875</th>\n",
       "      <td>201803151430</td>\n",
       "      <td>New Visitor</td>\n",
       "      <td>1</td>\n",
       "      <td>65</td>\n",
       "      <td>2</td>\n",
       "      <td>1</td>\n",
       "      <td>1</td>\n",
       "      <td>0</td>\n",
       "    </tr>\n",
       "  </tbody>\n",
       "</table>\n",
       "</div>"
      ],
      "text/plain": [
       "       ga_dateHourMinute  ga_userType  ga_sessionCount  ga_userBucket  \\\n",
       "6871        201803151410  New Visitor                1             87   \n",
       "28498       201803151412  New Visitor                1             64   \n",
       "6872        201803151413  New Visitor                1             97   \n",
       "28499       201803151416  New Visitor                1             64   \n",
       "28500       201803151420  New Visitor                1             64   \n",
       "28501       201803151421  New Visitor                1             64   \n",
       "28502       201803151422  New Visitor                1             64   \n",
       "6873        201803151423  New Visitor                1             97   \n",
       "6874        201803151426  New Visitor                1             84   \n",
       "6875        201803151430  New Visitor                1             65   \n",
       "\n",
       "       ga_sessionDurationBucket  ga_sessionsWithEvent  \\\n",
       "6871                         10                     1   \n",
       "28498                       971                     0   \n",
       "6872                        597                     1   \n",
       "28499                       971                     0   \n",
       "28500                       971                     0   \n",
       "28501                       971                     0   \n",
       "28502                       971                     0   \n",
       "6873                        597                     0   \n",
       "6874                         36                     1   \n",
       "6875                          2                     1   \n",
       "\n",
       "       ga_uniqueDimensionCombinations  Success  \n",
       "6871                                1        0  \n",
       "28498                               1        1  \n",
       "6872                                1        0  \n",
       "28499                               1        1  \n",
       "28500                               1        1  \n",
       "28501                               1        1  \n",
       "28502                               1        1  \n",
       "6873                                1        0  \n",
       "6874                                1        0  \n",
       "6875                                1        0  "
      ]
     },
     "execution_count": 14,
     "metadata": {},
     "output_type": "execute_result"
    }
   ],
   "source": [
    "df2.sort_values('ga_dateHourMinute').head(n=10)"
   ]
  },
  {
   "cell_type": "code",
   "execution_count": 15,
   "metadata": {},
   "outputs": [
    {
     "data": {
      "text/plain": [
       "array([1, 2], dtype=int64)"
      ]
     },
     "execution_count": 15,
     "metadata": {},
     "output_type": "execute_result"
    }
   ],
   "source": [
    "df2['ga_uniqueDimensionCombinations'].unique()"
   ]
  },
  {
   "cell_type": "code",
   "execution_count": 21,
   "metadata": {},
   "outputs": [],
   "source": [
    "# data cleaning and transformation"
   ]
  },
  {
   "cell_type": "code",
   "execution_count": 22,
   "metadata": {},
   "outputs": [
    {
     "name": "stdout",
     "output_type": "stream",
     "text": [
      "Unique browsers = 13\n",
      "Unique OS = 8\n",
      "Unique OSV = 74\n",
      "Unique Language model = 78\n",
      "Unique Device = 341\n",
      "Unique Codes  = 1770\n"
     ]
    }
   ],
   "source": [
    "print(\"Unique browsers = {}\".format(mergedf['ga_browser_encoded'].nunique()))\n",
    "print(\"Unique OS = {}\".format(mergedf['ga_operatingSystem_encoded'].nunique()))\n",
    "print(\"Unique OSV = {}\".format(mergedf['ga_operatingSystemVersion_encoded'].nunique()))\n",
    "print(\"Unique Language model = {}\".format(mergedf['ga_language_encoded'].nunique()))\n",
    "print(\"Unique Device = {}\".format(mergedf['ga_DeviceInfo_encoded'].nunique()))\n",
    "print(\"Unique Codes  = {}\".format(mergedf['Unique_code'].nunique()))"
   ]
  },
  {
   "cell_type": "code",
   "execution_count": 16,
   "metadata": {},
   "outputs": [],
   "source": [
    "# its better to hot encode individual features than the combined one\n",
    "\n",
    "#ohe_codes = preprocessing.OneHotEncoder(categorical_features=['ga_browser_encoded','ga_operatingSystem_encoded','ga_operatingSystemVersion_encoded','ga_language_encoded','ga_DeviceInfo_encoded'], dtype=np.object)\n",
    "data=  df1.loc[:,['ga_browser_encoded','ga_operatingSystem_encoded','ga_operatingSystemVersion_encoded','ga_language_encoded','ga_DeviceInfo_encoded']]\n",
    "ohe_df1 = pd.get_dummies(data)"
   ]
  },
  {
   "cell_type": "code",
   "execution_count": 17,
   "metadata": {},
   "outputs": [],
   "source": [
    "data=  tf1.loc[:,['ga_browser_encoded','ga_operatingSystem_encoded','ga_operatingSystemVersion_encoded','ga_language_encoded','ga_DeviceInfo_encoded']]\n",
    "ohe_tf1 = pd.get_dummies(data)"
   ]
  },
  {
   "cell_type": "code",
   "execution_count": 18,
   "metadata": {},
   "outputs": [
    {
     "data": {
      "text/plain": [
       "(42434, 544)"
      ]
     },
     "execution_count": 18,
     "metadata": {},
     "output_type": "execute_result"
    }
   ],
   "source": [
    "ohe_df1.shape"
   ]
  },
  {
   "cell_type": "code",
   "execution_count": 19,
   "metadata": {},
   "outputs": [],
   "source": [
    "df1.drop(['ga_browser_encoded','ga_operatingSystem_encoded','ga_operatingSystemVersion_encoded','ga_language_encoded','ga_DeviceInfo_encoded'],inplace=True, axis=1)\n",
    "df1 = df1.join(ohe_df1)"
   ]
  },
  {
   "cell_type": "code",
   "execution_count": 20,
   "metadata": {},
   "outputs": [],
   "source": [
    "tf1.drop(['ga_browser_encoded','ga_operatingSystem_encoded','ga_operatingSystemVersion_encoded','ga_language_encoded','ga_DeviceInfo_encoded'],inplace=True, axis=1)\n",
    "tf1 = tf1.join(ohe_tf1)"
   ]
  },
  {
   "cell_type": "code",
   "execution_count": 23,
   "metadata": {},
   "outputs": [
    {
     "name": "stdout",
     "output_type": "stream",
     "text": [
      "<class 'pandas.core.frame.DataFrame'>\n",
      "Int64Index: 42434 entries, 0 to 42433\n",
      "Columns: 549 entries, ga_dateHourMinute to ga_DeviceInfo_encoded_E99\n",
      "dtypes: int32(1), int64(3), object(1), uint8(544)\n",
      "memory usage: 25.0+ MB\n"
     ]
    }
   ],
   "source": [
    "df1.info()"
   ]
  },
  {
   "cell_type": "code",
   "execution_count": 27,
   "metadata": {},
   "outputs": [],
   "source": [
    "data=  df2.loc[:,['ga_userType']]\n",
    "ohe_df2 = pd.get_dummies(data)\n",
    "data=  tf2.loc[:,['ga_userType']]\n",
    "ohe_tf2 = pd.get_dummies(data)\n",
    "df2.drop(['ga_userType'],inplace=True,axis=1)\n",
    "df2 = df2.join(ohe_df2)\n",
    "tf2.drop(['ga_userType'],inplace=True,axis=1)\n",
    "tf2 = tf2.join(ohe_tf2)"
   ]
  },
  {
   "cell_type": "code",
   "execution_count": 30,
   "metadata": {},
   "outputs": [],
   "source": [
    "#drop the unqiue code col for now\n",
    "unqcde = df1['Unique_code']\n",
    "del df1['Unique_code']\n",
    "\n",
    "unqcde_test = tf1['Unique_code']\n",
    "del tf1['Unique_code']"
   ]
  },
  {
   "cell_type": "code",
   "execution_count": 31,
   "metadata": {
    "scrolled": true
   },
   "outputs": [
    {
     "name": "stdout",
     "output_type": "stream",
     "text": [
      "<class 'pandas.core.frame.DataFrame'>\n",
      "Int64Index: 42434 entries, 0 to 42433\n",
      "Columns: 548 entries, ga_dateHourMinute to ga_DeviceInfo_encoded_E99\n",
      "dtypes: int32(1), int64(3), uint8(544)\n",
      "memory usage: 24.7 MB\n"
     ]
    }
   ],
   "source": [
    "df1.info()"
   ]
  },
  {
   "cell_type": "code",
   "execution_count": 34,
   "metadata": {},
   "outputs": [
    {
     "data": {
      "text/html": [
       "<div>\n",
       "<style scoped>\n",
       "    .dataframe tbody tr th:only-of-type {\n",
       "        vertical-align: middle;\n",
       "    }\n",
       "\n",
       "    .dataframe tbody tr th {\n",
       "        vertical-align: top;\n",
       "    }\n",
       "\n",
       "    .dataframe thead th {\n",
       "        text-align: right;\n",
       "    }\n",
       "</style>\n",
       "<table border=\"1\" class=\"dataframe\">\n",
       "  <thead>\n",
       "    <tr style=\"text-align: right;\">\n",
       "      <th></th>\n",
       "      <th>ga_dateHourMinute</th>\n",
       "      <th>ga_sessionCount</th>\n",
       "      <th>ga_userBucket</th>\n",
       "      <th>ga_sessionDurationBucket</th>\n",
       "      <th>ga_sessionsWithEvent</th>\n",
       "      <th>ga_uniqueDimensionCombinations</th>\n",
       "      <th>Success</th>\n",
       "      <th>ga_userType_New Visitor</th>\n",
       "      <th>ga_userType_Returning Visitor</th>\n",
       "    </tr>\n",
       "  </thead>\n",
       "  <tbody>\n",
       "    <tr>\n",
       "      <th>0</th>\n",
       "      <td>201803151836</td>\n",
       "      <td>1</td>\n",
       "      <td>79</td>\n",
       "      <td>1</td>\n",
       "      <td>1</td>\n",
       "      <td>1</td>\n",
       "      <td>0</td>\n",
       "      <td>1</td>\n",
       "      <td>0</td>\n",
       "    </tr>\n",
       "    <tr>\n",
       "      <th>1</th>\n",
       "      <td>201803151838</td>\n",
       "      <td>2</td>\n",
       "      <td>30</td>\n",
       "      <td>1</td>\n",
       "      <td>1</td>\n",
       "      <td>1</td>\n",
       "      <td>0</td>\n",
       "      <td>0</td>\n",
       "      <td>1</td>\n",
       "    </tr>\n",
       "    <tr>\n",
       "      <th>2</th>\n",
       "      <td>201803151841</td>\n",
       "      <td>1</td>\n",
       "      <td>19</td>\n",
       "      <td>220</td>\n",
       "      <td>1</td>\n",
       "      <td>1</td>\n",
       "      <td>0</td>\n",
       "      <td>1</td>\n",
       "      <td>0</td>\n",
       "    </tr>\n",
       "    <tr>\n",
       "      <th>3</th>\n",
       "      <td>201803151842</td>\n",
       "      <td>1</td>\n",
       "      <td>10</td>\n",
       "      <td>80</td>\n",
       "      <td>1</td>\n",
       "      <td>1</td>\n",
       "      <td>0</td>\n",
       "      <td>1</td>\n",
       "      <td>0</td>\n",
       "    </tr>\n",
       "    <tr>\n",
       "      <th>4</th>\n",
       "      <td>201803151926</td>\n",
       "      <td>2</td>\n",
       "      <td>48</td>\n",
       "      <td>207</td>\n",
       "      <td>1</td>\n",
       "      <td>1</td>\n",
       "      <td>0</td>\n",
       "      <td>0</td>\n",
       "      <td>1</td>\n",
       "    </tr>\n",
       "  </tbody>\n",
       "</table>\n",
       "</div>"
      ],
      "text/plain": [
       "   ga_dateHourMinute  ga_sessionCount  ga_userBucket  \\\n",
       "0       201803151836                1             79   \n",
       "1       201803151838                2             30   \n",
       "2       201803151841                1             19   \n",
       "3       201803151842                1             10   \n",
       "4       201803151926                2             48   \n",
       "\n",
       "   ga_sessionDurationBucket  ga_sessionsWithEvent  \\\n",
       "0                         1                     1   \n",
       "1                         1                     1   \n",
       "2                       220                     1   \n",
       "3                        80                     1   \n",
       "4                       207                     1   \n",
       "\n",
       "   ga_uniqueDimensionCombinations  Success  ga_userType_New Visitor  \\\n",
       "0                               1        0                        1   \n",
       "1                               1        0                        0   \n",
       "2                               1        0                        1   \n",
       "3                               1        0                        1   \n",
       "4                               1        0                        0   \n",
       "\n",
       "   ga_userType_Returning Visitor  \n",
       "0                              0  \n",
       "1                              1  \n",
       "2                              0  \n",
       "3                              0  \n",
       "4                              1  "
      ]
     },
     "execution_count": 34,
     "metadata": {},
     "output_type": "execute_result"
    }
   ],
   "source": [
    "df2.head()"
   ]
  },
  {
   "cell_type": "code",
   "execution_count": 34,
   "metadata": {},
   "outputs": [],
   "source": [
    "# some visualizations"
   ]
  },
  {
   "cell_type": "code",
   "execution_count": 38,
   "metadata": {},
   "outputs": [
    {
     "name": "stdout",
     "output_type": "stream",
     "text": [
      "Number of rows with missing data df1 = 0\n",
      "Number of rows with missing data df2 = 0\n",
      "Number of rows with missing data tf1 = 18187\n",
      "Number of rows with missing data tf2 = 18187\n"
     ]
    }
   ],
   "source": [
    "null_data = df1[df1.isnull().any(axis=1)]\n",
    "print(\"Number of rows with missing data df1 = {}\".format(len(null_data)))\n",
    "null_data = df2[df2.isnull().any(axis=1)]\n",
    "print(\"Number of rows with missing data df2 = {}\".format(len(null_data)))\n",
    "null_data = tf1[tf1.isnull().any(axis=1)]\n",
    "print(\"Number of rows with missing data tf1 = {}\".format(len(null_data)))\n",
    "null_data = tf2[tf2.isnull().any(axis=1)]\n",
    "print(\"Number of rows with missing data tf2 = {}\".format(len(null_data)))"
   ]
  },
  {
   "cell_type": "code",
   "execution_count": 57,
   "metadata": {
    "scrolled": true
   },
   "outputs": [
    {
     "name": "stderr",
     "output_type": "stream",
     "text": [
      "C:\\Users\\vbdon\\Anaconda3\\envs\\tensorflow\\lib\\site-packages\\sklearn\\utils\\validation.py:475: DataConversionWarning: Data with input dtype int64 was converted to float64 by MinMaxScaler.\n",
      "  warnings.warn(msg, DataConversionWarning)\n"
     ]
    }
   ],
   "source": [
    "# Data normalization / scaling \n",
    "y1 = df1['Success']\n",
    "X1 = df1.loc[:,df1.columns!='Success']\n",
    "minmiax  = preprocessing.MinMaxScaler()\n",
    "df1_scale = pd.DataFrame(minmiax.fit_transform(X1.values))\n",
    "\n",
    "y2 = df2['Success']\n",
    "X2 = df2.loc[:,df2.columns!='Success']\n",
    "minmiax  = preprocessing.MinMaxScaler()\n",
    "df2_scale = pd.DataFrame(minmiax.fit_transform(X2.values))\n",
    "\n",
    "y_test1 = tf1['Success']\n",
    "X_test1 = tf1.loc[:,tf1.columns!='Success']\n",
    "minmiax  = preprocessing.MinMaxScaler()\n",
    "tf1_scale = pd.DataFrame(minmiax.fit_transform(X_test1.values))\n",
    "\n",
    "y_test2 = tf2['Success']\n",
    "X_test2 = tf2.loc[:,tf2.columns!='Success']\n",
    "minmiax  = preprocessing.MinMaxScaler()\n",
    "tf2_scale = pd.DataFrame(minmiax.fit_transform(X_test2.values))\n",
    "\n",
    "\n",
    "\n",
    "#merge_norm = preprocessing.MinMaxScaler.fit_transform(X,y)\n",
    "#merge_standard = preprocessing.scale(mergedf)"
   ]
  },
  {
   "cell_type": "code",
   "execution_count": null,
   "metadata": {},
   "outputs": [],
   "source": []
  },
  {
   "cell_type": "code",
   "execution_count": 58,
   "metadata": {},
   "outputs": [],
   "source": [
    "df1_scale.columns = X1.columns\n",
    "df2_scale.columns = X2.columns\n",
    "tf1_scale.columns = X_test1.columns\n",
    "tf2_scale.columns = X_test2.columns"
   ]
  },
  {
   "cell_type": "code",
   "execution_count": 59,
   "metadata": {},
   "outputs": [],
   "source": [
    "X1_train_norm, X1_test_norm, y1_train_norm, y1_test_norm = model_selection.train_test_split(df1_scale,y1,test_size = 0.33,random_state = 42)\n",
    "\n",
    "X2_train_norm, X2_test_norm, y2_train_norm, y2_test_norm = model_selection.train_test_split(df2_scale,y2,test_size = 0.33,random_state = 42)\n",
    "#X_train_scale, X_test_scale, y_train_scale, y_test_scale = model_selection.train_test_split(merge_scale,y,test_size = 0.33,random_state = 42)\n",
    "\n"
   ]
  },
  {
   "cell_type": "code",
   "execution_count": 60,
   "metadata": {},
   "outputs": [],
   "source": [
    "## split for neural network - 90/10 split\n",
    "X1_train_nn, X1_test_nn, y1_train_nn, y1_test_nn = model_selection.train_test_split(df1,y1,test_size = 0.10,random_state = 42)\n",
    "X2_train_nn, X2_test_nn, y2_train_nn, y2_test_nn = model_selection.train_test_split(df2,y2,test_size = 0.10,random_state = 42)\n"
   ]
  },
  {
   "cell_type": "code",
   "execution_count": 50,
   "metadata": {},
   "outputs": [],
   "source": [
    "# modelling "
   ]
  },
  {
   "cell_type": "code",
   "execution_count": 51,
   "metadata": {},
   "outputs": [],
   "source": [
    "logit = linear_model.LogisticRegression()\n",
    "pca = decomposition.PCA()\n",
    "pipe = Pipeline(steps=[('pca',pca),('logistic',logit)])\n"
   ]
  },
  {
   "cell_type": "code",
   "execution_count": 52,
   "metadata": {},
   "outputs": [
    {
     "data": {
      "text/plain": [
       "PCA(copy=True, iterated_power='auto', n_components=None, random_state=None,\n",
       "  svd_solver='auto', tol=0.0, whiten=False)"
      ]
     },
     "execution_count": 52,
     "metadata": {},
     "output_type": "execute_result"
    }
   ],
   "source": [
    "pca.fit(X_train_norm)"
   ]
  },
  {
   "cell_type": "code",
   "execution_count": 53,
   "metadata": {},
   "outputs": [
    {
     "data": {
      "image/png": "[encoded data removed]",
      "text/plain": [
       "<Figure size 288x216 with 1 Axes>"
      ]
     },
     "metadata": {},
     "output_type": "display_data"
    }
   ],
   "source": [
    "plt.figure(1, figsize=(4, 3))\n",
    "plt.clf()\n",
    "plt.axes([.2, .2, .7, .7])\n",
    "plt.plot(pca.explained_variance_, linewidth=2)\n",
    "plt.axis('tight')\n",
    "plt.xlabel('n_components')\n",
    "plt.ylabel('explained_variance_')\n",
    "# Prediction\n",
    "n_components = [20, 40, 64]\n",
    "Cs = np.logspace(-4, 4, 3)\n",
    "\n",
    "# Parameters of pipelines can be set using ‘__’ separated parameter names:\n",
    "estimator = model_selection.GridSearchCV(pipe,\n",
    "                         dict(pca__n_components=n_components,\n",
    "                              logistic__C=Cs))\n",
    "estimator.fit(X_train_norm, y_train_norm)\n",
    "\n",
    "plt.axvline(estimator.best_estimator_.named_steps['pca'].n_components,\n",
    "            linestyle=':', label='n_components chosen')\n",
    "plt.legend(prop=dict(size=12))\n",
    "plt.show()"
   ]
  },
  {
   "cell_type": "code",
   "execution_count": 54,
   "metadata": {},
   "outputs": [
    {
     "data": {
      "text/plain": [
       "40"
      ]
     },
     "execution_count": 54,
     "metadata": {},
     "output_type": "execute_result"
    }
   ],
   "source": [
    "estimator.best_estimator_.named_steps['pca'].n_components"
   ]
  },
  {
   "cell_type": "code",
   "execution_count": 55,
   "metadata": {},
   "outputs": [
    {
     "data": {
      "text/plain": [
       "0.6864326138127911"
      ]
     },
     "execution_count": 55,
     "metadata": {},
     "output_type": "execute_result"
    }
   ],
   "source": [
    "estimator.best_score_"
   ]
  },
  {
   "cell_type": "code",
   "execution_count": 56,
   "metadata": {},
   "outputs": [],
   "source": [
    "y_pred = estimator.best_estimator_.predict(X_test_norm)"
   ]
  },
  {
   "cell_type": "code",
   "execution_count": 57,
   "metadata": {},
   "outputs": [
    {
     "name": "stdout",
     "output_type": "stream",
     "text": [
      "[[2371 2014]\n",
      " [1190 4260]]\n"
     ]
    }
   ],
   "source": [
    "from sklearn.metrics import confusion_matrix\n",
    "confusion_matrix = confusion_matrix(y_test_norm, y_pred)\n",
    "print(confusion_matrix)"
   ]
  },
  {
   "cell_type": "code",
   "execution_count": 61,
   "metadata": {},
   "outputs": [],
   "source": [
    "logreg = linear_model.LogisticRegression()\n",
    "rfe = RFE(logreg , 40)\n",
    "rfe = rfe.fit(X_train_norm,y_train_norm)"
   ]
  },
  {
   "cell_type": "code",
   "execution_count": 62,
   "metadata": {},
   "outputs": [
    {
     "name": "stdout",
     "output_type": "stream",
     "text": [
      "[False False  True False  True False False False False False False False\n",
      " False  True False False False False False False False False False False\n",
      " False False False False  True False False False False False False False\n",
      " False False False False False False False False False False False False\n",
      " False False False False False False False False False False False False\n",
      " False False False False False False False False  True False False False\n",
      " False False False False False False  True False False False False False\n",
      " False False False False False False False False False False False  True\n",
      " False  True False  True False False False False False False False False\n",
      " False False False False False False False False False False False False\n",
      " False False  True  True False False False False False False False False\n",
      " False False False False False False False False False False False False\n",
      " False False  True False  True False False False False False False False\n",
      " False False False False False False False False False False  True False\n",
      " False False False False False False  True False False False False False\n",
      " False False False False False False False False False False False False\n",
      "  True False False False False False  True False False False  True False\n",
      " False False False False False  True False False False False False False\n",
      " False False False False False  True False False False False False False\n",
      " False False False False False False False False False  True False False\n",
      " False False False False False False  True False False False False False\n",
      " False False False False False False False False False  True False False\n",
      " False False False False False False False False False False False False\n",
      " False False False False False False False False False False False False\n",
      " False False False False False False False False False False  True False\n",
      " False False False False False False  True False False False False False\n",
      " False False False False False False False False False False False False\n",
      "  True False False False False False False False False False False False\n",
      " False False False False False False False False False False False False\n",
      " False False False False False False False False False False False False\n",
      " False False False  True False False False False False False False False\n",
      " False False False False False False False False False False False False\n",
      " False False False False False  True False False False False False False\n",
      " False False False False False False False  True False False False  True\n",
      " False False False False False False False False False False False False\n",
      " False False False False False  True False False False False False False\n",
      " False False False False False False False  True False False  True False\n",
      " False False False False False  True False False False False False False\n",
      " False False False False False False False False False False False False\n",
      " False  True False False False False False  True  True False False False\n",
      " False False False False False  True False False False False False  True\n",
      " False False False False False False False False False False False False\n",
      " False False False False  True False False False False False False False\n",
      " False False False False False]\n",
      "[250 314   1 192   1 422 451 342 272 196 393 302  96   1 380 381 211 449\n",
      " 255 289 352 401 356 316 355 372 296 379   1 251 242 440 432 354 383  78\n",
      " 166  68 200 420 447  84 188 195 384 385 315 253 382 276 338 190 427 247\n",
      " 418  55 143 301 300 426 260 397 399 400 419 331 428 456   1 140 402 223\n",
      " 409 431 264 132 105 481   1 386 412  63 118 416  67 235 138  66 448 439\n",
      " 369 370 371 295 182   1 229   1 156   1 326 347 480  97 201 297  89 244\n",
      " 311 113 172  86 155 366 477 266 154 204 454 336 238 133   1   1 350 280\n",
      " 284 111 240 262 231 222 363 413 452  41 169 421  80 433 112 348   9  37\n",
      "  22 198   1  59   1 206 335 474 425 137  17 119 417 110 313  52 391 114\n",
      "  42 237  24 239   1 341  46 357 446 125 291 121   1 469  31 299  40 321\n",
      " 388 463  69 170 470  91 312 193 117 124 126 394   1  45 189 323  92 277\n",
      "   1 298  15 164   1 337 468   4   2  83 317   1  85 459 396 387  98 168\n",
      "   6 467  12 362 149   1  49 373 252  76 410 191  74 134  64  34 361  61\n",
      " 472  11 269   1  27 159 210 273 318 241  16  19   1 107 478 334 294 306\n",
      "  65 185 365 389 153 462 162 405  32   1 445  23 415 475 175  28 290 307\n",
      " 152 395  33  50 199 122 479  25 228 444 246  10 358 213 106 360  18  29\n",
      " 303  54 218 176 127 309   7 293  77 158   1 349 224  20 275 408 115 146\n",
      "   1 258 171 194 368  51 353 320  73 283 274 208 351 443 151 339 102 174\n",
      "   1 144 233 179 378 129 332 197 424 202  14 212 330 438 482 406 464 465\n",
      " 142 157 460 461 116 104  21 441 225 135  88  75 256 288 100 270 429  57\n",
      " 281  79 245   1 187 344 287 181 390 305  81 161 123 248 227 374 327  82\n",
      " 364 243 265 329 340 278 257 473 214 209 404   1 136 328 435  39   5  13\n",
      "  30 453 120 215 367 392 216   1  36 131  47   1 139 411  95 183  38 186\n",
      " 141 271 259  35 434 217 430 178 457 167 436   1 263 220 442 249 310 403\n",
      "   3 267  87 292 466 458 148   1 304 437   1  99 101 180 254  94 476   1\n",
      "  93  26 471 230  90 226 109 103  60 234 346 345 279 343 285 150 423 324\n",
      " 108   1 184 375  71 308  58   1   1  48 205  62 282 173 414 145 221   1\n",
      " 130 333   8  70 147   1 319  53  72  56 376 398 359 203 286 160 322 450\n",
      " 232 407 325 377   1 455 163  44 177 236 219 261  43 128 165 207 268]\n"
     ]
    }
   ],
   "source": [
    "print(rfe.support_)\n",
    "print(rfe.ranking_)"
   ]
  },
  {
   "cell_type": "code",
   "execution_count": 72,
   "metadata": {},
   "outputs": [],
   "source": [
    "cols = [X_train_norm.columns[idx] for idx,i in enumerate(rfe.ranking_) if rfe.support_[idx] ]"
   ]
  },
  {
   "cell_type": "code",
   "execution_count": 74,
   "metadata": {},
   "outputs": [
    {
     "data": {
      "text/plain": [
       "['ga_sessionsWithEvent',\n",
       " 'ga_sessionCount',\n",
       " 'ga_browser_encoded_A2',\n",
       " 'ga_operatingSystemVersion_encoded_C1',\n",
       " 'ga_operatingSystemVersion_encoded_C47',\n",
       " 'ga_operatingSystemVersion_encoded_C57',\n",
       " 'ga_operatingSystemVersion_encoded_C76',\n",
       " 'ga_operatingSystemVersion_encoded_C78',\n",
       " 'ga_operatingSystemVersion_encoded_C8',\n",
       " 'ga_language_encoded_D3',\n",
       " 'ga_language_encoded_D30',\n",
       " 'ga_language_encoded_D52',\n",
       " 'ga_language_encoded_D54',\n",
       " 'ga_language_encoded_D73',\n",
       " 'ga_language_encoded_D80',\n",
       " 'ga_DeviceInfo_encoded_E110',\n",
       " 'ga_DeviceInfo_encoded_E116',\n",
       " 'ga_DeviceInfo_encoded_E12',\n",
       " 'ga_DeviceInfo_encoded_E126',\n",
       " 'ga_DeviceInfo_encoded_E137',\n",
       " 'ga_DeviceInfo_encoded_E152',\n",
       " 'ga_DeviceInfo_encoded_E163',\n",
       " 'ga_DeviceInfo_encoded_E177',\n",
       " 'ga_DeviceInfo_encoded_E215',\n",
       " 'ga_DeviceInfo_encoded_E223',\n",
       " 'ga_DeviceInfo_encoded_E240',\n",
       " 'ga_DeviceInfo_encoded_E281',\n",
       " 'ga_DeviceInfo_encoded_E309',\n",
       " 'ga_DeviceInfo_encoded_E322',\n",
       " 'ga_DeviceInfo_encoded_E326',\n",
       " 'ga_DeviceInfo_encoded_E343',\n",
       " 'ga_DeviceInfo_encoded_E357',\n",
       " 'ga_DeviceInfo_encoded_E36',\n",
       " 'ga_DeviceInfo_encoded_E366',\n",
       " 'ga_DeviceInfo_encoded_E47',\n",
       " 'ga_DeviceInfo_encoded_E53',\n",
       " 'ga_DeviceInfo_encoded_E54',\n",
       " 'ga_DeviceInfo_encoded_E63',\n",
       " 'ga_DeviceInfo_encoded_E7',\n",
       " 'ga_DeviceInfo_encoded_E88']"
      ]
     },
     "execution_count": 74,
     "metadata": {},
     "output_type": "execute_result"
    }
   ],
   "source": [
    "#selected columns\n",
    "cols"
   ]
  },
  {
   "cell_type": "code",
   "execution_count": 87,
   "metadata": {},
   "outputs": [],
   "source": [
    "X_train_final = X_train_norm[cols]\n",
    "y_train_final = y_train_norm\n",
    "X_test_final = X_test_norm[cols]\n",
    "y_test_final = y_test_norm"
   ]
  },
  {
   "cell_type": "code",
   "execution_count": 83,
   "metadata": {},
   "outputs": [
    {
     "data": {
      "text/plain": [
       "array([1, 1, 0, ..., 1, 0, 1])"
      ]
     },
     "execution_count": 83,
     "metadata": {},
     "output_type": "execute_result"
    }
   ],
   "source": [
    "y_final.values"
   ]
  },
  {
   "cell_type": "code",
   "execution_count": 95,
   "metadata": {},
   "outputs": [
    {
     "name": "stdout",
     "output_type": "stream",
     "text": [
      "[LibLinear]"
     ]
    },
    {
     "data": {
      "text/plain": [
       "LogisticRegression(C=1.0, class_weight=None, dual=False, fit_intercept=True,\n",
       "          intercept_scaling=1, max_iter=500, multi_class='ovr', n_jobs=1,\n",
       "          penalty='l2', random_state=None, solver='liblinear', tol=0.0001,\n",
       "          verbose=1, warm_start=False)"
      ]
     },
     "execution_count": 95,
     "metadata": {},
     "output_type": "execute_result"
    }
   ],
   "source": [
    "from sklearn.linear_model import LogisticRegression\n",
    "from sklearn import metrics\n",
    "logreg = LogisticRegression(max_iter=500,verbose=1)\n",
    "logreg.fit(X_train_norm, y_train_norm)"
   ]
  },
  {
   "cell_type": "code",
   "execution_count": 96,
   "metadata": {},
   "outputs": [
    {
     "name": "stdout",
     "output_type": "stream",
     "text": [
      "Accuracy of logistic regression classifier on test set: 0.68\n"
     ]
    }
   ],
   "source": [
    "y_pred = logreg.predict(X_test_norm)\n",
    "print('Accuracy of logistic regression classifier on test set: {:.2f}'.format(logreg.score(X_test_norm, y_test_norm)))"
   ]
  },
  {
   "cell_type": "code",
   "execution_count": 97,
   "metadata": {},
   "outputs": [
    {
     "name": "stdout",
     "output_type": "stream",
     "text": [
      "10-fold cross validation average accuracy: 0.691\n"
     ]
    }
   ],
   "source": [
    "#CV\n",
    "from sklearn import model_selection\n",
    "from sklearn.model_selection import cross_val_score\n",
    "kfold = model_selection.KFold(n_splits=20, random_state=7)\n",
    "modelCV = LogisticRegression()\n",
    "scoring = 'accuracy'\n",
    "results = model_selection.cross_val_score(modelCV, X_train_norm, y_train_norm, cv=kfold, scoring=scoring)\n",
    "\n",
    "print(\"10-fold cross validation average accuracy: %.3f\" % (results.mean()))"
   ]
  },
  {
   "cell_type": "code",
   "execution_count": 102,
   "metadata": {},
   "outputs": [
    {
     "name": "stdout",
     "output_type": "stream",
     "text": [
      "             precision    recall  f1-score   support\n",
      "\n",
      "          0       0.67      0.55      0.60      4385\n",
      "          1       0.68      0.78      0.73      5450\n",
      "\n",
      "avg / total       0.68      0.68      0.67      9835\n",
      "\n"
     ]
    }
   ],
   "source": [
    "print(confusionmatrix(y_test_norm,y_pred))"
   ]
  },
  {
   "cell_type": "code",
   "execution_count": 103,
   "metadata": {},
   "outputs": [],
   "source": [
    "## random forest"
   ]
  },
  {
   "cell_type": "code",
   "execution_count": 109,
   "metadata": {},
   "outputs": [
    {
     "name": "stdout",
     "output_type": "stream",
     "text": [
      "             precision    recall  f1-score   support\n",
      "\n",
      "          0       0.86      0.79      0.83      4385\n",
      "          1       0.84      0.90      0.87      5450\n",
      "\n",
      "avg / total       0.85      0.85      0.85      9835\n",
      "\n",
      "Accuracy: 0.8518556176919166\n"
     ]
    }
   ],
   "source": [
    "rf1 = RandomForestClassifier(n_estimators=100)\n",
    "rf1.fit(X_train_norm,y_train_norm)\n",
    "y_pred_rf1=rf1.predict(X_test_norm)\n",
    "print(confusionmatrix(y_test_norm,y_pred_rf1))\n",
    "print(\"Accuracy:\",metrics.accuracy_score(y_test_norm, y_pred_rf1))"
   ]
  },
  {
   "cell_type": "code",
   "execution_count": 138,
   "metadata": {},
   "outputs": [
    {
     "name": "stdout",
     "output_type": "stream",
     "text": [
      "             precision    recall  f1-score   support\n",
      "\n",
      "          0       0.87      0.79      0.83      4385\n",
      "          1       0.84      0.91      0.87      5450\n",
      "\n",
      "avg / total       0.86      0.85      0.85      9835\n",
      "\n",
      "Accuracy: 0.8540925266903915\n"
     ]
    }
   ],
   "source": [
    "rf2 = RandomForestClassifier(n_estimators=200,random_state=42)\n",
    "rf2.fit(X_train_norm,y_train_norm)\n",
    "y_pred_rf2=rf2.predict(X_test_norm)\n",
    "print(confusionmatrix(y_test_norm,y_pred_rf2))\n",
    "print(\"Accuracy:\",metrics.accuracy_score(y_test_norm, y_pred_rf2))"
   ]
  },
  {
   "cell_type": "code",
   "execution_count": 139,
   "metadata": {},
   "outputs": [
    {
     "name": "stdout",
     "output_type": "stream",
     "text": [
      "             precision    recall  f1-score   support\n",
      "\n",
      "          0       0.69      0.53      0.60      4385\n",
      "          1       0.68      0.80      0.74      5450\n",
      "\n",
      "avg / total       0.68      0.68      0.68      9835\n",
      "\n",
      "Accuracy: 0.683375699034062\n"
     ]
    }
   ],
   "source": [
    "rf3 = RandomForestClassifier(n_estimators=200,random_state=42)\n",
    "rf3.fit(X_train_final,y_train_final)\n",
    "y_pred_rf3=rf3.predict(X_test_final)\n",
    "print(confusionmatrix(y_test_final,y_pred_rf3))\n",
    "print(\"Accuracy:\",metrics.accuracy_score(y_test_final, y_pred_rf3))"
   ]
  },
  {
   "cell_type": "code",
   "execution_count": 143,
   "metadata": {},
   "outputs": [
    {
     "name": "stdout",
     "output_type": "stream",
     "text": [
      "             precision    recall  f1-score   support\n",
      "\n",
      "          0       0.87      0.79      0.83      4385\n",
      "          1       0.84      0.90      0.87      5450\n",
      "\n",
      "avg / total       0.85      0.85      0.85      9835\n",
      "\n",
      "Accuracy: 0.8532791052364006\n"
     ]
    }
   ],
   "source": [
    "rf4 = RandomForestClassifier(n_estimators=200,max_features=\"log2\",random_state=42,oob_score=True)\n",
    "rf4.fit(X_train_norm,y_train_norm)\n",
    "y_pred_rf4=rf4.predict(X_test_norm)\n",
    "print(confusionmatrix(y_test_norm,y_pred_rf4))\n",
    "print(\"Accuracy:\",metrics.accuracy_score(y_test_norm, y_pred_rf4))"
   ]
  },
  {
   "cell_type": "code",
   "execution_count": 145,
   "metadata": {},
   "outputs": [
    {
     "data": {
      "text/plain": [
       "0.8561125857665147"
      ]
     },
     "execution_count": 145,
     "metadata": {},
     "output_type": "execute_result"
    }
   ],
   "source": [
    "rf4.oob_score_"
   ]
  },
  {
   "cell_type": "code",
   "execution_count": 132,
   "metadata": {},
   "outputs": [
    {
     "data": {
      "image/png": "[encoded data removed]",
      "text/plain": [
       "<Figure size 432x288 with 1 Axes>"
      ]
     },
     "metadata": {},
     "output_type": "display_data"
    }
   ],
   "source": [
    "feature_imp = pd.Series(rf2.feature_importances_,index=X_train_norm.columns).sort_values(ascending=False)\n",
    "#feature_imp\n",
    "\n",
    "sns.barplot(x=feature_imp[:20], y=feature_imp.index[:20])\n",
    "# Add labels to your graph\n",
    "plt.xlabel('Feature Importance Score')\n",
    "plt.ylabel('Features')\n",
    "plt.title(\"Visualizing Important Features\")\n",
    "plt.show()"
   ]
  },
  {
   "cell_type": "code",
   "execution_count": null,
   "metadata": {},
   "outputs": [],
   "source": []
  },
  {
   "cell_type": "code",
   "execution_count": null,
   "metadata": {},
   "outputs": [],
   "source": []
  },
  {
   "cell_type": "code",
   "execution_count": null,
   "metadata": {},
   "outputs": [],
   "source": []
  },
  {
   "cell_type": "code",
   "execution_count": null,
   "metadata": {},
   "outputs": [],
   "source": []
  },
  {
   "cell_type": "code",
   "execution_count": null,
   "metadata": {},
   "outputs": [],
   "source": []
  },
  {
   "cell_type": "code",
   "execution_count": 170,
   "metadata": {},
   "outputs": [],
   "source": [
    "#Metric"
   ]
  },
  {
   "cell_type": "code",
   "execution_count": 168,
   "metadata": {},
   "outputs": [
    {
     "data": {
      "image/png": "[encoded data removed]",
      "text/plain": [
       "<Figure size 432x288 with 1 Axes>"
      ]
     },
     "metadata": {},
     "output_type": "display_data"
    }
   ],
   "source": [
    "False_Pos_Rate,True_Pos_Rate,ROC_CURVE = roccurve(y_pred_rf2,y_test_norm)\n",
    "plotroc(False_Pos_Rate,True_Pos_Rate,ROC_CURVE,'Receiver operating characteristic for Model - RF2')"
   ]
  },
  {
   "cell_type": "code",
   "execution_count": 169,
   "metadata": {},
   "outputs": [
    {
     "data": {
      "image/png": "[encoded data removed]",
      "text/plain": [
       "<Figure size 432x288 with 1 Axes>"
      ]
     },
     "metadata": {},
     "output_type": "display_data"
    }
   ],
   "source": [
    "False_Pos_Rate,True_Pos_Rate,ROC_CURVE = roccurve(y_pred_rf3,y_test_norm)\n",
    "plotroc(False_Pos_Rate,True_Pos_Rate,ROC_CURVE,'Receiver operating characteristic for Model - RF3')"
   ]
  },
  {
   "cell_type": "code",
   "execution_count": null,
   "metadata": {},
   "outputs": [],
   "source": []
  },
  {
   "cell_type": "code",
   "execution_count": 173,
   "metadata": {},
   "outputs": [],
   "source": [
    "#SVM "
   ]
  },
  {
   "cell_type": "code",
   "execution_count": 175,
   "metadata": {},
   "outputs": [
    {
     "name": "stdout",
     "output_type": "stream",
     "text": [
      "             precision    recall  f1-score   support\n",
      "\n",
      "          0       0.62      0.57      0.59      4385\n",
      "          1       0.67      0.71      0.69      5450\n",
      "\n",
      "avg / total       0.65      0.65      0.65      9835\n",
      "\n",
      "Accuracy: 0.6499237417386884\n"
     ]
    }
   ],
   "source": [
    "svm1 = svm.SVC(kernel='linear') # Linear Kernel\n",
    "svm1.fit(X_train_norm,y_train_norm)\n",
    "y_pred_svm1 = svm1.predict(X_test_norm)\n",
    "print(confusionmatrix(y_test_norm,y_pred_svm1))\n",
    "print(\"Accuracy:\",metrics.accuracy_score(y_test_norm, y_pred_svm1))"
   ]
  },
  {
   "cell_type": "code",
   "execution_count": 176,
   "metadata": {},
   "outputs": [],
   "source": [
    "\n",
    "\n"
   ]
  },
  {
   "cell_type": "code",
   "execution_count": 177,
   "metadata": {},
   "outputs": [
    {
     "name": "stdout",
     "output_type": "stream",
     "text": [
      "             precision    recall  f1-score   support\n",
      "\n",
      "          0       0.67      0.55      0.61      4385\n",
      "          1       0.69      0.78      0.73      5450\n",
      "\n",
      "avg / total       0.68      0.68      0.68      9835\n",
      "\n",
      "Accuracy: 0.680630401626843\n"
     ]
    }
   ],
   "source": [
    "\n",
    "# LinearSVC (linear kernel)\n",
    "lin_svc = svm.LinearSVC(C=1.0,random_state=42).fit(X_train_norm, y_train_norm)\n",
    "\n",
    "y_pred_svm2 = lin_svc.predict(X_test_norm)\n",
    "print(confusionmatrix(y_test_norm,y_pred_svm2))\n",
    "print(\"Accuracy:\",metrics.accuracy_score(y_test_norm, y_pred_svm2))"
   ]
  },
  {
   "cell_type": "code",
   "execution_count": 178,
   "metadata": {},
   "outputs": [
    {
     "name": "stdout",
     "output_type": "stream",
     "text": [
      "             precision    recall  f1-score   support\n",
      "\n",
      "          0       0.70      0.61      0.65      4385\n",
      "          1       0.71      0.80      0.75      5450\n",
      "\n",
      "avg / total       0.71      0.71      0.71      9835\n",
      "\n",
      "Accuracy: 0.7104219623792577\n"
     ]
    }
   ],
   "source": [
    "# SVC with RBF kernel\n",
    "rbf_svc = svm.SVC(kernel='rbf', gamma=0.7, C=1.0,random_state=42).fit(X_train_norm, y_train_norm)\n",
    "\n",
    "\n",
    "y_pred_svm3 = rbf_svc.predict(X_test_norm)\n",
    "print(confusionmatrix(y_test_norm,y_pred_svm3))\n",
    "print(\"Accuracy:\",metrics.accuracy_score(y_test_norm, y_pred_svm3))"
   ]
  },
  {
   "cell_type": "code",
   "execution_count": 179,
   "metadata": {
    "scrolled": true
   },
   "outputs": [
    {
     "name": "stdout",
     "output_type": "stream",
     "text": [
      "             precision    recall  f1-score   support\n",
      "\n",
      "          0       0.00      0.00      0.00      4385\n",
      "          1       0.55      1.00      0.71      5450\n",
      "\n",
      "avg / total       0.31      0.55      0.40      9835\n",
      "\n",
      "Accuracy: 0.5541433655312659\n"
     ]
    },
    {
     "name": "stderr",
     "output_type": "stream",
     "text": [
      "C:\\Users\\vbdon\\Anaconda3\\envs\\tensorflow\\lib\\site-packages\\sklearn\\metrics\\classification.py:1135: UndefinedMetricWarning: Precision and F-score are ill-defined and being set to 0.0 in labels with no predicted samples.\n",
      "  'precision', 'predicted', average, warn_for)\n"
     ]
    }
   ],
   "source": [
    "# SVC with polynomial (degree 3) kernel\n",
    "poly_svc = svm.SVC(kernel='poly', degree=3, C=1.0,random_state=42).fit(X_train_norm, y_train_norm)\n",
    "y_pred_svm4 = poly_svc.predict(X_test_norm)\n",
    "print(confusionmatrix(y_test_norm,y_pred_svm4))\n",
    "print(\"Accuracy:\",metrics.accuracy_score(y_test_norm, y_pred_svm4))"
   ]
  },
  {
   "cell_type": "code",
   "execution_count": 188,
   "metadata": {},
   "outputs": [
    {
     "name": "stdout",
     "output_type": "stream",
     "text": [
      "             precision    recall  f1-score   support\n",
      "\n",
      "          0       0.71      0.59      0.64      4385\n",
      "          1       0.71      0.81      0.76      5450\n",
      "\n",
      "avg / total       0.71      0.71      0.71      9835\n",
      "\n",
      "Accuracy: 0.710930350788002\n"
     ]
    }
   ],
   "source": [
    "\n",
    "\n",
    "y_pred_svm5 = rbf_svc1.predict(X_test_norm)\n",
    "print(confusionmatrix(y_test_norm,y_pred_svm5))\n",
    "print(\"Accuracy:\",metrics.accuracy_score(y_test_norm, y_pred_svm5))\n",
    "\n",
    "\n",
    "# 0.71 -  (c 1, g 0.8)\n",
    "# 0.68  - (c 0.1 g 0.8  )\n",
    "# 0.7240467717336044 - (c 10, g-1)\n",
    "# 0.710930350788002 - c 10, g 10"
   ]
  },
  {
   "cell_type": "code",
   "execution_count": 187,
   "metadata": {},
   "outputs": [],
   "source": [
    "# SVC with RBF kernel\n",
    "rbf_svc1 = svm.SVC(kernel='rbf', gamma=10, C=10,random_state=42).fit(X_train_norm, y_train_norm)\n"
   ]
  },
  {
   "cell_type": "code",
   "execution_count": 243,
   "metadata": {
    "scrolled": true
   },
   "outputs": [
    {
     "name": "stdout",
     "output_type": "stream",
     "text": [
      "_________________________________________________________________\n",
      "Layer (type)                 Output Shape              Param #   \n",
      "=================================================================\n",
      "dense_103 (Dense)            (None, 300)               156600    \n",
      "_________________________________________________________________\n",
      "dense_104 (Dense)            (None, 200)               60200     \n",
      "_________________________________________________________________\n",
      "dense_105 (Dense)            (None, 100)               20100     \n",
      "_________________________________________________________________\n",
      "dense_106 (Dense)            (None, 80)                8080      \n",
      "_________________________________________________________________\n",
      "dense_107 (Dense)            (None, 50)                4050      \n",
      "_________________________________________________________________\n",
      "dense_108 (Dense)            (None, 30)                1530      \n",
      "_________________________________________________________________\n",
      "dense_109 (Dense)            (None, 20)                620       \n",
      "_________________________________________________________________\n",
      "dense_110 (Dense)            (None, 10)                210       \n",
      "_________________________________________________________________\n",
      "dense_111 (Dense)            (None, 1)                 11        \n",
      "=================================================================\n",
      "Total params: 251,401\n",
      "Trainable params: 251,401\n",
      "Non-trainable params: 0\n",
      "_________________________________________________________________\n",
      "None\n",
      "Train on 20115 samples, validate on 6706 samples\n",
      "Epoch 1/500\n",
      "20115/20115 [==============================] - 4s 221us/step - loss: 0.6191 - acc: 0.6679 - val_loss: 0.5904 - val_acc: 0.6912\n",
      "Epoch 2/500\n",
      "20115/20115 [==============================] - 3s 128us/step - loss: 0.5814 - acc: 0.6959 - val_loss: 0.5968 - val_acc: 0.6849\n",
      "Epoch 3/500\n",
      "20115/20115 [==============================] - 3s 131us/step - loss: 0.5630 - acc: 0.7138 - val_loss: 0.5754 - val_acc: 0.7046\n",
      "Epoch 4/500\n",
      "20115/20115 [==============================] - 3s 132us/step - loss: 0.5462 - acc: 0.7249 - val_loss: 0.5666 - val_acc: 0.7094\n",
      "Epoch 5/500\n",
      "20115/20115 [==============================] - 3s 136us/step - loss: 0.5296 - acc: 0.7318 - val_loss: 0.5660 - val_acc: 0.7138\n",
      "Epoch 6/500\n",
      "20115/20115 [==============================] - 3s 132us/step - loss: 0.5127 - acc: 0.7433 - val_loss: 0.5668 - val_acc: 0.7177\n",
      "Epoch 7/500\n",
      "20115/20115 [==============================] - 3s 133us/step - loss: 0.4957 - acc: 0.7489 - val_loss: 0.5485 - val_acc: 0.7277\n",
      "Epoch 8/500\n",
      "20115/20115 [==============================] - 3s 133us/step - loss: 0.4750 - acc: 0.7660 - val_loss: 0.5875 - val_acc: 0.7314\n",
      "Epoch 9/500\n",
      "20115/20115 [==============================] - 3s 132us/step - loss: 0.4580 - acc: 0.7761 - val_loss: 0.5479 - val_acc: 0.7443\n",
      "Epoch 10/500\n",
      "20115/20115 [==============================] - 3s 135us/step - loss: 0.4365 - acc: 0.7895 - val_loss: 0.5286 - val_acc: 0.7541\n",
      "Epoch 11/500\n",
      "20115/20115 [==============================] - 3s 131us/step - loss: 0.4136 - acc: 0.8023 - val_loss: 0.5278 - val_acc: 0.7574\n",
      "Epoch 12/500\n",
      "20115/20115 [==============================] - 3s 132us/step - loss: 0.3955 - acc: 0.8155 - val_loss: 0.5428 - val_acc: 0.7704\n",
      "Epoch 13/500\n",
      "20115/20115 [==============================] - 3s 131us/step - loss: 0.3824 - acc: 0.8235 - val_loss: 0.5301 - val_acc: 0.7759\n",
      "Epoch 14/500\n",
      "20115/20115 [==============================] - 3s 133us/step - loss: 0.3657 - acc: 0.8305 - val_loss: 0.5837 - val_acc: 0.7759\n",
      "Epoch 15/500\n",
      "20115/20115 [==============================] - 3s 132us/step - loss: 0.3527 - acc: 0.8358 - val_loss: 0.5480 - val_acc: 0.7789\n",
      "Epoch 16/500\n",
      "20115/20115 [==============================] - 3s 131us/step - loss: 0.3431 - acc: 0.8411 - val_loss: 0.5587 - val_acc: 0.7853\n",
      "Epoch 17/500\n",
      "20115/20115 [==============================] - 3s 132us/step - loss: 0.3372 - acc: 0.8455 - val_loss: 0.5857 - val_acc: 0.7827\n",
      "Epoch 18/500\n",
      "20115/20115 [==============================] - 3s 131us/step - loss: 0.3267 - acc: 0.8476 - val_loss: 0.5479 - val_acc: 0.7908\n",
      "Epoch 19/500\n",
      "20115/20115 [==============================] - 3s 132us/step - loss: 0.3221 - acc: 0.8539 - val_loss: 0.5558 - val_acc: 0.7979\n",
      "Epoch 20/500\n",
      "20115/20115 [==============================] - 3s 131us/step - loss: 0.3087 - acc: 0.8561 - val_loss: 0.5525 - val_acc: 0.7965\n",
      "Epoch 21/500\n",
      "20115/20115 [==============================] - 3s 131us/step - loss: 0.3066 - acc: 0.8585 - val_loss: 0.5965 - val_acc: 0.7973\n",
      "Epoch 22/500\n",
      "20115/20115 [==============================] - 3s 131us/step - loss: 0.3003 - acc: 0.8611 - val_loss: 0.6260 - val_acc: 0.7932\n",
      "Epoch 23/500\n",
      "20115/20115 [==============================] - 3s 130us/step - loss: 0.2964 - acc: 0.8614 - val_loss: 0.5837 - val_acc: 0.7978\n",
      "Epoch 24/500\n",
      "20115/20115 [==============================] - 3s 132us/step - loss: 0.2829 - acc: 0.8694 - val_loss: 0.6383 - val_acc: 0.8078\n",
      "Epoch 25/500\n",
      "20115/20115 [==============================] - 3s 130us/step - loss: 0.2791 - acc: 0.8723 - val_loss: 0.6158 - val_acc: 0.8057\n",
      "Epoch 26/500\n",
      "20115/20115 [==============================] - 3s 131us/step - loss: 0.2769 - acc: 0.8740 - val_loss: 0.6603 - val_acc: 0.7960\n",
      "Epoch 27/500\n",
      "20115/20115 [==============================] - 3s 131us/step - loss: 0.2744 - acc: 0.8734 - val_loss: 0.6724 - val_acc: 0.7994\n",
      "Epoch 28/500\n",
      "20115/20115 [==============================] - 3s 132us/step - loss: 0.2751 - acc: 0.8756 - val_loss: 0.5792 - val_acc: 0.8130\n",
      "Epoch 29/500\n",
      "20115/20115 [==============================] - 3s 131us/step - loss: 0.2633 - acc: 0.8784 - val_loss: 0.6317 - val_acc: 0.8026\n",
      "Epoch 30/500\n",
      "20115/20115 [==============================] - 3s 131us/step - loss: 0.2635 - acc: 0.8783 - val_loss: 0.6431 - val_acc: 0.8120\n",
      "Epoch 31/500\n",
      "20115/20115 [==============================] - 3s 132us/step - loss: 0.2534 - acc: 0.8826 - val_loss: 0.7080 - val_acc: 0.8039\n",
      "Epoch 32/500\n",
      "20115/20115 [==============================] - 3s 133us/step - loss: 0.2560 - acc: 0.8841 - val_loss: 0.6981 - val_acc: 0.8057\n",
      "Epoch 33/500\n",
      "20115/20115 [==============================] - 3s 140us/step - loss: 0.2472 - acc: 0.8879 - val_loss: 0.6641 - val_acc: 0.8135\n",
      "Epoch 34/500\n",
      "20115/20115 [==============================] - 3s 129us/step - loss: 0.2449 - acc: 0.8892 - val_loss: 0.6626 - val_acc: 0.8109\n",
      "Epoch 35/500\n",
      "20115/20115 [==============================] - 3s 132us/step - loss: 0.2340 - acc: 0.8912 - val_loss: 0.6955 - val_acc: 0.8033\n",
      "Epoch 36/500\n",
      "20115/20115 [==============================] - 3s 131us/step - loss: 0.2401 - acc: 0.8881 - val_loss: 0.6988 - val_acc: 0.8097\n",
      "Epoch 37/500\n",
      "20115/20115 [==============================] - 3s 131us/step - loss: 0.2307 - acc: 0.8924 - val_loss: 0.6909 - val_acc: 0.8061\n",
      "Epoch 38/500\n",
      "20115/20115 [==============================] - 3s 133us/step - loss: 0.2289 - acc: 0.8935 - val_loss: 0.7496 - val_acc: 0.8067\n",
      "Epoch 39/500\n",
      "20115/20115 [==============================] - 3s 131us/step - loss: 0.2234 - acc: 0.8981 - val_loss: 0.7358 - val_acc: 0.8169\n",
      "Epoch 40/500\n",
      "20115/20115 [==============================] - 3s 130us/step - loss: 0.2222 - acc: 0.8964 - val_loss: 0.7569 - val_acc: 0.8084\n",
      "Epoch 41/500\n",
      "20115/20115 [==============================] - 3s 132us/step - loss: 0.2153 - acc: 0.8992 - val_loss: 0.7550 - val_acc: 0.8123\n",
      "Epoch 42/500\n",
      "20115/20115 [==============================] - 3s 132us/step - loss: 0.2138 - acc: 0.9003 - val_loss: 0.7739 - val_acc: 0.8136\n",
      "Epoch 43/500\n",
      "20115/20115 [==============================] - 3s 134us/step - loss: 0.2123 - acc: 0.9014 - val_loss: 0.7535 - val_acc: 0.8167\n",
      "Epoch 44/500\n",
      "20115/20115 [==============================] - 3s 130us/step - loss: 0.2142 - acc: 0.8999 - val_loss: 0.7245 - val_acc: 0.8129\n",
      "Epoch 45/500\n",
      "20115/20115 [==============================] - 3s 133us/step - loss: 0.2119 - acc: 0.9025 - val_loss: 0.7619 - val_acc: 0.8184\n",
      "Epoch 46/500\n",
      "20115/20115 [==============================] - 3s 132us/step - loss: 0.2052 - acc: 0.9019 - val_loss: 0.7395 - val_acc: 0.8096\n",
      "Epoch 47/500\n",
      "20115/20115 [==============================] - 3s 131us/step - loss: 0.2020 - acc: 0.9053 - val_loss: 0.7696 - val_acc: 0.8140\n",
      "Epoch 48/500\n",
      "20115/20115 [==============================] - 3s 125us/step - loss: 0.2025 - acc: 0.9090 - val_loss: 0.7653 - val_acc: 0.8173\n",
      "Epoch 49/500\n",
      "20115/20115 [==============================] - 3s 129us/step - loss: 0.1980 - acc: 0.9063 - val_loss: 0.7616 - val_acc: 0.8129\n",
      "Epoch 50/500\n",
      "20115/20115 [==============================] - 3s 128us/step - loss: 0.1956 - acc: 0.9086 - val_loss: 0.7625 - val_acc: 0.8196\n",
      "Epoch 51/500\n",
      "20115/20115 [==============================] - 3s 125us/step - loss: 0.1977 - acc: 0.9085 - val_loss: 0.7544 - val_acc: 0.8145\n",
      "Epoch 52/500\n",
      "20115/20115 [==============================] - 3s 130us/step - loss: 0.1931 - acc: 0.9086 - val_loss: 0.7719 - val_acc: 0.8148\n",
      "Epoch 53/500\n",
      "20115/20115 [==============================] - 3s 132us/step - loss: 0.1884 - acc: 0.9122 - val_loss: 0.7707 - val_acc: 0.8120\n",
      "Epoch 54/500\n",
      "20115/20115 [==============================] - 3s 128us/step - loss: 0.1882 - acc: 0.9115 - val_loss: 0.8059 - val_acc: 0.8155\n",
      "Epoch 55/500\n",
      "20115/20115 [==============================] - 3s 132us/step - loss: 0.1867 - acc: 0.9119 - val_loss: 0.8223 - val_acc: 0.8152\n",
      "Epoch 56/500\n",
      "20115/20115 [==============================] - 3s 129us/step - loss: 0.1823 - acc: 0.9159 - val_loss: 0.8053 - val_acc: 0.8124\n",
      "Epoch 57/500\n",
      "20115/20115 [==============================] - 3s 133us/step - loss: 0.1791 - acc: 0.9157 - val_loss: 0.8212 - val_acc: 0.8187\n",
      "Epoch 58/500\n",
      "20115/20115 [==============================] - 3s 129us/step - loss: 0.1747 - acc: 0.9187 - val_loss: 0.8419 - val_acc: 0.8069\n",
      "Epoch 59/500\n",
      "20115/20115 [==============================] - 3s 131us/step - loss: 0.1815 - acc: 0.9171 - val_loss: 0.8689 - val_acc: 0.8184\n",
      "Epoch 60/500\n",
      "20115/20115 [==============================] - 3s 130us/step - loss: 0.1710 - acc: 0.9194 - val_loss: 0.8362 - val_acc: 0.8227\n",
      "Epoch 61/500\n",
      "20115/20115 [==============================] - 3s 129us/step - loss: 0.1686 - acc: 0.9222 - val_loss: 0.8001 - val_acc: 0.8140\n",
      "Epoch 62/500\n",
      "20115/20115 [==============================] - 3s 124us/step - loss: 0.1766 - acc: 0.9182 - val_loss: 0.7946 - val_acc: 0.8099\n",
      "Epoch 63/500\n",
      "20115/20115 [==============================] - 2s 123us/step - loss: 0.1762 - acc: 0.9194 - val_loss: 0.8345 - val_acc: 0.8111\n",
      "Epoch 64/500\n",
      "20115/20115 [==============================] - 3s 127us/step - loss: 0.1718 - acc: 0.9208 - val_loss: 0.8210 - val_acc: 0.8173\n",
      "Epoch 65/500\n",
      "20115/20115 [==============================] - 3s 131us/step - loss: 0.1626 - acc: 0.9241 - val_loss: 0.8351 - val_acc: 0.8152\n",
      "Epoch 66/500\n",
      "20115/20115 [==============================] - 3s 128us/step - loss: 0.1684 - acc: 0.9216 - val_loss: 0.8333 - val_acc: 0.8146\n",
      "Epoch 67/500\n",
      "20115/20115 [==============================] - 3s 127us/step - loss: 0.1615 - acc: 0.9256 - val_loss: 0.8822 - val_acc: 0.8106\n",
      "Epoch 68/500\n",
      "20115/20115 [==============================] - 3s 130us/step - loss: 0.1582 - acc: 0.9289 - val_loss: 0.8194 - val_acc: 0.8184\n",
      "Epoch 69/500\n",
      "20115/20115 [==============================] - 3s 127us/step - loss: 0.1620 - acc: 0.9248 - val_loss: 0.7900 - val_acc: 0.8179\n",
      "Epoch 70/500\n",
      "20115/20115 [==============================] - 3s 131us/step - loss: 0.1587 - acc: 0.9256 - val_loss: 0.8290 - val_acc: 0.8167\n",
      "Epoch 71/500\n",
      "20115/20115 [==============================] - 3s 130us/step - loss: 0.1575 - acc: 0.9271 - val_loss: 0.8861 - val_acc: 0.8148\n",
      "Epoch 72/500\n",
      "20115/20115 [==============================] - 2s 122us/step - loss: 0.1528 - acc: 0.9307 - val_loss: 0.8364 - val_acc: 0.8172\n",
      "Epoch 73/500\n",
      "20115/20115 [==============================] - 3s 126us/step - loss: 0.1613 - acc: 0.9258 - val_loss: 0.8925 - val_acc: 0.8176\n",
      "Epoch 74/500\n",
      "20115/20115 [==============================] - 3s 130us/step - loss: 0.1548 - acc: 0.9292 - val_loss: 0.8428 - val_acc: 0.8172\n",
      "Epoch 75/500\n",
      "20115/20115 [==============================] - 3s 130us/step - loss: 0.1468 - acc: 0.9310 - val_loss: 0.7954 - val_acc: 0.8146\n",
      "Epoch 76/500\n",
      "20115/20115 [==============================] - 3s 128us/step - loss: 0.1471 - acc: 0.9320 - val_loss: 0.8744 - val_acc: 0.8184\n",
      "Epoch 77/500\n",
      "20115/20115 [==============================] - 3s 131us/step - loss: 0.1530 - acc: 0.9304 - val_loss: 0.8038 - val_acc: 0.8218\n",
      "Epoch 78/500\n",
      "20115/20115 [==============================] - 3s 133us/step - loss: 0.1408 - acc: 0.9356 - val_loss: 0.8880 - val_acc: 0.8143\n",
      "Epoch 79/500\n",
      "20115/20115 [==============================] - 3s 132us/step - loss: 0.1422 - acc: 0.9342 - val_loss: 0.8866 - val_acc: 0.8164\n",
      "Epoch 80/500\n",
      "20115/20115 [==============================] - 2s 122us/step - loss: 0.1509 - acc: 0.9330 - val_loss: 0.8509 - val_acc: 0.8149\n",
      "Epoch 81/500\n",
      "20115/20115 [==============================] - 3s 137us/step - loss: 0.1486 - acc: 0.9331 - val_loss: 0.7971 - val_acc: 0.8203\n",
      "Epoch 82/500\n",
      "20115/20115 [==============================] - 3s 126us/step - loss: 0.1341 - acc: 0.9382 - val_loss: 0.8789 - val_acc: 0.8155\n",
      "Epoch 83/500\n",
      "20115/20115 [==============================] - 3s 129us/step - loss: 0.1462 - acc: 0.9342 - val_loss: 0.8272 - val_acc: 0.8197\n",
      "Epoch 84/500\n",
      "20115/20115 [==============================] - 3s 134us/step - loss: 0.1377 - acc: 0.9364 - val_loss: 0.9236 - val_acc: 0.8228\n",
      "Epoch 85/500\n",
      "20115/20115 [==============================] - 3s 133us/step - loss: 0.1488 - acc: 0.9318 - val_loss: 0.8040 - val_acc: 0.8224\n",
      "Epoch 86/500\n",
      "20115/20115 [==============================] - 3s 131us/step - loss: 0.1292 - acc: 0.9415 - val_loss: 0.8716 - val_acc: 0.8199\n",
      "Epoch 87/500\n",
      "20115/20115 [==============================] - 3s 132us/step - loss: 0.1354 - acc: 0.9382 - val_loss: 0.8894 - val_acc: 0.8230\n",
      "Epoch 88/500\n",
      "20115/20115 [==============================] - 3s 133us/step - loss: 0.1335 - acc: 0.9369 - val_loss: 0.8526 - val_acc: 0.8224\n",
      "Epoch 89/500\n",
      "20115/20115 [==============================] - 3s 133us/step - loss: 0.1367 - acc: 0.9399 - val_loss: 0.7781 - val_acc: 0.8166\n",
      "Epoch 90/500\n",
      "20115/20115 [==============================] - 3s 133us/step - loss: 0.1288 - acc: 0.9411 - val_loss: 0.9046 - val_acc: 0.8220\n",
      "Epoch 91/500\n",
      "20115/20115 [==============================] - 3s 132us/step - loss: 0.1393 - acc: 0.9379 - val_loss: 0.8435 - val_acc: 0.8267\n",
      "Epoch 92/500\n",
      "20115/20115 [==============================] - 3s 130us/step - loss: 0.1356 - acc: 0.9380 - val_loss: 0.8060 - val_acc: 0.8206\n",
      "Epoch 93/500\n",
      "20115/20115 [==============================] - 3s 131us/step - loss: 0.1277 - acc: 0.9425 - val_loss: 0.8776 - val_acc: 0.8151\n",
      "Epoch 94/500\n",
      "20115/20115 [==============================] - 3s 131us/step - loss: 0.1252 - acc: 0.9424 - val_loss: 0.9491 - val_acc: 0.8239\n",
      "Epoch 95/500\n",
      "20115/20115 [==============================] - 3s 133us/step - loss: 0.1318 - acc: 0.9415 - val_loss: 0.8404 - val_acc: 0.8252\n",
      "Epoch 96/500\n",
      "20115/20115 [==============================] - 3s 131us/step - loss: 0.1277 - acc: 0.9415 - val_loss: 0.7944 - val_acc: 0.8234\n",
      "Epoch 97/500\n",
      "20115/20115 [==============================] - 3s 140us/step - loss: 0.1298 - acc: 0.9427 - val_loss: 0.8599 - val_acc: 0.8206\n",
      "Epoch 98/500\n",
      "20115/20115 [==============================] - 3s 143us/step - loss: 0.1275 - acc: 0.9426 - val_loss: 0.9620 - val_acc: 0.8190\n",
      "Epoch 99/500\n",
      "20115/20115 [==============================] - 3s 138us/step - loss: 0.1306 - acc: 0.9419 - val_loss: 0.7944 - val_acc: 0.8221\n",
      "Epoch 100/500\n",
      "20115/20115 [==============================] - 3s 131us/step - loss: 0.1235 - acc: 0.9432 - val_loss: 0.9001 - val_acc: 0.8214\n",
      "Epoch 101/500\n",
      "20115/20115 [==============================] - 3s 129us/step - loss: 0.1338 - acc: 0.9399 - val_loss: 0.8077 - val_acc: 0.8245\n",
      "Epoch 102/500\n",
      "20115/20115 [==============================] - 3s 129us/step - loss: 0.1267 - acc: 0.9416 - val_loss: 0.9076 - val_acc: 0.8260\n",
      "Epoch 103/500\n",
      "20115/20115 [==============================] - 3s 131us/step - loss: 0.1214 - acc: 0.9452 - val_loss: 0.8620 - val_acc: 0.8246\n",
      "Epoch 104/500\n",
      "20115/20115 [==============================] - 3s 132us/step - loss: 0.1237 - acc: 0.9441 - val_loss: 0.9169 - val_acc: 0.8221\n",
      "Epoch 105/500\n",
      "20115/20115 [==============================] - 3s 131us/step - loss: 0.1232 - acc: 0.9447 - val_loss: 0.8714 - val_acc: 0.8237\n",
      "Epoch 106/500\n"
     ]
    },
    {
     "name": "stdout",
     "output_type": "stream",
     "text": [
      "20115/20115 [==============================] - 3s 132us/step - loss: 0.1200 - acc: 0.9471 - val_loss: 0.7981 - val_acc: 0.8249\n",
      "Epoch 107/500\n",
      "20115/20115 [==============================] - 3s 132us/step - loss: 0.1259 - acc: 0.9451 - val_loss: 0.8303 - val_acc: 0.8248\n",
      "Epoch 108/500\n",
      "20115/20115 [==============================] - 3s 132us/step - loss: 0.1176 - acc: 0.9481 - val_loss: 0.8323 - val_acc: 0.8228\n",
      "Epoch 109/500\n",
      "20115/20115 [==============================] - 3s 132us/step - loss: 0.1206 - acc: 0.9465 - val_loss: 0.8136 - val_acc: 0.8243\n",
      "Epoch 110/500\n",
      "20115/20115 [==============================] - 3s 133us/step - loss: 0.1179 - acc: 0.9471 - val_loss: 0.8309 - val_acc: 0.8161\n",
      "Epoch 111/500\n",
      "20115/20115 [==============================] - 3s 133us/step - loss: 0.1180 - acc: 0.9470 - val_loss: 0.8444 - val_acc: 0.8224\n",
      "Epoch 112/500\n",
      "20115/20115 [==============================] - 3s 132us/step - loss: 0.1184 - acc: 0.9471 - val_loss: 0.9431 - val_acc: 0.8261\n",
      "Epoch 113/500\n",
      "20115/20115 [==============================] - 3s 131us/step - loss: 0.1149 - acc: 0.9490 - val_loss: 0.9062 - val_acc: 0.8255\n",
      "Epoch 114/500\n",
      "20115/20115 [==============================] - 3s 133us/step - loss: 0.1129 - acc: 0.9491 - val_loss: 0.8394 - val_acc: 0.8172\n",
      "Epoch 115/500\n",
      "20115/20115 [==============================] - 3s 134us/step - loss: 0.1132 - acc: 0.9504 - val_loss: 0.8841 - val_acc: 0.8225\n",
      "Epoch 116/500\n",
      "20115/20115 [==============================] - 3s 132us/step - loss: 0.1117 - acc: 0.9498 - val_loss: 0.9227 - val_acc: 0.8221\n",
      "Epoch 117/500\n",
      "20115/20115 [==============================] - 3s 133us/step - loss: 0.1059 - acc: 0.9532 - val_loss: 1.0165 - val_acc: 0.8220\n",
      "Epoch 118/500\n",
      "20115/20115 [==============================] - 3s 133us/step - loss: 0.1116 - acc: 0.9509 - val_loss: 0.8786 - val_acc: 0.8205\n",
      "Epoch 119/500\n",
      "20115/20115 [==============================] - 3s 134us/step - loss: 0.1133 - acc: 0.9501 - val_loss: 0.9430 - val_acc: 0.8215\n",
      "Epoch 120/500\n",
      "20115/20115 [==============================] - 3s 132us/step - loss: 0.1173 - acc: 0.9495 - val_loss: 0.8069 - val_acc: 0.8237\n",
      "Epoch 121/500\n",
      "20115/20115 [==============================] - 3s 130us/step - loss: 0.1087 - acc: 0.9514 - val_loss: 0.9578 - val_acc: 0.8225\n",
      "Epoch 122/500\n",
      "20115/20115 [==============================] - 3s 132us/step - loss: 0.1093 - acc: 0.9508 - val_loss: 0.8824 - val_acc: 0.8211\n",
      "Epoch 123/500\n",
      "20115/20115 [==============================] - 3s 132us/step - loss: 0.1111 - acc: 0.9514 - val_loss: 0.9260 - val_acc: 0.8251\n",
      "Epoch 124/500\n",
      "20115/20115 [==============================] - 3s 140us/step - loss: 0.1090 - acc: 0.9522 - val_loss: 0.9063 - val_acc: 0.8239\n",
      "Epoch 125/500\n",
      "20115/20115 [==============================] - 3s 133us/step - loss: 0.1068 - acc: 0.9521 - val_loss: 0.8639 - val_acc: 0.8319\n",
      "Epoch 126/500\n",
      "20115/20115 [==============================] - 3s 132us/step - loss: 0.1006 - acc: 0.9559 - val_loss: 0.9799 - val_acc: 0.8285\n",
      "Epoch 127/500\n",
      "20115/20115 [==============================] - 3s 131us/step - loss: 0.1054 - acc: 0.9529 - val_loss: 0.9544 - val_acc: 0.8236\n",
      "Epoch 128/500\n",
      "20115/20115 [==============================] - 3s 133us/step - loss: 0.1056 - acc: 0.9534 - val_loss: 0.9502 - val_acc: 0.8215\n",
      "Epoch 129/500\n",
      "20115/20115 [==============================] - 3s 130us/step - loss: 0.1052 - acc: 0.9536 - val_loss: 0.8900 - val_acc: 0.8246\n",
      "Epoch 130/500\n",
      "20115/20115 [==============================] - 4s 192us/step - loss: 0.1080 - acc: 0.9516 - val_loss: 0.9096 - val_acc: 0.8257\n",
      "Epoch 131/500\n",
      "20115/20115 [==============================] - 3s 136us/step - loss: 0.1104 - acc: 0.9502 - val_loss: 0.8592 - val_acc: 0.8227\n",
      "Epoch 132/500\n",
      "20115/20115 [==============================] - 2s 96us/step - loss: 0.1019 - acc: 0.9554 - val_loss: 0.8925 - val_acc: 0.8222\n",
      "Epoch 133/500\n",
      "20115/20115 [==============================] - 2s 95us/step - loss: 0.1117 - acc: 0.9513 - val_loss: 0.9568 - val_acc: 0.8214\n",
      "Epoch 134/500\n",
      "20115/20115 [==============================] - 2s 95us/step - loss: 0.1000 - acc: 0.9564 - val_loss: 0.9546 - val_acc: 0.8245\n",
      "Epoch 135/500\n",
      "20115/20115 [==============================] - 2s 96us/step - loss: 0.1023 - acc: 0.9548 - val_loss: 0.9549 - val_acc: 0.8252\n",
      "Epoch 136/500\n",
      "20115/20115 [==============================] - 3s 152us/step - loss: 0.1017 - acc: 0.9559 - val_loss: 0.9627 - val_acc: 0.8260\n",
      "Epoch 137/500\n",
      "20115/20115 [==============================] - 6s 274us/step - loss: 0.1044 - acc: 0.9543 - val_loss: 0.9153 - val_acc: 0.8261\n",
      "Epoch 138/500\n",
      "20115/20115 [==============================] - 5s 268us/step - loss: 0.0985 - acc: 0.9559 - val_loss: 0.9411 - val_acc: 0.8203\n",
      "Epoch 139/500\n",
      "20115/20115 [==============================] - 5s 226us/step - loss: 0.0972 - acc: 0.9584 - val_loss: 0.8825 - val_acc: 0.8276\n",
      "Epoch 140/500\n",
      "20115/20115 [==============================] - 4s 190us/step - loss: 0.0999 - acc: 0.9559 - val_loss: 0.8687 - val_acc: 0.8224\n",
      "Epoch 141/500\n",
      "20115/20115 [==============================] - 3s 169us/step - loss: 0.1012 - acc: 0.9547 - val_loss: 0.8654 - val_acc: 0.8284\n",
      "Epoch 142/500\n",
      "20115/20115 [==============================] - 3s 162us/step - loss: 0.1033 - acc: 0.9566 - val_loss: 0.9029 - val_acc: 0.8220\n",
      "Epoch 143/500\n",
      "20115/20115 [==============================] - 3s 156us/step - loss: 0.1015 - acc: 0.9568 - val_loss: 0.8669 - val_acc: 0.8215\n",
      "Epoch 144/500\n",
      "20115/20115 [==============================] - 3s 151us/step - loss: 0.0947 - acc: 0.9581 - val_loss: 0.9742 - val_acc: 0.8248\n",
      "Epoch 145/500\n",
      "20115/20115 [==============================] - 3s 146us/step - loss: 0.1027 - acc: 0.9563 - val_loss: 0.8907 - val_acc: 0.8206\n",
      "Epoch 146/500\n",
      "20115/20115 [==============================] - 3s 141us/step - loss: 0.1063 - acc: 0.9551 - val_loss: 0.8375 - val_acc: 0.8240\n",
      "Epoch 147/500\n",
      "20115/20115 [==============================] - 3s 137us/step - loss: 0.0949 - acc: 0.9585 - val_loss: 0.9615 - val_acc: 0.8221\n",
      "Epoch 148/500\n",
      "20115/20115 [==============================] - 3s 128us/step - loss: 0.0948 - acc: 0.9581 - val_loss: 0.9586 - val_acc: 0.8230\n",
      "Epoch 149/500\n",
      "20115/20115 [==============================] - 3s 133us/step - loss: 0.0931 - acc: 0.9603 - val_loss: 0.9215 - val_acc: 0.8291\n",
      "Epoch 150/500\n",
      "20115/20115 [==============================] - 3s 129us/step - loss: 0.0888 - acc: 0.9601 - val_loss: 1.0121 - val_acc: 0.8248\n",
      "Epoch 151/500\n",
      "20115/20115 [==============================] - 3s 132us/step - loss: 0.0925 - acc: 0.9602 - val_loss: 0.9401 - val_acc: 0.8279\n",
      "Epoch 152/500\n",
      "20115/20115 [==============================] - 3s 131us/step - loss: 0.0927 - acc: 0.9587 - val_loss: 0.9425 - val_acc: 0.8257\n",
      "Epoch 153/500\n",
      "20115/20115 [==============================] - 3s 132us/step - loss: 0.0925 - acc: 0.9596 - val_loss: 0.9237 - val_acc: 0.8188\n",
      "Epoch 154/500\n",
      "20115/20115 [==============================] - 3s 132us/step - loss: 0.0932 - acc: 0.9595 - val_loss: 0.9003 - val_acc: 0.8185\n",
      "Epoch 155/500\n",
      "20115/20115 [==============================] - 3s 132us/step - loss: 0.1037 - acc: 0.9544 - val_loss: 0.9600 - val_acc: 0.8218\n",
      "Epoch 156/500\n",
      "20115/20115 [==============================] - 3s 132us/step - loss: 0.0972 - acc: 0.9572 - val_loss: 0.9725 - val_acc: 0.8240\n",
      "Epoch 157/500\n",
      "20115/20115 [==============================] - 3s 134us/step - loss: 0.0936 - acc: 0.9589 - val_loss: 0.9473 - val_acc: 0.8254\n",
      "Epoch 158/500\n",
      "20115/20115 [==============================] - 3s 131us/step - loss: 0.0920 - acc: 0.9599 - val_loss: 0.8945 - val_acc: 0.8233\n",
      "Epoch 159/500\n",
      "20115/20115 [==============================] - 3s 132us/step - loss: 0.0902 - acc: 0.9603 - val_loss: 0.9495 - val_acc: 0.8233\n",
      "Epoch 160/500\n",
      "20115/20115 [==============================] - 3s 130us/step - loss: 0.0941 - acc: 0.9591 - val_loss: 0.9551 - val_acc: 0.8252\n",
      "Epoch 161/500\n",
      "20115/20115 [==============================] - 3s 131us/step - loss: 0.0895 - acc: 0.9612 - val_loss: 1.0822 - val_acc: 0.8285\n",
      "Epoch 162/500\n",
      "20115/20115 [==============================] - 3s 130us/step - loss: 0.0883 - acc: 0.9628 - val_loss: 0.9456 - val_acc: 0.8239\n",
      "Epoch 163/500\n",
      "20115/20115 [==============================] - 3s 133us/step - loss: 0.0851 - acc: 0.9626 - val_loss: 1.0071 - val_acc: 0.8220\n",
      "Epoch 164/500\n",
      "20115/20115 [==============================] - 3s 132us/step - loss: 0.0922 - acc: 0.9615 - val_loss: 0.8798 - val_acc: 0.8212\n",
      "Epoch 165/500\n",
      "20115/20115 [==============================] - 3s 131us/step - loss: 0.0830 - acc: 0.9645 - val_loss: 1.0971 - val_acc: 0.8240\n",
      "Epoch 166/500\n",
      "20115/20115 [==============================] - 3s 143us/step - loss: 0.0928 - acc: 0.9616 - val_loss: 0.9747 - val_acc: 0.8257\n",
      "Epoch 167/500\n",
      "20115/20115 [==============================] - 3s 132us/step - loss: 0.0835 - acc: 0.9642 - val_loss: 0.9493 - val_acc: 0.8303\n",
      "Epoch 168/500\n",
      "20115/20115 [==============================] - 2s 122us/step - loss: 0.0876 - acc: 0.9621 - val_loss: 1.0017 - val_acc: 0.8276\n",
      "Epoch 169/500\n",
      "20115/20115 [==============================] - 2s 101us/step - loss: 0.0838 - acc: 0.9635 - val_loss: 0.9507 - val_acc: 0.8272\n",
      "Epoch 170/500\n",
      "20115/20115 [==============================] - 2s 103us/step - loss: 0.0900 - acc: 0.9618 - val_loss: 0.9204 - val_acc: 0.8228\n",
      "Epoch 171/500\n",
      "20115/20115 [==============================] - 2s 93us/step - loss: 0.0888 - acc: 0.9611 - val_loss: 0.9125 - val_acc: 0.8290\n",
      "Epoch 172/500\n",
      "20115/20115 [==============================] - 2s 97us/step - loss: 0.0862 - acc: 0.9634 - val_loss: 0.9890 - val_acc: 0.8240\n",
      "Epoch 173/500\n",
      "20115/20115 [==============================] - 2s 106us/step - loss: 0.0920 - acc: 0.9603 - val_loss: 0.9096 - val_acc: 0.8287\n",
      "Epoch 174/500\n",
      "20115/20115 [==============================] - 3s 126us/step - loss: 0.0832 - acc: 0.9638 - val_loss: 1.0347 - val_acc: 0.8212\n",
      "Epoch 175/500\n",
      "20115/20115 [==============================] - 3s 128us/step - loss: 0.0870 - acc: 0.9623 - val_loss: 1.0823 - val_acc: 0.8278\n",
      "Epoch 176/500\n",
      "20115/20115 [==============================] - 3s 126us/step - loss: 0.0838 - acc: 0.9641 - val_loss: 1.0394 - val_acc: 0.8272\n",
      "Epoch 177/500\n",
      "20115/20115 [==============================] - 3s 130us/step - loss: 0.0823 - acc: 0.9643 - val_loss: 0.9589 - val_acc: 0.8258\n",
      "Epoch 178/500\n",
      "20115/20115 [==============================] - 3s 129us/step - loss: 0.0846 - acc: 0.9649 - val_loss: 0.9939 - val_acc: 0.8230\n",
      "Epoch 179/500\n",
      "20115/20115 [==============================] - 3s 125us/step - loss: 0.0868 - acc: 0.9618 - val_loss: 0.9365 - val_acc: 0.8190\n",
      "Epoch 180/500\n",
      "20115/20115 [==============================] - 3s 127us/step - loss: 0.0894 - acc: 0.9627 - val_loss: 0.8952 - val_acc: 0.8251\n",
      "Epoch 181/500\n",
      "20115/20115 [==============================] - 3s 126us/step - loss: 0.0829 - acc: 0.9634 - val_loss: 1.0229 - val_acc: 0.8252\n",
      "Epoch 182/500\n",
      "20115/20115 [==============================] - 3s 126us/step - loss: 0.0777 - acc: 0.9645 - val_loss: 1.0249 - val_acc: 0.8299\n",
      "Epoch 183/500\n",
      "20115/20115 [==============================] - 2s 123us/step - loss: 0.0849 - acc: 0.9631 - val_loss: 0.9566 - val_acc: 0.8263\n",
      "Epoch 184/500\n",
      "20115/20115 [==============================] - 3s 130us/step - loss: 0.0817 - acc: 0.9637 - val_loss: 1.0204 - val_acc: 0.8273\n",
      "Epoch 185/500\n",
      "20115/20115 [==============================] - 3s 132us/step - loss: 0.0801 - acc: 0.9640 - val_loss: 1.0101 - val_acc: 0.8299\n",
      "Epoch 186/500\n",
      "20115/20115 [==============================] - 3s 129us/step - loss: 0.0774 - acc: 0.9676 - val_loss: 1.0248 - val_acc: 0.8248\n",
      "Epoch 187/500\n",
      "20115/20115 [==============================] - 3s 129us/step - loss: 0.0767 - acc: 0.9653 - val_loss: 1.0388 - val_acc: 0.8231\n",
      "Epoch 188/500\n",
      "20115/20115 [==============================] - 2s 124us/step - loss: 0.0789 - acc: 0.9654 - val_loss: 0.9735 - val_acc: 0.8285\n",
      "Epoch 189/500\n",
      "20115/20115 [==============================] - 3s 125us/step - loss: 0.0780 - acc: 0.9654 - val_loss: 0.9525 - val_acc: 0.8251\n",
      "Epoch 190/500\n",
      "20115/20115 [==============================] - 2s 124us/step - loss: 0.0778 - acc: 0.9653 - val_loss: 1.0689 - val_acc: 0.8300\n",
      "Epoch 191/500\n",
      "20115/20115 [==============================] - 3s 127us/step - loss: 0.0808 - acc: 0.9647 - val_loss: 1.0373 - val_acc: 0.8285\n",
      "Epoch 192/500\n",
      "20115/20115 [==============================] - 3s 125us/step - loss: 0.0825 - acc: 0.9646 - val_loss: 0.8424 - val_acc: 0.8273\n",
      "Epoch 193/500\n",
      "20115/20115 [==============================] - 2s 123us/step - loss: 0.0834 - acc: 0.9646 - val_loss: 0.9918 - val_acc: 0.8211\n",
      "Epoch 194/500\n",
      "20115/20115 [==============================] - 2s 123us/step - loss: 0.0772 - acc: 0.9656 - val_loss: 0.9096 - val_acc: 0.8288\n",
      "Epoch 195/500\n",
      "20115/20115 [==============================] - 3s 128us/step - loss: 0.0808 - acc: 0.9652 - val_loss: 1.0007 - val_acc: 0.8316\n",
      "Epoch 196/500\n",
      "20115/20115 [==============================] - 3s 127us/step - loss: 0.0802 - acc: 0.9644 - val_loss: 0.9080 - val_acc: 0.8282\n",
      "Epoch 197/500\n",
      "20115/20115 [==============================] - 2s 124us/step - loss: 0.0719 - acc: 0.9686 - val_loss: 0.9769 - val_acc: 0.8264\n",
      "Epoch 198/500\n",
      "20115/20115 [==============================] - 3s 126us/step - loss: 0.0727 - acc: 0.9676 - val_loss: 1.1253 - val_acc: 0.8266\n",
      "Epoch 199/500\n",
      "20115/20115 [==============================] - 3s 128us/step - loss: 0.0701 - acc: 0.9696 - val_loss: 1.0660 - val_acc: 0.8287\n",
      "Epoch 200/500\n",
      "20115/20115 [==============================] - 2s 96us/step - loss: 0.0745 - acc: 0.9669 - val_loss: 1.0033 - val_acc: 0.8272\n",
      "Epoch 201/500\n",
      "20115/20115 [==============================] - 2s 96us/step - loss: 0.0767 - acc: 0.9662 - val_loss: 0.9994 - val_acc: 0.8263\n",
      "Epoch 202/500\n",
      "20115/20115 [==============================] - 2s 98us/step - loss: 0.0775 - acc: 0.9659 - val_loss: 0.9588 - val_acc: 0.8293\n",
      "Epoch 203/500\n",
      "20115/20115 [==============================] - 2s 96us/step - loss: 0.0753 - acc: 0.9664 - val_loss: 1.0230 - val_acc: 0.8348\n",
      "Epoch 204/500\n",
      "20115/20115 [==============================] - 2s 96us/step - loss: 0.0894 - acc: 0.9626 - val_loss: 0.9430 - val_acc: 0.8251\n",
      "Epoch 205/500\n",
      "20115/20115 [==============================] - 3s 125us/step - loss: 0.0783 - acc: 0.9649 - val_loss: 1.0342 - val_acc: 0.8302\n",
      "Epoch 206/500\n",
      "20115/20115 [==============================] - 3s 127us/step - loss: 0.0744 - acc: 0.9663 - val_loss: 1.0555 - val_acc: 0.8360\n",
      "Epoch 207/500\n",
      "20115/20115 [==============================] - 3s 127us/step - loss: 0.0769 - acc: 0.9664 - val_loss: 0.9070 - val_acc: 0.8270\n",
      "Epoch 208/500\n",
      "20115/20115 [==============================] - 3s 132us/step - loss: 0.0751 - acc: 0.9661 - val_loss: 0.9882 - val_acc: 0.8284\n",
      "Epoch 209/500\n",
      "20115/20115 [==============================] - 3s 133us/step - loss: 0.0706 - acc: 0.9697 - val_loss: 1.0282 - val_acc: 0.8310\n",
      "Epoch 210/500\n",
      "20115/20115 [==============================] - 3s 132us/step - loss: 0.0740 - acc: 0.9688 - val_loss: 0.9325 - val_acc: 0.8288\n",
      "Epoch 211/500\n",
      "20115/20115 [==============================] - 3s 133us/step - loss: 0.0816 - acc: 0.9644 - val_loss: 1.0192 - val_acc: 0.8310\n",
      "Epoch 212/500\n",
      "20115/20115 [==============================] - 3s 130us/step - loss: 0.0723 - acc: 0.9689 - val_loss: 1.0540 - val_acc: 0.8266\n",
      "Epoch 213/500\n",
      "20115/20115 [==============================] - 3s 129us/step - loss: 0.0779 - acc: 0.9679 - val_loss: 1.0006 - val_acc: 0.8254\n",
      "Epoch 214/500\n",
      "20115/20115 [==============================] - 3s 132us/step - loss: 0.0745 - acc: 0.9685 - val_loss: 1.0067 - val_acc: 0.8331\n",
      "Epoch 215/500\n",
      "20115/20115 [==============================] - 3s 141us/step - loss: 0.0742 - acc: 0.9677 - val_loss: 1.0487 - val_acc: 0.8313\n",
      "Epoch 216/500\n",
      "20115/20115 [==============================] - 3s 132us/step - loss: 0.0733 - acc: 0.9685 - val_loss: 0.9629 - val_acc: 0.8336\n",
      "Epoch 217/500\n",
      "20115/20115 [==============================] - 3s 131us/step - loss: 0.0654 - acc: 0.9708 - val_loss: 1.1438 - val_acc: 0.8306\n",
      "Epoch 218/500\n",
      "20115/20115 [==============================] - 3s 131us/step - loss: 0.0763 - acc: 0.9674 - val_loss: 0.9239 - val_acc: 0.8324\n",
      "Epoch 219/500\n",
      "20115/20115 [==============================] - 3s 132us/step - loss: 0.0688 - acc: 0.9693 - val_loss: 1.0612 - val_acc: 0.8234\n",
      "Epoch 220/500\n",
      "20115/20115 [==============================] - 3s 130us/step - loss: 0.0709 - acc: 0.9689 - val_loss: 0.9956 - val_acc: 0.8273\n",
      "Epoch 221/500\n",
      "20115/20115 [==============================] - 3s 131us/step - loss: 0.0711 - acc: 0.9690 - val_loss: 0.9301 - val_acc: 0.8291\n",
      "Epoch 222/500\n"
     ]
    },
    {
     "name": "stdout",
     "output_type": "stream",
     "text": [
      "20115/20115 [==============================] - 3s 131us/step - loss: 0.0739 - acc: 0.9675 - val_loss: 1.0442 - val_acc: 0.8318\n",
      "Epoch 223/500\n",
      "20115/20115 [==============================] - 3s 131us/step - loss: 0.0742 - acc: 0.9685 - val_loss: 0.9552 - val_acc: 0.8310\n",
      "Epoch 224/500\n",
      "20115/20115 [==============================] - 3s 132us/step - loss: 0.0722 - acc: 0.9684 - val_loss: 0.8868 - val_acc: 0.8282\n",
      "Epoch 225/500\n",
      "20115/20115 [==============================] - 3s 132us/step - loss: 0.0706 - acc: 0.9694 - val_loss: 1.0417 - val_acc: 0.8336\n",
      "Epoch 226/500\n",
      "20115/20115 [==============================] - 3s 132us/step - loss: 0.0706 - acc: 0.9697 - val_loss: 1.0812 - val_acc: 0.8264\n",
      "Epoch 227/500\n",
      "20115/20115 [==============================] - 3s 131us/step - loss: 0.0671 - acc: 0.9712 - val_loss: 1.0364 - val_acc: 0.8305\n",
      "Epoch 228/500\n",
      "20115/20115 [==============================] - 3s 126us/step - loss: 0.0661 - acc: 0.9721 - val_loss: 1.0182 - val_acc: 0.8328\n",
      "Epoch 229/500\n",
      "20115/20115 [==============================] - 3s 131us/step - loss: 0.0669 - acc: 0.9714 - val_loss: 1.0609 - val_acc: 0.8263\n",
      "Epoch 230/500\n",
      "20115/20115 [==============================] - 3s 127us/step - loss: 0.0716 - acc: 0.9695 - val_loss: 0.9137 - val_acc: 0.8327\n",
      "Epoch 231/500\n",
      "20115/20115 [==============================] - 3s 138us/step - loss: 0.0711 - acc: 0.9688 - val_loss: 1.0564 - val_acc: 0.8339\n",
      "Epoch 232/500\n",
      "20115/20115 [==============================] - 3s 130us/step - loss: 0.0659 - acc: 0.9714 - val_loss: 1.0576 - val_acc: 0.8319\n",
      "Epoch 233/500\n",
      "20115/20115 [==============================] - 3s 130us/step - loss: 0.0635 - acc: 0.9720 - val_loss: 1.0487 - val_acc: 0.8270\n",
      "Epoch 234/500\n",
      "20115/20115 [==============================] - 3s 125us/step - loss: 0.0725 - acc: 0.9682 - val_loss: 0.9320 - val_acc: 0.8267\n",
      "Epoch 235/500\n",
      "20115/20115 [==============================] - 2s 124us/step - loss: 0.0759 - acc: 0.9675 - val_loss: 1.0063 - val_acc: 0.8303\n",
      "Epoch 236/500\n",
      "20115/20115 [==============================] - 3s 125us/step - loss: 0.0673 - acc: 0.9718 - val_loss: 0.9937 - val_acc: 0.8305\n",
      "Epoch 237/500\n",
      "20115/20115 [==============================] - 2s 124us/step - loss: 0.0695 - acc: 0.9698 - val_loss: 0.9733 - val_acc: 0.8273\n",
      "Epoch 238/500\n",
      "20115/20115 [==============================] - 3s 125us/step - loss: 0.0696 - acc: 0.9708 - val_loss: 1.0020 - val_acc: 0.8287\n",
      "Epoch 239/500\n",
      "20115/20115 [==============================] - 2s 123us/step - loss: 0.0680 - acc: 0.9702 - val_loss: 0.9678 - val_acc: 0.8303\n",
      "Epoch 240/500\n",
      "20115/20115 [==============================] - 3s 128us/step - loss: 0.0676 - acc: 0.9701 - val_loss: 0.9333 - val_acc: 0.8349\n",
      "Epoch 241/500\n",
      "20115/20115 [==============================] - 3s 132us/step - loss: 0.0667 - acc: 0.9712 - val_loss: 1.0093 - val_acc: 0.8339\n",
      "Epoch 242/500\n",
      "20115/20115 [==============================] - 3s 131us/step - loss: 0.0736 - acc: 0.9677 - val_loss: 0.9519 - val_acc: 0.8299\n",
      "Epoch 243/500\n",
      "20115/20115 [==============================] - 3s 127us/step - loss: 0.0679 - acc: 0.9721 - val_loss: 0.9217 - val_acc: 0.8325\n",
      "Epoch 244/500\n",
      "20115/20115 [==============================] - 3s 130us/step - loss: 0.0655 - acc: 0.9716 - val_loss: 0.9943 - val_acc: 0.8324\n",
      "Epoch 245/500\n",
      "20115/20115 [==============================] - 3s 125us/step - loss: 0.0632 - acc: 0.9723 - val_loss: 0.9624 - val_acc: 0.8324\n",
      "Epoch 246/500\n",
      "20115/20115 [==============================] - 3s 125us/step - loss: 0.0632 - acc: 0.9723 - val_loss: 0.9635 - val_acc: 0.8337\n",
      "Epoch 247/500\n",
      "20115/20115 [==============================] - 3s 130us/step - loss: 0.0677 - acc: 0.9702 - val_loss: 0.9805 - val_acc: 0.8319\n",
      "Epoch 248/500\n",
      "20115/20115 [==============================] - 3s 130us/step - loss: 0.0621 - acc: 0.9730 - val_loss: 1.0886 - val_acc: 0.8309\n",
      "Epoch 249/500\n",
      "20115/20115 [==============================] - 3s 132us/step - loss: 0.0688 - acc: 0.9720 - val_loss: 0.9964 - val_acc: 0.8325\n",
      "Epoch 250/500\n",
      "20115/20115 [==============================] - 3s 134us/step - loss: 0.0701 - acc: 0.9708 - val_loss: 0.9855 - val_acc: 0.8276\n",
      "Epoch 251/500\n",
      "20115/20115 [==============================] - 3s 132us/step - loss: 0.0653 - acc: 0.9715 - val_loss: 0.9772 - val_acc: 0.8302\n",
      "Epoch 252/500\n",
      "20115/20115 [==============================] - 3s 132us/step - loss: 0.0630 - acc: 0.9718 - val_loss: 0.9969 - val_acc: 0.8406\n",
      "Epoch 253/500\n",
      "20115/20115 [==============================] - 3s 135us/step - loss: 0.0671 - acc: 0.9721 - val_loss: 0.8847 - val_acc: 0.8334\n",
      "Epoch 254/500\n",
      "20115/20115 [==============================] - 3s 127us/step - loss: 0.0667 - acc: 0.9724 - val_loss: 0.9492 - val_acc: 0.8275\n",
      "Epoch 255/500\n",
      "20115/20115 [==============================] - 3s 126us/step - loss: 0.0673 - acc: 0.9735 - val_loss: 0.9748 - val_acc: 0.8282\n",
      "Epoch 256/500\n",
      "20115/20115 [==============================] - 3s 126us/step - loss: 0.0670 - acc: 0.9724 - val_loss: 1.0705 - val_acc: 0.8285\n",
      "Epoch 257/500\n",
      "20115/20115 [==============================] - 3s 131us/step - loss: 0.0743 - acc: 0.9682 - val_loss: 1.0195 - val_acc: 0.8337\n",
      "Epoch 258/500\n",
      "20115/20115 [==============================] - 3s 132us/step - loss: 0.0704 - acc: 0.9701 - val_loss: 1.0571 - val_acc: 0.8357\n",
      "Epoch 259/500\n",
      "20115/20115 [==============================] - 3s 130us/step - loss: 0.0687 - acc: 0.9714 - val_loss: 0.9523 - val_acc: 0.8306\n",
      "Epoch 260/500\n",
      "20115/20115 [==============================] - 3s 126us/step - loss: 0.0613 - acc: 0.9745 - val_loss: 1.0521 - val_acc: 0.8373\n",
      "Epoch 261/500\n",
      "20115/20115 [==============================] - 3s 131us/step - loss: 0.0700 - acc: 0.9701 - val_loss: 1.0374 - val_acc: 0.8312\n",
      "Epoch 262/500\n",
      "20115/20115 [==============================] - 3s 130us/step - loss: 0.0671 - acc: 0.9713 - val_loss: 1.0595 - val_acc: 0.8345\n",
      "Epoch 263/500\n",
      "20115/20115 [==============================] - 3s 129us/step - loss: 0.0648 - acc: 0.9724 - val_loss: 1.0145 - val_acc: 0.8319\n",
      "Epoch 264/500\n",
      "20115/20115 [==============================] - 3s 128us/step - loss: 0.0634 - acc: 0.9729 - val_loss: 1.0574 - val_acc: 0.8321\n",
      "Epoch 265/500\n",
      "20115/20115 [==============================] - 3s 127us/step - loss: 0.0623 - acc: 0.9746 - val_loss: 0.9922 - val_acc: 0.8331\n",
      "Epoch 266/500\n",
      "20115/20115 [==============================] - 3s 127us/step - loss: 0.0611 - acc: 0.9735 - val_loss: 0.9727 - val_acc: 0.8307\n",
      "Epoch 267/500\n",
      "20115/20115 [==============================] - 3s 128us/step - loss: 0.0680 - acc: 0.9726 - val_loss: 0.9811 - val_acc: 0.8324\n",
      "Epoch 268/500\n",
      "20115/20115 [==============================] - 2s 90us/step - loss: 0.0650 - acc: 0.9725 - val_loss: 1.0121 - val_acc: 0.8318\n",
      "Epoch 269/500\n",
      "20115/20115 [==============================] - 2s 88us/step - loss: 0.0633 - acc: 0.9740 - val_loss: 1.0025 - val_acc: 0.8288\n",
      "Epoch 270/500\n",
      "20115/20115 [==============================] - 2s 88us/step - loss: 0.0643 - acc: 0.9724 - val_loss: 1.0738 - val_acc: 0.8294\n",
      "Epoch 271/500\n",
      "20115/20115 [==============================] - 2s 88us/step - loss: 0.0712 - acc: 0.9701 - val_loss: 0.9881 - val_acc: 0.8275\n",
      "Epoch 272/500\n",
      "20115/20115 [==============================] - 2s 90us/step - loss: 0.0669 - acc: 0.9712 - val_loss: 0.9602 - val_acc: 0.8369\n",
      "Epoch 273/500\n",
      "20115/20115 [==============================] - 3s 141us/step - loss: 0.0659 - acc: 0.9724 - val_loss: 1.0631 - val_acc: 0.8385\n",
      "Epoch 274/500\n",
      "20115/20115 [==============================] - 3s 159us/step - loss: 0.0661 - acc: 0.9734 - val_loss: 0.9204 - val_acc: 0.8325\n",
      "Epoch 275/500\n",
      "20115/20115 [==============================] - 3s 156us/step - loss: 0.0639 - acc: 0.9733 - val_loss: 1.0251 - val_acc: 0.8312\n",
      "Epoch 276/500\n",
      "20115/20115 [==============================] - 3s 158us/step - loss: 0.0588 - acc: 0.9748 - val_loss: 1.0584 - val_acc: 0.8331\n",
      "Epoch 277/500\n",
      "20115/20115 [==============================] - 3s 158us/step - loss: 0.0563 - acc: 0.9756 - val_loss: 1.0281 - val_acc: 0.8343\n",
      "Epoch 278/500\n",
      "20115/20115 [==============================] - 3s 158us/step - loss: 0.0589 - acc: 0.9756 - val_loss: 0.9867 - val_acc: 0.8358\n",
      "Epoch 279/500\n",
      "20115/20115 [==============================] - 3s 157us/step - loss: 0.0557 - acc: 0.9757 - val_loss: 1.0086 - val_acc: 0.8282\n",
      "Epoch 280/500\n",
      "20115/20115 [==============================] - 3s 157us/step - loss: 0.0606 - acc: 0.9740 - val_loss: 1.1039 - val_acc: 0.8342\n",
      "Epoch 281/500\n",
      "20115/20115 [==============================] - 3s 157us/step - loss: 0.0626 - acc: 0.9744 - val_loss: 0.9713 - val_acc: 0.8366\n",
      "Epoch 282/500\n",
      "20115/20115 [==============================] - 3s 157us/step - loss: 0.0613 - acc: 0.9754 - val_loss: 0.9641 - val_acc: 0.8316\n",
      "Epoch 283/500\n",
      "20115/20115 [==============================] - 3s 160us/step - loss: 0.0585 - acc: 0.9749 - val_loss: 0.9476 - val_acc: 0.8276\n",
      "Epoch 284/500\n",
      "20115/20115 [==============================] - 3s 158us/step - loss: 0.0608 - acc: 0.9737 - val_loss: 1.0721 - val_acc: 0.8293\n",
      "Epoch 285/500\n",
      "20115/20115 [==============================] - 3s 145us/step - loss: 0.0838 - acc: 0.9651 - val_loss: 0.9720 - val_acc: 0.8334\n",
      "Epoch 286/500\n",
      "20115/20115 [==============================] - 3s 127us/step - loss: 0.0588 - acc: 0.9756 - val_loss: 1.0442 - val_acc: 0.8376\n",
      "Epoch 287/500\n",
      "20115/20115 [==============================] - 3s 125us/step - loss: 0.0508 - acc: 0.9781 - val_loss: 1.0878 - val_acc: 0.8378\n",
      "Epoch 288/500\n",
      "20115/20115 [==============================] - 2s 123us/step - loss: 0.0591 - acc: 0.9756 - val_loss: 1.0857 - val_acc: 0.8288\n",
      "Epoch 289/500\n",
      "20115/20115 [==============================] - 3s 125us/step - loss: 0.0606 - acc: 0.9747 - val_loss: 1.1131 - val_acc: 0.8370\n",
      "Epoch 290/500\n",
      "20115/20115 [==============================] - 3s 127us/step - loss: 0.0669 - acc: 0.9715 - val_loss: 0.9880 - val_acc: 0.8351\n",
      "Epoch 291/500\n",
      "20115/20115 [==============================] - 3s 141us/step - loss: 0.0584 - acc: 0.9758 - val_loss: 1.0437 - val_acc: 0.8316\n",
      "Epoch 292/500\n",
      "20115/20115 [==============================] - 3s 148us/step - loss: 0.0606 - acc: 0.9747 - val_loss: 1.1367 - val_acc: 0.8345\n",
      "Epoch 293/500\n",
      "20115/20115 [==============================] - 3s 158us/step - loss: 0.0594 - acc: 0.9750 - val_loss: 1.0561 - val_acc: 0.8360\n",
      "Epoch 294/500\n",
      "20115/20115 [==============================] - 3s 160us/step - loss: 0.0558 - acc: 0.9765 - val_loss: 1.0841 - val_acc: 0.8334\n",
      "Epoch 295/500\n",
      "20115/20115 [==============================] - 3s 156us/step - loss: 0.0521 - acc: 0.9769 - val_loss: 1.1631 - val_acc: 0.8327\n",
      "Epoch 296/500\n",
      "20115/20115 [==============================] - 3s 157us/step - loss: 0.0659 - acc: 0.9737 - val_loss: 0.9181 - val_acc: 0.8322\n",
      "Epoch 297/500\n",
      "20115/20115 [==============================] - 3s 160us/step - loss: 0.0707 - acc: 0.9706 - val_loss: 0.8714 - val_acc: 0.8302\n",
      "Epoch 298/500\n",
      "20115/20115 [==============================] - 3s 158us/step - loss: 0.0638 - acc: 0.9738 - val_loss: 0.9462 - val_acc: 0.8361\n",
      "Epoch 299/500\n",
      "20115/20115 [==============================] - 5s 248us/step - loss: 0.0661 - acc: 0.9710 - val_loss: 1.0184 - val_acc: 0.8328\n",
      "Epoch 300/500\n",
      "20115/20115 [==============================] - 3s 157us/step - loss: 0.0559 - acc: 0.9755 - val_loss: 1.1065 - val_acc: 0.8352\n",
      "Epoch 301/500\n",
      "20115/20115 [==============================] - 3s 158us/step - loss: 0.0563 - acc: 0.9761 - val_loss: 1.1152 - val_acc: 0.8348\n",
      "Epoch 302/500\n",
      "20115/20115 [==============================] - 3s 160us/step - loss: 0.0577 - acc: 0.9749 - val_loss: 1.0486 - val_acc: 0.8398\n",
      "Epoch 303/500\n",
      "20115/20115 [==============================] - 3s 160us/step - loss: 0.0534 - acc: 0.9774 - val_loss: 1.0167 - val_acc: 0.8376\n",
      "Epoch 304/500\n",
      "20115/20115 [==============================] - 3s 160us/step - loss: 0.0567 - acc: 0.9760 - val_loss: 0.9887 - val_acc: 0.8363\n",
      "Epoch 305/500\n",
      "20115/20115 [==============================] - 3s 157us/step - loss: 0.0597 - acc: 0.9755 - val_loss: 1.0748 - val_acc: 0.8258\n",
      "Epoch 306/500\n",
      "20115/20115 [==============================] - 3s 159us/step - loss: 0.0597 - acc: 0.9745 - val_loss: 1.0081 - val_acc: 0.8309\n",
      "Epoch 307/500\n",
      "20115/20115 [==============================] - 3s 157us/step - loss: 0.0632 - acc: 0.9727 - val_loss: 0.9366 - val_acc: 0.8373\n",
      "Epoch 308/500\n",
      "20115/20115 [==============================] - 3s 158us/step - loss: 0.0557 - acc: 0.9761 - val_loss: 1.0440 - val_acc: 0.8352\n",
      "Epoch 309/500\n",
      "20115/20115 [==============================] - 3s 158us/step - loss: 0.0558 - acc: 0.9766 - val_loss: 1.0512 - val_acc: 0.8358\n",
      "Epoch 310/500\n",
      "20115/20115 [==============================] - 3s 161us/step - loss: 0.0587 - acc: 0.9747 - val_loss: 1.0344 - val_acc: 0.8364\n",
      "Epoch 311/500\n",
      "20115/20115 [==============================] - 3s 158us/step - loss: 0.0583 - acc: 0.9756 - val_loss: 0.9099 - val_acc: 0.8348\n",
      "Epoch 312/500\n",
      "20115/20115 [==============================] - 3s 158us/step - loss: 0.0522 - acc: 0.9777 - val_loss: 1.0665 - val_acc: 0.8333\n",
      "Epoch 313/500\n",
      "20115/20115 [==============================] - 3s 158us/step - loss: 0.0572 - acc: 0.9766 - val_loss: 1.0106 - val_acc: 0.8387\n",
      "Epoch 314/500\n",
      "20115/20115 [==============================] - 3s 158us/step - loss: 0.0555 - acc: 0.9767 - val_loss: 1.1092 - val_acc: 0.8325\n",
      "Epoch 315/500\n",
      "20115/20115 [==============================] - 3s 159us/step - loss: 0.0622 - acc: 0.9745 - val_loss: 1.0313 - val_acc: 0.8349\n",
      "Epoch 316/500\n",
      "20115/20115 [==============================] - 3s 160us/step - loss: 0.0568 - acc: 0.9756 - val_loss: 1.0258 - val_acc: 0.8334\n",
      "Epoch 317/500\n",
      "20115/20115 [==============================] - 3s 156us/step - loss: 0.0656 - acc: 0.9724 - val_loss: 0.9310 - val_acc: 0.8354\n",
      "Epoch 318/500\n",
      "20115/20115 [==============================] - 3s 159us/step - loss: 0.0554 - acc: 0.9764 - val_loss: 1.0427 - val_acc: 0.8349\n",
      "Epoch 319/500\n",
      "20115/20115 [==============================] - 3s 157us/step - loss: 0.0498 - acc: 0.9781 - val_loss: 1.0640 - val_acc: 0.8321\n",
      "Epoch 320/500\n",
      "20115/20115 [==============================] - 3s 161us/step - loss: 0.0512 - acc: 0.9781 - val_loss: 0.9709 - val_acc: 0.8367\n",
      "Epoch 321/500\n",
      "20115/20115 [==============================] - 3s 158us/step - loss: 0.0519 - acc: 0.9783 - val_loss: 1.0997 - val_acc: 0.8357\n",
      "Epoch 322/500\n",
      "20115/20115 [==============================] - 3s 159us/step - loss: 0.0577 - acc: 0.9762 - val_loss: 0.9633 - val_acc: 0.8372\n",
      "Epoch 323/500\n",
      "20115/20115 [==============================] - 3s 157us/step - loss: 0.0551 - acc: 0.9766 - val_loss: 0.9322 - val_acc: 0.8345\n",
      "Epoch 324/500\n",
      "20115/20115 [==============================] - 3s 157us/step - loss: 0.0576 - acc: 0.9764 - val_loss: 0.9979 - val_acc: 0.8330\n",
      "Epoch 325/500\n",
      "20115/20115 [==============================] - 3s 159us/step - loss: 0.0520 - acc: 0.9777 - val_loss: 1.0244 - val_acc: 0.8366\n",
      "Epoch 326/500\n",
      "20115/20115 [==============================] - 3s 157us/step - loss: 0.0592 - acc: 0.9756 - val_loss: 0.9286 - val_acc: 0.8324\n",
      "Epoch 327/500\n",
      "20115/20115 [==============================] - 3s 158us/step - loss: 0.0550 - acc: 0.9758 - val_loss: 1.0283 - val_acc: 0.8363\n",
      "Epoch 328/500\n",
      "20115/20115 [==============================] - 3s 158us/step - loss: 0.0559 - acc: 0.9774 - val_loss: 0.9959 - val_acc: 0.8325\n",
      "Epoch 329/500\n",
      "20115/20115 [==============================] - 3s 157us/step - loss: 0.0473 - acc: 0.9797 - val_loss: 1.1234 - val_acc: 0.8337\n",
      "Epoch 330/500\n",
      "20115/20115 [==============================] - 3s 159us/step - loss: 0.0578 - acc: 0.9759 - val_loss: 1.0570 - val_acc: 0.8325\n",
      "Epoch 331/500\n",
      "20115/20115 [==============================] - 3s 157us/step - loss: 0.0514 - acc: 0.9776 - val_loss: 1.0056 - val_acc: 0.8334\n",
      "Epoch 332/500\n",
      "20115/20115 [==============================] - 3s 156us/step - loss: 0.0592 - acc: 0.9750 - val_loss: 0.9916 - val_acc: 0.8279\n",
      "Epoch 333/500\n",
      "20115/20115 [==============================] - 3s 159us/step - loss: 0.0516 - acc: 0.9774 - val_loss: 1.0470 - val_acc: 0.8273\n",
      "Epoch 334/500\n",
      "20115/20115 [==============================] - 3s 159us/step - loss: 0.0531 - acc: 0.9783 - val_loss: 0.9933 - val_acc: 0.8354\n",
      "Epoch 335/500\n",
      "20115/20115 [==============================] - 3s 149us/step - loss: 0.0601 - acc: 0.9748 - val_loss: 1.0271 - val_acc: 0.8276\n",
      "Epoch 336/500\n",
      "20115/20115 [==============================] - 3s 147us/step - loss: 0.0568 - acc: 0.9767 - val_loss: 1.0076 - val_acc: 0.8302\n",
      "Epoch 337/500\n",
      "20115/20115 [==============================] - 3s 127us/step - loss: 0.0532 - acc: 0.9780 - val_loss: 1.0324 - val_acc: 0.8302\n",
      "Epoch 338/500\n"
     ]
    },
    {
     "name": "stdout",
     "output_type": "stream",
     "text": [
      "20115/20115 [==============================] - 3s 130us/step - loss: 0.0580 - acc: 0.9760 - val_loss: 0.9525 - val_acc: 0.8305\n",
      "Epoch 339/500\n",
      "20115/20115 [==============================] - 3s 132us/step - loss: 0.0559 - acc: 0.9766 - val_loss: 0.9190 - val_acc: 0.8378\n",
      "Epoch 340/500\n",
      "20115/20115 [==============================] - 3s 133us/step - loss: 0.0601 - acc: 0.9757 - val_loss: 0.9882 - val_acc: 0.8334\n",
      "Epoch 341/500\n",
      "20115/20115 [==============================] - 3s 141us/step - loss: 0.0632 - acc: 0.9752 - val_loss: 0.9476 - val_acc: 0.8315\n",
      "Epoch 342/500\n",
      "20115/20115 [==============================] - 2s 106us/step - loss: 0.0600 - acc: 0.9738 - val_loss: 0.9742 - val_acc: 0.8352\n",
      "Epoch 343/500\n",
      "20115/20115 [==============================] - 2s 107us/step - loss: 0.0557 - acc: 0.9773 - val_loss: 1.0207 - val_acc: 0.8355\n",
      "Epoch 344/500\n",
      "20115/20115 [==============================] - 2s 94us/step - loss: 0.0529 - acc: 0.9791 - val_loss: 1.1022 - val_acc: 0.8358\n",
      "Epoch 345/500\n",
      "20115/20115 [==============================] - 2s 91us/step - loss: 0.0554 - acc: 0.9776 - val_loss: 0.9980 - val_acc: 0.8325\n",
      "Epoch 346/500\n",
      "20115/20115 [==============================] - 311s 15ms/step - loss: 0.0509 - acc: 0.9787 - val_loss: 1.1552 - val_acc: 0.8322\n",
      "Epoch 347/500\n",
      "20115/20115 [==============================] - 2s 113us/step - loss: 0.0567 - acc: 0.9767 - val_loss: 1.0779 - val_acc: 0.8349\n",
      "Epoch 348/500\n",
      "20115/20115 [==============================] - 2s 116us/step - loss: 0.0510 - acc: 0.9788 - val_loss: 1.1166 - val_acc: 0.8330\n",
      "Epoch 349/500\n",
      "20115/20115 [==============================] - 2s 114us/step - loss: 0.0561 - acc: 0.9778 - val_loss: 1.1161 - val_acc: 0.8327\n",
      "Epoch 350/500\n",
      "20115/20115 [==============================] - 2s 108us/step - loss: 0.0547 - acc: 0.9769 - val_loss: 1.0526 - val_acc: 0.8312\n",
      "Epoch 351/500\n",
      "20115/20115 [==============================] - 2s 109us/step - loss: 0.0590 - acc: 0.9731 - val_loss: 0.9574 - val_acc: 0.8291\n",
      "Epoch 352/500\n",
      "20115/20115 [==============================] - 2s 108us/step - loss: 0.0522 - acc: 0.9774 - val_loss: 1.1766 - val_acc: 0.8257\n",
      "Epoch 353/500\n",
      "20115/20115 [==============================] - 2s 99us/step - loss: 0.0531 - acc: 0.9762 - val_loss: 1.1010 - val_acc: 0.8330\n",
      "Epoch 354/500\n",
      "20115/20115 [==============================] - 2s 97us/step - loss: 0.0481 - acc: 0.9797 - val_loss: 1.1249 - val_acc: 0.8319\n",
      "Epoch 355/500\n",
      "20115/20115 [==============================] - 2s 98us/step - loss: 0.0712 - acc: 0.9707 - val_loss: 1.0108 - val_acc: 0.8357\n",
      "Epoch 356/500\n",
      "20115/20115 [==============================] - 2s 98us/step - loss: 0.0498 - acc: 0.9793 - val_loss: 1.0344 - val_acc: 0.8367\n",
      "Epoch 357/500\n",
      "20115/20115 [==============================] - 2s 98us/step - loss: 0.0482 - acc: 0.9796 - val_loss: 1.0638 - val_acc: 0.8333\n",
      "Epoch 358/500\n",
      "20115/20115 [==============================] - 2s 98us/step - loss: 0.0490 - acc: 0.9797 - val_loss: 1.0542 - val_acc: 0.8328\n",
      "Epoch 359/500\n",
      "20115/20115 [==============================] - 2s 98us/step - loss: 0.0497 - acc: 0.9787 - val_loss: 1.0939 - val_acc: 0.8319\n",
      "Epoch 360/500\n",
      "20115/20115 [==============================] - 2s 98us/step - loss: 0.0452 - acc: 0.9809 - val_loss: 1.1012 - val_acc: 0.8361\n",
      "Epoch 361/500\n",
      "20115/20115 [==============================] - 2s 97us/step - loss: 0.0491 - acc: 0.9790 - val_loss: 1.0532 - val_acc: 0.8336\n",
      "Epoch 362/500\n",
      "20115/20115 [==============================] - 2s 98us/step - loss: 0.0467 - acc: 0.9799 - val_loss: 1.0942 - val_acc: 0.8337\n",
      "Epoch 363/500\n",
      "20115/20115 [==============================] - 2s 99us/step - loss: 0.0470 - acc: 0.9800 - val_loss: 1.1167 - val_acc: 0.8337\n",
      "Epoch 364/500\n",
      "20115/20115 [==============================] - 2s 101us/step - loss: 0.0559 - acc: 0.9770 - val_loss: 1.0745 - val_acc: 0.8303\n",
      "Epoch 365/500\n",
      "20115/20115 [==============================] - 2s 104us/step - loss: 0.0571 - acc: 0.9764 - val_loss: 1.0085 - val_acc: 0.8287\n",
      "Epoch 366/500\n",
      "20115/20115 [==============================] - 2s 98us/step - loss: 0.0433 - acc: 0.9821 - val_loss: 1.1607 - val_acc: 0.8313\n",
      "Epoch 367/500\n",
      "20115/20115 [==============================] - 2s 96us/step - loss: 0.0543 - acc: 0.9772 - val_loss: 1.0263 - val_acc: 0.8331\n",
      "Epoch 368/500\n",
      "20115/20115 [==============================] - 2s 100us/step - loss: 0.0512 - acc: 0.9790 - val_loss: 1.0593 - val_acc: 0.8293\n",
      "Epoch 369/500\n",
      "20115/20115 [==============================] - 2s 99us/step - loss: 0.0541 - acc: 0.9783 - val_loss: 1.1088 - val_acc: 0.8273\n",
      "Epoch 370/500\n",
      "20115/20115 [==============================] - 2s 97us/step - loss: 0.0539 - acc: 0.9774 - val_loss: 1.0207 - val_acc: 0.8318\n",
      "Epoch 371/500\n",
      "20115/20115 [==============================] - 2s 97us/step - loss: 0.0518 - acc: 0.9785 - val_loss: 0.8801 - val_acc: 0.8299\n",
      "Epoch 372/500\n",
      "20115/20115 [==============================] - 2s 98us/step - loss: 0.0471 - acc: 0.9793 - val_loss: 1.1983 - val_acc: 0.8340\n",
      "Epoch 373/500\n",
      "20115/20115 [==============================] - 2s 97us/step - loss: 0.0622 - acc: 0.9739 - val_loss: 0.9708 - val_acc: 0.8322\n",
      "Epoch 374/500\n",
      "20115/20115 [==============================] - 2s 96us/step - loss: 0.0523 - acc: 0.9784 - val_loss: 1.1536 - val_acc: 0.8328\n",
      "Epoch 375/500\n",
      "20115/20115 [==============================] - 2s 97us/step - loss: 0.0572 - acc: 0.9759 - val_loss: 1.0005 - val_acc: 0.8337\n",
      "Epoch 376/500\n",
      "20115/20115 [==============================] - 2s 97us/step - loss: 0.0484 - acc: 0.9788 - val_loss: 1.0450 - val_acc: 0.8369\n",
      "Epoch 377/500\n",
      "20115/20115 [==============================] - 2s 97us/step - loss: 0.0505 - acc: 0.9786 - val_loss: 1.0652 - val_acc: 0.8324\n",
      "Epoch 378/500\n",
      "20115/20115 [==============================] - 2s 97us/step - loss: 0.0429 - acc: 0.9809 - val_loss: 1.1806 - val_acc: 0.8305\n",
      "Epoch 379/500\n",
      "20115/20115 [==============================] - 2s 97us/step - loss: 0.0456 - acc: 0.9803 - val_loss: 1.1539 - val_acc: 0.8361\n",
      "Epoch 380/500\n",
      "20115/20115 [==============================] - 2s 97us/step - loss: 0.0443 - acc: 0.9802 - val_loss: 1.2157 - val_acc: 0.8272\n",
      "Epoch 381/500\n",
      "20115/20115 [==============================] - 2s 96us/step - loss: 0.0440 - acc: 0.9823 - val_loss: 1.1455 - val_acc: 0.8346\n",
      "Epoch 382/500\n",
      "20115/20115 [==============================] - 2s 98us/step - loss: 0.0501 - acc: 0.9777 - val_loss: 1.0437 - val_acc: 0.8381\n",
      "Epoch 383/500\n",
      "20115/20115 [==============================] - 2s 98us/step - loss: 0.0524 - acc: 0.9767 - val_loss: 1.1059 - val_acc: 0.8315\n",
      "Epoch 384/500\n",
      "20115/20115 [==============================] - 2s 97us/step - loss: 0.0504 - acc: 0.9790 - val_loss: 0.9721 - val_acc: 0.8357\n",
      "Epoch 385/500\n",
      "20115/20115 [==============================] - 2s 98us/step - loss: 0.0465 - acc: 0.9811 - val_loss: 1.0522 - val_acc: 0.8355\n",
      "Epoch 386/500\n",
      "20115/20115 [==============================] - 2s 98us/step - loss: 0.0490 - acc: 0.9792 - val_loss: 1.1143 - val_acc: 0.8300\n",
      "Epoch 387/500\n",
      "20115/20115 [==============================] - 2s 97us/step - loss: 0.0478 - acc: 0.9798 - val_loss: 1.1443 - val_acc: 0.8358\n",
      "Epoch 388/500\n",
      "20115/20115 [==============================] - 2s 100us/step - loss: 0.0480 - acc: 0.9799 - val_loss: 1.0457 - val_acc: 0.8312\n",
      "Epoch 389/500\n",
      "20115/20115 [==============================] - 2s 99us/step - loss: 0.0459 - acc: 0.9807 - val_loss: 1.0496 - val_acc: 0.8345\n",
      "Epoch 390/500\n",
      "20115/20115 [==============================] - 2s 97us/step - loss: 0.0442 - acc: 0.9824 - val_loss: 1.0455 - val_acc: 0.8354\n",
      "Epoch 391/500\n",
      "20115/20115 [==============================] - 2s 97us/step - loss: 0.0468 - acc: 0.9788 - val_loss: 1.1091 - val_acc: 0.8327\n",
      "Epoch 392/500\n",
      "20115/20115 [==============================] - 2s 97us/step - loss: 0.0587 - acc: 0.9761 - val_loss: 0.9333 - val_acc: 0.8391\n",
      "Epoch 393/500\n",
      "20115/20115 [==============================] - 2s 98us/step - loss: 0.0485 - acc: 0.9791 - val_loss: 1.0277 - val_acc: 0.8342\n",
      "Epoch 394/500\n",
      "20115/20115 [==============================] - 2s 98us/step - loss: 0.0506 - acc: 0.9786 - val_loss: 1.0785 - val_acc: 0.8349\n",
      "Epoch 395/500\n",
      "20115/20115 [==============================] - 2s 98us/step - loss: 0.0511 - acc: 0.9781 - val_loss: 1.1344 - val_acc: 0.8336\n",
      "Epoch 396/500\n",
      "20115/20115 [==============================] - 2s 99us/step - loss: 0.0487 - acc: 0.9792 - val_loss: 1.0448 - val_acc: 0.8294\n",
      "Epoch 397/500\n",
      "20115/20115 [==============================] - 2s 99us/step - loss: 0.0464 - acc: 0.9811 - val_loss: 1.1155 - val_acc: 0.8297\n",
      "Epoch 398/500\n",
      "20115/20115 [==============================] - 2s 98us/step - loss: 0.0465 - acc: 0.9791 - val_loss: 1.0930 - val_acc: 0.8346\n",
      "Epoch 399/500\n",
      "20115/20115 [==============================] - 2s 98us/step - loss: 0.0439 - acc: 0.9816 - val_loss: 1.0622 - val_acc: 0.8372\n",
      "Epoch 400/500\n",
      "20115/20115 [==============================] - 2s 100us/step - loss: 0.0469 - acc: 0.9811 - val_loss: 1.0277 - val_acc: 0.8336\n",
      "Epoch 401/500\n",
      "20115/20115 [==============================] - 2s 100us/step - loss: 0.0451 - acc: 0.9811 - val_loss: 1.0649 - val_acc: 0.8364\n",
      "Epoch 402/500\n",
      "20115/20115 [==============================] - 2s 100us/step - loss: 0.0474 - acc: 0.9809 - val_loss: 1.1129 - val_acc: 0.8352\n",
      "Epoch 403/500\n",
      "20115/20115 [==============================] - 2s 99us/step - loss: 0.0439 - acc: 0.9815 - val_loss: 1.1036 - val_acc: 0.8381\n",
      "Epoch 404/500\n",
      "20115/20115 [==============================] - 2s 100us/step - loss: 0.0514 - acc: 0.9792 - val_loss: 1.0578 - val_acc: 0.8395\n",
      "Epoch 405/500\n",
      "20115/20115 [==============================] - 2s 99us/step - loss: 0.0498 - acc: 0.9794 - val_loss: 1.0451 - val_acc: 0.8379\n",
      "Epoch 406/500\n",
      "20115/20115 [==============================] - 2s 100us/step - loss: 0.0467 - acc: 0.9814 - val_loss: 1.0256 - val_acc: 0.8369\n",
      "Epoch 407/500\n",
      "20115/20115 [==============================] - 2s 97us/step - loss: 0.0505 - acc: 0.9796 - val_loss: 1.0044 - val_acc: 0.8354\n",
      "Epoch 408/500\n",
      "20115/20115 [==============================] - 2s 98us/step - loss: 0.0414 - acc: 0.9828 - val_loss: 1.1371 - val_acc: 0.8397\n",
      "Epoch 409/500\n",
      "20115/20115 [==============================] - 2s 98us/step - loss: 0.0503 - acc: 0.9792 - val_loss: 1.1077 - val_acc: 0.8284\n",
      "Epoch 410/500\n",
      "20115/20115 [==============================] - 2s 98us/step - loss: 0.0450 - acc: 0.9821 - val_loss: 1.1520 - val_acc: 0.8340\n",
      "Epoch 411/500\n",
      "20115/20115 [==============================] - 2s 100us/step - loss: 0.0460 - acc: 0.9809 - val_loss: 1.1333 - val_acc: 0.8325\n",
      "Epoch 412/500\n",
      "20115/20115 [==============================] - 2s 99us/step - loss: 0.0490 - acc: 0.9795 - val_loss: 1.1205 - val_acc: 0.8336\n",
      "Epoch 413/500\n",
      "20115/20115 [==============================] - 2s 99us/step - loss: 0.0493 - acc: 0.9798 - val_loss: 1.0777 - val_acc: 0.8334\n",
      "Epoch 414/500\n",
      "20115/20115 [==============================] - 2s 98us/step - loss: 0.0554 - acc: 0.9770 - val_loss: 1.0285 - val_acc: 0.8358\n",
      "Epoch 415/500\n",
      "20115/20115 [==============================] - 2s 97us/step - loss: 0.0437 - acc: 0.9825 - val_loss: 1.1305 - val_acc: 0.8355\n",
      "Epoch 416/500\n",
      "20115/20115 [==============================] - 2s 98us/step - loss: 0.0437 - acc: 0.9822 - val_loss: 1.0677 - val_acc: 0.8321\n",
      "Epoch 417/500\n",
      "20115/20115 [==============================] - 2s 99us/step - loss: 0.0532 - acc: 0.9785 - val_loss: 0.8209 - val_acc: 0.8367\n",
      "Epoch 418/500\n",
      "20115/20115 [==============================] - 2s 99us/step - loss: 0.0486 - acc: 0.9794 - val_loss: 0.9968 - val_acc: 0.8349\n",
      "Epoch 419/500\n",
      "20115/20115 [==============================] - 2s 100us/step - loss: 0.0508 - acc: 0.9787 - val_loss: 0.9687 - val_acc: 0.8327\n",
      "Epoch 420/500\n",
      "20115/20115 [==============================] - 2s 98us/step - loss: 0.0465 - acc: 0.9800 - val_loss: 1.1019 - val_acc: 0.8318\n",
      "Epoch 421/500\n",
      "20115/20115 [==============================] - 2s 101us/step - loss: 0.0452 - acc: 0.9798 - val_loss: 1.0671 - val_acc: 0.8373\n",
      "Epoch 422/500\n",
      "20115/20115 [==============================] - 2s 104us/step - loss: 0.0419 - acc: 0.9820 - val_loss: 1.1838 - val_acc: 0.8364\n",
      "Epoch 423/500\n",
      "20115/20115 [==============================] - 2s 99us/step - loss: 0.0429 - acc: 0.9825 - val_loss: 1.0852 - val_acc: 0.8349\n",
      "Epoch 424/500\n",
      "20115/20115 [==============================] - 2s 97us/step - loss: 0.0464 - acc: 0.9798 - val_loss: 1.1910 - val_acc: 0.8322\n",
      "Epoch 425/500\n",
      "20115/20115 [==============================] - 2s 98us/step - loss: 0.0399 - acc: 0.9836 - val_loss: 1.1668 - val_acc: 0.8351\n",
      "Epoch 426/500\n",
      "20115/20115 [==============================] - 2s 97us/step - loss: 0.0435 - acc: 0.9826 - val_loss: 0.9987 - val_acc: 0.8346\n",
      "Epoch 427/500\n",
      "20115/20115 [==============================] - 2s 99us/step - loss: 0.0436 - acc: 0.9813 - val_loss: 1.1369 - val_acc: 0.8327\n",
      "Epoch 428/500\n",
      "20115/20115 [==============================] - 2s 97us/step - loss: 0.0407 - acc: 0.9829 - val_loss: 1.1947 - val_acc: 0.8285\n",
      "Epoch 429/500\n",
      "20115/20115 [==============================] - 2s 100us/step - loss: 0.0505 - acc: 0.9795 - val_loss: 1.1501 - val_acc: 0.8312\n",
      "Epoch 430/500\n",
      "20115/20115 [==============================] - 2s 98us/step - loss: 0.0475 - acc: 0.9800 - val_loss: 1.0532 - val_acc: 0.8305\n",
      "Epoch 431/500\n",
      "20115/20115 [==============================] - 2s 98us/step - loss: 0.0474 - acc: 0.9805 - val_loss: 1.1134 - val_acc: 0.8330\n",
      "Epoch 432/500\n",
      "20115/20115 [==============================] - 2s 99us/step - loss: 0.0453 - acc: 0.9814 - val_loss: 0.9796 - val_acc: 0.8318\n",
      "Epoch 433/500\n",
      "20115/20115 [==============================] - 2s 97us/step - loss: 0.0440 - acc: 0.9823 - val_loss: 1.0684 - val_acc: 0.8331\n",
      "Epoch 434/500\n",
      "20115/20115 [==============================] - 2s 99us/step - loss: 0.0485 - acc: 0.9799 - val_loss: 1.1541 - val_acc: 0.8322\n",
      "Epoch 435/500\n",
      "20115/20115 [==============================] - 2s 97us/step - loss: 0.0428 - acc: 0.9826 - val_loss: 1.1202 - val_acc: 0.8360\n",
      "Epoch 436/500\n",
      "20115/20115 [==============================] - 2s 97us/step - loss: 0.0414 - acc: 0.9822 - val_loss: 1.1963 - val_acc: 0.8345\n",
      "Epoch 437/500\n",
      "20115/20115 [==============================] - 2s 99us/step - loss: 0.0405 - acc: 0.9823 - val_loss: 1.2654 - val_acc: 0.8342\n",
      "Epoch 438/500\n",
      "20115/20115 [==============================] - 2s 98us/step - loss: 0.0454 - acc: 0.9812 - val_loss: 1.1376 - val_acc: 0.8306\n",
      "Epoch 439/500\n",
      "20115/20115 [==============================] - 2s 97us/step - loss: 0.0462 - acc: 0.9815 - val_loss: 1.0925 - val_acc: 0.8357\n",
      "Epoch 440/500\n",
      "20115/20115 [==============================] - 2s 103us/step - loss: 0.0452 - acc: 0.9822 - val_loss: 1.1127 - val_acc: 0.8352\n",
      "Epoch 441/500\n",
      "20115/20115 [==============================] - 2s 106us/step - loss: 0.0412 - acc: 0.9834 - val_loss: 1.1802 - val_acc: 0.8384\n",
      "Epoch 442/500\n",
      "20115/20115 [==============================] - 2s 102us/step - loss: 0.0455 - acc: 0.9812 - val_loss: 1.0962 - val_acc: 0.8342\n",
      "Epoch 443/500\n",
      "20115/20115 [==============================] - 2s 101us/step - loss: 0.0436 - acc: 0.9824 - val_loss: 1.1678 - val_acc: 0.8345\n",
      "Epoch 444/500\n",
      "20115/20115 [==============================] - 2s 99us/step - loss: 0.0445 - acc: 0.9810 - val_loss: 1.1333 - val_acc: 0.8355\n",
      "Epoch 445/500\n",
      "20115/20115 [==============================] - 2s 97us/step - loss: 0.0375 - acc: 0.9843 - val_loss: 1.2589 - val_acc: 0.8316\n",
      "Epoch 446/500\n",
      "20115/20115 [==============================] - 2s 98us/step - loss: 0.0586 - acc: 0.9781 - val_loss: 1.0760 - val_acc: 0.8307\n",
      "Epoch 447/500\n",
      "20115/20115 [==============================] - 2s 100us/step - loss: 0.0468 - acc: 0.9809 - val_loss: 1.0352 - val_acc: 0.8333\n",
      "Epoch 448/500\n",
      "20115/20115 [==============================] - 2s 98us/step - loss: 0.0446 - acc: 0.9822 - val_loss: 1.1019 - val_acc: 0.8388\n",
      "Epoch 449/500\n",
      "20115/20115 [==============================] - 2s 98us/step - loss: 0.0500 - acc: 0.9800 - val_loss: 1.1104 - val_acc: 0.8372\n",
      "Epoch 450/500\n",
      "20115/20115 [==============================] - 2s 99us/step - loss: 0.0408 - acc: 0.9833 - val_loss: 1.1114 - val_acc: 0.8325\n",
      "Epoch 451/500\n",
      "20115/20115 [==============================] - 2s 97us/step - loss: 0.0474 - acc: 0.9808 - val_loss: 1.0828 - val_acc: 0.8330\n",
      "Epoch 452/500\n",
      "20115/20115 [==============================] - 2s 95us/step - loss: 0.0407 - acc: 0.9827 - val_loss: 1.2541 - val_acc: 0.8325\n",
      "Epoch 453/500\n",
      "20115/20115 [==============================] - 2s 98us/step - loss: 0.0448 - acc: 0.9824 - val_loss: 1.1254 - val_acc: 0.8355\n",
      "Epoch 454/500\n"
     ]
    },
    {
     "name": "stdout",
     "output_type": "stream",
     "text": [
      "20115/20115 [==============================] - 2s 99us/step - loss: 0.0434 - acc: 0.9816 - val_loss: 1.1001 - val_acc: 0.8324\n",
      "Epoch 455/500\n",
      "20115/20115 [==============================] - 2s 100us/step - loss: 0.0449 - acc: 0.9817 - val_loss: 1.1506 - val_acc: 0.8331\n",
      "Epoch 456/500\n",
      "20115/20115 [==============================] - 2s 98us/step - loss: 0.0477 - acc: 0.9826 - val_loss: 0.9619 - val_acc: 0.8364\n",
      "Epoch 457/500\n",
      "20115/20115 [==============================] - 2s 96us/step - loss: 0.0411 - acc: 0.9841 - val_loss: 0.9383 - val_acc: 0.8379\n",
      "Epoch 458/500\n",
      "20115/20115 [==============================] - 2s 100us/step - loss: 0.0443 - acc: 0.9821 - val_loss: 1.0731 - val_acc: 0.8345\n",
      "Epoch 459/500\n",
      "20115/20115 [==============================] - 2s 97us/step - loss: 0.0401 - acc: 0.9839 - val_loss: 1.1507 - val_acc: 0.8305\n",
      "Epoch 460/500\n",
      "20115/20115 [==============================] - 2s 97us/step - loss: 0.0409 - acc: 0.9830 - val_loss: 1.1514 - val_acc: 0.8345\n",
      "Epoch 461/500\n",
      "20115/20115 [==============================] - 2s 96us/step - loss: 0.0469 - acc: 0.9822 - val_loss: 1.0056 - val_acc: 0.8385\n",
      "Epoch 462/500\n",
      "20115/20115 [==============================] - 2s 98us/step - loss: 0.0476 - acc: 0.9809 - val_loss: 0.9023 - val_acc: 0.8310\n",
      "Epoch 463/500\n",
      "20115/20115 [==============================] - 2s 98us/step - loss: 0.0510 - acc: 0.9796 - val_loss: 1.0047 - val_acc: 0.8379\n",
      "Epoch 464/500\n",
      "20115/20115 [==============================] - 2s 99us/step - loss: 0.0383 - acc: 0.9840 - val_loss: 1.1343 - val_acc: 0.8366\n",
      "Epoch 465/500\n",
      "20115/20115 [==============================] - 2s 99us/step - loss: 0.0402 - acc: 0.9835 - val_loss: 1.0869 - val_acc: 0.8369\n",
      "Epoch 466/500\n",
      "20115/20115 [==============================] - 2s 99us/step - loss: 0.0399 - acc: 0.9834 - val_loss: 1.1334 - val_acc: 0.8336\n",
      "Epoch 467/500\n",
      "20115/20115 [==============================] - 2s 98us/step - loss: 0.0408 - acc: 0.9828 - val_loss: 1.1108 - val_acc: 0.8342\n",
      "Epoch 468/500\n",
      "20115/20115 [==============================] - 2s 97us/step - loss: 0.0483 - acc: 0.9804 - val_loss: 0.9905 - val_acc: 0.8345\n",
      "Epoch 469/500\n",
      "20115/20115 [==============================] - 2s 99us/step - loss: 0.0387 - acc: 0.9833 - val_loss: 1.1741 - val_acc: 0.8339\n",
      "Epoch 470/500\n",
      "20115/20115 [==============================] - 2s 100us/step - loss: 0.0437 - acc: 0.9828 - val_loss: 1.1085 - val_acc: 0.8319\n",
      "Epoch 471/500\n",
      "20115/20115 [==============================] - 2s 102us/step - loss: 0.0388 - acc: 0.9841 - val_loss: 1.1059 - val_acc: 0.8363\n",
      "Epoch 472/500\n",
      "20115/20115 [==============================] - 2s 100us/step - loss: 0.0569 - acc: 0.9773 - val_loss: 0.9754 - val_acc: 0.8395\n",
      "Epoch 473/500\n",
      "20115/20115 [==============================] - 2s 99us/step - loss: 0.0421 - acc: 0.9831 - val_loss: 0.9899 - val_acc: 0.8319\n",
      "Epoch 474/500\n",
      "20115/20115 [==============================] - 2s 99us/step - loss: 0.0448 - acc: 0.9828 - val_loss: 0.9448 - val_acc: 0.8345\n",
      "Epoch 475/500\n",
      "20115/20115 [==============================] - 2s 98us/step - loss: 0.0415 - acc: 0.9826 - val_loss: 1.1872 - val_acc: 0.8376\n",
      "Epoch 476/500\n",
      "20115/20115 [==============================] - 2s 101us/step - loss: 0.0405 - acc: 0.9845 - val_loss: 1.1131 - val_acc: 0.8312\n",
      "Epoch 477/500\n",
      "20115/20115 [==============================] - 2s 97us/step - loss: 0.0504 - acc: 0.9801 - val_loss: 1.0504 - val_acc: 0.8331\n",
      "Epoch 478/500\n",
      "20115/20115 [==============================] - 2s 96us/step - loss: 0.0446 - acc: 0.9824 - val_loss: 1.0307 - val_acc: 0.8360\n",
      "Epoch 479/500\n",
      "20115/20115 [==============================] - 2s 103us/step - loss: 0.0530 - acc: 0.9788 - val_loss: 0.9794 - val_acc: 0.8379\n",
      "Epoch 480/500\n",
      "20115/20115 [==============================] - 2s 99us/step - loss: 0.0422 - acc: 0.9828 - val_loss: 1.0227 - val_acc: 0.8318\n",
      "Epoch 481/500\n",
      "20115/20115 [==============================] - 2s 99us/step - loss: 0.0503 - acc: 0.9800 - val_loss: 0.9840 - val_acc: 0.8346\n",
      "Epoch 482/500\n",
      "20115/20115 [==============================] - 2s 99us/step - loss: 0.0459 - acc: 0.9812 - val_loss: 0.9685 - val_acc: 0.8366\n",
      "Epoch 483/500\n",
      "20115/20115 [==============================] - 2s 100us/step - loss: 0.0400 - acc: 0.9833 - val_loss: 1.0990 - val_acc: 0.8385\n",
      "Epoch 484/500\n",
      "20115/20115 [==============================] - 2s 100us/step - loss: 0.0425 - acc: 0.9824 - val_loss: 1.1031 - val_acc: 0.8372\n",
      "Epoch 485/500\n",
      "20115/20115 [==============================] - 2s 106us/step - loss: 0.0401 - acc: 0.9828 - val_loss: 1.1094 - val_acc: 0.8409\n",
      "Epoch 486/500\n",
      "20115/20115 [==============================] - 2s 106us/step - loss: 0.0372 - acc: 0.9849 - val_loss: 1.1486 - val_acc: 0.8387\n",
      "Epoch 487/500\n",
      "20115/20115 [==============================] - 2s 101us/step - loss: 0.0369 - acc: 0.9845 - val_loss: 1.1346 - val_acc: 0.8372\n",
      "Epoch 488/500\n",
      "20115/20115 [==============================] - 2s 92us/step - loss: 0.0397 - acc: 0.9842 - val_loss: 1.1423 - val_acc: 0.8373\n",
      "Epoch 489/500\n",
      "20115/20115 [==============================] - 2s 101us/step - loss: 0.0374 - acc: 0.9846 - val_loss: 1.1279 - val_acc: 0.8391\n",
      "Epoch 490/500\n",
      "20115/20115 [==============================] - 2s 98us/step - loss: 0.0348 - acc: 0.9851 - val_loss: 1.1299 - val_acc: 0.8363\n",
      "Epoch 491/500\n",
      "20115/20115 [==============================] - 2s 99us/step - loss: 0.0372 - acc: 0.9843 - val_loss: 1.1722 - val_acc: 0.8415\n",
      "Epoch 492/500\n",
      "20115/20115 [==============================] - 2s 99us/step - loss: 0.0390 - acc: 0.9844 - val_loss: 1.0747 - val_acc: 0.8385\n",
      "Epoch 493/500\n",
      "20115/20115 [==============================] - 2s 96us/step - loss: 0.0457 - acc: 0.9810 - val_loss: 1.0694 - val_acc: 0.8388\n",
      "Epoch 494/500\n",
      "20115/20115 [==============================] - 2s 97us/step - loss: 0.0376 - acc: 0.9844 - val_loss: 1.1869 - val_acc: 0.8387\n",
      "Epoch 495/500\n",
      "20115/20115 [==============================] - 2s 99us/step - loss: 0.0393 - acc: 0.9844 - val_loss: 1.0412 - val_acc: 0.8387\n",
      "Epoch 496/500\n",
      "20115/20115 [==============================] - 2s 98us/step - loss: 0.0422 - acc: 0.9829 - val_loss: 1.1367 - val_acc: 0.8387\n",
      "Epoch 497/500\n",
      "20115/20115 [==============================] - 2s 99us/step - loss: 0.0498 - acc: 0.9801 - val_loss: 1.0582 - val_acc: 0.8343\n",
      "Epoch 498/500\n",
      "20115/20115 [==============================] - 2s 97us/step - loss: 0.0426 - acc: 0.9827 - val_loss: 1.0866 - val_acc: 0.8400\n",
      "Epoch 499/500\n",
      "20115/20115 [==============================] - 2s 97us/step - loss: 0.0350 - acc: 0.9852 - val_loss: 1.1970 - val_acc: 0.8342\n",
      "Epoch 500/500\n",
      "20115/20115 [==============================] - 2s 98us/step - loss: 0.0392 - acc: 0.9836 - val_loss: 1.1718 - val_acc: 0.8360\n",
      "2981/2981 [==============================] - 0s 75us/step\n",
      "\n",
      "acc: 83.26%\n"
     ]
    }
   ],
   "source": [
    "## neural network\n",
    "epochs = 500\n",
    "batch_size = 128\n",
    "dropout_rate = 0.4\n",
    "model1 = model_NN(X_train_nn.shape[1],dropout_rate)\n",
    "print(model1.summary())\n",
    "model1 = train_NN(model1,X_train_nn,y_train_nn,epochs,batch_size)\n",
    "eval_NN(model1,X_test_nn,y_test_nn)"
   ]
  },
  {
   "cell_type": "code",
   "execution_count": 241,
   "metadata": {
    "scrolled": false
   },
   "outputs": [
    {
     "data": {
      "image/png": "[encoded data removed]",
      "text/plain": [
       "<Figure size 432x288 with 1 Axes>"
      ]
     },
     "metadata": {},
     "output_type": "display_data"
    },
    {
     "data": {
      "image/png": "[encoded data removed]",
      "text/plain": [
       "<Figure size 432x288 with 1 Axes>"
      ]
     },
     "metadata": {},
     "output_type": "display_data"
    }
   ],
   "source": [
    "plotgraphs(model1.model.history)"
   ]
  },
  {
   "cell_type": "code",
   "execution_count": 249,
   "metadata": {
    "scrolled": false
   },
   "outputs": [
    {
     "data": {
      "image/png": "[encoded data removed]",
      "text/plain": [
       "<Figure size 432x288 with 1 Axes>"
      ]
     },
     "metadata": {},
     "output_type": "display_data"
    },
    {
     "data": {
      "image/png": "[encoded data removed]",
      "text/plain": [
       "<Figure size 432x288 with 1 Axes>"
      ]
     },
     "metadata": {},
     "output_type": "display_data"
    },
    {
     "data": {
      "image/png": "[encoded data removed]",
      "text/plain": [
       "<Figure size 432x288 with 1 Axes>"
      ]
     },
     "metadata": {},
     "output_type": "display_data"
    },
    {
     "name": "stdout",
     "output_type": "stream",
     "text": [
      "Saved model to disk\n"
     ]
    }
   ],
   "source": [
    "#Total params: 251,401\n",
    "#cv score - 83.26%\n",
    "plotgraphs(model1.model.history)\n",
    "y_pred_nn = model1.predict(X_test_nn)\n",
    "False_Pos_Rate,True_Pos_Rate,ROC_CURVE = roccurve(y_pred_nn,y_test_nn)\n",
    "plotroc(False_Pos_Rate,True_Pos_Rate,ROC_CURVE,'Receiver operating characteristic for Model - NN')\n",
    "yaml_filename = 'model1_500.yaml'\n",
    "hd5_filename= 'model1_500.hd5'\n",
    "savemodel(model1,yaml_filename,hd5_filename)"
   ]
  },
  {
   "cell_type": "code",
   "execution_count": null,
   "metadata": {},
   "outputs": [],
   "source": []
  },
  {
   "cell_type": "code",
   "execution_count": 262,
   "metadata": {},
   "outputs": [
    {
     "data": {
      "text/plain": [
       "(26821, 521)"
      ]
     },
     "execution_count": 262,
     "metadata": {},
     "output_type": "execute_result"
    }
   ],
   "source": [
    "X_train_nn.shape"
   ]
  },
  {
   "cell_type": "code",
   "execution_count": 269,
   "metadata": {
    "scrolled": true
   },
   "outputs": [
    {
     "name": "stdout",
     "output_type": "stream",
     "text": [
      "_________________________________________________________________\n",
      "Layer (type)                 Output Shape              Param #   \n",
      "=================================================================\n",
      "dense_157 (Dense)            (None, 300)               156600    \n",
      "_________________________________________________________________\n",
      "dense_158 (Dense)            (None, 200)               60200     \n",
      "_________________________________________________________________\n",
      "dense_159 (Dense)            (None, 100)               20100     \n",
      "_________________________________________________________________\n",
      "dense_160 (Dense)            (None, 80)                8080      \n",
      "_________________________________________________________________\n",
      "dense_161 (Dense)            (None, 50)                4050      \n",
      "_________________________________________________________________\n",
      "dense_162 (Dense)            (None, 30)                1530      \n",
      "_________________________________________________________________\n",
      "dense_163 (Dense)            (None, 20)                620       \n",
      "_________________________________________________________________\n",
      "dense_164 (Dense)            (None, 10)                210       \n",
      "_________________________________________________________________\n",
      "dense_165 (Dense)            (None, 1)                 11        \n",
      "=================================================================\n",
      "Total params: 251,401\n",
      "Trainable params: 251,401\n",
      "Non-trainable params: 0\n",
      "_________________________________________________________________\n",
      "None\n",
      "2981/2981 [==============================] - 0s 66us/step\n",
      "\n",
      "acc: 79.10%\n"
     ]
    }
   ],
   "source": [
    "## neural network\n",
    "epochs = 400\n",
    "batch_size = 256\n",
    "learning_rate = 0.1\n",
    "momentum  = 0.7\n",
    "decay_rate = learning_rate / epochs\n",
    "model2 = model_NN2(X_train_nn.shape[1],learning_rate,momentum,decay_rate)\n",
    "print(model2.summary())\n",
    "model2 = train_NN(model2,X_train_nn,y_train_nn,epochs,batch_size)\n",
    "eval_NN(model2,X_test_nn,y_test_nn)\n"
   ]
  },
  {
   "cell_type": "code",
   "execution_count": 270,
   "metadata": {},
   "outputs": [
    {
     "data": {
      "image/png": "[encoded data removed]",
      "text/plain": [
       "<Figure size 432x288 with 1 Axes>"
      ]
     },
     "metadata": {},
     "output_type": "display_data"
    },
    {
     "data": {
      "image/png": "[encoded data removed]",
      "text/plain": [
       "<Figure size 432x288 with 1 Axes>"
      ]
     },
     "metadata": {},
     "output_type": "display_data"
    },
    {
     "data": {
      "image/png": "[encoded data removed]",
      "text/plain": [
       "<Figure size 432x288 with 1 Axes>"
      ]
     },
     "metadata": {},
     "output_type": "display_data"
    }
   ],
   "source": [
    "#post training ...\n",
    "plotgraphs(model2.model.history)\n",
    "y_pred_nn = model2.predict(X_test_nn)\n",
    "False_Pos_Rate,True_Pos_Rate,ROC_CURVE = roccurve(y_pred_nn,y_test_nn)\n",
    "plotroc(False_Pos_Rate,True_Pos_Rate,ROC_CURVE,'Receiver operating characteristic for Model - SGD NN')\n",
    "yaml_filename = 'model2_500.yaml'\n",
    "hd5_filename= 'model2_500.hd5'\n",
    "#savemodel(model1,yaml_filename,hd5_filename)"
   ]
  },
  {
   "cell_type": "code",
   "execution_count": 272,
   "metadata": {},
   "outputs": [],
   "source": [
    "#XGBOOST"
   ]
  },
  {
   "cell_type": "code",
   "execution_count": null,
   "metadata": {},
   "outputs": [],
   "source": []
  },
  {
   "cell_type": "code",
   "execution_count": 61,
   "metadata": {},
   "outputs": [
    {
     "name": "stdout",
     "output_type": "stream",
     "text": [
      "\n",
      "Model Report\n",
      "Accuracy : 0.8396\n",
      "AUC Score (Test): 0.911119\n"
     ]
    },
    {
     "data": {
      "image/png": "[encoded data removed]",
      "text/plain": [
       "<Figure size 1080x720 with 1 Axes>"
      ]
     },
     "metadata": {},
     "output_type": "display_data"
    }
   ],
   "source": [
    "\n",
    "#Choose all predictors except target & IDcols\n",
    "\n",
    "xgb1 = XGBClassifier(\n",
    " learning_rate =0.1,\n",
    " n_estimators=1000,\n",
    " max_depth=5,\n",
    " min_child_weight=1,\n",
    " gamma=0,\n",
    " subsample=0.8,\n",
    " colsample_bytree=0.8,\n",
    " objective= 'binary:logistic',\n",
    " nthread=4,\n",
    " scale_pos_weight=1,\n",
    " seed=27)\n",
    "xgmodel1 = modelfit(xgb1,X1_train_norm, y1_train_norm)\n",
    "xgeval(xgmodel1,X1_test_norm,y1_test_norm)"
   ]
  },
  {
   "cell_type": "code",
   "execution_count": 62,
   "metadata": {},
   "outputs": [
    {
     "name": "stdout",
     "output_type": "stream",
     "text": [
      "\n",
      "Model Report\n",
      "Accuracy : 0.8413\n",
      "AUC Score (Test): 0.911550\n"
     ]
    },
    {
     "data": {
      "image/png": "[encoded data removed]",
      "text/plain": [
       "<Figure size 1080x720 with 1 Axes>"
      ]
     },
     "metadata": {},
     "output_type": "display_data"
    }
   ],
   "source": [
    "#Choose all predictors except target & IDcols\n",
    "\n",
    "xgb2 = XGBClassifier(\n",
    " learning_rate =0.1,\n",
    " n_estimators=1000,\n",
    " max_depth=5,\n",
    " min_child_weight=1,\n",
    " gamma=0,\n",
    " subsample=0.8,\n",
    " colsample_bytree=0.8,\n",
    " objective= 'binary:logistic',\n",
    " nthread=4,\n",
    " scale_pos_weight=1,\n",
    " seed=27)\n",
    "xgmodel2 = modelfit(xgb2,X2_train_norm, y2_train_norm)\n",
    "xgeval(xgmodel2,X2_test_norm,y2_test_norm)"
   ]
  },
  {
   "cell_type": "markdown",
   "metadata": {},
   "source": [
    "## function definitions"
   ]
  },
  {
   "cell_type": "code",
   "execution_count": 46,
   "metadata": {},
   "outputs": [],
   "source": [
    "def roccurve(y_score,y_test):\n",
    "    # Compute ROC curve and ROC area for each class\n",
    "    fpr = dict()\n",
    "    tpr = dict()\n",
    "    roc_auc = dict()\n",
    "    fpr, tpr, _ = roc_curve(y_test, y_score)\n",
    "    roc_auc = auc(fpr, tpr)\n",
    "\n",
    "    # Compute micro-average ROC curve and ROC area\n",
    "    return fpr,tpr,roc_auc\n",
    "\n",
    "def plotroc(fpr,tpr,roc_auc,model_text):\n",
    "    plt.figure()\n",
    "    lw = 2\n",
    "    plt.plot(fpr, tpr, color='darkorange',\n",
    "             lw=lw, label='ROC curve (area = %0.2f)' % roc_auc)\n",
    "    plt.plot([0, 1], [0, 1], color='navy', lw=lw, linestyle='--')\n",
    "    plt.xlim([0.0, 1.0])\n",
    "    plt.ylim([0.0, 1.05])\n",
    "    plt.xlabel('False Positive Rate')\n",
    "    plt.ylabel('True Positive Rate')\n",
    "    plt.title(model_text)\n",
    "    plt.legend(loc=\"lower right\")\n",
    "    plt.show()"
   ]
  },
  {
   "cell_type": "code",
   "execution_count": 47,
   "metadata": {},
   "outputs": [],
   "source": [
    "def confusionmatrix(y_test,y_pred):\n",
    "    return classification_report(y_test, y_pred)"
   ]
  },
  {
   "cell_type": "code",
   "execution_count": 48,
   "metadata": {},
   "outputs": [],
   "source": [
    "def model_NN(input_shape,dropout_rate):\n",
    "    \n",
    "    # create model\n",
    "    model = Sequential()\n",
    "    model.add(Dense(300, input_dim=input_shape, activation='relu'))\n",
    "    model.add(Dense(200, activation='relu'))\n",
    "    model.add(Dense(100, activation='relu'))\n",
    "    #model.add(Dropout(dropout_rate))\n",
    "    model.add(Dense(80, activation='relu'))\n",
    "    model.add(Dense(50, activation='relu'))\n",
    "    #model.add(Dropout(dropout_rate))\n",
    "    model.add(Dense(30, activation='relu'))\n",
    "    model.add(Dense(20, activation='relu'))\n",
    "    #model.add(Dropout(dropout_rate))\n",
    "    model.add(Dense(10, activation='relu'))\n",
    "    model.add(Dense(1, activation='sigmoid'))\n",
    "    model.compile(loss='binary_crossentropy', optimizer='adam', metrics=['accuracy'])\n",
    "    return model\n",
    "def model_NN2(input_shape,learn_rate,momentum,decay_rate):\n",
    "    \n",
    "    # create model with stochastic gradient descent optimizer\n",
    "    model = Sequential()\n",
    "    model.add(Dense(300, input_dim=input_shape, activation='relu'))\n",
    "    model.add(Dense(200, activation='relu'))\n",
    "    model.add(Dense(100, activation='relu'))\n",
    "    #model.add(Dropout(dropout_rate))\n",
    "    model.add(Dense(80, activation='relu'))\n",
    "    model.add(Dense(50, activation='relu'))\n",
    "    #model.add(Dropout(dropout_rate))\n",
    "    model.add(Dense(30, activation='relu'))\n",
    "    model.add(Dense(20, activation='relu'))\n",
    "    #model.add(Dropout(dropout_rate))\n",
    "    model.add(Dense(10, activation='relu'))\n",
    "    model.add(Dense(1, activation='sigmoid'))\n",
    "    optimizer = SGD(lr=learn_rate, momentum=momentum,decay=decay_rate)\n",
    "    model.compile(loss='binary_crossentropy', optimizer=optimizer, metrics=['accuracy'])\n",
    "    return model\n",
    "    \n",
    "def train_NN(model,X_train,y_train,epochs,batch_size):\n",
    "    model.fit(X_train, y_train, epochs=epochs, batch_size=batch_size,validation_split=0.25,verbose=0)\n",
    "    return model\n",
    "\n",
    "def eval_NN(model,X_test,y_test):\n",
    "    # evaluate the model\n",
    "    scores = model.evaluate(X_test, y_test)\n",
    "    print(\"\\n%s: %.2f%%\" % (model.metrics_names[1], scores[1]*100))\n",
    "\n",
    "def plotgraphs(model):\n",
    "    # list all data in history\n",
    "#    print(model.model.keys())\n",
    "    # summarize history for accuracy\n",
    "    plt.plot(model.history['acc'])\n",
    "    plt.plot(model.history['val_acc'])\n",
    "    plt.title('model accuracy')\n",
    "    plt.ylabel('accuracy')\n",
    "    plt.xlabel('epoch')\n",
    "    plt.legend(['train', 'test'], loc='upper left')\n",
    "    plt.show()\n",
    "    # summarize history for loss\n",
    "    plt.plot(model.history['loss'])\n",
    "    plt.plot(model.history['val_loss'])\n",
    "    plt.title('model loss')\n",
    "    plt.ylabel('loss')\n",
    "    plt.xlabel('epoch')\n",
    "    plt.legend(['train', 'test'], loc='upper left')\n",
    "    plt.show()\n",
    "    \n",
    "def savemodel(model,yaml_filename,hd5_filename):\n",
    "    # serialize model to YAML\n",
    "    model_yaml = model.to_yaml()\n",
    "    with open(yaml_filename, \"w\") as yaml_file:\n",
    "        yaml_file.write(model_yaml)\n",
    "    # serialize weights to HDF5\n",
    "    model.save_weights(hd5_filename)\n",
    "    print(\"Saved model to disk\")"
   ]
  },
  {
   "cell_type": "code",
   "execution_count": 49,
   "metadata": {},
   "outputs": [],
   "source": [
    "def modelfit(alg, dtrain, predictors,useTrainCV=True, cv_folds=5, early_stopping_rounds=50):\n",
    "    \n",
    "    if useTrainCV:\n",
    "        xgb_param = alg.get_xgb_params()\n",
    "        xgtrain = xgb.DMatrix(dtrain.values, label=predictors)\n",
    "        cvresult = xgb.cv(xgb_param, xgtrain, num_boost_round=alg.get_params()['n_estimators'], nfold=cv_folds,\n",
    "            metrics='auc', early_stopping_rounds=early_stopping_rounds)\n",
    "        alg.set_params(n_estimators=cvresult.shape[0])\n",
    "    \n",
    "    #Fit the algorithm on the data\n",
    "    alg.fit(dtrain,predictors,eval_metric='auc')\n",
    "    feat_imp = pd.Series(alg.booster().get_fscore()).sort_values(ascending=False)\n",
    "    feat_imp[:40].plot(kind='bar', title='Feature Importances',figsize=(15,10))\n",
    "    plt.ylabel('Top 40 Feature Importance Score')\n",
    "    plt.xticks(fontsize=10)\n",
    "    return alg\n",
    "def xgeval(alg,dtest,predictors):       \n",
    "    #Predict training set:\n",
    "    dtest_predictions = alg.predict(dtest)\n",
    "    dtest_predprob = alg.predict_proba(dtest)[:,1]        \n",
    "    #Print model report:\n",
    "    print(\"\\nModel Report\")\n",
    "    print(\"Accuracy : %.4g\" % metrics.accuracy_score(predictors, dtest_predictions))\n",
    "    print(\"AUC Score (Test): %f\" % metrics.roc_auc_score(predictors, dtest_predprob))\n",
    "                    \n"
   ]
  },
  {
   "cell_type": "code",
   "execution_count": null,
   "metadata": {},
   "outputs": [],
   "source": []
  }
 ],
 "metadata": {
  "kernelspec": {
   "display_name": "Python 3",
   "language": "python",
   "name": "python3"
  },
  "language_info": {
   "codemirror_mode": {
    "name": "ipython",
    "version": 3
   },
   "file_extension": ".py",
   "mimetype": "text/x-python",
   "name": "python",
   "nbconvert_exporter": "python",
   "pygments_lexer": "ipython3",
   "version": "3.5.4"
  }
 },
 "nbformat": 4,
 "nbformat_minor": 2
}
