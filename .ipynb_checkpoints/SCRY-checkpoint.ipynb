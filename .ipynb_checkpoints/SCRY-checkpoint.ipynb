{
 "cells": [
  {
   "cell_type": "code",
   "execution_count": 691,
   "metadata": {},
   "outputs": [],
   "source": [
    "import numpy as np\n",
    "import pandas as pd \n",
    "import seaborn as sns\n",
    "from sklearn import preprocessing\n",
    "from sklearn import model_selection\n",
    "from matplotlib import pyplot as plt\n",
    "from sklearn import linear_model,decomposition\n",
    "from sklearn.pipeline import Pipeline\n",
    "from sklearn.metrics import classification_report\n",
    "from sklearn.ensemble import RandomForestClassifier\n",
    "from sklearn import metrics\n",
    "from sklearn.metrics import roc_curve,auc\n",
    "from sklearn.feature_selection import RFE\n",
    "from sklearn import svm\n",
    "from keras.models import Sequential \n",
    "from keras.optimizers import SGD\n",
    "from keras.layers import Dense , Dropout\n",
    "from keras.wrappers.scikit_learn import KerasClassifier\n",
    "from keras.utils import np_utils\n",
    "import pickle\n",
    "import datetime\n",
    "import xgboost as xgb\n",
    "from xgboost.sklearn import XGBClassifier\n",
    "%matplotlib inline"
   ]
  },
  {
   "cell_type": "code",
   "execution_count": 2,
   "metadata": {},
   "outputs": [],
   "source": [
    "df1 = pd.read_csv('Final_Development set_With corrected dates and errors_Dimension1.csv',delimiter=';')\n",
    "df2 = pd.read_csv('Final_Development set_With corrected dates and errors_Dimension2.csv',delimiter=';')\n",
    "\n",
    "#remove duplicate rows in both dataframe caused during data extraction\n",
    "df2 = df2.drop_duplicates()\n",
    "df1 = df1.drop_duplicates()"
   ]
  },
  {
   "cell_type": "code",
   "execution_count": 361,
   "metadata": {},
   "outputs": [],
   "source": [
    "tf1 = pd.read_csv(r'Test_data_sets_Without_labels_Final/test_dim_1_Without labels_Final.csv',delimiter=';').drop_duplicates()\n",
    "tf2 = pd.read_csv(r'Test_data_sets_Without_labels_Final/test_dim_2_Without labels_Final.csv',delimiter=';').drop_duplicates()"
   ]
  },
  {
   "cell_type": "code",
   "execution_count": 452,
   "metadata": {},
   "outputs": [
    {
     "name": "stdout",
     "output_type": "stream",
     "text": [
      "<class 'pandas.core.frame.DataFrame'>\n",
      "Int64Index: 18187 entries, 0 to 18186\n",
      "Data columns (total 10 columns):\n",
      "ga_dateHourMinute                    18187 non-null int64\n",
      "ga_sessionDurationBucket             18187 non-null int64\n",
      "ga_browser_encoded                   18187 non-null object\n",
      "ga_operatingSystem_encoded           18187 non-null object\n",
      "ga_operatingSystemVersion_encoded    18187 non-null object\n",
      "ga_language_encoded                  18187 non-null object\n",
      "ga_DeviceInfo_encoded                18187 non-null object\n",
      "Unique_code                          18187 non-null object\n",
      "ga_sessionsWithEvent                 18187 non-null int64\n",
      "Success                              0 non-null float64\n",
      "dtypes: float64(1), int64(3), object(6)\n",
      "memory usage: 1.5+ MB\n"
     ]
    }
   ],
   "source": [
    "tf1.info()"
   ]
  },
  {
   "cell_type": "code",
   "execution_count": 363,
   "metadata": {},
   "outputs": [
    {
     "name": "stdout",
     "output_type": "stream",
     "text": [
      "<class 'pandas.core.frame.DataFrame'>\n",
      "Int64Index: 42434 entries, 0 to 42433\n",
      "Data columns (total 10 columns):\n",
      "ga_dateHourMinute                    42434 non-null int64\n",
      "ga_sessionDurationBucket             42434 non-null int64\n",
      "ga_browser_encoded                   42434 non-null object\n",
      "ga_operatingSystem_encoded           42434 non-null object\n",
      "ga_operatingSystemVersion_encoded    42434 non-null object\n",
      "ga_language_encoded                  42434 non-null object\n",
      "ga_DeviceInfo_encoded                42434 non-null object\n",
      "Unique_code                          42434 non-null object\n",
      "ga_sessionsWithEvent                 42434 non-null int64\n",
      "Success                              42434 non-null int32\n",
      "dtypes: int32(1), int64(3), object(6)\n",
      "memory usage: 3.4+ MB\n"
     ]
    }
   ],
   "source": [
    "df1.info()"
   ]
  },
  {
   "cell_type": "code",
   "execution_count": 364,
   "metadata": {
    "scrolled": true
   },
   "outputs": [
    {
     "name": "stdout",
     "output_type": "stream",
     "text": [
      "<class 'pandas.core.frame.DataFrame'>\n",
      "Int64Index: 42435 entries, 0 to 42435\n",
      "Data columns (total 8 columns):\n",
      "ga_dateHourMinute                 42435 non-null int64\n",
      "ga_userType                       42435 non-null object\n",
      "ga_sessionCount                   42435 non-null int64\n",
      "ga_userBucket                     42435 non-null int64\n",
      "ga_sessionDurationBucket          42435 non-null int64\n",
      "ga_sessionsWithEvent              42435 non-null int64\n",
      "ga_uniqueDimensionCombinations    42435 non-null int64\n",
      "Success                           42435 non-null int32\n",
      "dtypes: int32(1), int64(6), object(1)\n",
      "memory usage: 2.8+ MB\n"
     ]
    }
   ],
   "source": [
    "df2.info()"
   ]
  },
  {
   "cell_type": "code",
   "execution_count": null,
   "metadata": {},
   "outputs": [],
   "source": []
  },
  {
   "cell_type": "code",
   "execution_count": 365,
   "metadata": {},
   "outputs": [],
   "source": [
    "df1.columns = [w.replace('.','_') for w in df1.columns]\n",
    "df2.columns = [w.replace('.','_') for w in df2.columns]"
   ]
  },
  {
   "cell_type": "code",
   "execution_count": 366,
   "metadata": {},
   "outputs": [],
   "source": [
    "tf1.columns = [w.replace('.','_') for w in tf1.columns]\n",
    "tf2.columns = [w.replace('.','_') for w in tf2.columns]"
   ]
  },
  {
   "cell_type": "code",
   "execution_count": 6,
   "metadata": {},
   "outputs": [
    {
     "data": {
      "text/html": [
       "<div>\n",
       "<style scoped>\n",
       "    .dataframe tbody tr th:only-of-type {\n",
       "        vertical-align: middle;\n",
       "    }\n",
       "\n",
       "    .dataframe tbody tr th {\n",
       "        vertical-align: top;\n",
       "    }\n",
       "\n",
       "    .dataframe thead th {\n",
       "        text-align: right;\n",
       "    }\n",
       "</style>\n",
       "<table border=\"1\" class=\"dataframe\">\n",
       "  <thead>\n",
       "    <tr style=\"text-align: right;\">\n",
       "      <th></th>\n",
       "      <th>ga_dateHourMinute</th>\n",
       "      <th>ga_sessionDurationBucket</th>\n",
       "      <th>ga_browser_encoded</th>\n",
       "      <th>ga_operatingSystem_encoded</th>\n",
       "      <th>ga_operatingSystemVersion_encoded</th>\n",
       "      <th>ga_language_encoded</th>\n",
       "      <th>ga_DeviceInfo_encoded</th>\n",
       "      <th>Unique_code</th>\n",
       "      <th>ga_sessionsWithEvent</th>\n",
       "      <th>Success</th>\n",
       "    </tr>\n",
       "  </thead>\n",
       "  <tbody>\n",
       "    <tr>\n",
       "      <th>0</th>\n",
       "      <td>201804031151</td>\n",
       "      <td>1</td>\n",
       "      <td>A6</td>\n",
       "      <td>B2</td>\n",
       "      <td>C44</td>\n",
       "      <td>D30</td>\n",
       "      <td>E1</td>\n",
       "      <td>A6B2C44D30E1</td>\n",
       "      <td>1</td>\n",
       "      <td>False</td>\n",
       "    </tr>\n",
       "    <tr>\n",
       "      <th>1</th>\n",
       "      <td>201804141014</td>\n",
       "      <td>3</td>\n",
       "      <td>A4</td>\n",
       "      <td>B2</td>\n",
       "      <td>C42</td>\n",
       "      <td>D54</td>\n",
       "      <td>E1</td>\n",
       "      <td>A4B2C42D54E1</td>\n",
       "      <td>1</td>\n",
       "      <td>False</td>\n",
       "    </tr>\n",
       "    <tr>\n",
       "      <th>2</th>\n",
       "      <td>201804141045</td>\n",
       "      <td>1</td>\n",
       "      <td>A4</td>\n",
       "      <td>B2</td>\n",
       "      <td>C49</td>\n",
       "      <td>D53</td>\n",
       "      <td>E1</td>\n",
       "      <td>A4B2C49D53E1</td>\n",
       "      <td>1</td>\n",
       "      <td>False</td>\n",
       "    </tr>\n",
       "    <tr>\n",
       "      <th>3</th>\n",
       "      <td>201804231929</td>\n",
       "      <td>2</td>\n",
       "      <td>A3</td>\n",
       "      <td>B2</td>\n",
       "      <td>C51</td>\n",
       "      <td>D13</td>\n",
       "      <td>E1</td>\n",
       "      <td>A3B2C51D13E1</td>\n",
       "      <td>1</td>\n",
       "      <td>False</td>\n",
       "    </tr>\n",
       "    <tr>\n",
       "      <th>4</th>\n",
       "      <td>201806061033</td>\n",
       "      <td>1</td>\n",
       "      <td>A6</td>\n",
       "      <td>B2</td>\n",
       "      <td>C44</td>\n",
       "      <td>D31</td>\n",
       "      <td>E1</td>\n",
       "      <td>A6B2C44D31E1</td>\n",
       "      <td>1</td>\n",
       "      <td>False</td>\n",
       "    </tr>\n",
       "  </tbody>\n",
       "</table>\n",
       "</div>"
      ],
      "text/plain": [
       "   ga_dateHourMinute  ga_sessionDurationBucket ga_browser_encoded  \\\n",
       "0       201804031151                         1                 A6   \n",
       "1       201804141014                         3                 A4   \n",
       "2       201804141045                         1                 A4   \n",
       "3       201804231929                         2                 A3   \n",
       "4       201806061033                         1                 A6   \n",
       "\n",
       "  ga_operatingSystem_encoded ga_operatingSystemVersion_encoded  \\\n",
       "0                         B2                               C44   \n",
       "1                         B2                               C42   \n",
       "2                         B2                               C49   \n",
       "3                         B2                               C51   \n",
       "4                         B2                               C44   \n",
       "\n",
       "  ga_language_encoded ga_DeviceInfo_encoded   Unique_code  \\\n",
       "0                 D30                    E1  A6B2C44D30E1   \n",
       "1                 D54                    E1  A4B2C42D54E1   \n",
       "2                 D53                    E1  A4B2C49D53E1   \n",
       "3                 D13                    E1  A3B2C51D13E1   \n",
       "4                 D31                    E1  A6B2C44D31E1   \n",
       "\n",
       "   ga_sessionsWithEvent  Success  \n",
       "0                     1    False  \n",
       "1                     1    False  \n",
       "2                     1    False  \n",
       "3                     1    False  \n",
       "4                     1    False  "
      ]
     },
     "execution_count": 6,
     "metadata": {},
     "output_type": "execute_result"
    }
   ],
   "source": [
    "df1.head()"
   ]
  },
  {
   "cell_type": "code",
   "execution_count": 7,
   "metadata": {},
   "outputs": [
    {
     "data": {
      "text/html": [
       "<div>\n",
       "<style scoped>\n",
       "    .dataframe tbody tr th:only-of-type {\n",
       "        vertical-align: middle;\n",
       "    }\n",
       "\n",
       "    .dataframe tbody tr th {\n",
       "        vertical-align: top;\n",
       "    }\n",
       "\n",
       "    .dataframe thead th {\n",
       "        text-align: right;\n",
       "    }\n",
       "</style>\n",
       "<table border=\"1\" class=\"dataframe\">\n",
       "  <thead>\n",
       "    <tr style=\"text-align: right;\">\n",
       "      <th></th>\n",
       "      <th>ga_dateHourMinute</th>\n",
       "      <th>ga_userType</th>\n",
       "      <th>ga_sessionCount</th>\n",
       "      <th>ga_userBucket</th>\n",
       "      <th>ga_sessionDurationBucket</th>\n",
       "      <th>ga_sessionsWithEvent</th>\n",
       "      <th>ga_uniqueDimensionCombinations</th>\n",
       "      <th>Sucess</th>\n",
       "    </tr>\n",
       "  </thead>\n",
       "  <tbody>\n",
       "    <tr>\n",
       "      <th>0</th>\n",
       "      <td>201803151836</td>\n",
       "      <td>New Visitor</td>\n",
       "      <td>1</td>\n",
       "      <td>79</td>\n",
       "      <td>1</td>\n",
       "      <td>1</td>\n",
       "      <td>1</td>\n",
       "      <td>False</td>\n",
       "    </tr>\n",
       "    <tr>\n",
       "      <th>1</th>\n",
       "      <td>201803151838</td>\n",
       "      <td>Returning Visitor</td>\n",
       "      <td>2</td>\n",
       "      <td>30</td>\n",
       "      <td>1</td>\n",
       "      <td>1</td>\n",
       "      <td>1</td>\n",
       "      <td>False</td>\n",
       "    </tr>\n",
       "    <tr>\n",
       "      <th>2</th>\n",
       "      <td>201803151841</td>\n",
       "      <td>New Visitor</td>\n",
       "      <td>1</td>\n",
       "      <td>19</td>\n",
       "      <td>220</td>\n",
       "      <td>1</td>\n",
       "      <td>1</td>\n",
       "      <td>False</td>\n",
       "    </tr>\n",
       "    <tr>\n",
       "      <th>3</th>\n",
       "      <td>201803151842</td>\n",
       "      <td>New Visitor</td>\n",
       "      <td>1</td>\n",
       "      <td>10</td>\n",
       "      <td>80</td>\n",
       "      <td>1</td>\n",
       "      <td>1</td>\n",
       "      <td>False</td>\n",
       "    </tr>\n",
       "    <tr>\n",
       "      <th>4</th>\n",
       "      <td>201803151926</td>\n",
       "      <td>Returning Visitor</td>\n",
       "      <td>2</td>\n",
       "      <td>48</td>\n",
       "      <td>207</td>\n",
       "      <td>1</td>\n",
       "      <td>1</td>\n",
       "      <td>False</td>\n",
       "    </tr>\n",
       "  </tbody>\n",
       "</table>\n",
       "</div>"
      ],
      "text/plain": [
       "   ga_dateHourMinute        ga_userType  ga_sessionCount  ga_userBucket  \\\n",
       "0       201803151836        New Visitor                1             79   \n",
       "1       201803151838  Returning Visitor                2             30   \n",
       "2       201803151841        New Visitor                1             19   \n",
       "3       201803151842        New Visitor                1             10   \n",
       "4       201803151926  Returning Visitor                2             48   \n",
       "\n",
       "   ga_sessionDurationBucket  ga_sessionsWithEvent  \\\n",
       "0                         1                     1   \n",
       "1                         1                     1   \n",
       "2                       220                     1   \n",
       "3                        80                     1   \n",
       "4                       207                     1   \n",
       "\n",
       "   ga_uniqueDimensionCombinations  Sucess  \n",
       "0                               1   False  \n",
       "1                               1   False  \n",
       "2                               1   False  \n",
       "3                               1   False  \n",
       "4                               1   False  "
      ]
     },
     "execution_count": 7,
     "metadata": {},
     "output_type": "execute_result"
    }
   ],
   "source": [
    "df2.head()"
   ]
  },
  {
   "cell_type": "code",
   "execution_count": 8,
   "metadata": {},
   "outputs": [],
   "source": [
    "df2['Success'] = np.where(df2['Sucess'] == True,1,0)\n",
    "df1['Success'] = np.where(df1['Success']==True,1,0)\n",
    "del df2['Sucess']"
   ]
  },
  {
   "cell_type": "code",
   "execution_count": 9,
   "metadata": {},
   "outputs": [
    {
     "data": {
      "text/html": [
       "<div>\n",
       "<style scoped>\n",
       "    .dataframe tbody tr th:only-of-type {\n",
       "        vertical-align: middle;\n",
       "    }\n",
       "\n",
       "    .dataframe tbody tr th {\n",
       "        vertical-align: top;\n",
       "    }\n",
       "\n",
       "    .dataframe thead th {\n",
       "        text-align: right;\n",
       "    }\n",
       "</style>\n",
       "<table border=\"1\" class=\"dataframe\">\n",
       "  <thead>\n",
       "    <tr style=\"text-align: right;\">\n",
       "      <th></th>\n",
       "      <th>ga_dateHourMinute</th>\n",
       "      <th>ga_sessionDurationBucket</th>\n",
       "      <th>ga_browser_encoded</th>\n",
       "      <th>ga_operatingSystem_encoded</th>\n",
       "      <th>ga_operatingSystemVersion_encoded</th>\n",
       "      <th>ga_language_encoded</th>\n",
       "      <th>ga_DeviceInfo_encoded</th>\n",
       "      <th>Unique_code</th>\n",
       "      <th>ga_sessionsWithEvent</th>\n",
       "      <th>Success</th>\n",
       "    </tr>\n",
       "  </thead>\n",
       "  <tbody>\n",
       "    <tr>\n",
       "      <th>0</th>\n",
       "      <td>201804031151</td>\n",
       "      <td>1</td>\n",
       "      <td>A6</td>\n",
       "      <td>B2</td>\n",
       "      <td>C44</td>\n",
       "      <td>D30</td>\n",
       "      <td>E1</td>\n",
       "      <td>A6B2C44D30E1</td>\n",
       "      <td>1</td>\n",
       "      <td>0</td>\n",
       "    </tr>\n",
       "    <tr>\n",
       "      <th>1</th>\n",
       "      <td>201804141014</td>\n",
       "      <td>3</td>\n",
       "      <td>A4</td>\n",
       "      <td>B2</td>\n",
       "      <td>C42</td>\n",
       "      <td>D54</td>\n",
       "      <td>E1</td>\n",
       "      <td>A4B2C42D54E1</td>\n",
       "      <td>1</td>\n",
       "      <td>0</td>\n",
       "    </tr>\n",
       "    <tr>\n",
       "      <th>2</th>\n",
       "      <td>201804141045</td>\n",
       "      <td>1</td>\n",
       "      <td>A4</td>\n",
       "      <td>B2</td>\n",
       "      <td>C49</td>\n",
       "      <td>D53</td>\n",
       "      <td>E1</td>\n",
       "      <td>A4B2C49D53E1</td>\n",
       "      <td>1</td>\n",
       "      <td>0</td>\n",
       "    </tr>\n",
       "    <tr>\n",
       "      <th>3</th>\n",
       "      <td>201804231929</td>\n",
       "      <td>2</td>\n",
       "      <td>A3</td>\n",
       "      <td>B2</td>\n",
       "      <td>C51</td>\n",
       "      <td>D13</td>\n",
       "      <td>E1</td>\n",
       "      <td>A3B2C51D13E1</td>\n",
       "      <td>1</td>\n",
       "      <td>0</td>\n",
       "    </tr>\n",
       "    <tr>\n",
       "      <th>4</th>\n",
       "      <td>201806061033</td>\n",
       "      <td>1</td>\n",
       "      <td>A6</td>\n",
       "      <td>B2</td>\n",
       "      <td>C44</td>\n",
       "      <td>D31</td>\n",
       "      <td>E1</td>\n",
       "      <td>A6B2C44D31E1</td>\n",
       "      <td>1</td>\n",
       "      <td>0</td>\n",
       "    </tr>\n",
       "  </tbody>\n",
       "</table>\n",
       "</div>"
      ],
      "text/plain": [
       "   ga_dateHourMinute  ga_sessionDurationBucket ga_browser_encoded  \\\n",
       "0       201804031151                         1                 A6   \n",
       "1       201804141014                         3                 A4   \n",
       "2       201804141045                         1                 A4   \n",
       "3       201804231929                         2                 A3   \n",
       "4       201806061033                         1                 A6   \n",
       "\n",
       "  ga_operatingSystem_encoded ga_operatingSystemVersion_encoded  \\\n",
       "0                         B2                               C44   \n",
       "1                         B2                               C42   \n",
       "2                         B2                               C49   \n",
       "3                         B2                               C51   \n",
       "4                         B2                               C44   \n",
       "\n",
       "  ga_language_encoded ga_DeviceInfo_encoded   Unique_code  \\\n",
       "0                 D30                    E1  A6B2C44D30E1   \n",
       "1                 D54                    E1  A4B2C42D54E1   \n",
       "2                 D53                    E1  A4B2C49D53E1   \n",
       "3                 D13                    E1  A3B2C51D13E1   \n",
       "4                 D31                    E1  A6B2C44D31E1   \n",
       "\n",
       "   ga_sessionsWithEvent  Success  \n",
       "0                     1        0  \n",
       "1                     1        0  \n",
       "2                     1        0  \n",
       "3                     1        0  \n",
       "4                     1        0  "
      ]
     },
     "execution_count": 9,
     "metadata": {},
     "output_type": "execute_result"
    }
   ],
   "source": [
    "df1.head()"
   ]
  },
  {
   "cell_type": "code",
   "execution_count": 10,
   "metadata": {},
   "outputs": [
    {
     "data": {
      "text/html": [
       "<div>\n",
       "<style scoped>\n",
       "    .dataframe tbody tr th:only-of-type {\n",
       "        vertical-align: middle;\n",
       "    }\n",
       "\n",
       "    .dataframe tbody tr th {\n",
       "        vertical-align: top;\n",
       "    }\n",
       "\n",
       "    .dataframe thead th {\n",
       "        text-align: right;\n",
       "    }\n",
       "</style>\n",
       "<table border=\"1\" class=\"dataframe\">\n",
       "  <thead>\n",
       "    <tr style=\"text-align: right;\">\n",
       "      <th></th>\n",
       "      <th>ga_dateHourMinute</th>\n",
       "      <th>ga_userType</th>\n",
       "      <th>ga_sessionCount</th>\n",
       "      <th>ga_userBucket</th>\n",
       "      <th>ga_sessionDurationBucket</th>\n",
       "      <th>ga_sessionsWithEvent</th>\n",
       "      <th>ga_uniqueDimensionCombinations</th>\n",
       "      <th>Success</th>\n",
       "    </tr>\n",
       "  </thead>\n",
       "  <tbody>\n",
       "    <tr>\n",
       "      <th>0</th>\n",
       "      <td>201803151836</td>\n",
       "      <td>New Visitor</td>\n",
       "      <td>1</td>\n",
       "      <td>79</td>\n",
       "      <td>1</td>\n",
       "      <td>1</td>\n",
       "      <td>1</td>\n",
       "      <td>0</td>\n",
       "    </tr>\n",
       "    <tr>\n",
       "      <th>1</th>\n",
       "      <td>201803151838</td>\n",
       "      <td>Returning Visitor</td>\n",
       "      <td>2</td>\n",
       "      <td>30</td>\n",
       "      <td>1</td>\n",
       "      <td>1</td>\n",
       "      <td>1</td>\n",
       "      <td>0</td>\n",
       "    </tr>\n",
       "    <tr>\n",
       "      <th>2</th>\n",
       "      <td>201803151841</td>\n",
       "      <td>New Visitor</td>\n",
       "      <td>1</td>\n",
       "      <td>19</td>\n",
       "      <td>220</td>\n",
       "      <td>1</td>\n",
       "      <td>1</td>\n",
       "      <td>0</td>\n",
       "    </tr>\n",
       "    <tr>\n",
       "      <th>3</th>\n",
       "      <td>201803151842</td>\n",
       "      <td>New Visitor</td>\n",
       "      <td>1</td>\n",
       "      <td>10</td>\n",
       "      <td>80</td>\n",
       "      <td>1</td>\n",
       "      <td>1</td>\n",
       "      <td>0</td>\n",
       "    </tr>\n",
       "    <tr>\n",
       "      <th>4</th>\n",
       "      <td>201803151926</td>\n",
       "      <td>Returning Visitor</td>\n",
       "      <td>2</td>\n",
       "      <td>48</td>\n",
       "      <td>207</td>\n",
       "      <td>1</td>\n",
       "      <td>1</td>\n",
       "      <td>0</td>\n",
       "    </tr>\n",
       "  </tbody>\n",
       "</table>\n",
       "</div>"
      ],
      "text/plain": [
       "   ga_dateHourMinute        ga_userType  ga_sessionCount  ga_userBucket  \\\n",
       "0       201803151836        New Visitor                1             79   \n",
       "1       201803151838  Returning Visitor                2             30   \n",
       "2       201803151841        New Visitor                1             19   \n",
       "3       201803151842        New Visitor                1             10   \n",
       "4       201803151926  Returning Visitor                2             48   \n",
       "\n",
       "   ga_sessionDurationBucket  ga_sessionsWithEvent  \\\n",
       "0                         1                     1   \n",
       "1                         1                     1   \n",
       "2                       220                     1   \n",
       "3                        80                     1   \n",
       "4                       207                     1   \n",
       "\n",
       "   ga_uniqueDimensionCombinations  Success  \n",
       "0                               1        0  \n",
       "1                               1        0  \n",
       "2                               1        0  \n",
       "3                               1        0  \n",
       "4                               1        0  "
      ]
     },
     "execution_count": 10,
     "metadata": {},
     "output_type": "execute_result"
    }
   ],
   "source": [
    "df2.head()"
   ]
  },
  {
   "cell_type": "code",
   "execution_count": 11,
   "metadata": {},
   "outputs": [
    {
     "data": {
      "text/html": [
       "<div>\n",
       "<style scoped>\n",
       "    .dataframe tbody tr th:only-of-type {\n",
       "        vertical-align: middle;\n",
       "    }\n",
       "\n",
       "    .dataframe tbody tr th {\n",
       "        vertical-align: top;\n",
       "    }\n",
       "\n",
       "    .dataframe thead th {\n",
       "        text-align: right;\n",
       "    }\n",
       "</style>\n",
       "<table border=\"1\" class=\"dataframe\">\n",
       "  <thead>\n",
       "    <tr style=\"text-align: right;\">\n",
       "      <th></th>\n",
       "      <th>ga_dateHourMinute</th>\n",
       "      <th>ga_sessionDurationBucket</th>\n",
       "      <th>ga_browser_encoded</th>\n",
       "      <th>ga_operatingSystem_encoded</th>\n",
       "      <th>ga_operatingSystemVersion_encoded</th>\n",
       "      <th>ga_language_encoded</th>\n",
       "      <th>ga_DeviceInfo_encoded</th>\n",
       "      <th>Unique_code</th>\n",
       "      <th>ga_sessionsWithEvent</th>\n",
       "      <th>Success</th>\n",
       "    </tr>\n",
       "  </thead>\n",
       "  <tbody>\n",
       "    <tr>\n",
       "      <th>41315</th>\n",
       "      <td>201803151411</td>\n",
       "      <td>971</td>\n",
       "      <td>A4</td>\n",
       "      <td>B8</td>\n",
       "      <td>C2</td>\n",
       "      <td>D54</td>\n",
       "      <td>E359</td>\n",
       "      <td>A4B8C2D54E359</td>\n",
       "      <td>1</td>\n",
       "      <td>1</td>\n",
       "    </tr>\n",
       "    <tr>\n",
       "      <th>40956</th>\n",
       "      <td>201803151413</td>\n",
       "      <td>597</td>\n",
       "      <td>A4</td>\n",
       "      <td>B8</td>\n",
       "      <td>C2</td>\n",
       "      <td>D31</td>\n",
       "      <td>E359</td>\n",
       "      <td>A4B8C2D31E359</td>\n",
       "      <td>1</td>\n",
       "      <td>0</td>\n",
       "    </tr>\n",
       "    <tr>\n",
       "      <th>41316</th>\n",
       "      <td>201803151414</td>\n",
       "      <td>971</td>\n",
       "      <td>A4</td>\n",
       "      <td>B8</td>\n",
       "      <td>C2</td>\n",
       "      <td>D54</td>\n",
       "      <td>E359</td>\n",
       "      <td>A4B8C2D54E359</td>\n",
       "      <td>0</td>\n",
       "      <td>1</td>\n",
       "    </tr>\n",
       "    <tr>\n",
       "      <th>41317</th>\n",
       "      <td>201803151416</td>\n",
       "      <td>971</td>\n",
       "      <td>A4</td>\n",
       "      <td>B8</td>\n",
       "      <td>C2</td>\n",
       "      <td>D54</td>\n",
       "      <td>E359</td>\n",
       "      <td>A4B8C2D54E359</td>\n",
       "      <td>0</td>\n",
       "      <td>1</td>\n",
       "    </tr>\n",
       "    <tr>\n",
       "      <th>41318</th>\n",
       "      <td>201803151418</td>\n",
       "      <td>971</td>\n",
       "      <td>A4</td>\n",
       "      <td>B8</td>\n",
       "      <td>C2</td>\n",
       "      <td>D54</td>\n",
       "      <td>E359</td>\n",
       "      <td>A4B8C2D54E359</td>\n",
       "      <td>0</td>\n",
       "      <td>1</td>\n",
       "    </tr>\n",
       "    <tr>\n",
       "      <th>41319</th>\n",
       "      <td>201803151420</td>\n",
       "      <td>971</td>\n",
       "      <td>A4</td>\n",
       "      <td>B8</td>\n",
       "      <td>C2</td>\n",
       "      <td>D54</td>\n",
       "      <td>E359</td>\n",
       "      <td>A4B8C2D54E359</td>\n",
       "      <td>0</td>\n",
       "      <td>1</td>\n",
       "    </tr>\n",
       "    <tr>\n",
       "      <th>40957</th>\n",
       "      <td>201803151423</td>\n",
       "      <td>597</td>\n",
       "      <td>A4</td>\n",
       "      <td>B8</td>\n",
       "      <td>C2</td>\n",
       "      <td>D31</td>\n",
       "      <td>E359</td>\n",
       "      <td>A4B8C2D31E359</td>\n",
       "      <td>0</td>\n",
       "      <td>0</td>\n",
       "    </tr>\n",
       "    <tr>\n",
       "      <th>37845</th>\n",
       "      <td>201803151426</td>\n",
       "      <td>36</td>\n",
       "      <td>A4</td>\n",
       "      <td>B8</td>\n",
       "      <td>C2</td>\n",
       "      <td>D25</td>\n",
       "      <td>E359</td>\n",
       "      <td>A4B8C2D25E359</td>\n",
       "      <td>1</td>\n",
       "      <td>0</td>\n",
       "    </tr>\n",
       "    <tr>\n",
       "      <th>40314</th>\n",
       "      <td>201803151430</td>\n",
       "      <td>2</td>\n",
       "      <td>A7</td>\n",
       "      <td>B8</td>\n",
       "      <td>C2</td>\n",
       "      <td>D77</td>\n",
       "      <td>E359</td>\n",
       "      <td>A7B8C2D77E359</td>\n",
       "      <td>1</td>\n",
       "      <td>0</td>\n",
       "    </tr>\n",
       "    <tr>\n",
       "      <th>40958</th>\n",
       "      <td>201803151431</td>\n",
       "      <td>133</td>\n",
       "      <td>A4</td>\n",
       "      <td>B8</td>\n",
       "      <td>C2</td>\n",
       "      <td>D31</td>\n",
       "      <td>E359</td>\n",
       "      <td>A4B8C2D31E359</td>\n",
       "      <td>1</td>\n",
       "      <td>0</td>\n",
       "    </tr>\n",
       "  </tbody>\n",
       "</table>\n",
       "</div>"
      ],
      "text/plain": [
       "       ga_dateHourMinute  ga_sessionDurationBucket ga_browser_encoded  \\\n",
       "41315       201803151411                       971                 A4   \n",
       "40956       201803151413                       597                 A4   \n",
       "41316       201803151414                       971                 A4   \n",
       "41317       201803151416                       971                 A4   \n",
       "41318       201803151418                       971                 A4   \n",
       "41319       201803151420                       971                 A4   \n",
       "40957       201803151423                       597                 A4   \n",
       "37845       201803151426                        36                 A4   \n",
       "40314       201803151430                         2                 A7   \n",
       "40958       201803151431                       133                 A4   \n",
       "\n",
       "      ga_operatingSystem_encoded ga_operatingSystemVersion_encoded  \\\n",
       "41315                         B8                                C2   \n",
       "40956                         B8                                C2   \n",
       "41316                         B8                                C2   \n",
       "41317                         B8                                C2   \n",
       "41318                         B8                                C2   \n",
       "41319                         B8                                C2   \n",
       "40957                         B8                                C2   \n",
       "37845                         B8                                C2   \n",
       "40314                         B8                                C2   \n",
       "40958                         B8                                C2   \n",
       "\n",
       "      ga_language_encoded ga_DeviceInfo_encoded    Unique_code  \\\n",
       "41315                 D54                  E359  A4B8C2D54E359   \n",
       "40956                 D31                  E359  A4B8C2D31E359   \n",
       "41316                 D54                  E359  A4B8C2D54E359   \n",
       "41317                 D54                  E359  A4B8C2D54E359   \n",
       "41318                 D54                  E359  A4B8C2D54E359   \n",
       "41319                 D54                  E359  A4B8C2D54E359   \n",
       "40957                 D31                  E359  A4B8C2D31E359   \n",
       "37845                 D25                  E359  A4B8C2D25E359   \n",
       "40314                 D77                  E359  A7B8C2D77E359   \n",
       "40958                 D31                  E359  A4B8C2D31E359   \n",
       "\n",
       "       ga_sessionsWithEvent  Success  \n",
       "41315                     1        1  \n",
       "40956                     1        0  \n",
       "41316                     0        1  \n",
       "41317                     0        1  \n",
       "41318                     0        1  \n",
       "41319                     0        1  \n",
       "40957                     0        0  \n",
       "37845                     1        0  \n",
       "40314                     1        0  \n",
       "40958                     1        0  "
      ]
     },
     "execution_count": 11,
     "metadata": {},
     "output_type": "execute_result"
    }
   ],
   "source": [
    "df1.sort_values('ga_dateHourMinute').head(n=10)"
   ]
  },
  {
   "cell_type": "code",
   "execution_count": 12,
   "metadata": {
    "scrolled": true
   },
   "outputs": [
    {
     "data": {
      "text/html": [
       "<div>\n",
       "<style scoped>\n",
       "    .dataframe tbody tr th:only-of-type {\n",
       "        vertical-align: middle;\n",
       "    }\n",
       "\n",
       "    .dataframe tbody tr th {\n",
       "        vertical-align: top;\n",
       "    }\n",
       "\n",
       "    .dataframe thead th {\n",
       "        text-align: right;\n",
       "    }\n",
       "</style>\n",
       "<table border=\"1\" class=\"dataframe\">\n",
       "  <thead>\n",
       "    <tr style=\"text-align: right;\">\n",
       "      <th></th>\n",
       "      <th>ga_dateHourMinute</th>\n",
       "      <th>ga_userType</th>\n",
       "      <th>ga_sessionCount</th>\n",
       "      <th>ga_userBucket</th>\n",
       "      <th>ga_sessionDurationBucket</th>\n",
       "      <th>ga_sessionsWithEvent</th>\n",
       "      <th>ga_uniqueDimensionCombinations</th>\n",
       "      <th>Success</th>\n",
       "    </tr>\n",
       "  </thead>\n",
       "  <tbody>\n",
       "    <tr>\n",
       "      <th>6871</th>\n",
       "      <td>201803151410</td>\n",
       "      <td>New Visitor</td>\n",
       "      <td>1</td>\n",
       "      <td>87</td>\n",
       "      <td>10</td>\n",
       "      <td>1</td>\n",
       "      <td>1</td>\n",
       "      <td>0</td>\n",
       "    </tr>\n",
       "    <tr>\n",
       "      <th>28498</th>\n",
       "      <td>201803151412</td>\n",
       "      <td>New Visitor</td>\n",
       "      <td>1</td>\n",
       "      <td>64</td>\n",
       "      <td>971</td>\n",
       "      <td>0</td>\n",
       "      <td>1</td>\n",
       "      <td>1</td>\n",
       "    </tr>\n",
       "    <tr>\n",
       "      <th>6872</th>\n",
       "      <td>201803151413</td>\n",
       "      <td>New Visitor</td>\n",
       "      <td>1</td>\n",
       "      <td>97</td>\n",
       "      <td>597</td>\n",
       "      <td>1</td>\n",
       "      <td>1</td>\n",
       "      <td>0</td>\n",
       "    </tr>\n",
       "    <tr>\n",
       "      <th>28499</th>\n",
       "      <td>201803151416</td>\n",
       "      <td>New Visitor</td>\n",
       "      <td>1</td>\n",
       "      <td>64</td>\n",
       "      <td>971</td>\n",
       "      <td>0</td>\n",
       "      <td>1</td>\n",
       "      <td>1</td>\n",
       "    </tr>\n",
       "    <tr>\n",
       "      <th>28500</th>\n",
       "      <td>201803151420</td>\n",
       "      <td>New Visitor</td>\n",
       "      <td>1</td>\n",
       "      <td>64</td>\n",
       "      <td>971</td>\n",
       "      <td>0</td>\n",
       "      <td>1</td>\n",
       "      <td>1</td>\n",
       "    </tr>\n",
       "    <tr>\n",
       "      <th>28501</th>\n",
       "      <td>201803151421</td>\n",
       "      <td>New Visitor</td>\n",
       "      <td>1</td>\n",
       "      <td>64</td>\n",
       "      <td>971</td>\n",
       "      <td>0</td>\n",
       "      <td>1</td>\n",
       "      <td>1</td>\n",
       "    </tr>\n",
       "    <tr>\n",
       "      <th>28502</th>\n",
       "      <td>201803151422</td>\n",
       "      <td>New Visitor</td>\n",
       "      <td>1</td>\n",
       "      <td>64</td>\n",
       "      <td>971</td>\n",
       "      <td>0</td>\n",
       "      <td>1</td>\n",
       "      <td>1</td>\n",
       "    </tr>\n",
       "    <tr>\n",
       "      <th>6873</th>\n",
       "      <td>201803151423</td>\n",
       "      <td>New Visitor</td>\n",
       "      <td>1</td>\n",
       "      <td>97</td>\n",
       "      <td>597</td>\n",
       "      <td>0</td>\n",
       "      <td>1</td>\n",
       "      <td>0</td>\n",
       "    </tr>\n",
       "    <tr>\n",
       "      <th>6874</th>\n",
       "      <td>201803151426</td>\n",
       "      <td>New Visitor</td>\n",
       "      <td>1</td>\n",
       "      <td>84</td>\n",
       "      <td>36</td>\n",
       "      <td>1</td>\n",
       "      <td>1</td>\n",
       "      <td>0</td>\n",
       "    </tr>\n",
       "    <tr>\n",
       "      <th>6875</th>\n",
       "      <td>201803151430</td>\n",
       "      <td>New Visitor</td>\n",
       "      <td>1</td>\n",
       "      <td>65</td>\n",
       "      <td>2</td>\n",
       "      <td>1</td>\n",
       "      <td>1</td>\n",
       "      <td>0</td>\n",
       "    </tr>\n",
       "  </tbody>\n",
       "</table>\n",
       "</div>"
      ],
      "text/plain": [
       "       ga_dateHourMinute  ga_userType  ga_sessionCount  ga_userBucket  \\\n",
       "6871        201803151410  New Visitor                1             87   \n",
       "28498       201803151412  New Visitor                1             64   \n",
       "6872        201803151413  New Visitor                1             97   \n",
       "28499       201803151416  New Visitor                1             64   \n",
       "28500       201803151420  New Visitor                1             64   \n",
       "28501       201803151421  New Visitor                1             64   \n",
       "28502       201803151422  New Visitor                1             64   \n",
       "6873        201803151423  New Visitor                1             97   \n",
       "6874        201803151426  New Visitor                1             84   \n",
       "6875        201803151430  New Visitor                1             65   \n",
       "\n",
       "       ga_sessionDurationBucket  ga_sessionsWithEvent  \\\n",
       "6871                         10                     1   \n",
       "28498                       971                     0   \n",
       "6872                        597                     1   \n",
       "28499                       971                     0   \n",
       "28500                       971                     0   \n",
       "28501                       971                     0   \n",
       "28502                       971                     0   \n",
       "6873                        597                     0   \n",
       "6874                         36                     1   \n",
       "6875                          2                     1   \n",
       "\n",
       "       ga_uniqueDimensionCombinations  Success  \n",
       "6871                                1        0  \n",
       "28498                               1        1  \n",
       "6872                                1        0  \n",
       "28499                               1        1  \n",
       "28500                               1        1  \n",
       "28501                               1        1  \n",
       "28502                               1        1  \n",
       "6873                                1        0  \n",
       "6874                                1        0  \n",
       "6875                                1        0  "
      ]
     },
     "execution_count": 12,
     "metadata": {},
     "output_type": "execute_result"
    }
   ],
   "source": [
    "df2.sort_values('ga_dateHourMinute').head(n=10)"
   ]
  },
  {
   "cell_type": "code",
   "execution_count": 13,
   "metadata": {},
   "outputs": [
    {
     "data": {
      "text/plain": [
       "array([1, 2], dtype=int64)"
      ]
     },
     "execution_count": 13,
     "metadata": {},
     "output_type": "execute_result"
    }
   ],
   "source": [
    "df2['ga_uniqueDimensionCombinations'].unique()"
   ]
  },
  {
   "cell_type": "code",
   "execution_count": 14,
   "metadata": {},
   "outputs": [],
   "source": [
    "mergedf = pd.merge(df1,df2,how = 'inner',on = [\"ga_dateHourMinute\",\"ga_sessionDurationBucket\",\"ga_sessionsWithEvent\",\"Success\"])"
   ]
  },
  {
   "cell_type": "code",
   "execution_count": 315,
   "metadata": {},
   "outputs": [],
   "source": [
    "mergetf = pd.merge(tf1,tf2,how = 'inner',on = [\"ga_dateHourMinute\",\"ga_sessionDurationBucket\",\"ga_sessionsWithEvent\"])"
   ]
  },
  {
   "cell_type": "code",
   "execution_count": 316,
   "metadata": {
    "scrolled": true
   },
   "outputs": [
    {
     "name": "stdout",
     "output_type": "stream",
     "text": [
      "shape of merged train dataset = (29802, 522)\n",
      "shape of merged test dataset = (5454, 15)\n"
     ]
    }
   ],
   "source": [
    "print(\"shape of merged train dataset = {}\".format(mergedf.shape))\n",
    "print(\"shape of merged test dataset = {}\".format(mergetf.shape))"
   ]
  },
  {
   "cell_type": "code",
   "execution_count": 324,
   "metadata": {},
   "outputs": [],
   "source": [
    "\n",
    "mixdf1 = pd.concat([df1,tf1])\n",
    "mixdf2 = pd.concat([df2,tf2])"
   ]
  },
  {
   "cell_type": "code",
   "execution_count": 325,
   "metadata": {
    "scrolled": true
   },
   "outputs": [
    {
     "name": "stdout",
     "output_type": "stream",
     "text": [
      "<class 'pandas.core.frame.DataFrame'>\n",
      "Int64Index: 60621 entries, 0 to 18186\n",
      "Data columns (total 10 columns):\n",
      "ga_dateHourMinute                    60621 non-null int64\n",
      "ga_sessionDurationBucket             60621 non-null int64\n",
      "ga_browser_encoded                   60621 non-null object\n",
      "ga_operatingSystem_encoded           60621 non-null object\n",
      "ga_operatingSystemVersion_encoded    60621 non-null object\n",
      "ga_language_encoded                  60621 non-null object\n",
      "ga_DeviceInfo_encoded                60621 non-null object\n",
      "Unique_code                          60621 non-null object\n",
      "ga_sessionsWithEvent                 60621 non-null int64\n",
      "Success                              42434 non-null float64\n",
      "dtypes: float64(1), int64(3), object(6)\n",
      "memory usage: 5.1+ MB\n"
     ]
    }
   ],
   "source": [
    "mixdf1.info()"
   ]
  },
  {
   "cell_type": "code",
   "execution_count": 326,
   "metadata": {
    "scrolled": true
   },
   "outputs": [
    {
     "name": "stdout",
     "output_type": "stream",
     "text": [
      "<class 'pandas.core.frame.DataFrame'>\n",
      "Int64Index: 60622 entries, 0 to 18186\n",
      "Data columns (total 8 columns):\n",
      "ga_dateHourMinute                 60622 non-null int64\n",
      "ga_userType                       60622 non-null object\n",
      "ga_sessionCount                   60622 non-null int64\n",
      "ga_userBucket                     60622 non-null int64\n",
      "ga_sessionDurationBucket          60622 non-null int64\n",
      "ga_sessionsWithEvent              60622 non-null int64\n",
      "ga_uniqueDimensionCombinations    60622 non-null int64\n",
      "Success                           42435 non-null float64\n",
      "dtypes: float64(1), int64(6), object(1)\n",
      "memory usage: 4.2+ MB\n"
     ]
    }
   ],
   "source": [
    "mixdf2.info()"
   ]
  },
  {
   "cell_type": "code",
   "execution_count": 407,
   "metadata": {},
   "outputs": [],
   "source": [
    "merge_mix_df = pd.merge(mixdf1,mixdf2,how = 'inner',on = [\"ga_dateHourMinute\",\"ga_sessionDurationBucket\",\"ga_sessionsWithEvent\"],sort=[\"ga_dateHourMinute\",\"ga_sessionDurationBucket\",\"ga_sessionsWithEvent\"])"
   ]
  },
  {
   "cell_type": "code",
   "execution_count": 408,
   "metadata": {},
   "outputs": [],
   "source": [
    "newcols = ['ga_dateHourMinute', 'ga_sessionDurationBucket','ga_sessionsWithEvent','Success_x', 'Success_y',  'ga_browser_encoded',\n",
    "       'ga_operatingSystem_encoded', 'ga_operatingSystemVersion_encoded',\n",
    "       'ga_language_encoded', 'ga_DeviceInfo_encoded', 'Unique_code',\n",
    "        'ga_userType', 'ga_sessionCount',\n",
    "       'ga_userBucket', 'ga_uniqueDimensionCombinations']"
   ]
  },
  {
   "cell_type": "code",
   "execution_count": 409,
   "metadata": {},
   "outputs": [],
   "source": [
    "merge_mix_df  = merge_mix_df[newcols]"
   ]
  },
  {
   "cell_type": "code",
   "execution_count": 410,
   "metadata": {
    "scrolled": true
   },
   "outputs": [
    {
     "name": "stdout",
     "output_type": "stream",
     "text": [
      "<class 'pandas.core.frame.DataFrame'>\n",
      "Int64Index: 60837 entries, 0 to 60836\n",
      "Data columns (total 15 columns):\n",
      "ga_dateHourMinute                    60837 non-null int64\n",
      "ga_sessionDurationBucket             60837 non-null int64\n",
      "ga_sessionsWithEvent                 60837 non-null int64\n",
      "Success_x                            42603 non-null float64\n",
      "Success_y                            42582 non-null float64\n",
      "ga_browser_encoded                   60837 non-null object\n",
      "ga_operatingSystem_encoded           60837 non-null object\n",
      "ga_operatingSystemVersion_encoded    60837 non-null object\n",
      "ga_language_encoded                  60837 non-null object\n",
      "ga_DeviceInfo_encoded                60837 non-null object\n",
      "Unique_code                          60837 non-null object\n",
      "ga_userType                          60837 non-null object\n",
      "ga_sessionCount                      60837 non-null int64\n",
      "ga_userBucket                        60837 non-null int64\n",
      "ga_uniqueDimensionCombinations       60837 non-null int64\n",
      "dtypes: float64(2), int64(6), object(7)\n",
      "memory usage: 7.4+ MB\n"
     ]
    }
   ],
   "source": [
    "merge_mix_df.info()"
   ]
  },
  {
   "cell_type": "code",
   "execution_count": 411,
   "metadata": {},
   "outputs": [
    {
     "data": {
      "text/html": [
       "<div>\n",
       "<style scoped>\n",
       "    .dataframe tbody tr th:only-of-type {\n",
       "        vertical-align: middle;\n",
       "    }\n",
       "\n",
       "    .dataframe tbody tr th {\n",
       "        vertical-align: top;\n",
       "    }\n",
       "\n",
       "    .dataframe thead th {\n",
       "        text-align: right;\n",
       "    }\n",
       "</style>\n",
       "<table border=\"1\" class=\"dataframe\">\n",
       "  <thead>\n",
       "    <tr style=\"text-align: right;\">\n",
       "      <th></th>\n",
       "      <th>ga_dateHourMinute</th>\n",
       "      <th>ga_sessionDurationBucket</th>\n",
       "      <th>ga_sessionsWithEvent</th>\n",
       "      <th>Success_x</th>\n",
       "      <th>Success_y</th>\n",
       "      <th>ga_browser_encoded</th>\n",
       "      <th>ga_operatingSystem_encoded</th>\n",
       "      <th>ga_operatingSystemVersion_encoded</th>\n",
       "      <th>ga_language_encoded</th>\n",
       "      <th>ga_DeviceInfo_encoded</th>\n",
       "      <th>Unique_code</th>\n",
       "      <th>ga_userType</th>\n",
       "      <th>ga_sessionCount</th>\n",
       "      <th>ga_userBucket</th>\n",
       "      <th>ga_uniqueDimensionCombinations</th>\n",
       "    </tr>\n",
       "  </thead>\n",
       "  <tbody>\n",
       "    <tr>\n",
       "      <th>0</th>\n",
       "      <td>201803151410</td>\n",
       "      <td>10</td>\n",
       "      <td>1</td>\n",
       "      <td>NaN</td>\n",
       "      <td>0.0</td>\n",
       "      <td>A4</td>\n",
       "      <td>B8</td>\n",
       "      <td>C2</td>\n",
       "      <td>D31</td>\n",
       "      <td>E359</td>\n",
       "      <td>A4B8C2D31E359</td>\n",
       "      <td>New Visitor</td>\n",
       "      <td>1</td>\n",
       "      <td>87</td>\n",
       "      <td>1</td>\n",
       "    </tr>\n",
       "    <tr>\n",
       "      <th>1</th>\n",
       "      <td>201803151411</td>\n",
       "      <td>971</td>\n",
       "      <td>1</td>\n",
       "      <td>1.0</td>\n",
       "      <td>NaN</td>\n",
       "      <td>A4</td>\n",
       "      <td>B8</td>\n",
       "      <td>C2</td>\n",
       "      <td>D54</td>\n",
       "      <td>E359</td>\n",
       "      <td>A4B8C2D54E359</td>\n",
       "      <td>New Visitor</td>\n",
       "      <td>1</td>\n",
       "      <td>64</td>\n",
       "      <td>1</td>\n",
       "    </tr>\n",
       "    <tr>\n",
       "      <th>2</th>\n",
       "      <td>201803151412</td>\n",
       "      <td>971</td>\n",
       "      <td>0</td>\n",
       "      <td>NaN</td>\n",
       "      <td>1.0</td>\n",
       "      <td>A4</td>\n",
       "      <td>B8</td>\n",
       "      <td>C2</td>\n",
       "      <td>D54</td>\n",
       "      <td>E359</td>\n",
       "      <td>A4B8C2D54E359</td>\n",
       "      <td>New Visitor</td>\n",
       "      <td>1</td>\n",
       "      <td>64</td>\n",
       "      <td>1</td>\n",
       "    </tr>\n",
       "    <tr>\n",
       "      <th>3</th>\n",
       "      <td>201803151413</td>\n",
       "      <td>597</td>\n",
       "      <td>1</td>\n",
       "      <td>0.0</td>\n",
       "      <td>0.0</td>\n",
       "      <td>A4</td>\n",
       "      <td>B8</td>\n",
       "      <td>C2</td>\n",
       "      <td>D31</td>\n",
       "      <td>E359</td>\n",
       "      <td>A4B8C2D31E359</td>\n",
       "      <td>New Visitor</td>\n",
       "      <td>1</td>\n",
       "      <td>97</td>\n",
       "      <td>1</td>\n",
       "    </tr>\n",
       "    <tr>\n",
       "      <th>4</th>\n",
       "      <td>201803151413</td>\n",
       "      <td>971</td>\n",
       "      <td>0</td>\n",
       "      <td>NaN</td>\n",
       "      <td>NaN</td>\n",
       "      <td>A4</td>\n",
       "      <td>B8</td>\n",
       "      <td>C2</td>\n",
       "      <td>D54</td>\n",
       "      <td>E359</td>\n",
       "      <td>A4B8C2D54E359</td>\n",
       "      <td>New Visitor</td>\n",
       "      <td>1</td>\n",
       "      <td>64</td>\n",
       "      <td>1</td>\n",
       "    </tr>\n",
       "  </tbody>\n",
       "</table>\n",
       "</div>"
      ],
      "text/plain": [
       "   ga_dateHourMinute  ga_sessionDurationBucket  ga_sessionsWithEvent  \\\n",
       "0       201803151410                        10                     1   \n",
       "1       201803151411                       971                     1   \n",
       "2       201803151412                       971                     0   \n",
       "3       201803151413                       597                     1   \n",
       "4       201803151413                       971                     0   \n",
       "\n",
       "   Success_x  Success_y ga_browser_encoded ga_operatingSystem_encoded  \\\n",
       "0        NaN        0.0                 A4                         B8   \n",
       "1        1.0        NaN                 A4                         B8   \n",
       "2        NaN        1.0                 A4                         B8   \n",
       "3        0.0        0.0                 A4                         B8   \n",
       "4        NaN        NaN                 A4                         B8   \n",
       "\n",
       "  ga_operatingSystemVersion_encoded ga_language_encoded ga_DeviceInfo_encoded  \\\n",
       "0                                C2                 D31                  E359   \n",
       "1                                C2                 D54                  E359   \n",
       "2                                C2                 D54                  E359   \n",
       "3                                C2                 D31                  E359   \n",
       "4                                C2                 D54                  E359   \n",
       "\n",
       "     Unique_code  ga_userType  ga_sessionCount  ga_userBucket  \\\n",
       "0  A4B8C2D31E359  New Visitor                1             87   \n",
       "1  A4B8C2D54E359  New Visitor                1             64   \n",
       "2  A4B8C2D54E359  New Visitor                1             64   \n",
       "3  A4B8C2D31E359  New Visitor                1             97   \n",
       "4  A4B8C2D54E359  New Visitor                1             64   \n",
       "\n",
       "   ga_uniqueDimensionCombinations  \n",
       "0                               1  \n",
       "1                               1  \n",
       "2                               1  \n",
       "3                               1  \n",
       "4                               1  "
      ]
     },
     "execution_count": 411,
     "metadata": {},
     "output_type": "execute_result"
    }
   ],
   "source": [
    "merge_mix_df.head()"
   ]
  },
  {
   "cell_type": "code",
   "execution_count": null,
   "metadata": {},
   "outputs": [],
   "source": []
  },
  {
   "cell_type": "code",
   "execution_count": 414,
   "metadata": {},
   "outputs": [],
   "source": [
    "merge_mix_df.to_csv('merge.csv')"
   ]
  },
  {
   "cell_type": "code",
   "execution_count": 351,
   "metadata": {},
   "outputs": [
    {
     "data": {
      "text/html": [
       "<div>\n",
       "<style scoped>\n",
       "    .dataframe tbody tr th:only-of-type {\n",
       "        vertical-align: middle;\n",
       "    }\n",
       "\n",
       "    .dataframe tbody tr th {\n",
       "        vertical-align: top;\n",
       "    }\n",
       "\n",
       "    .dataframe thead th {\n",
       "        text-align: right;\n",
       "    }\n",
       "</style>\n",
       "<table border=\"1\" class=\"dataframe\">\n",
       "  <thead>\n",
       "    <tr style=\"text-align: right;\">\n",
       "      <th></th>\n",
       "      <th>ga_dateHourMinute</th>\n",
       "      <th>ga_sessionDurationBucket</th>\n",
       "      <th>ga_browser_encoded</th>\n",
       "      <th>ga_operatingSystem_encoded</th>\n",
       "      <th>ga_operatingSystemVersion_encoded</th>\n",
       "      <th>ga_language_encoded</th>\n",
       "      <th>ga_DeviceInfo_encoded</th>\n",
       "      <th>Unique_code</th>\n",
       "      <th>ga_sessionsWithEvent</th>\n",
       "      <th>Success</th>\n",
       "    </tr>\n",
       "  </thead>\n",
       "  <tbody>\n",
       "    <tr>\n",
       "      <th>17551</th>\n",
       "      <td>201803151410</td>\n",
       "      <td>10</td>\n",
       "      <td>A4</td>\n",
       "      <td>B8</td>\n",
       "      <td>C2</td>\n",
       "      <td>D31</td>\n",
       "      <td>E359</td>\n",
       "      <td>A4B8C2D31E359</td>\n",
       "      <td>1</td>\n",
       "      <td>NaN</td>\n",
       "    </tr>\n",
       "  </tbody>\n",
       "</table>\n",
       "</div>"
      ],
      "text/plain": [
       "       ga_dateHourMinute  ga_sessionDurationBucket ga_browser_encoded  \\\n",
       "17551       201803151410                        10                 A4   \n",
       "\n",
       "      ga_operatingSystem_encoded ga_operatingSystemVersion_encoded  \\\n",
       "17551                         B8                                C2   \n",
       "\n",
       "      ga_language_encoded ga_DeviceInfo_encoded    Unique_code  \\\n",
       "17551                 D31                  E359  A4B8C2D31E359   \n",
       "\n",
       "       ga_sessionsWithEvent  Success  \n",
       "17551                     1      NaN  "
      ]
     },
     "execution_count": 351,
     "metadata": {},
     "output_type": "execute_result"
    }
   ],
   "source": [
    "mixdf1[mixdf1.ga_dateHourMinute == 201803151410]"
   ]
  },
  {
   "cell_type": "code",
   "execution_count": 352,
   "metadata": {
    "scrolled": true
   },
   "outputs": [
    {
     "data": {
      "text/html": [
       "<div>\n",
       "<style scoped>\n",
       "    .dataframe tbody tr th:only-of-type {\n",
       "        vertical-align: middle;\n",
       "    }\n",
       "\n",
       "    .dataframe tbody tr th {\n",
       "        vertical-align: top;\n",
       "    }\n",
       "\n",
       "    .dataframe thead th {\n",
       "        text-align: right;\n",
       "    }\n",
       "</style>\n",
       "<table border=\"1\" class=\"dataframe\">\n",
       "  <thead>\n",
       "    <tr style=\"text-align: right;\">\n",
       "      <th></th>\n",
       "      <th>ga_dateHourMinute</th>\n",
       "      <th>ga_userType</th>\n",
       "      <th>ga_sessionCount</th>\n",
       "      <th>ga_userBucket</th>\n",
       "      <th>ga_sessionDurationBucket</th>\n",
       "      <th>ga_sessionsWithEvent</th>\n",
       "      <th>ga_uniqueDimensionCombinations</th>\n",
       "      <th>Success</th>\n",
       "    </tr>\n",
       "  </thead>\n",
       "  <tbody>\n",
       "    <tr>\n",
       "      <th>6871</th>\n",
       "      <td>201803151410</td>\n",
       "      <td>New Visitor</td>\n",
       "      <td>1</td>\n",
       "      <td>87</td>\n",
       "      <td>10</td>\n",
       "      <td>1</td>\n",
       "      <td>1</td>\n",
       "      <td>0.0</td>\n",
       "    </tr>\n",
       "  </tbody>\n",
       "</table>\n",
       "</div>"
      ],
      "text/plain": [
       "      ga_dateHourMinute  ga_userType  ga_sessionCount  ga_userBucket  \\\n",
       "6871       201803151410  New Visitor                1             87   \n",
       "\n",
       "      ga_sessionDurationBucket  ga_sessionsWithEvent  \\\n",
       "6871                        10                     1   \n",
       "\n",
       "      ga_uniqueDimensionCombinations  Success  \n",
       "6871                               1      0.0  "
      ]
     },
     "execution_count": 352,
     "metadata": {},
     "output_type": "execute_result"
    }
   ],
   "source": [
    "mixdf2[mixdf2.ga_dateHourMinute == 201803151410]"
   ]
  },
  {
   "cell_type": "code",
   "execution_count": null,
   "metadata": {},
   "outputs": [],
   "source": []
  },
  {
   "cell_type": "code",
   "execution_count": 432,
   "metadata": {},
   "outputs": [
    {
     "data": {
      "text/plain": [
       "['Success_x', 'Success_y']"
      ]
     },
     "execution_count": 432,
     "metadata": {},
     "output_type": "execute_result"
    }
   ],
   "source": [
    "[cols for cols in merge_mix_df.columns if any(merge_mix_df[cols].isna())]"
   ]
  },
  {
   "cell_type": "code",
   "execution_count": 726,
   "metadata": {
    "scrolled": false
   },
   "outputs": [
    {
     "name": "stderr",
     "output_type": "stream",
     "text": [
      "C:\\Users\\vbdon\\Anaconda3\\envs\\tensorflow\\lib\\site-packages\\ipykernel_launcher.py:3: SettingWithCopyWarning: \n",
      "A value is trying to be set on a copy of a slice from a DataFrame\n",
      "\n",
      "See the caveats in the documentation: http://pandas.pydata.org/pandas-docs/stable/indexing.html#indexing-view-versus-copy\n",
      "  This is separate from the ipykernel package so we can avoid doing imports until\n"
     ]
    }
   ],
   "source": [
    "a = merge_mix_df[~(merge_mix_df.Success_x.isna())]\n",
    "b = merge_mix_df[(merge_mix_df.Success_x.isna())]\n",
    "b.drop_duplicates(subset=[\"ga_dateHourMinute\",\"ga_sessionDurationBucket\",\"ga_sessionsWithEvent\"], inplace=True)"
   ]
  },
  {
   "cell_type": "code",
   "execution_count": 727,
   "metadata": {},
   "outputs": [
    {
     "name": "stderr",
     "output_type": "stream",
     "text": [
      "C:\\Users\\vbdon\\Anaconda3\\envs\\tensorflow\\lib\\site-packages\\ipykernel_launcher.py:2: SettingWithCopyWarning: \n",
      "A value is trying to be set on a copy of a slice from a DataFrame\n",
      "\n",
      "See the caveats in the documentation: http://pandas.pydata.org/pandas-docs/stable/indexing.html#indexing-view-versus-copy\n",
      "  \n"
     ]
    }
   ],
   "source": [
    "# we dont need this variable now \n",
    "a.drop('Success_y',axis=1,inplace=True)"
   ]
  },
  {
   "cell_type": "code",
   "execution_count": 728,
   "metadata": {},
   "outputs": [
    {
     "name": "stdout",
     "output_type": "stream",
     "text": [
      "<class 'pandas.core.frame.DataFrame'>\n",
      "Int64Index: 42603 entries, 1 to 60836\n",
      "Data columns (total 14 columns):\n",
      "ga_dateHourMinute                    42603 non-null int64\n",
      "ga_sessionDurationBucket             42603 non-null int64\n",
      "ga_sessionsWithEvent                 42603 non-null int64\n",
      "Success_x                            42603 non-null float64\n",
      "ga_browser_encoded                   42603 non-null object\n",
      "ga_operatingSystem_encoded           42603 non-null object\n",
      "ga_operatingSystemVersion_encoded    42603 non-null object\n",
      "ga_language_encoded                  42603 non-null object\n",
      "ga_DeviceInfo_encoded                42603 non-null object\n",
      "Unique_code                          42603 non-null object\n",
      "ga_userType                          42603 non-null object\n",
      "ga_sessionCount                      42603 non-null int64\n",
      "ga_userBucket                        42603 non-null int64\n",
      "ga_uniqueDimensionCombinations       42603 non-null int64\n",
      "dtypes: float64(1), int64(6), object(7)\n",
      "memory usage: 4.9+ MB\n"
     ]
    }
   ],
   "source": [
    "a.info()"
   ]
  },
  {
   "cell_type": "code",
   "execution_count": 729,
   "metadata": {},
   "outputs": [
    {
     "name": "stdout",
     "output_type": "stream",
     "text": [
      "<class 'pandas.core.frame.DataFrame'>\n",
      "Int64Index: 18182 entries, 0 to 18181\n",
      "Data columns (total 22 columns):\n",
      "ga_dateHourMinute                      18182 non-null int64\n",
      "ga_sessionDurationBucket               18182 non-null int64\n",
      "ga_sessionsWithEvent                   18182 non-null int64\n",
      "Success_x                              0 non-null float64\n",
      "Success_y                              12755 non-null float64\n",
      "ga_browser_encoded_x                   18182 non-null object\n",
      "ga_operatingSystem_encoded_x           18182 non-null object\n",
      "ga_operatingSystemVersion_encoded_x    18182 non-null object\n",
      "ga_language_encoded_x                  18182 non-null object\n",
      "ga_DeviceInfo_encoded_x                18182 non-null object\n",
      "Unique_code_x                          18182 non-null object\n",
      "ga_userType                            18182 non-null object\n",
      "ga_sessionCount                        18182 non-null int64\n",
      "ga_userBucket                          18182 non-null int64\n",
      "ga_uniqueDimensionCombinations         18182 non-null int64\n",
      "ga_browser_encoded_y                   18182 non-null object\n",
      "ga_operatingSystem_encoded_y           18182 non-null object\n",
      "ga_operatingSystemVersion_encoded_y    18182 non-null object\n",
      "ga_language_encoded_y                  18182 non-null object\n",
      "ga_DeviceInfo_encoded_y                18182 non-null object\n",
      "Unique_code_y                          18182 non-null object\n",
      "Success                                0 non-null float64\n",
      "dtypes: float64(3), int64(6), object(13)\n",
      "memory usage: 3.2+ MB\n"
     ]
    }
   ],
   "source": [
    "#check sanity of new test data generated from merge dataset by  checking across actaul test dim1& dim2\n",
    "b.merge(tf1,how='left',on =[\"ga_dateHourMinute\",\"ga_sessionDurationBucket\",\"ga_sessionsWithEvent\"] ).info()"
   ]
  },
  {
   "cell_type": "code",
   "execution_count": 730,
   "metadata": {},
   "outputs": [],
   "source": [
    "# data cleaning and transformation"
   ]
  },
  {
   "cell_type": "code",
   "execution_count": 731,
   "metadata": {
    "scrolled": true
   },
   "outputs": [
    {
     "name": "stdout",
     "output_type": "stream",
     "text": [
      "Unique browsers = 14\n",
      "Unique OS = 8\n",
      "Unique OSV = 79\n",
      "Unique Language model = 80\n",
      "Unique Device = 363\n",
      "Unique Codes  = 1934\n"
     ]
    }
   ],
   "source": [
    "print(\"Unique browsers = {}\".format(a['ga_browser_encoded'].nunique()))\n",
    "print(\"Unique OS = {}\".format(a['ga_operatingSystem_encoded'].nunique()))\n",
    "print(\"Unique OSV = {}\".format(a['ga_operatingSystemVersion_encoded'].nunique()))\n",
    "print(\"Unique Language model = {}\".format(a['ga_language_encoded'].nunique()))\n",
    "print(\"Unique Device = {}\".format(a['ga_DeviceInfo_encoded'].nunique()))\n",
    "print(\"Unique Codes  = {}\".format(a['Unique_code'].nunique()))"
   ]
  },
  {
   "cell_type": "code",
   "execution_count": 732,
   "metadata": {},
   "outputs": [],
   "source": [
    "# some features engineering"
   ]
  },
  {
   "cell_type": "code",
   "execution_count": null,
   "metadata": {},
   "outputs": [],
   "source": []
  },
  {
   "cell_type": "code",
   "execution_count": 733,
   "metadata": {},
   "outputs": [
    {
     "name": "stderr",
     "output_type": "stream",
     "text": [
      "C:\\Users\\vbdon\\Anaconda3\\envs\\tensorflow\\lib\\site-packages\\ipykernel_launcher.py:1: SettingWithCopyWarning: \n",
      "A value is trying to be set on a copy of a slice from a DataFrame.\n",
      "Try using .loc[row_indexer,col_indexer] = value instead\n",
      "\n",
      "See the caveats in the documentation: http://pandas.pydata.org/pandas-docs/stable/indexing.html#indexing-view-versus-copy\n",
      "  \"\"\"Entry point for launching an IPython kernel.\n",
      "C:\\Users\\vbdon\\Anaconda3\\envs\\tensorflow\\lib\\site-packages\\ipykernel_launcher.py:2: SettingWithCopyWarning: \n",
      "A value is trying to be set on a copy of a slice from a DataFrame.\n",
      "Try using .loc[row_indexer,col_indexer] = value instead\n",
      "\n",
      "See the caveats in the documentation: http://pandas.pydata.org/pandas-docs/stable/indexing.html#indexing-view-versus-copy\n",
      "  \n"
     ]
    }
   ],
   "source": [
    "a['HourMinute']= [item[8:] for item in a.ga_dateHourMinute.apply(str)]\n",
    "a['Month'] = [item[4:6] for item in a.ga_dateHourMinute.apply(str)]"
   ]
  },
  {
   "cell_type": "code",
   "execution_count": 734,
   "metadata": {},
   "outputs": [
    {
     "name": "stderr",
     "output_type": "stream",
     "text": [
      "C:\\Users\\vbdon\\Anaconda3\\envs\\tensorflow\\lib\\site-packages\\ipykernel_launcher.py:1: SettingWithCopyWarning: \n",
      "A value is trying to be set on a copy of a slice from a DataFrame.\n",
      "Try using .loc[row_indexer,col_indexer] = value instead\n",
      "\n",
      "See the caveats in the documentation: http://pandas.pydata.org/pandas-docs/stable/indexing.html#indexing-view-versus-copy\n",
      "  \"\"\"Entry point for launching an IPython kernel.\n",
      "C:\\Users\\vbdon\\Anaconda3\\envs\\tensorflow\\lib\\site-packages\\ipykernel_launcher.py:2: SettingWithCopyWarning: \n",
      "A value is trying to be set on a copy of a slice from a DataFrame.\n",
      "Try using .loc[row_indexer,col_indexer] = value instead\n",
      "\n",
      "See the caveats in the documentation: http://pandas.pydata.org/pandas-docs/stable/indexing.html#indexing-view-versus-copy\n",
      "  \n"
     ]
    }
   ],
   "source": [
    "a['HourMinute'] = a['HourMinute'].astype('int64')\n",
    "a['Month'] = a['Month'].astype('int64')"
   ]
  },
  {
   "cell_type": "code",
   "execution_count": 735,
   "metadata": {},
   "outputs": [
    {
     "name": "stderr",
     "output_type": "stream",
     "text": [
      "C:\\Users\\vbdon\\Anaconda3\\envs\\tensorflow\\lib\\site-packages\\ipykernel_launcher.py:1: SettingWithCopyWarning: \n",
      "A value is trying to be set on a copy of a slice from a DataFrame.\n",
      "Try using .loc[row_indexer,col_indexer] = value instead\n",
      "\n",
      "See the caveats in the documentation: http://pandas.pydata.org/pandas-docs/stable/indexing.html#indexing-view-versus-copy\n",
      "  \"\"\"Entry point for launching an IPython kernel.\n"
     ]
    }
   ],
   "source": [
    "a['TimePerSession '] = np.where((a['ga_sessionCount'] == 0) , 0 , (a['ga_sessionDurationBucket'] / a['ga_sessionCount'] ) )"
   ]
  },
  {
   "cell_type": "code",
   "execution_count": 736,
   "metadata": {},
   "outputs": [
    {
     "name": "stderr",
     "output_type": "stream",
     "text": [
      "C:\\Users\\vbdon\\Anaconda3\\envs\\tensorflow\\lib\\site-packages\\ipykernel_launcher.py:1: SettingWithCopyWarning: \n",
      "A value is trying to be set on a copy of a slice from a DataFrame.\n",
      "Try using .loc[row_indexer,col_indexer] = value instead\n",
      "\n",
      "See the caveats in the documentation: http://pandas.pydata.org/pandas-docs/stable/indexing.html#indexing-view-versus-copy\n",
      "  \"\"\"Entry point for launching an IPython kernel.\n"
     ]
    }
   ],
   "source": [
    "a['ga_userBucket'] = a['ga_userBucket'].astype('object')"
   ]
  },
  {
   "cell_type": "code",
   "execution_count": 737,
   "metadata": {},
   "outputs": [
    {
     "name": "stderr",
     "output_type": "stream",
     "text": [
      "C:\\Users\\vbdon\\Anaconda3\\envs\\tensorflow\\lib\\site-packages\\ipykernel_launcher.py:3: SettingWithCopyWarning: \n",
      "A value is trying to be set on a copy of a slice from a DataFrame.\n",
      "Try using .loc[row_indexer,col_indexer] = value instead\n",
      "\n",
      "See the caveats in the documentation: http://pandas.pydata.org/pandas-docs/stable/indexing.html#indexing-view-versus-copy\n",
      "  This is separate from the ipykernel package so we can avoid doing imports until\n",
      "C:\\Users\\vbdon\\Anaconda3\\envs\\tensorflow\\lib\\site-packages\\ipykernel_launcher.py:6: SettingWithCopyWarning: \n",
      "A value is trying to be set on a copy of a slice from a DataFrame.\n",
      "Try using .loc[row_indexer,col_indexer] = value instead\n",
      "\n",
      "See the caveats in the documentation: http://pandas.pydata.org/pandas-docs/stable/indexing.html#indexing-view-versus-copy\n",
      "  \n"
     ]
    }
   ],
   "source": [
    "#dates = [item for item in a.ga_dateHourMinute.apply(str)]\n",
    "\n",
    "a['DayOfWeek'] = [datetime.datetime(int(date[0:4]),int(date[4:6]),int(date[6:8])).weekday() for date in a.ga_dateHourMinute.apply(str)]\n",
    "\n",
    "# time between 8am to 8pm is flagged as peak \n",
    "a['PeakHour'] = [np.where((int(date[8:10]) in range(8,21)), 1,0 ) for date in a.ga_dateHourMinute.apply(str)]\n"
   ]
  },
  {
   "cell_type": "code",
   "execution_count": null,
   "metadata": {},
   "outputs": [],
   "source": []
  },
  {
   "cell_type": "code",
   "execution_count": 738,
   "metadata": {},
   "outputs": [],
   "source": [
    "#instead of hot encode unique code field, better to use individual fields as it would give lesser number of features "
   ]
  },
  {
   "cell_type": "code",
   "execution_count": 739,
   "metadata": {},
   "outputs": [],
   "source": [
    "# its better to hot encode individual features than the combined one\n",
    "\n",
    "#ohe_codes = preprocessing.OneHotEncoder(categorical_features=['ga_browser_encoded','ga_operatingSystem_encoded','ga_operatingSystemVersion_encoded','ga_language_encoded','ga_DeviceInfo_encoded'], dtype=np.object)\n",
    "data=  a.loc[:,['ga_browser_encoded','ga_operatingSystem_encoded','ga_operatingSystemVersion_encoded','ga_language_encoded','ga_DeviceInfo_encoded','ga_userType','ga_userBucket']]\n",
    "ohe_codes = pd.get_dummies(data)"
   ]
  },
  {
   "cell_type": "code",
   "execution_count": 740,
   "metadata": {},
   "outputs": [
    {
     "data": {
      "text/plain": [
       "(42603, 646)"
      ]
     },
     "execution_count": 740,
     "metadata": {},
     "output_type": "execute_result"
    }
   ],
   "source": [
    "ohe_codes.shape"
   ]
  },
  {
   "cell_type": "code",
   "execution_count": 741,
   "metadata": {},
   "outputs": [
    {
     "name": "stderr",
     "output_type": "stream",
     "text": [
      "C:\\Users\\vbdon\\Anaconda3\\envs\\tensorflow\\lib\\site-packages\\ipykernel_launcher.py:1: SettingWithCopyWarning: \n",
      "A value is trying to be set on a copy of a slice from a DataFrame\n",
      "\n",
      "See the caveats in the documentation: http://pandas.pydata.org/pandas-docs/stable/indexing.html#indexing-view-versus-copy\n",
      "  \"\"\"Entry point for launching an IPython kernel.\n"
     ]
    }
   ],
   "source": [
    "a.drop(['ga_browser_encoded','ga_operatingSystem_encoded','ga_operatingSystemVersion_encoded','ga_language_encoded','ga_DeviceInfo_encoded','ga_userType','ga_userBucket'],inplace=True, axis=1)\n",
    "a = a.join(ohe_codes)"
   ]
  },
  {
   "cell_type": "code",
   "execution_count": 742,
   "metadata": {},
   "outputs": [
    {
     "name": "stdout",
     "output_type": "stream",
     "text": [
      "<class 'pandas.core.frame.DataFrame'>\n",
      "Int64Index: 42603 entries, 1 to 60836\n",
      "Columns: 658 entries, ga_dateHourMinute to ga_userBucket_100\n",
      "dtypes: float64(2), int64(8), object(2), uint8(646)\n",
      "memory usage: 31.7+ MB\n"
     ]
    }
   ],
   "source": [
    "a.info()"
   ]
  },
  {
   "cell_type": "code",
   "execution_count": 743,
   "metadata": {},
   "outputs": [],
   "source": [
    "#save & drop the unqiue code col for now\n",
    "unqcde = a['Unique_code']\n",
    "del a['Unique_code']\n"
   ]
  },
  {
   "cell_type": "code",
   "execution_count": 744,
   "metadata": {},
   "outputs": [],
   "source": [
    "del a['ga_dateHourMinute']"
   ]
  },
  {
   "cell_type": "code",
   "execution_count": 717,
   "metadata": {},
   "outputs": [],
   "source": [
    "# some visualizations"
   ]
  },
  {
   "cell_type": "code",
   "execution_count": 626,
   "metadata": {},
   "outputs": [
    {
     "data": {
      "text/plain": [
       "<matplotlib.axes._subplots.AxesSubplot at 0x219d4078a58>"
      ]
     },
     "execution_count": 626,
     "metadata": {},
     "output_type": "execute_result"
    },
    {
     "data": {
      "image/png": "[encoded data removed]",
      "text/plain": [
       "<Figure size 432x288 with 1 Axes>"
      ]
     },
     "metadata": {},
     "output_type": "display_data"
    }
   ],
   "source": [
    "#classes are not much imbalanced\n",
    "sns.countplot(x = a['Success_x'])\n"
   ]
  },
  {
   "cell_type": "code",
   "execution_count": null,
   "metadata": {},
   "outputs": [],
   "source": [
    "b  = sns.pairplot(a.iloc[:,:8])\n"
   ]
  },
  {
   "cell_type": "code",
   "execution_count": 683,
   "metadata": {
    "scrolled": false
   },
   "outputs": [
    {
     "data": {
      "image/png": "[encoded data removed]",
      "text/plain": [
       "<Figure size 864x432 with 1 Axes>"
      ]
     },
     "metadata": {},
     "output_type": "display_data"
    }
   ],
   "source": [
    "sns.set_style(\"dark\")\n",
    "p1  = sns.pairplot(a.iloc[:,:8],x_vars=[\"ga_dateHourMinute\"],y_vars=[\"ga_sessionCount\"])\n",
    "p1.fig.set_size_inches(12,6)\n",
    "#in below plot, data ranges from march to june inclusive and session count of each month is in increaasing order"
   ]
  },
  {
   "cell_type": "code",
   "execution_count": 628,
   "metadata": {
    "scrolled": true
   },
   "outputs": [
    {
     "data": {
      "text/plain": [
       "<matplotlib.axes._subplots.AxesSubplot at 0x21a462cd400>"
      ]
     },
     "execution_count": 628,
     "metadata": {},
     "output_type": "execute_result"
    },
    {
     "data": {
      "image/png": "[encoded data removed]",
      "text/plain": [
       "<Figure size 432x288 with 1 Axes>"
      ]
     },
     "metadata": {},
     "output_type": "display_data"
    }
   ],
   "source": [
    "sns.barplot(x=a['Success_x'],y=a['ga_sessionCount'])\n",
    "#avg session count of succsessful txn is lesser "
   ]
  },
  {
   "cell_type": "code",
   "execution_count": 629,
   "metadata": {
    "scrolled": true
   },
   "outputs": [
    {
     "data": {
      "image/png": "[encoded data removed]",
      "text/plain": [
       "<Figure size 864x432 with 1 Axes>"
      ]
     },
     "metadata": {},
     "output_type": "display_data"
    }
   ],
   "source": [
    "p2  = sns.pairplot(a.iloc[:,:8],x_vars=[\"ga_sessionDurationBucket\"],y_vars=[\"ga_sessionCount\"],hue=\"Success_x\")\n",
    "p2.fig.set_size_inches(12,6)\n",
    "#those txn with less session duration bucket and less session count are more successful"
   ]
  },
  {
   "cell_type": "code",
   "execution_count": 630,
   "metadata": {
    "scrolled": false
   },
   "outputs": [
    {
     "data": {
      "image/png": "[encoded data removed]",
      "text/plain": [
       "<Figure size 864x432 with 1 Axes>"
      ]
     },
     "metadata": {},
     "output_type": "display_data"
    }
   ],
   "source": [
    "p3  = sns.pairplot(a.iloc[:,:8],x_vars=[\"ga_userBucket\"],y_vars=[\"ga_sessionCount\"],hue=\"Success_x\")\n",
    "p3.fig.set_size_inches(12,6)\n",
    "#"
   ]
  },
  {
   "cell_type": "code",
   "execution_count": 631,
   "metadata": {
    "scrolled": true
   },
   "outputs": [
    {
     "data": {
      "image/png": "[encoded data removed]",
      "text/plain": [
       "<Figure size 432x288 with 1 Axes>"
      ]
     },
     "metadata": {},
     "output_type": "display_data"
    }
   ],
   "source": [
    "p4 = sns.countplot(x=unqcde)\n",
    "#one particular unique code repeat alot"
   ]
  },
  {
   "cell_type": "code",
   "execution_count": 494,
   "metadata": {},
   "outputs": [
    {
     "data": {
      "text/plain": [
       "count             42603\n",
       "unique             1934\n",
       "top       A4B8C2D77E359\n",
       "freq               3886\n",
       "Name: Unique_code, dtype: object"
      ]
     },
     "execution_count": 494,
     "metadata": {},
     "output_type": "execute_result"
    }
   ],
   "source": [
    "unqcde.describe()\n",
    "#A4B8C2D77E359 -> this code occurs 3886 times as the most common combination of mobile, os, os version etc"
   ]
  },
  {
   "cell_type": "code",
   "execution_count": 745,
   "metadata": {},
   "outputs": [
    {
     "name": "stdout",
     "output_type": "stream",
     "text": [
      "Number of rows with missing data = 0\n"
     ]
    }
   ],
   "source": [
    "#check for missing values\n",
    "null_data = a[a.isnull().any(axis=1)]\n",
    "print(\"Number of rows with missing data = {}\".format(len(null_data)))"
   ]
  },
  {
   "cell_type": "code",
   "execution_count": 746,
   "metadata": {},
   "outputs": [
    {
     "name": "stderr",
     "output_type": "stream",
     "text": [
      "C:\\Users\\vbdon\\Anaconda3\\envs\\tensorflow\\lib\\site-packages\\sklearn\\utils\\validation.py:475: DataConversionWarning: Data with input dtype object was converted to float64 by MinMaxScaler.\n",
      "  warnings.warn(msg, DataConversionWarning)\n"
     ]
    }
   ],
   "source": [
    "# Data normalization / scaling \n",
    "y = a['Success_x']\n",
    "X = a.loc[:,a.columns!='Success_x']\n",
    "minmiax  = preprocessing.MinMaxScaler()\n",
    "merge_scale = pd.DataFrame(minmiax.fit_transform(X.values))\n",
    "#merge_norm = preprocessing.MinMaxScaler.fit_transform(X,y)\n",
    "#merge_standard = preprocessing.scale(mergedf)"
   ]
  },
  {
   "cell_type": "code",
   "execution_count": 747,
   "metadata": {},
   "outputs": [
    {
     "data": {
      "text/html": [
       "<div>\n",
       "<style scoped>\n",
       "    .dataframe tbody tr th:only-of-type {\n",
       "        vertical-align: middle;\n",
       "    }\n",
       "\n",
       "    .dataframe tbody tr th {\n",
       "        vertical-align: top;\n",
       "    }\n",
       "\n",
       "    .dataframe thead th {\n",
       "        text-align: right;\n",
       "    }\n",
       "</style>\n",
       "<table border=\"1\" class=\"dataframe\">\n",
       "  <thead>\n",
       "    <tr style=\"text-align: right;\">\n",
       "      <th></th>\n",
       "      <th>ga_sessionDurationBucket</th>\n",
       "      <th>ga_sessionsWithEvent</th>\n",
       "      <th>ga_sessionCount</th>\n",
       "      <th>ga_uniqueDimensionCombinations</th>\n",
       "      <th>HourMinute</th>\n",
       "      <th>Month</th>\n",
       "      <th>TimePerSession</th>\n",
       "      <th>DayOfWeek</th>\n",
       "      <th>PeakHour</th>\n",
       "      <th>ga_browser_encoded_A1</th>\n",
       "      <th>...</th>\n",
       "      <th>ga_userBucket_91</th>\n",
       "      <th>ga_userBucket_92</th>\n",
       "      <th>ga_userBucket_93</th>\n",
       "      <th>ga_userBucket_94</th>\n",
       "      <th>ga_userBucket_95</th>\n",
       "      <th>ga_userBucket_96</th>\n",
       "      <th>ga_userBucket_97</th>\n",
       "      <th>ga_userBucket_98</th>\n",
       "      <th>ga_userBucket_99</th>\n",
       "      <th>ga_userBucket_100</th>\n",
       "    </tr>\n",
       "  </thead>\n",
       "  <tbody>\n",
       "    <tr>\n",
       "      <th>0</th>\n",
       "      <td>0.114468</td>\n",
       "      <td>1.0</td>\n",
       "      <td>0.0</td>\n",
       "      <td>0.0</td>\n",
       "      <td>0.598135</td>\n",
       "      <td>0.0</td>\n",
       "      <td>0.114571</td>\n",
       "      <td>0.5</td>\n",
       "      <td>1.0</td>\n",
       "      <td>0.0</td>\n",
       "      <td>...</td>\n",
       "      <td>0.0</td>\n",
       "      <td>0.0</td>\n",
       "      <td>0.0</td>\n",
       "      <td>0.0</td>\n",
       "      <td>0.0</td>\n",
       "      <td>0.0</td>\n",
       "      <td>0.0</td>\n",
       "      <td>0.0</td>\n",
       "      <td>0.0</td>\n",
       "      <td>0.0</td>\n",
       "    </tr>\n",
       "    <tr>\n",
       "      <th>1</th>\n",
       "      <td>0.070333</td>\n",
       "      <td>1.0</td>\n",
       "      <td>0.0</td>\n",
       "      <td>0.0</td>\n",
       "      <td>0.598983</td>\n",
       "      <td>0.0</td>\n",
       "      <td>0.070441</td>\n",
       "      <td>0.5</td>\n",
       "      <td>1.0</td>\n",
       "      <td>0.0</td>\n",
       "      <td>...</td>\n",
       "      <td>0.0</td>\n",
       "      <td>0.0</td>\n",
       "      <td>0.0</td>\n",
       "      <td>0.0</td>\n",
       "      <td>0.0</td>\n",
       "      <td>0.0</td>\n",
       "      <td>1.0</td>\n",
       "      <td>0.0</td>\n",
       "      <td>0.0</td>\n",
       "      <td>0.0</td>\n",
       "    </tr>\n",
       "    <tr>\n",
       "      <th>2</th>\n",
       "      <td>0.114468</td>\n",
       "      <td>0.0</td>\n",
       "      <td>0.0</td>\n",
       "      <td>0.0</td>\n",
       "      <td>0.599407</td>\n",
       "      <td>0.0</td>\n",
       "      <td>0.114571</td>\n",
       "      <td>0.5</td>\n",
       "      <td>1.0</td>\n",
       "      <td>0.0</td>\n",
       "      <td>...</td>\n",
       "      <td>0.0</td>\n",
       "      <td>0.0</td>\n",
       "      <td>0.0</td>\n",
       "      <td>0.0</td>\n",
       "      <td>0.0</td>\n",
       "      <td>0.0</td>\n",
       "      <td>0.0</td>\n",
       "      <td>0.0</td>\n",
       "      <td>0.0</td>\n",
       "      <td>0.0</td>\n",
       "    </tr>\n",
       "    <tr>\n",
       "      <th>3</th>\n",
       "      <td>0.114468</td>\n",
       "      <td>0.0</td>\n",
       "      <td>0.0</td>\n",
       "      <td>0.0</td>\n",
       "      <td>0.600254</td>\n",
       "      <td>0.0</td>\n",
       "      <td>0.114571</td>\n",
       "      <td>0.5</td>\n",
       "      <td>1.0</td>\n",
       "      <td>0.0</td>\n",
       "      <td>...</td>\n",
       "      <td>0.0</td>\n",
       "      <td>0.0</td>\n",
       "      <td>0.0</td>\n",
       "      <td>0.0</td>\n",
       "      <td>0.0</td>\n",
       "      <td>0.0</td>\n",
       "      <td>0.0</td>\n",
       "      <td>0.0</td>\n",
       "      <td>0.0</td>\n",
       "      <td>0.0</td>\n",
       "    </tr>\n",
       "    <tr>\n",
       "      <th>4</th>\n",
       "      <td>0.114468</td>\n",
       "      <td>0.0</td>\n",
       "      <td>0.0</td>\n",
       "      <td>0.0</td>\n",
       "      <td>0.601102</td>\n",
       "      <td>0.0</td>\n",
       "      <td>0.114571</td>\n",
       "      <td>0.5</td>\n",
       "      <td>1.0</td>\n",
       "      <td>0.0</td>\n",
       "      <td>...</td>\n",
       "      <td>0.0</td>\n",
       "      <td>0.0</td>\n",
       "      <td>0.0</td>\n",
       "      <td>0.0</td>\n",
       "      <td>0.0</td>\n",
       "      <td>0.0</td>\n",
       "      <td>0.0</td>\n",
       "      <td>0.0</td>\n",
       "      <td>0.0</td>\n",
       "      <td>0.0</td>\n",
       "    </tr>\n",
       "  </tbody>\n",
       "</table>\n",
       "<p>5 rows × 655 columns</p>\n",
       "</div>"
      ],
      "text/plain": [
       "   ga_sessionDurationBucket  ga_sessionsWithEvent  ga_sessionCount  \\\n",
       "0                  0.114468                   1.0              0.0   \n",
       "1                  0.070333                   1.0              0.0   \n",
       "2                  0.114468                   0.0              0.0   \n",
       "3                  0.114468                   0.0              0.0   \n",
       "4                  0.114468                   0.0              0.0   \n",
       "\n",
       "   ga_uniqueDimensionCombinations  HourMinute  Month  TimePerSession   \\\n",
       "0                             0.0    0.598135    0.0         0.114571   \n",
       "1                             0.0    0.598983    0.0         0.070441   \n",
       "2                             0.0    0.599407    0.0         0.114571   \n",
       "3                             0.0    0.600254    0.0         0.114571   \n",
       "4                             0.0    0.601102    0.0         0.114571   \n",
       "\n",
       "   DayOfWeek  PeakHour  ga_browser_encoded_A1        ...          \\\n",
       "0        0.5       1.0                    0.0        ...           \n",
       "1        0.5       1.0                    0.0        ...           \n",
       "2        0.5       1.0                    0.0        ...           \n",
       "3        0.5       1.0                    0.0        ...           \n",
       "4        0.5       1.0                    0.0        ...           \n",
       "\n",
       "   ga_userBucket_91  ga_userBucket_92  ga_userBucket_93  ga_userBucket_94  \\\n",
       "0               0.0               0.0               0.0               0.0   \n",
       "1               0.0               0.0               0.0               0.0   \n",
       "2               0.0               0.0               0.0               0.0   \n",
       "3               0.0               0.0               0.0               0.0   \n",
       "4               0.0               0.0               0.0               0.0   \n",
       "\n",
       "   ga_userBucket_95  ga_userBucket_96  ga_userBucket_97  ga_userBucket_98  \\\n",
       "0               0.0               0.0               0.0               0.0   \n",
       "1               0.0               0.0               1.0               0.0   \n",
       "2               0.0               0.0               0.0               0.0   \n",
       "3               0.0               0.0               0.0               0.0   \n",
       "4               0.0               0.0               0.0               0.0   \n",
       "\n",
       "   ga_userBucket_99  ga_userBucket_100  \n",
       "0               0.0                0.0  \n",
       "1               0.0                0.0  \n",
       "2               0.0                0.0  \n",
       "3               0.0                0.0  \n",
       "4               0.0                0.0  \n",
       "\n",
       "[5 rows x 655 columns]"
      ]
     },
     "execution_count": 747,
     "metadata": {},
     "output_type": "execute_result"
    }
   ],
   "source": [
    "merge_scale.columns = X.columns\n",
    "merge_scale.head()"
   ]
  },
  {
   "cell_type": "code",
   "execution_count": 748,
   "metadata": {},
   "outputs": [],
   "source": [
    "#split data into train/test set"
   ]
  },
  {
   "cell_type": "code",
   "execution_count": 749,
   "metadata": {},
   "outputs": [],
   "source": [
    "X_train_norm, X_test_norm, y_train_norm, y_test_norm = model_selection.train_test_split(merge_scale,y,test_size = 0.30,random_state = 42)\n",
    "#X_train_scale, X_test_scale, y_train_scale, y_test_scale = model_selection.train_test_split(merge_scale,y,test_size = 0.33,random_state = 42)\n",
    "\n"
   ]
  },
  {
   "cell_type": "code",
   "execution_count": 750,
   "metadata": {},
   "outputs": [],
   "source": [
    "## split for neural network - 90/10 split\n",
    "X_train_nn, X_test_nn, y_train_nn, y_test_nn = model_selection.train_test_split(merge_scale,y,test_size = 0.10,random_state = 42)"
   ]
  },
  {
   "cell_type": "code",
   "execution_count": 50,
   "metadata": {},
   "outputs": [],
   "source": [
    "# modelling "
   ]
  },
  {
   "cell_type": "code",
   "execution_count": 501,
   "metadata": {},
   "outputs": [],
   "source": [
    "logit = linear_model.LogisticRegression()\n",
    "pca = decomposition.PCA()\n",
    "pipe = Pipeline(steps=[('pca',pca),('logistic',logit)])\n"
   ]
  },
  {
   "cell_type": "code",
   "execution_count": 502,
   "metadata": {},
   "outputs": [
    {
     "data": {
      "text/plain": [
       "PCA(copy=True, iterated_power='auto', n_components=None, random_state=None,\n",
       "  svd_solver='auto', tol=0.0, whiten=False)"
      ]
     },
     "execution_count": 502,
     "metadata": {},
     "output_type": "execute_result"
    }
   ],
   "source": [
    "pca.fit(X_train_norm)"
   ]
  },
  {
   "cell_type": "code",
   "execution_count": 503,
   "metadata": {},
   "outputs": [
    {
     "data": {
      "image/png": "[encoded data removed]",
      "text/plain": [
       "<Figure size 288x216 with 1 Axes>"
      ]
     },
     "metadata": {},
     "output_type": "display_data"
    }
   ],
   "source": [
    "plt.figure(1, figsize=(4, 3))\n",
    "plt.clf()\n",
    "plt.axes([.2, .2, .7, .7])\n",
    "plt.plot(pca.explained_variance_, linewidth=2)\n",
    "plt.axis('tight')\n",
    "plt.xlabel('n_components')\n",
    "plt.ylabel('explained_variance_')\n",
    "# Prediction\n",
    "n_components = [20, 40, 64]\n",
    "Cs = np.logspace(-4, 4, 3)\n",
    "\n",
    "# Parameters of pipelines can be set using ‘__’ separated parameter names:\n",
    "estimator = model_selection.GridSearchCV(pipe,\n",
    "                         dict(pca__n_components=n_components,\n",
    "                              logistic__C=Cs))\n",
    "estimator.fit(X_train_norm, y_train_norm)\n",
    "\n",
    "plt.axvline(estimator.best_estimator_.named_steps['pca'].n_components,\n",
    "            linestyle=':', label='n_components chosen')\n",
    "plt.legend(prop=dict(size=12))\n",
    "plt.show()"
   ]
  },
  {
   "cell_type": "code",
   "execution_count": 504,
   "metadata": {},
   "outputs": [
    {
     "data": {
      "text/plain": [
       "40"
      ]
     },
     "execution_count": 504,
     "metadata": {},
     "output_type": "execute_result"
    }
   ],
   "source": [
    "estimator.best_estimator_.named_steps['pca'].n_components"
   ]
  },
  {
   "cell_type": "code",
   "execution_count": 505,
   "metadata": {},
   "outputs": [
    {
     "data": {
      "text/plain": [
       "0.6816444235799074"
      ]
     },
     "execution_count": 505,
     "metadata": {},
     "output_type": "execute_result"
    }
   ],
   "source": [
    "estimator.best_score_"
   ]
  },
  {
   "cell_type": "code",
   "execution_count": 506,
   "metadata": {},
   "outputs": [],
   "source": [
    "y_pred = estimator.best_estimator_.predict(X_test_norm)"
   ]
  },
  {
   "cell_type": "code",
   "execution_count": 511,
   "metadata": {},
   "outputs": [
    {
     "name": "stdout",
     "output_type": "stream",
     "text": [
      "[[3281 2288]\n",
      " [1994 5218]]\n"
     ]
    }
   ],
   "source": [
    "from sklearn.metrics import confusion_matrix\n",
    "confusion_matrix = confusion_matrix(y_test_norm, y_pred)\n",
    "print(confusion_matrix)"
   ]
  },
  {
   "cell_type": "code",
   "execution_count": 508,
   "metadata": {},
   "outputs": [],
   "source": [
    "logreg = linear_model.LogisticRegression()\n",
    "rfe = RFE(logreg , 40)\n",
    "rfe = rfe.fit(X_train_norm,y_train_norm)"
   ]
  },
  {
   "cell_type": "code",
   "execution_count": 515,
   "metadata": {},
   "outputs": [
    {
     "name": "stdout",
     "output_type": "stream",
     "text": [
      "             precision    recall  f1-score   support\n",
      "\n",
      "        0.0       0.59      0.62      0.61      5275\n",
      "        1.0       0.72      0.70      0.71      7506\n",
      "\n",
      "avg / total       0.67      0.66      0.67     12781\n",
      "\n"
     ]
    }
   ],
   "source": [
    "y_pred = rfe.predict(X_test_norm)\n",
    "print(confusionmatrix(y_pred,y_test_norm))"
   ]
  },
  {
   "cell_type": "code",
   "execution_count": 516,
   "metadata": {},
   "outputs": [],
   "source": [
    "cols = [X_train_norm.columns[idx] for idx,i in enumerate(rfe.ranking_) if rfe.support_[idx] ]"
   ]
  },
  {
   "cell_type": "code",
   "execution_count": 517,
   "metadata": {},
   "outputs": [
    {
     "data": {
      "text/plain": [
       "['ga_sessionsWithEvent',\n",
       " 'ga_sessionCount',\n",
       " 'ga_operatingSystemVersion_encoded_C47',\n",
       " 'ga_operatingSystemVersion_encoded_C76',\n",
       " 'ga_language_encoded_D3',\n",
       " 'ga_language_encoded_D30',\n",
       " 'ga_language_encoded_D47',\n",
       " 'ga_language_encoded_D49',\n",
       " 'ga_language_encoded_D50',\n",
       " 'ga_language_encoded_D73',\n",
       " 'ga_language_encoded_D80',\n",
       " 'ga_language_encoded_D82',\n",
       " 'ga_DeviceInfo_encoded_E103',\n",
       " 'ga_DeviceInfo_encoded_E108',\n",
       " 'ga_DeviceInfo_encoded_E116',\n",
       " 'ga_DeviceInfo_encoded_E118',\n",
       " 'ga_DeviceInfo_encoded_E137',\n",
       " 'ga_DeviceInfo_encoded_E140',\n",
       " 'ga_DeviceInfo_encoded_E154',\n",
       " 'ga_DeviceInfo_encoded_E172',\n",
       " 'ga_DeviceInfo_encoded_E177',\n",
       " 'ga_DeviceInfo_encoded_E198',\n",
       " 'ga_DeviceInfo_encoded_E215',\n",
       " 'ga_DeviceInfo_encoded_E218',\n",
       " 'ga_DeviceInfo_encoded_E238',\n",
       " 'ga_DeviceInfo_encoded_E277',\n",
       " 'ga_DeviceInfo_encoded_E281',\n",
       " 'ga_DeviceInfo_encoded_E309',\n",
       " 'ga_DeviceInfo_encoded_E313',\n",
       " 'ga_DeviceInfo_encoded_E322',\n",
       " 'ga_DeviceInfo_encoded_E325',\n",
       " 'ga_DeviceInfo_encoded_E36',\n",
       " 'ga_DeviceInfo_encoded_E361',\n",
       " 'ga_DeviceInfo_encoded_E368',\n",
       " 'ga_DeviceInfo_encoded_E371',\n",
       " 'ga_DeviceInfo_encoded_E47',\n",
       " 'ga_DeviceInfo_encoded_E63',\n",
       " 'ga_DeviceInfo_encoded_E67',\n",
       " 'ga_DeviceInfo_encoded_E7',\n",
       " 'ga_DeviceInfo_encoded_E88']"
      ]
     },
     "execution_count": 517,
     "metadata": {},
     "output_type": "execute_result"
    }
   ],
   "source": [
    "#selected columns\n",
    "cols"
   ]
  },
  {
   "cell_type": "code",
   "execution_count": 87,
   "metadata": {},
   "outputs": [],
   "source": [
    "X_train_final = X_train_norm[cols]\n",
    "y_train_final = y_train_norm\n",
    "X_test_final = X_test_norm[cols]\n",
    "y_test_final = y_test_norm"
   ]
  },
  {
   "cell_type": "code",
   "execution_count": 83,
   "metadata": {},
   "outputs": [
    {
     "data": {
      "text/plain": [
       "array([1, 1, 0, ..., 1, 0, 1])"
      ]
     },
     "execution_count": 83,
     "metadata": {},
     "output_type": "execute_result"
    }
   ],
   "source": [
    "y_final.values"
   ]
  },
  {
   "cell_type": "code",
   "execution_count": 520,
   "metadata": {},
   "outputs": [
    {
     "name": "stdout",
     "output_type": "stream",
     "text": [
      "[LibLinear]"
     ]
    },
    {
     "data": {
      "text/plain": [
       "LogisticRegression(C=1.0, class_weight=None, dual=False, fit_intercept=True,\n",
       "          intercept_scaling=1, max_iter=1500, multi_class='ovr', n_jobs=1,\n",
       "          penalty='l2', random_state=42, solver='liblinear', tol=0.0001,\n",
       "          verbose=1, warm_start=False)"
      ]
     },
     "execution_count": 520,
     "metadata": {},
     "output_type": "execute_result"
    }
   ],
   "source": [
    "from sklearn.linear_model import LogisticRegression\n",
    "from sklearn import metrics\n",
    "logreg = LogisticRegression(max_iter=1500,verbose=1,random_state=42)\n",
    "logreg.fit(X_train_norm, y_train_norm)"
   ]
  },
  {
   "cell_type": "code",
   "execution_count": 521,
   "metadata": {},
   "outputs": [
    {
     "name": "stdout",
     "output_type": "stream",
     "text": [
      "Accuracy of logistic regression classifier on test set: 0.70\n",
      "             precision    recall  f1-score   support\n",
      "\n",
      "        0.0       0.56      0.69      0.62      4554\n",
      "        1.0       0.80      0.70      0.75      8227\n",
      "\n",
      "avg / total       0.72      0.70      0.70     12781\n",
      "\n"
     ]
    }
   ],
   "source": [
    "y_pred = logreg.predict(X_test_norm)\n",
    "print('Accuracy of logistic regression classifier on test set: {:.2f}'.format(logreg.score(X_test_norm, y_test_norm)))\n",
    "print(confusionmatrix(y_pred,y_test_norm))"
   ]
  },
  {
   "cell_type": "code",
   "execution_count": 522,
   "metadata": {},
   "outputs": [
    {
     "name": "stdout",
     "output_type": "stream",
     "text": [
      "[LibLinear][LibLinear][LibLinear][LibLinear][LibLinear][LibLinear][LibLinear][LibLinear][LibLinear][LibLinear][LibLinear][LibLinear][LibLinear][LibLinear][LibLinear][LibLinear][LibLinear][LibLinear][LibLinear][LibLinear]10-fold cross validation average accuracy: 0.688\n"
     ]
    }
   ],
   "source": [
    "#CV\n",
    "from sklearn import model_selection\n",
    "from sklearn.model_selection import cross_val_score\n",
    "kfold = model_selection.KFold(n_splits=20, random_state=42)\n",
    "modelCV = LogisticRegression(max_iter=1500,verbose=1,random_state=42)\n",
    "scoring = 'accuracy'\n",
    "results = model_selection.cross_val_score(modelCV, X_train_norm, y_train_norm, cv=kfold, scoring=scoring)\n",
    "\n",
    "print(\"10-fold cross validation average accuracy: %.3f\" % (results.mean()))"
   ]
  },
  {
   "cell_type": "code",
   "execution_count": 523,
   "metadata": {},
   "outputs": [
    {
     "name": "stdout",
     "output_type": "stream",
     "text": [
      "             precision    recall  f1-score   support\n",
      "\n",
      "        0.0       0.69      0.56      0.62      5569\n",
      "        1.0       0.70      0.80      0.75      7212\n",
      "\n",
      "avg / total       0.70      0.70      0.69     12781\n",
      "\n"
     ]
    }
   ],
   "source": [
    "print(confusionmatrix(y_test_norm,y_pred))"
   ]
  },
  {
   "cell_type": "code",
   "execution_count": 103,
   "metadata": {},
   "outputs": [],
   "source": [
    "## random forest"
   ]
  },
  {
   "cell_type": "code",
   "execution_count": 527,
   "metadata": {},
   "outputs": [
    {
     "name": "stdout",
     "output_type": "stream",
     "text": [
      "             precision    recall  f1-score   support\n",
      "\n",
      "        0.0       0.89      0.83      0.86      5569\n",
      "        1.0       0.87      0.92      0.90      7212\n",
      "\n",
      "avg / total       0.88      0.88      0.88     12781\n",
      "\n",
      "Accuracy: 0.8816993975432282\n"
     ]
    }
   ],
   "source": [
    "rf1 = RandomForestClassifier(n_estimators=1000,random_state=42,n_jobs=-1)\n",
    "rf1.fit(X_train_norm,y_train_norm)\n",
    "y_pred_rf1=rf1.predict(X_test_norm)\n",
    "print(confusionmatrix(y_test_norm,y_pred_rf1))\n",
    "print(\"Accuracy:\",metrics.accuracy_score(y_test_norm, y_pred_rf1))"
   ]
  },
  {
   "cell_type": "code",
   "execution_count": 530,
   "metadata": {},
   "outputs": [
    {
     "name": "stdout",
     "output_type": "stream",
     "text": [
      "             precision    recall  f1-score   support\n",
      "\n",
      "        0.0       0.89      0.83      0.86      5569\n",
      "        1.0       0.88      0.92      0.90      7212\n",
      "\n",
      "avg / total       0.88      0.88      0.88     12781\n",
      "\n",
      "Accuracy: 0.8834989437446209\n"
     ]
    }
   ],
   "source": [
    "rf2 = RandomForestClassifier(n_estimators=250,random_state=42,n_jobs=-1)\n",
    "rf2.fit(X_train_norm,y_train_norm)\n",
    "y_pred_rf2=rf2.predict(X_test_norm)\n",
    "print(confusionmatrix(y_test_norm,y_pred_rf2))\n",
    "print(\"Accuracy:\",metrics.accuracy_score(y_test_norm, y_pred_rf2))"
   ]
  },
  {
   "cell_type": "code",
   "execution_count": 531,
   "metadata": {},
   "outputs": [
    {
     "name": "stdout",
     "output_type": "stream",
     "text": [
      "             precision    recall  f1-score   support\n",
      "\n",
      "        0.0       0.89      0.84      0.86      5569\n",
      "        1.0       0.88      0.92      0.90      7212\n",
      "\n",
      "avg / total       0.88      0.88      0.88     12781\n",
      "\n",
      "Accuracy: 0.8836554260230028\n"
     ]
    }
   ],
   "source": [
    "rf4 = RandomForestClassifier(n_estimators=200,max_features=\"log2\",random_state=42,oob_score=True)\n",
    "rf4.fit(X_train_norm,y_train_norm)\n",
    "y_pred_rf4=rf4.predict(X_test_norm)\n",
    "print(confusionmatrix(y_test_norm,y_pred_rf4))\n",
    "print(\"Accuracy:\",metrics.accuracy_score(y_test_norm, y_pred_rf4))"
   ]
  },
  {
   "cell_type": "code",
   "execution_count": 532,
   "metadata": {},
   "outputs": [
    {
     "data": {
      "text/plain": [
       "0.8827375762859634"
      ]
     },
     "execution_count": 532,
     "metadata": {},
     "output_type": "execute_result"
    }
   ],
   "source": [
    "rf4.oob_score_"
   ]
  },
  {
   "cell_type": "code",
   "execution_count": 534,
   "metadata": {},
   "outputs": [
    {
     "data": {
      "image/png": "[encoded data removed]",
      "text/plain": [
       "<Figure size 432x288 with 1 Axes>"
      ]
     },
     "metadata": {},
     "output_type": "display_data"
    }
   ],
   "source": [
    "feature_imp = pd.Series(rf4.feature_importances_,index=X_train_norm.columns).sort_values(ascending=False)\n",
    "#feature_imp\n",
    "\n",
    "sns.barplot(x=feature_imp[:20], y=feature_imp.index[:20])\n",
    "# Add labels to your graph\n",
    "plt.xlabel('Feature Importance Score')\n",
    "plt.ylabel('Features')\n",
    "plt.title(\"Visualizing Important Features\")\n",
    "plt.show()"
   ]
  },
  {
   "cell_type": "code",
   "execution_count": null,
   "metadata": {},
   "outputs": [],
   "source": [
    "#publish the correlation study of above important features"
   ]
  },
  {
   "cell_type": "code",
   "execution_count": null,
   "metadata": {},
   "outputs": [],
   "source": []
  },
  {
   "cell_type": "code",
   "execution_count": null,
   "metadata": {},
   "outputs": [],
   "source": []
  },
  {
   "cell_type": "code",
   "execution_count": null,
   "metadata": {},
   "outputs": [],
   "source": []
  },
  {
   "cell_type": "code",
   "execution_count": null,
   "metadata": {},
   "outputs": [],
   "source": []
  },
  {
   "cell_type": "code",
   "execution_count": 170,
   "metadata": {},
   "outputs": [],
   "source": [
    "#Metric"
   ]
  },
  {
   "cell_type": "code",
   "execution_count": 536,
   "metadata": {},
   "outputs": [
    {
     "data": {
      "image/png": "[encoded data removed]",
      "text/plain": [
       "<Figure size 432x288 with 1 Axes>"
      ]
     },
     "metadata": {},
     "output_type": "display_data"
    }
   ],
   "source": [
    "False_Pos_Rate,True_Pos_Rate,ROC_CURVE = roccurve(y_pred_rf2,y_test_norm)\n",
    "plotroc(False_Pos_Rate,True_Pos_Rate,ROC_CURVE,'Receiver operating characteristic for Model - RF2')"
   ]
  },
  {
   "cell_type": "code",
   "execution_count": 537,
   "metadata": {},
   "outputs": [
    {
     "data": {
      "image/png": "[encoded data removed]",
      "text/plain": [
       "<Figure size 432x288 with 1 Axes>"
      ]
     },
     "metadata": {},
     "output_type": "display_data"
    }
   ],
   "source": [
    "False_Pos_Rate,True_Pos_Rate,ROC_CURVE = roccurve(y_pred_rf4,y_test_norm)\n",
    "plotroc(False_Pos_Rate,True_Pos_Rate,ROC_CURVE,'Receiver operating characteristic for Model - RF4')"
   ]
  },
  {
   "cell_type": "code",
   "execution_count": null,
   "metadata": {},
   "outputs": [],
   "source": []
  },
  {
   "cell_type": "code",
   "execution_count": 173,
   "metadata": {},
   "outputs": [],
   "source": [
    "#SVM "
   ]
  },
  {
   "cell_type": "code",
   "execution_count": 538,
   "metadata": {},
   "outputs": [
    {
     "name": "stdout",
     "output_type": "stream",
     "text": [
      "             precision    recall  f1-score   support\n",
      "\n",
      "        0.0       0.62      0.58      0.60      5569\n",
      "        1.0       0.69      0.73      0.71      7212\n",
      "\n",
      "avg / total       0.66      0.66      0.66     12781\n",
      "\n",
      "Accuracy: 0.6632501369219936\n"
     ]
    }
   ],
   "source": [
    "svm1 = svm.SVC(kernel='linear') # Linear Kernel\n",
    "svm1.fit(X_train_norm,y_train_norm)\n",
    "y_pred_svm1 = svm1.predict(X_test_norm)\n",
    "print(confusionmatrix(y_test_norm,y_pred_svm1))\n",
    "print(\"Accuracy:\",metrics.accuracy_score(y_test_norm, y_pred_svm1))"
   ]
  },
  {
   "cell_type": "code",
   "execution_count": 176,
   "metadata": {},
   "outputs": [],
   "source": [
    "\n",
    "\n"
   ]
  },
  {
   "cell_type": "code",
   "execution_count": 177,
   "metadata": {},
   "outputs": [
    {
     "name": "stdout",
     "output_type": "stream",
     "text": [
      "             precision    recall  f1-score   support\n",
      "\n",
      "          0       0.67      0.55      0.61      4385\n",
      "          1       0.69      0.78      0.73      5450\n",
      "\n",
      "avg / total       0.68      0.68      0.68      9835\n",
      "\n",
      "Accuracy: 0.680630401626843\n"
     ]
    }
   ],
   "source": [
    "\n",
    "# LinearSVC (linear kernel)\n",
    "lin_svc = svm.LinearSVC(C=1.0,random_state=42).fit(X_train_norm, y_train_norm)\n",
    "\n",
    "y_pred_svm2 = lin_svc.predict(X_test_norm)\n",
    "print(confusionmatrix(y_test_norm,y_pred_svm2))\n",
    "print(\"Accuracy:\",metrics.accuracy_score(y_test_norm, y_pred_svm2))"
   ]
  },
  {
   "cell_type": "code",
   "execution_count": 178,
   "metadata": {},
   "outputs": [
    {
     "name": "stdout",
     "output_type": "stream",
     "text": [
      "             precision    recall  f1-score   support\n",
      "\n",
      "          0       0.70      0.61      0.65      4385\n",
      "          1       0.71      0.80      0.75      5450\n",
      "\n",
      "avg / total       0.71      0.71      0.71      9835\n",
      "\n",
      "Accuracy: 0.7104219623792577\n"
     ]
    }
   ],
   "source": [
    "# SVC with RBF kernel\n",
    "rbf_svc = svm.SVC(kernel='rbf', gamma=0.7, C=1.0,random_state=42).fit(X_train_norm, y_train_norm)\n",
    "\n",
    "\n",
    "y_pred_svm3 = rbf_svc.predict(X_test_norm)\n",
    "print(confusionmatrix(y_test_norm,y_pred_svm3))\n",
    "print(\"Accuracy:\",metrics.accuracy_score(y_test_norm, y_pred_svm3))"
   ]
  },
  {
   "cell_type": "code",
   "execution_count": 179,
   "metadata": {
    "scrolled": true
   },
   "outputs": [
    {
     "name": "stdout",
     "output_type": "stream",
     "text": [
      "             precision    recall  f1-score   support\n",
      "\n",
      "          0       0.00      0.00      0.00      4385\n",
      "          1       0.55      1.00      0.71      5450\n",
      "\n",
      "avg / total       0.31      0.55      0.40      9835\n",
      "\n",
      "Accuracy: 0.5541433655312659\n"
     ]
    },
    {
     "name": "stderr",
     "output_type": "stream",
     "text": [
      "C:\\Users\\vbdon\\Anaconda3\\envs\\tensorflow\\lib\\site-packages\\sklearn\\metrics\\classification.py:1135: UndefinedMetricWarning: Precision and F-score are ill-defined and being set to 0.0 in labels with no predicted samples.\n",
      "  'precision', 'predicted', average, warn_for)\n"
     ]
    }
   ],
   "source": [
    "# SVC with polynomial (degree 3) kernel\n",
    "poly_svc = svm.SVC(kernel='poly', degree=3, C=1.0,random_state=42).fit(X_train_norm, y_train_norm)\n",
    "y_pred_svm4 = poly_svc.predict(X_test_norm)\n",
    "print(confusionmatrix(y_test_norm,y_pred_svm4))\n",
    "print(\"Accuracy:\",metrics.accuracy_score(y_test_norm, y_pred_svm4))"
   ]
  },
  {
   "cell_type": "code",
   "execution_count": 188,
   "metadata": {},
   "outputs": [
    {
     "name": "stdout",
     "output_type": "stream",
     "text": [
      "             precision    recall  f1-score   support\n",
      "\n",
      "          0       0.71      0.59      0.64      4385\n",
      "          1       0.71      0.81      0.76      5450\n",
      "\n",
      "avg / total       0.71      0.71      0.71      9835\n",
      "\n",
      "Accuracy: 0.710930350788002\n"
     ]
    }
   ],
   "source": [
    "\n",
    "\n",
    "y_pred_svm5 = rbf_svc1.predict(X_test_norm)\n",
    "print(confusionmatrix(y_test_norm,y_pred_svm5))\n",
    "print(\"Accuracy:\",metrics.accuracy_score(y_test_norm, y_pred_svm5))\n",
    "\n",
    "\n",
    "# 0.71 -  (c 1, g 0.8)\n",
    "# 0.68  - (c 0.1 g 0.8  )\n",
    "# 0.7240467717336044 - (c 10, g-1)\n",
    "# 0.710930350788002 - c 10, g 10"
   ]
  },
  {
   "cell_type": "code",
   "execution_count": 187,
   "metadata": {},
   "outputs": [],
   "source": [
    "# SVC with RBF kernel\n",
    "rbf_svc1 = svm.SVC(kernel='rbf', gamma=10, C=10,random_state=42).fit(X_train_norm, y_train_norm)\n"
   ]
  },
  {
   "cell_type": "code",
   "execution_count": 243,
   "metadata": {
    "scrolled": true
   },
   "outputs": [
    {
     "name": "stdout",
     "output_type": "stream",
     "text": [
      "_________________________________________________________________\n",
      "Layer (type)                 Output Shape              Param #   \n",
      "=================================================================\n",
      "dense_103 (Dense)            (None, 300)               156600    \n",
      "_________________________________________________________________\n",
      "dense_104 (Dense)            (None, 200)               60200     \n",
      "_________________________________________________________________\n",
      "dense_105 (Dense)            (None, 100)               20100     \n",
      "_________________________________________________________________\n",
      "dense_106 (Dense)            (None, 80)                8080      \n",
      "_________________________________________________________________\n",
      "dense_107 (Dense)            (None, 50)                4050      \n",
      "_________________________________________________________________\n",
      "dense_108 (Dense)            (None, 30)                1530      \n",
      "_________________________________________________________________\n",
      "dense_109 (Dense)            (None, 20)                620       \n",
      "_________________________________________________________________\n",
      "dense_110 (Dense)            (None, 10)                210       \n",
      "_________________________________________________________________\n",
      "dense_111 (Dense)            (None, 1)                 11        \n",
      "=================================================================\n",
      "Total params: 251,401\n",
      "Trainable params: 251,401\n",
      "Non-trainable params: 0\n",
      "_________________________________________________________________\n",
      "None\n",
      "Train on 20115 samples, validate on 6706 samples\n",
      "Epoch 1/500\n",
      "20115/20115 [==============================] - 4s 221us/step - loss: 0.6191 - acc: 0.6679 - val_loss: 0.5904 - val_acc: 0.6912\n",
      "Epoch 2/500\n",
      "20115/20115 [==============================] - 3s 128us/step - loss: 0.5814 - acc: 0.6959 - val_loss: 0.5968 - val_acc: 0.6849\n",
      "Epoch 3/500\n",
      "20115/20115 [==============================] - 3s 131us/step - loss: 0.5630 - acc: 0.7138 - val_loss: 0.5754 - val_acc: 0.7046\n",
      "Epoch 4/500\n",
      "20115/20115 [==============================] - 3s 132us/step - loss: 0.5462 - acc: 0.7249 - val_loss: 0.5666 - val_acc: 0.7094\n",
      "Epoch 5/500\n",
      "20115/20115 [==============================] - 3s 136us/step - loss: 0.5296 - acc: 0.7318 - val_loss: 0.5660 - val_acc: 0.7138\n",
      "Epoch 6/500\n",
      "20115/20115 [==============================] - 3s 132us/step - loss: 0.5127 - acc: 0.7433 - val_loss: 0.5668 - val_acc: 0.7177\n",
      "Epoch 7/500\n",
      "20115/20115 [==============================] - 3s 133us/step - loss: 0.4957 - acc: 0.7489 - val_loss: 0.5485 - val_acc: 0.7277\n",
      "Epoch 8/500\n",
      "20115/20115 [==============================] - 3s 133us/step - loss: 0.4750 - acc: 0.7660 - val_loss: 0.5875 - val_acc: 0.7314\n",
      "Epoch 9/500\n",
      "20115/20115 [==============================] - 3s 132us/step - loss: 0.4580 - acc: 0.7761 - val_loss: 0.5479 - val_acc: 0.7443\n",
      "Epoch 10/500\n",
      "20115/20115 [==============================] - 3s 135us/step - loss: 0.4365 - acc: 0.7895 - val_loss: 0.5286 - val_acc: 0.7541\n",
      "Epoch 11/500\n",
      "20115/20115 [==============================] - 3s 131us/step - loss: 0.4136 - acc: 0.8023 - val_loss: 0.5278 - val_acc: 0.7574\n",
      "Epoch 12/500\n",
      "20115/20115 [==============================] - 3s 132us/step - loss: 0.3955 - acc: 0.8155 - val_loss: 0.5428 - val_acc: 0.7704\n",
      "Epoch 13/500\n",
      "20115/20115 [==============================] - 3s 131us/step - loss: 0.3824 - acc: 0.8235 - val_loss: 0.5301 - val_acc: 0.7759\n",
      "Epoch 14/500\n",
      "20115/20115 [==============================] - 3s 133us/step - loss: 0.3657 - acc: 0.8305 - val_loss: 0.5837 - val_acc: 0.7759\n",
      "Epoch 15/500\n",
      "20115/20115 [==============================] - 3s 132us/step - loss: 0.3527 - acc: 0.8358 - val_loss: 0.5480 - val_acc: 0.7789\n",
      "Epoch 16/500\n",
      "20115/20115 [==============================] - 3s 131us/step - loss: 0.3431 - acc: 0.8411 - val_loss: 0.5587 - val_acc: 0.7853\n",
      "Epoch 17/500\n",
      "20115/20115 [==============================] - 3s 132us/step - loss: 0.3372 - acc: 0.8455 - val_loss: 0.5857 - val_acc: 0.7827\n",
      "Epoch 18/500\n",
      "20115/20115 [==============================] - 3s 131us/step - loss: 0.3267 - acc: 0.8476 - val_loss: 0.5479 - val_acc: 0.7908\n",
      "Epoch 19/500\n",
      "20115/20115 [==============================] - 3s 132us/step - loss: 0.3221 - acc: 0.8539 - val_loss: 0.5558 - val_acc: 0.7979\n",
      "Epoch 20/500\n",
      "20115/20115 [==============================] - 3s 131us/step - loss: 0.3087 - acc: 0.8561 - val_loss: 0.5525 - val_acc: 0.7965\n",
      "Epoch 21/500\n",
      "20115/20115 [==============================] - 3s 131us/step - loss: 0.3066 - acc: 0.8585 - val_loss: 0.5965 - val_acc: 0.7973\n",
      "Epoch 22/500\n",
      "20115/20115 [==============================] - 3s 131us/step - loss: 0.3003 - acc: 0.8611 - val_loss: 0.6260 - val_acc: 0.7932\n",
      "Epoch 23/500\n",
      "20115/20115 [==============================] - 3s 130us/step - loss: 0.2964 - acc: 0.8614 - val_loss: 0.5837 - val_acc: 0.7978\n",
      "Epoch 24/500\n",
      "20115/20115 [==============================] - 3s 132us/step - loss: 0.2829 - acc: 0.8694 - val_loss: 0.6383 - val_acc: 0.8078\n",
      "Epoch 25/500\n",
      "20115/20115 [==============================] - 3s 130us/step - loss: 0.2791 - acc: 0.8723 - val_loss: 0.6158 - val_acc: 0.8057\n",
      "Epoch 26/500\n",
      "20115/20115 [==============================] - 3s 131us/step - loss: 0.2769 - acc: 0.8740 - val_loss: 0.6603 - val_acc: 0.7960\n",
      "Epoch 27/500\n",
      "20115/20115 [==============================] - 3s 131us/step - loss: 0.2744 - acc: 0.8734 - val_loss: 0.6724 - val_acc: 0.7994\n",
      "Epoch 28/500\n",
      "20115/20115 [==============================] - 3s 132us/step - loss: 0.2751 - acc: 0.8756 - val_loss: 0.5792 - val_acc: 0.8130\n",
      "Epoch 29/500\n",
      "20115/20115 [==============================] - 3s 131us/step - loss: 0.2633 - acc: 0.8784 - val_loss: 0.6317 - val_acc: 0.8026\n",
      "Epoch 30/500\n",
      "20115/20115 [==============================] - 3s 131us/step - loss: 0.2635 - acc: 0.8783 - val_loss: 0.6431 - val_acc: 0.8120\n",
      "Epoch 31/500\n",
      "20115/20115 [==============================] - 3s 132us/step - loss: 0.2534 - acc: 0.8826 - val_loss: 0.7080 - val_acc: 0.8039\n",
      "Epoch 32/500\n",
      "20115/20115 [==============================] - 3s 133us/step - loss: 0.2560 - acc: 0.8841 - val_loss: 0.6981 - val_acc: 0.8057\n",
      "Epoch 33/500\n",
      "20115/20115 [==============================] - 3s 140us/step - loss: 0.2472 - acc: 0.8879 - val_loss: 0.6641 - val_acc: 0.8135\n",
      "Epoch 34/500\n",
      "20115/20115 [==============================] - 3s 129us/step - loss: 0.2449 - acc: 0.8892 - val_loss: 0.6626 - val_acc: 0.8109\n",
      "Epoch 35/500\n",
      "20115/20115 [==============================] - 3s 132us/step - loss: 0.2340 - acc: 0.8912 - val_loss: 0.6955 - val_acc: 0.8033\n",
      "Epoch 36/500\n",
      "20115/20115 [==============================] - 3s 131us/step - loss: 0.2401 - acc: 0.8881 - val_loss: 0.6988 - val_acc: 0.8097\n",
      "Epoch 37/500\n",
      "20115/20115 [==============================] - 3s 131us/step - loss: 0.2307 - acc: 0.8924 - val_loss: 0.6909 - val_acc: 0.8061\n",
      "Epoch 38/500\n",
      "20115/20115 [==============================] - 3s 133us/step - loss: 0.2289 - acc: 0.8935 - val_loss: 0.7496 - val_acc: 0.8067\n",
      "Epoch 39/500\n",
      "20115/20115 [==============================] - 3s 131us/step - loss: 0.2234 - acc: 0.8981 - val_loss: 0.7358 - val_acc: 0.8169\n",
      "Epoch 40/500\n",
      "20115/20115 [==============================] - 3s 130us/step - loss: 0.2222 - acc: 0.8964 - val_loss: 0.7569 - val_acc: 0.8084\n",
      "Epoch 41/500\n",
      "20115/20115 [==============================] - 3s 132us/step - loss: 0.2153 - acc: 0.8992 - val_loss: 0.7550 - val_acc: 0.8123\n",
      "Epoch 42/500\n",
      "20115/20115 [==============================] - 3s 132us/step - loss: 0.2138 - acc: 0.9003 - val_loss: 0.7739 - val_acc: 0.8136\n",
      "Epoch 43/500\n",
      "20115/20115 [==============================] - 3s 134us/step - loss: 0.2123 - acc: 0.9014 - val_loss: 0.7535 - val_acc: 0.8167\n",
      "Epoch 44/500\n",
      "20115/20115 [==============================] - 3s 130us/step - loss: 0.2142 - acc: 0.8999 - val_loss: 0.7245 - val_acc: 0.8129\n",
      "Epoch 45/500\n",
      "20115/20115 [==============================] - 3s 133us/step - loss: 0.2119 - acc: 0.9025 - val_loss: 0.7619 - val_acc: 0.8184\n",
      "Epoch 46/500\n",
      "20115/20115 [==============================] - 3s 132us/step - loss: 0.2052 - acc: 0.9019 - val_loss: 0.7395 - val_acc: 0.8096\n",
      "Epoch 47/500\n",
      "20115/20115 [==============================] - 3s 131us/step - loss: 0.2020 - acc: 0.9053 - val_loss: 0.7696 - val_acc: 0.8140\n",
      "Epoch 48/500\n"
     ]
    },
    {
     "name": "stdout",
     "output_type": "stream",
     "text": [
      "20115/20115 [==============================] - 3s 125us/step - loss: 0.2025 - acc: 0.9090 - val_loss: 0.7653 - val_acc: 0.8173\n",
      "Epoch 49/500\n",
      "20115/20115 [==============================] - 3s 129us/step - loss: 0.1980 - acc: 0.9063 - val_loss: 0.7616 - val_acc: 0.8129\n",
      "Epoch 50/500\n",
      "20115/20115 [==============================] - 3s 128us/step - loss: 0.1956 - acc: 0.9086 - val_loss: 0.7625 - val_acc: 0.8196\n",
      "Epoch 51/500\n",
      "20115/20115 [==============================] - 3s 125us/step - loss: 0.1977 - acc: 0.9085 - val_loss: 0.7544 - val_acc: 0.8145\n",
      "Epoch 52/500\n",
      "20115/20115 [==============================] - 3s 130us/step - loss: 0.1931 - acc: 0.9086 - val_loss: 0.7719 - val_acc: 0.8148\n",
      "Epoch 53/500\n",
      "20115/20115 [==============================] - 3s 132us/step - loss: 0.1884 - acc: 0.9122 - val_loss: 0.7707 - val_acc: 0.8120\n",
      "Epoch 54/500\n",
      "20115/20115 [==============================] - 3s 128us/step - loss: 0.1882 - acc: 0.9115 - val_loss: 0.8059 - val_acc: 0.8155\n",
      "Epoch 55/500\n",
      "20115/20115 [==============================] - 3s 132us/step - loss: 0.1867 - acc: 0.9119 - val_loss: 0.8223 - val_acc: 0.8152\n",
      "Epoch 56/500\n",
      "20115/20115 [==============================] - 3s 129us/step - loss: 0.1823 - acc: 0.9159 - val_loss: 0.8053 - val_acc: 0.8124\n",
      "Epoch 57/500\n",
      "20115/20115 [==============================] - 3s 133us/step - loss: 0.1791 - acc: 0.9157 - val_loss: 0.8212 - val_acc: 0.8187\n",
      "Epoch 58/500\n",
      "20115/20115 [==============================] - 3s 129us/step - loss: 0.1747 - acc: 0.9187 - val_loss: 0.8419 - val_acc: 0.8069\n",
      "Epoch 59/500\n",
      "20115/20115 [==============================] - 3s 131us/step - loss: 0.1815 - acc: 0.9171 - val_loss: 0.8689 - val_acc: 0.8184\n",
      "Epoch 60/500\n",
      "20115/20115 [==============================] - 3s 130us/step - loss: 0.1710 - acc: 0.9194 - val_loss: 0.8362 - val_acc: 0.8227\n",
      "Epoch 61/500\n",
      "20115/20115 [==============================] - 3s 129us/step - loss: 0.1686 - acc: 0.9222 - val_loss: 0.8001 - val_acc: 0.8140\n",
      "Epoch 62/500\n",
      "20115/20115 [==============================] - 3s 124us/step - loss: 0.1766 - acc: 0.9182 - val_loss: 0.7946 - val_acc: 0.8099\n",
      "Epoch 63/500\n",
      "20115/20115 [==============================] - 2s 123us/step - loss: 0.1762 - acc: 0.9194 - val_loss: 0.8345 - val_acc: 0.8111\n",
      "Epoch 64/500\n",
      "20115/20115 [==============================] - 3s 127us/step - loss: 0.1718 - acc: 0.9208 - val_loss: 0.8210 - val_acc: 0.8173\n",
      "Epoch 65/500\n",
      "20115/20115 [==============================] - 3s 131us/step - loss: 0.1626 - acc: 0.9241 - val_loss: 0.8351 - val_acc: 0.8152\n",
      "Epoch 66/500\n",
      "20115/20115 [==============================] - 3s 128us/step - loss: 0.1684 - acc: 0.9216 - val_loss: 0.8333 - val_acc: 0.8146\n",
      "Epoch 67/500\n",
      "20115/20115 [==============================] - 3s 127us/step - loss: 0.1615 - acc: 0.9256 - val_loss: 0.8822 - val_acc: 0.8106\n",
      "Epoch 68/500\n",
      "20115/20115 [==============================] - 3s 130us/step - loss: 0.1582 - acc: 0.9289 - val_loss: 0.8194 - val_acc: 0.8184\n",
      "Epoch 69/500\n",
      "20115/20115 [==============================] - 3s 127us/step - loss: 0.1620 - acc: 0.9248 - val_loss: 0.7900 - val_acc: 0.8179\n",
      "Epoch 70/500\n",
      "20115/20115 [==============================] - 3s 131us/step - loss: 0.1587 - acc: 0.9256 - val_loss: 0.8290 - val_acc: 0.8167\n",
      "Epoch 71/500\n",
      "20115/20115 [==============================] - 3s 130us/step - loss: 0.1575 - acc: 0.9271 - val_loss: 0.8861 - val_acc: 0.8148\n",
      "Epoch 72/500\n",
      "20115/20115 [==============================] - 2s 122us/step - loss: 0.1528 - acc: 0.9307 - val_loss: 0.8364 - val_acc: 0.8172\n",
      "Epoch 73/500\n",
      "20115/20115 [==============================] - 3s 126us/step - loss: 0.1613 - acc: 0.9258 - val_loss: 0.8925 - val_acc: 0.8176\n",
      "Epoch 74/500\n",
      "20115/20115 [==============================] - 3s 130us/step - loss: 0.1548 - acc: 0.9292 - val_loss: 0.8428 - val_acc: 0.8172\n",
      "Epoch 75/500\n",
      "20115/20115 [==============================] - 3s 130us/step - loss: 0.1468 - acc: 0.9310 - val_loss: 0.7954 - val_acc: 0.8146\n",
      "Epoch 76/500\n",
      "20115/20115 [==============================] - 3s 128us/step - loss: 0.1471 - acc: 0.9320 - val_loss: 0.8744 - val_acc: 0.8184\n",
      "Epoch 77/500\n",
      "20115/20115 [==============================] - 3s 131us/step - loss: 0.1530 - acc: 0.9304 - val_loss: 0.8038 - val_acc: 0.8218\n",
      "Epoch 78/500\n",
      "20115/20115 [==============================] - 3s 133us/step - loss: 0.1408 - acc: 0.9356 - val_loss: 0.8880 - val_acc: 0.8143\n",
      "Epoch 79/500\n",
      "20115/20115 [==============================] - 3s 132us/step - loss: 0.1422 - acc: 0.9342 - val_loss: 0.8866 - val_acc: 0.8164\n",
      "Epoch 80/500\n",
      "20115/20115 [==============================] - 2s 122us/step - loss: 0.1509 - acc: 0.9330 - val_loss: 0.8509 - val_acc: 0.8149\n",
      "Epoch 81/500\n",
      "20115/20115 [==============================] - 3s 137us/step - loss: 0.1486 - acc: 0.9331 - val_loss: 0.7971 - val_acc: 0.8203\n",
      "Epoch 82/500\n",
      "20115/20115 [==============================] - 3s 126us/step - loss: 0.1341 - acc: 0.9382 - val_loss: 0.8789 - val_acc: 0.8155\n",
      "Epoch 83/500\n",
      "20115/20115 [==============================] - 3s 129us/step - loss: 0.1462 - acc: 0.9342 - val_loss: 0.8272 - val_acc: 0.8197\n",
      "Epoch 84/500\n",
      "20115/20115 [==============================] - 3s 134us/step - loss: 0.1377 - acc: 0.9364 - val_loss: 0.9236 - val_acc: 0.8228\n",
      "Epoch 85/500\n",
      "20115/20115 [==============================] - 3s 133us/step - loss: 0.1488 - acc: 0.9318 - val_loss: 0.8040 - val_acc: 0.8224\n",
      "Epoch 86/500\n",
      "20115/20115 [==============================] - 3s 131us/step - loss: 0.1292 - acc: 0.9415 - val_loss: 0.8716 - val_acc: 0.8199\n",
      "Epoch 87/500\n",
      "20115/20115 [==============================] - 3s 132us/step - loss: 0.1354 - acc: 0.9382 - val_loss: 0.8894 - val_acc: 0.8230\n",
      "Epoch 88/500\n",
      "20115/20115 [==============================] - 3s 133us/step - loss: 0.1335 - acc: 0.9369 - val_loss: 0.8526 - val_acc: 0.8224\n",
      "Epoch 89/500\n",
      "20115/20115 [==============================] - 3s 133us/step - loss: 0.1367 - acc: 0.9399 - val_loss: 0.7781 - val_acc: 0.8166\n",
      "Epoch 90/500\n",
      "20115/20115 [==============================] - 3s 133us/step - loss: 0.1288 - acc: 0.9411 - val_loss: 0.9046 - val_acc: 0.8220\n",
      "Epoch 91/500\n",
      "20115/20115 [==============================] - 3s 132us/step - loss: 0.1393 - acc: 0.9379 - val_loss: 0.8435 - val_acc: 0.8267\n",
      "Epoch 92/500\n",
      "20115/20115 [==============================] - 3s 130us/step - loss: 0.1356 - acc: 0.9380 - val_loss: 0.8060 - val_acc: 0.8206\n",
      "Epoch 93/500\n",
      "20115/20115 [==============================] - 3s 131us/step - loss: 0.1277 - acc: 0.9425 - val_loss: 0.8776 - val_acc: 0.8151\n",
      "Epoch 94/500\n",
      "20115/20115 [==============================] - 3s 131us/step - loss: 0.1252 - acc: 0.9424 - val_loss: 0.9491 - val_acc: 0.8239\n",
      "Epoch 95/500\n",
      "20115/20115 [==============================] - 3s 133us/step - loss: 0.1318 - acc: 0.9415 - val_loss: 0.8404 - val_acc: 0.8252\n",
      "Epoch 96/500\n",
      "20115/20115 [==============================] - 3s 131us/step - loss: 0.1277 - acc: 0.9415 - val_loss: 0.7944 - val_acc: 0.8234\n",
      "Epoch 97/500\n",
      "20115/20115 [==============================] - 3s 140us/step - loss: 0.1298 - acc: 0.9427 - val_loss: 0.8599 - val_acc: 0.8206\n",
      "Epoch 98/500\n",
      "20115/20115 [==============================] - 3s 143us/step - loss: 0.1275 - acc: 0.9426 - val_loss: 0.9620 - val_acc: 0.8190\n",
      "Epoch 99/500\n",
      "20115/20115 [==============================] - 3s 138us/step - loss: 0.1306 - acc: 0.9419 - val_loss: 0.7944 - val_acc: 0.8221\n",
      "Epoch 100/500\n",
      "20115/20115 [==============================] - 3s 131us/step - loss: 0.1235 - acc: 0.9432 - val_loss: 0.9001 - val_acc: 0.8214\n",
      "Epoch 101/500\n",
      "20115/20115 [==============================] - 3s 129us/step - loss: 0.1338 - acc: 0.9399 - val_loss: 0.8077 - val_acc: 0.8245\n",
      "Epoch 102/500\n",
      "20115/20115 [==============================] - 3s 129us/step - loss: 0.1267 - acc: 0.9416 - val_loss: 0.9076 - val_acc: 0.8260\n",
      "Epoch 103/500\n",
      "20115/20115 [==============================] - 3s 131us/step - loss: 0.1214 - acc: 0.9452 - val_loss: 0.8620 - val_acc: 0.8246\n",
      "Epoch 104/500\n",
      "20115/20115 [==============================] - 3s 132us/step - loss: 0.1237 - acc: 0.9441 - val_loss: 0.9169 - val_acc: 0.8221\n",
      "Epoch 105/500\n",
      "20115/20115 [==============================] - 3s 131us/step - loss: 0.1232 - acc: 0.9447 - val_loss: 0.8714 - val_acc: 0.8237\n",
      "Epoch 106/500\n"
     ]
    },
    {
     "name": "stdout",
     "output_type": "stream",
     "text": [
      "20115/20115 [==============================] - 3s 132us/step - loss: 0.1200 - acc: 0.9471 - val_loss: 0.7981 - val_acc: 0.8249\n",
      "Epoch 107/500\n",
      "20115/20115 [==============================] - 3s 132us/step - loss: 0.1259 - acc: 0.9451 - val_loss: 0.8303 - val_acc: 0.8248\n",
      "Epoch 108/500\n",
      "20115/20115 [==============================] - 3s 132us/step - loss: 0.1176 - acc: 0.9481 - val_loss: 0.8323 - val_acc: 0.8228\n",
      "Epoch 109/500\n",
      "20115/20115 [==============================] - 3s 132us/step - loss: 0.1206 - acc: 0.9465 - val_loss: 0.8136 - val_acc: 0.8243\n",
      "Epoch 110/500\n",
      "20115/20115 [==============================] - 3s 133us/step - loss: 0.1179 - acc: 0.9471 - val_loss: 0.8309 - val_acc: 0.8161\n",
      "Epoch 111/500\n",
      "20115/20115 [==============================] - 3s 133us/step - loss: 0.1180 - acc: 0.9470 - val_loss: 0.8444 - val_acc: 0.8224\n",
      "Epoch 112/500\n",
      "20115/20115 [==============================] - 3s 132us/step - loss: 0.1184 - acc: 0.9471 - val_loss: 0.9431 - val_acc: 0.8261\n",
      "Epoch 113/500\n",
      "20115/20115 [==============================] - 3s 131us/step - loss: 0.1149 - acc: 0.9490 - val_loss: 0.9062 - val_acc: 0.8255\n",
      "Epoch 114/500\n",
      "20115/20115 [==============================] - 3s 133us/step - loss: 0.1129 - acc: 0.9491 - val_loss: 0.8394 - val_acc: 0.8172\n",
      "Epoch 115/500\n",
      "20115/20115 [==============================] - 3s 134us/step - loss: 0.1132 - acc: 0.9504 - val_loss: 0.8841 - val_acc: 0.8225\n",
      "Epoch 116/500\n",
      "20115/20115 [==============================] - 3s 132us/step - loss: 0.1117 - acc: 0.9498 - val_loss: 0.9227 - val_acc: 0.8221\n",
      "Epoch 117/500\n",
      "20115/20115 [==============================] - 3s 133us/step - loss: 0.1059 - acc: 0.9532 - val_loss: 1.0165 - val_acc: 0.8220\n",
      "Epoch 118/500\n",
      "20115/20115 [==============================] - 3s 133us/step - loss: 0.1116 - acc: 0.9509 - val_loss: 0.8786 - val_acc: 0.8205\n",
      "Epoch 119/500\n",
      "20115/20115 [==============================] - 3s 134us/step - loss: 0.1133 - acc: 0.9501 - val_loss: 0.9430 - val_acc: 0.8215\n",
      "Epoch 120/500\n",
      "20115/20115 [==============================] - 3s 132us/step - loss: 0.1173 - acc: 0.9495 - val_loss: 0.8069 - val_acc: 0.8237\n",
      "Epoch 121/500\n",
      "20115/20115 [==============================] - 3s 130us/step - loss: 0.1087 - acc: 0.9514 - val_loss: 0.9578 - val_acc: 0.8225\n",
      "Epoch 122/500\n",
      "20115/20115 [==============================] - 3s 132us/step - loss: 0.1093 - acc: 0.9508 - val_loss: 0.8824 - val_acc: 0.8211\n",
      "Epoch 123/500\n",
      "20115/20115 [==============================] - 3s 132us/step - loss: 0.1111 - acc: 0.9514 - val_loss: 0.9260 - val_acc: 0.8251\n",
      "Epoch 124/500\n",
      "20115/20115 [==============================] - 3s 140us/step - loss: 0.1090 - acc: 0.9522 - val_loss: 0.9063 - val_acc: 0.8239\n",
      "Epoch 125/500\n",
      "20115/20115 [==============================] - 3s 133us/step - loss: 0.1068 - acc: 0.9521 - val_loss: 0.8639 - val_acc: 0.8319\n",
      "Epoch 126/500\n",
      "20115/20115 [==============================] - 3s 132us/step - loss: 0.1006 - acc: 0.9559 - val_loss: 0.9799 - val_acc: 0.8285\n",
      "Epoch 127/500\n",
      "20115/20115 [==============================] - 3s 131us/step - loss: 0.1054 - acc: 0.9529 - val_loss: 0.9544 - val_acc: 0.8236\n",
      "Epoch 128/500\n",
      "20115/20115 [==============================] - 3s 133us/step - loss: 0.1056 - acc: 0.9534 - val_loss: 0.9502 - val_acc: 0.8215\n",
      "Epoch 129/500\n",
      "20115/20115 [==============================] - 3s 130us/step - loss: 0.1052 - acc: 0.9536 - val_loss: 0.8900 - val_acc: 0.8246\n",
      "Epoch 130/500\n",
      "20115/20115 [==============================] - 4s 192us/step - loss: 0.1080 - acc: 0.9516 - val_loss: 0.9096 - val_acc: 0.8257\n",
      "Epoch 131/500\n",
      "20115/20115 [==============================] - 3s 136us/step - loss: 0.1104 - acc: 0.9502 - val_loss: 0.8592 - val_acc: 0.8227\n",
      "Epoch 132/500\n",
      "20115/20115 [==============================] - 2s 96us/step - loss: 0.1019 - acc: 0.9554 - val_loss: 0.8925 - val_acc: 0.8222\n",
      "Epoch 133/500\n",
      "20115/20115 [==============================] - 2s 95us/step - loss: 0.1117 - acc: 0.9513 - val_loss: 0.9568 - val_acc: 0.8214\n",
      "Epoch 134/500\n",
      "20115/20115 [==============================] - 2s 95us/step - loss: 0.1000 - acc: 0.9564 - val_loss: 0.9546 - val_acc: 0.8245\n",
      "Epoch 135/500\n",
      "20115/20115 [==============================] - 2s 96us/step - loss: 0.1023 - acc: 0.9548 - val_loss: 0.9549 - val_acc: 0.8252\n",
      "Epoch 136/500\n",
      "20115/20115 [==============================] - 3s 152us/step - loss: 0.1017 - acc: 0.9559 - val_loss: 0.9627 - val_acc: 0.8260\n",
      "Epoch 137/500\n",
      "20115/20115 [==============================] - 6s 274us/step - loss: 0.1044 - acc: 0.9543 - val_loss: 0.9153 - val_acc: 0.8261\n",
      "Epoch 138/500\n",
      "20115/20115 [==============================] - 5s 268us/step - loss: 0.0985 - acc: 0.9559 - val_loss: 0.9411 - val_acc: 0.8203\n",
      "Epoch 139/500\n",
      "20115/20115 [==============================] - 5s 226us/step - loss: 0.0972 - acc: 0.9584 - val_loss: 0.8825 - val_acc: 0.8276\n",
      "Epoch 140/500\n",
      "20115/20115 [==============================] - 4s 190us/step - loss: 0.0999 - acc: 0.9559 - val_loss: 0.8687 - val_acc: 0.8224\n",
      "Epoch 141/500\n",
      "20115/20115 [==============================] - 3s 169us/step - loss: 0.1012 - acc: 0.9547 - val_loss: 0.8654 - val_acc: 0.8284\n",
      "Epoch 142/500\n",
      "20115/20115 [==============================] - 3s 162us/step - loss: 0.1033 - acc: 0.9566 - val_loss: 0.9029 - val_acc: 0.8220\n",
      "Epoch 143/500\n",
      "20115/20115 [==============================] - 3s 156us/step - loss: 0.1015 - acc: 0.9568 - val_loss: 0.8669 - val_acc: 0.8215\n",
      "Epoch 144/500\n",
      "20115/20115 [==============================] - 3s 151us/step - loss: 0.0947 - acc: 0.9581 - val_loss: 0.9742 - val_acc: 0.8248\n",
      "Epoch 145/500\n",
      "20115/20115 [==============================] - 3s 146us/step - loss: 0.1027 - acc: 0.9563 - val_loss: 0.8907 - val_acc: 0.8206\n",
      "Epoch 146/500\n",
      "20115/20115 [==============================] - 3s 141us/step - loss: 0.1063 - acc: 0.9551 - val_loss: 0.8375 - val_acc: 0.8240\n",
      "Epoch 147/500\n",
      "20115/20115 [==============================] - 3s 137us/step - loss: 0.0949 - acc: 0.9585 - val_loss: 0.9615 - val_acc: 0.8221\n",
      "Epoch 148/500\n",
      "20115/20115 [==============================] - 3s 128us/step - loss: 0.0948 - acc: 0.9581 - val_loss: 0.9586 - val_acc: 0.8230\n",
      "Epoch 149/500\n",
      "20115/20115 [==============================] - 3s 133us/step - loss: 0.0931 - acc: 0.9603 - val_loss: 0.9215 - val_acc: 0.8291\n",
      "Epoch 150/500\n",
      "20115/20115 [==============================] - 3s 129us/step - loss: 0.0888 - acc: 0.9601 - val_loss: 1.0121 - val_acc: 0.8248\n",
      "Epoch 151/500\n",
      "20115/20115 [==============================] - 3s 132us/step - loss: 0.0925 - acc: 0.9602 - val_loss: 0.9401 - val_acc: 0.8279\n",
      "Epoch 152/500\n",
      "20115/20115 [==============================] - 3s 131us/step - loss: 0.0927 - acc: 0.9587 - val_loss: 0.9425 - val_acc: 0.8257\n",
      "Epoch 153/500\n",
      "20115/20115 [==============================] - 3s 132us/step - loss: 0.0925 - acc: 0.9596 - val_loss: 0.9237 - val_acc: 0.8188\n",
      "Epoch 154/500\n",
      "20115/20115 [==============================] - 3s 132us/step - loss: 0.0932 - acc: 0.9595 - val_loss: 0.9003 - val_acc: 0.8185\n",
      "Epoch 155/500\n",
      "20115/20115 [==============================] - 3s 132us/step - loss: 0.1037 - acc: 0.9544 - val_loss: 0.9600 - val_acc: 0.8218\n",
      "Epoch 156/500\n",
      "20115/20115 [==============================] - 3s 132us/step - loss: 0.0972 - acc: 0.9572 - val_loss: 0.9725 - val_acc: 0.8240\n",
      "Epoch 157/500\n",
      "20115/20115 [==============================] - 3s 134us/step - loss: 0.0936 - acc: 0.9589 - val_loss: 0.9473 - val_acc: 0.8254\n",
      "Epoch 158/500\n",
      "20115/20115 [==============================] - 3s 131us/step - loss: 0.0920 - acc: 0.9599 - val_loss: 0.8945 - val_acc: 0.8233\n",
      "Epoch 159/500\n",
      "20115/20115 [==============================] - 3s 132us/step - loss: 0.0902 - acc: 0.9603 - val_loss: 0.9495 - val_acc: 0.8233\n",
      "Epoch 160/500\n",
      "20115/20115 [==============================] - 3s 130us/step - loss: 0.0941 - acc: 0.9591 - val_loss: 0.9551 - val_acc: 0.8252\n",
      "Epoch 161/500\n",
      "20115/20115 [==============================] - 3s 131us/step - loss: 0.0895 - acc: 0.9612 - val_loss: 1.0822 - val_acc: 0.8285\n",
      "Epoch 162/500\n",
      "20115/20115 [==============================] - 3s 130us/step - loss: 0.0883 - acc: 0.9628 - val_loss: 0.9456 - val_acc: 0.8239\n",
      "Epoch 163/500\n",
      "20115/20115 [==============================] - 3s 133us/step - loss: 0.0851 - acc: 0.9626 - val_loss: 1.0071 - val_acc: 0.8220\n",
      "Epoch 164/500\n"
     ]
    },
    {
     "name": "stdout",
     "output_type": "stream",
     "text": [
      "20115/20115 [==============================] - 3s 132us/step - loss: 0.0922 - acc: 0.9615 - val_loss: 0.8798 - val_acc: 0.8212\n",
      "Epoch 165/500\n",
      "20115/20115 [==============================] - 3s 131us/step - loss: 0.0830 - acc: 0.9645 - val_loss: 1.0971 - val_acc: 0.8240\n",
      "Epoch 166/500\n",
      "20115/20115 [==============================] - 3s 143us/step - loss: 0.0928 - acc: 0.9616 - val_loss: 0.9747 - val_acc: 0.8257\n",
      "Epoch 167/500\n",
      "20115/20115 [==============================] - 3s 132us/step - loss: 0.0835 - acc: 0.9642 - val_loss: 0.9493 - val_acc: 0.8303\n",
      "Epoch 168/500\n",
      "20115/20115 [==============================] - 2s 122us/step - loss: 0.0876 - acc: 0.9621 - val_loss: 1.0017 - val_acc: 0.8276\n",
      "Epoch 169/500\n",
      "20115/20115 [==============================] - 2s 101us/step - loss: 0.0838 - acc: 0.9635 - val_loss: 0.9507 - val_acc: 0.8272\n",
      "Epoch 170/500\n",
      "20115/20115 [==============================] - 2s 103us/step - loss: 0.0900 - acc: 0.9618 - val_loss: 0.9204 - val_acc: 0.8228\n",
      "Epoch 171/500\n",
      "20115/20115 [==============================] - 2s 93us/step - loss: 0.0888 - acc: 0.9611 - val_loss: 0.9125 - val_acc: 0.8290\n",
      "Epoch 172/500\n",
      "20115/20115 [==============================] - 2s 97us/step - loss: 0.0862 - acc: 0.9634 - val_loss: 0.9890 - val_acc: 0.8240\n",
      "Epoch 173/500\n",
      "20115/20115 [==============================] - 2s 106us/step - loss: 0.0920 - acc: 0.9603 - val_loss: 0.9096 - val_acc: 0.8287\n",
      "Epoch 174/500\n",
      "20115/20115 [==============================] - 3s 126us/step - loss: 0.0832 - acc: 0.9638 - val_loss: 1.0347 - val_acc: 0.8212\n",
      "Epoch 175/500\n",
      "20115/20115 [==============================] - 3s 128us/step - loss: 0.0870 - acc: 0.9623 - val_loss: 1.0823 - val_acc: 0.8278\n",
      "Epoch 176/500\n",
      "20115/20115 [==============================] - 3s 126us/step - loss: 0.0838 - acc: 0.9641 - val_loss: 1.0394 - val_acc: 0.8272\n",
      "Epoch 177/500\n",
      "20115/20115 [==============================] - 3s 130us/step - loss: 0.0823 - acc: 0.9643 - val_loss: 0.9589 - val_acc: 0.8258\n",
      "Epoch 178/500\n",
      "20115/20115 [==============================] - 3s 129us/step - loss: 0.0846 - acc: 0.9649 - val_loss: 0.9939 - val_acc: 0.8230\n",
      "Epoch 179/500\n",
      "20115/20115 [==============================] - 3s 125us/step - loss: 0.0868 - acc: 0.9618 - val_loss: 0.9365 - val_acc: 0.8190\n",
      "Epoch 180/500\n",
      "20115/20115 [==============================] - 3s 127us/step - loss: 0.0894 - acc: 0.9627 - val_loss: 0.8952 - val_acc: 0.8251\n",
      "Epoch 181/500\n",
      "20115/20115 [==============================] - 3s 126us/step - loss: 0.0829 - acc: 0.9634 - val_loss: 1.0229 - val_acc: 0.8252\n",
      "Epoch 182/500\n",
      "20115/20115 [==============================] - 3s 126us/step - loss: 0.0777 - acc: 0.9645 - val_loss: 1.0249 - val_acc: 0.8299\n",
      "Epoch 183/500\n",
      "20115/20115 [==============================] - 2s 123us/step - loss: 0.0849 - acc: 0.9631 - val_loss: 0.9566 - val_acc: 0.8263\n",
      "Epoch 184/500\n",
      "20115/20115 [==============================] - 3s 130us/step - loss: 0.0817 - acc: 0.9637 - val_loss: 1.0204 - val_acc: 0.8273\n",
      "Epoch 185/500\n",
      "20115/20115 [==============================] - 3s 132us/step - loss: 0.0801 - acc: 0.9640 - val_loss: 1.0101 - val_acc: 0.8299\n",
      "Epoch 186/500\n",
      "20115/20115 [==============================] - 3s 129us/step - loss: 0.0774 - acc: 0.9676 - val_loss: 1.0248 - val_acc: 0.8248\n",
      "Epoch 187/500\n",
      "20115/20115 [==============================] - 3s 129us/step - loss: 0.0767 - acc: 0.9653 - val_loss: 1.0388 - val_acc: 0.8231\n",
      "Epoch 188/500\n",
      "20115/20115 [==============================] - 2s 124us/step - loss: 0.0789 - acc: 0.9654 - val_loss: 0.9735 - val_acc: 0.8285\n",
      "Epoch 189/500\n",
      "20115/20115 [==============================] - 3s 125us/step - loss: 0.0780 - acc: 0.9654 - val_loss: 0.9525 - val_acc: 0.8251\n",
      "Epoch 190/500\n",
      "20115/20115 [==============================] - 2s 124us/step - loss: 0.0778 - acc: 0.9653 - val_loss: 1.0689 - val_acc: 0.8300\n",
      "Epoch 191/500\n",
      "20115/20115 [==============================] - 3s 127us/step - loss: 0.0808 - acc: 0.9647 - val_loss: 1.0373 - val_acc: 0.8285\n",
      "Epoch 192/500\n",
      "20115/20115 [==============================] - 3s 125us/step - loss: 0.0825 - acc: 0.9646 - val_loss: 0.8424 - val_acc: 0.8273\n",
      "Epoch 193/500\n",
      "20115/20115 [==============================] - 2s 123us/step - loss: 0.0834 - acc: 0.9646 - val_loss: 0.9918 - val_acc: 0.8211\n",
      "Epoch 194/500\n",
      "20115/20115 [==============================] - 2s 123us/step - loss: 0.0772 - acc: 0.9656 - val_loss: 0.9096 - val_acc: 0.8288\n",
      "Epoch 195/500\n",
      "20115/20115 [==============================] - 3s 128us/step - loss: 0.0808 - acc: 0.9652 - val_loss: 1.0007 - val_acc: 0.8316\n",
      "Epoch 196/500\n",
      "20115/20115 [==============================] - 3s 127us/step - loss: 0.0802 - acc: 0.9644 - val_loss: 0.9080 - val_acc: 0.8282\n",
      "Epoch 197/500\n",
      "20115/20115 [==============================] - 2s 124us/step - loss: 0.0719 - acc: 0.9686 - val_loss: 0.9769 - val_acc: 0.8264\n",
      "Epoch 198/500\n",
      "20115/20115 [==============================] - 3s 126us/step - loss: 0.0727 - acc: 0.9676 - val_loss: 1.1253 - val_acc: 0.8266\n",
      "Epoch 199/500\n",
      "20115/20115 [==============================] - 3s 128us/step - loss: 0.0701 - acc: 0.9696 - val_loss: 1.0660 - val_acc: 0.8287\n",
      "Epoch 200/500\n",
      "20115/20115 [==============================] - 2s 96us/step - loss: 0.0745 - acc: 0.9669 - val_loss: 1.0033 - val_acc: 0.8272\n",
      "Epoch 201/500\n",
      "20115/20115 [==============================] - 2s 96us/step - loss: 0.0767 - acc: 0.9662 - val_loss: 0.9994 - val_acc: 0.8263\n",
      "Epoch 202/500\n",
      "20115/20115 [==============================] - 2s 98us/step - loss: 0.0775 - acc: 0.9659 - val_loss: 0.9588 - val_acc: 0.8293\n",
      "Epoch 203/500\n",
      "20115/20115 [==============================] - 2s 96us/step - loss: 0.0753 - acc: 0.9664 - val_loss: 1.0230 - val_acc: 0.8348\n",
      "Epoch 204/500\n",
      "20115/20115 [==============================] - 2s 96us/step - loss: 0.0894 - acc: 0.9626 - val_loss: 0.9430 - val_acc: 0.8251\n",
      "Epoch 205/500\n",
      "20115/20115 [==============================] - 3s 125us/step - loss: 0.0783 - acc: 0.9649 - val_loss: 1.0342 - val_acc: 0.8302\n",
      "Epoch 206/500\n",
      "20115/20115 [==============================] - 3s 127us/step - loss: 0.0744 - acc: 0.9663 - val_loss: 1.0555 - val_acc: 0.8360\n",
      "Epoch 207/500\n",
      "20115/20115 [==============================] - 3s 127us/step - loss: 0.0769 - acc: 0.9664 - val_loss: 0.9070 - val_acc: 0.8270\n",
      "Epoch 208/500\n",
      "20115/20115 [==============================] - 3s 132us/step - loss: 0.0751 - acc: 0.9661 - val_loss: 0.9882 - val_acc: 0.8284\n",
      "Epoch 209/500\n",
      "20115/20115 [==============================] - 3s 133us/step - loss: 0.0706 - acc: 0.9697 - val_loss: 1.0282 - val_acc: 0.8310\n",
      "Epoch 210/500\n",
      "20115/20115 [==============================] - 3s 132us/step - loss: 0.0740 - acc: 0.9688 - val_loss: 0.9325 - val_acc: 0.8288\n",
      "Epoch 211/500\n",
      "20115/20115 [==============================] - 3s 133us/step - loss: 0.0816 - acc: 0.9644 - val_loss: 1.0192 - val_acc: 0.8310\n",
      "Epoch 212/500\n",
      "20115/20115 [==============================] - 3s 130us/step - loss: 0.0723 - acc: 0.9689 - val_loss: 1.0540 - val_acc: 0.8266\n",
      "Epoch 213/500\n",
      "20115/20115 [==============================] - 3s 129us/step - loss: 0.0779 - acc: 0.9679 - val_loss: 1.0006 - val_acc: 0.8254\n",
      "Epoch 214/500\n",
      "20115/20115 [==============================] - 3s 132us/step - loss: 0.0745 - acc: 0.9685 - val_loss: 1.0067 - val_acc: 0.8331\n",
      "Epoch 215/500\n",
      "20115/20115 [==============================] - 3s 141us/step - loss: 0.0742 - acc: 0.9677 - val_loss: 1.0487 - val_acc: 0.8313\n",
      "Epoch 216/500\n",
      "20115/20115 [==============================] - 3s 132us/step - loss: 0.0733 - acc: 0.9685 - val_loss: 0.9629 - val_acc: 0.8336\n",
      "Epoch 217/500\n",
      "20115/20115 [==============================] - 3s 131us/step - loss: 0.0654 - acc: 0.9708 - val_loss: 1.1438 - val_acc: 0.8306\n",
      "Epoch 218/500\n",
      "20115/20115 [==============================] - 3s 131us/step - loss: 0.0763 - acc: 0.9674 - val_loss: 0.9239 - val_acc: 0.8324\n",
      "Epoch 219/500\n",
      "20115/20115 [==============================] - 3s 132us/step - loss: 0.0688 - acc: 0.9693 - val_loss: 1.0612 - val_acc: 0.8234\n",
      "Epoch 220/500\n",
      "20115/20115 [==============================] - 3s 130us/step - loss: 0.0709 - acc: 0.9689 - val_loss: 0.9956 - val_acc: 0.8273\n",
      "Epoch 221/500\n",
      "20115/20115 [==============================] - 3s 131us/step - loss: 0.0711 - acc: 0.9690 - val_loss: 0.9301 - val_acc: 0.8291\n",
      "Epoch 222/500\n"
     ]
    },
    {
     "name": "stdout",
     "output_type": "stream",
     "text": [
      "20115/20115 [==============================] - 3s 131us/step - loss: 0.0739 - acc: 0.9675 - val_loss: 1.0442 - val_acc: 0.8318\n",
      "Epoch 223/500\n",
      "20115/20115 [==============================] - 3s 131us/step - loss: 0.0742 - acc: 0.9685 - val_loss: 0.9552 - val_acc: 0.8310\n",
      "Epoch 224/500\n",
      "20115/20115 [==============================] - 3s 132us/step - loss: 0.0722 - acc: 0.9684 - val_loss: 0.8868 - val_acc: 0.8282\n",
      "Epoch 225/500\n",
      "20115/20115 [==============================] - 3s 132us/step - loss: 0.0706 - acc: 0.9694 - val_loss: 1.0417 - val_acc: 0.8336\n",
      "Epoch 226/500\n",
      "20115/20115 [==============================] - 3s 132us/step - loss: 0.0706 - acc: 0.9697 - val_loss: 1.0812 - val_acc: 0.8264\n",
      "Epoch 227/500\n",
      "20115/20115 [==============================] - 3s 131us/step - loss: 0.0671 - acc: 0.9712 - val_loss: 1.0364 - val_acc: 0.8305\n",
      "Epoch 228/500\n",
      "20115/20115 [==============================] - 3s 126us/step - loss: 0.0661 - acc: 0.9721 - val_loss: 1.0182 - val_acc: 0.8328\n",
      "Epoch 229/500\n",
      "20115/20115 [==============================] - 3s 131us/step - loss: 0.0669 - acc: 0.9714 - val_loss: 1.0609 - val_acc: 0.8263\n",
      "Epoch 230/500\n",
      "20115/20115 [==============================] - 3s 127us/step - loss: 0.0716 - acc: 0.9695 - val_loss: 0.9137 - val_acc: 0.8327\n",
      "Epoch 231/500\n",
      "20115/20115 [==============================] - 3s 138us/step - loss: 0.0711 - acc: 0.9688 - val_loss: 1.0564 - val_acc: 0.8339\n",
      "Epoch 232/500\n",
      "20115/20115 [==============================] - 3s 130us/step - loss: 0.0659 - acc: 0.9714 - val_loss: 1.0576 - val_acc: 0.8319\n",
      "Epoch 233/500\n",
      "20115/20115 [==============================] - 3s 130us/step - loss: 0.0635 - acc: 0.9720 - val_loss: 1.0487 - val_acc: 0.8270\n",
      "Epoch 234/500\n",
      "20115/20115 [==============================] - 3s 125us/step - loss: 0.0725 - acc: 0.9682 - val_loss: 0.9320 - val_acc: 0.8267\n",
      "Epoch 235/500\n",
      "20115/20115 [==============================] - 2s 124us/step - loss: 0.0759 - acc: 0.9675 - val_loss: 1.0063 - val_acc: 0.8303\n",
      "Epoch 236/500\n",
      "20115/20115 [==============================] - 3s 125us/step - loss: 0.0673 - acc: 0.9718 - val_loss: 0.9937 - val_acc: 0.8305\n",
      "Epoch 237/500\n",
      "20115/20115 [==============================] - 2s 124us/step - loss: 0.0695 - acc: 0.9698 - val_loss: 0.9733 - val_acc: 0.8273\n",
      "Epoch 238/500\n",
      "20115/20115 [==============================] - 3s 125us/step - loss: 0.0696 - acc: 0.9708 - val_loss: 1.0020 - val_acc: 0.8287\n",
      "Epoch 239/500\n",
      "20115/20115 [==============================] - 2s 123us/step - loss: 0.0680 - acc: 0.9702 - val_loss: 0.9678 - val_acc: 0.8303\n",
      "Epoch 240/500\n",
      "20115/20115 [==============================] - 3s 128us/step - loss: 0.0676 - acc: 0.9701 - val_loss: 0.9333 - val_acc: 0.8349\n",
      "Epoch 241/500\n",
      "20115/20115 [==============================] - 3s 132us/step - loss: 0.0667 - acc: 0.9712 - val_loss: 1.0093 - val_acc: 0.8339\n",
      "Epoch 242/500\n",
      "20115/20115 [==============================] - 3s 131us/step - loss: 0.0736 - acc: 0.9677 - val_loss: 0.9519 - val_acc: 0.8299\n",
      "Epoch 243/500\n",
      "20115/20115 [==============================] - 3s 127us/step - loss: 0.0679 - acc: 0.9721 - val_loss: 0.9217 - val_acc: 0.8325\n",
      "Epoch 244/500\n",
      "20115/20115 [==============================] - 3s 130us/step - loss: 0.0655 - acc: 0.9716 - val_loss: 0.9943 - val_acc: 0.8324\n",
      "Epoch 245/500\n",
      "20115/20115 [==============================] - 3s 125us/step - loss: 0.0632 - acc: 0.9723 - val_loss: 0.9624 - val_acc: 0.8324\n",
      "Epoch 246/500\n",
      "20115/20115 [==============================] - 3s 125us/step - loss: 0.0632 - acc: 0.9723 - val_loss: 0.9635 - val_acc: 0.8337\n",
      "Epoch 247/500\n",
      "20115/20115 [==============================] - 3s 130us/step - loss: 0.0677 - acc: 0.9702 - val_loss: 0.9805 - val_acc: 0.8319\n",
      "Epoch 248/500\n",
      "20115/20115 [==============================] - 3s 130us/step - loss: 0.0621 - acc: 0.9730 - val_loss: 1.0886 - val_acc: 0.8309\n",
      "Epoch 249/500\n",
      "20115/20115 [==============================] - 3s 132us/step - loss: 0.0688 - acc: 0.9720 - val_loss: 0.9964 - val_acc: 0.8325\n",
      "Epoch 250/500\n",
      "20115/20115 [==============================] - 3s 134us/step - loss: 0.0701 - acc: 0.9708 - val_loss: 0.9855 - val_acc: 0.8276\n",
      "Epoch 251/500\n",
      "20115/20115 [==============================] - 3s 132us/step - loss: 0.0653 - acc: 0.9715 - val_loss: 0.9772 - val_acc: 0.8302\n",
      "Epoch 252/500\n",
      "20115/20115 [==============================] - 3s 132us/step - loss: 0.0630 - acc: 0.9718 - val_loss: 0.9969 - val_acc: 0.8406\n",
      "Epoch 253/500\n",
      "20115/20115 [==============================] - 3s 135us/step - loss: 0.0671 - acc: 0.9721 - val_loss: 0.8847 - val_acc: 0.8334\n",
      "Epoch 254/500\n",
      "20115/20115 [==============================] - 3s 127us/step - loss: 0.0667 - acc: 0.9724 - val_loss: 0.9492 - val_acc: 0.8275\n",
      "Epoch 255/500\n",
      "20115/20115 [==============================] - 3s 126us/step - loss: 0.0673 - acc: 0.9735 - val_loss: 0.9748 - val_acc: 0.8282\n",
      "Epoch 256/500\n",
      "20115/20115 [==============================] - 3s 126us/step - loss: 0.0670 - acc: 0.9724 - val_loss: 1.0705 - val_acc: 0.8285\n",
      "Epoch 257/500\n",
      "20115/20115 [==============================] - 3s 131us/step - loss: 0.0743 - acc: 0.9682 - val_loss: 1.0195 - val_acc: 0.8337\n",
      "Epoch 258/500\n",
      "20115/20115 [==============================] - 3s 132us/step - loss: 0.0704 - acc: 0.9701 - val_loss: 1.0571 - val_acc: 0.8357\n",
      "Epoch 259/500\n",
      "20115/20115 [==============================] - 3s 130us/step - loss: 0.0687 - acc: 0.9714 - val_loss: 0.9523 - val_acc: 0.8306\n",
      "Epoch 260/500\n",
      "20115/20115 [==============================] - 3s 126us/step - loss: 0.0613 - acc: 0.9745 - val_loss: 1.0521 - val_acc: 0.8373\n",
      "Epoch 261/500\n",
      "20115/20115 [==============================] - 3s 131us/step - loss: 0.0700 - acc: 0.9701 - val_loss: 1.0374 - val_acc: 0.8312\n",
      "Epoch 262/500\n",
      "20115/20115 [==============================] - 3s 130us/step - loss: 0.0671 - acc: 0.9713 - val_loss: 1.0595 - val_acc: 0.8345\n",
      "Epoch 263/500\n",
      "20115/20115 [==============================] - 3s 129us/step - loss: 0.0648 - acc: 0.9724 - val_loss: 1.0145 - val_acc: 0.8319\n",
      "Epoch 264/500\n",
      "20115/20115 [==============================] - 3s 128us/step - loss: 0.0634 - acc: 0.9729 - val_loss: 1.0574 - val_acc: 0.8321\n",
      "Epoch 265/500\n",
      "20115/20115 [==============================] - 3s 127us/step - loss: 0.0623 - acc: 0.9746 - val_loss: 0.9922 - val_acc: 0.8331\n",
      "Epoch 266/500\n",
      "20115/20115 [==============================] - 3s 127us/step - loss: 0.0611 - acc: 0.9735 - val_loss: 0.9727 - val_acc: 0.8307\n",
      "Epoch 267/500\n",
      "20115/20115 [==============================] - 3s 128us/step - loss: 0.0680 - acc: 0.9726 - val_loss: 0.9811 - val_acc: 0.8324\n",
      "Epoch 268/500\n",
      "20115/20115 [==============================] - 2s 90us/step - loss: 0.0650 - acc: 0.9725 - val_loss: 1.0121 - val_acc: 0.8318\n",
      "Epoch 269/500\n",
      "20115/20115 [==============================] - 2s 88us/step - loss: 0.0633 - acc: 0.9740 - val_loss: 1.0025 - val_acc: 0.8288\n",
      "Epoch 270/500\n",
      "20115/20115 [==============================] - 2s 88us/step - loss: 0.0643 - acc: 0.9724 - val_loss: 1.0738 - val_acc: 0.8294\n",
      "Epoch 271/500\n",
      "20115/20115 [==============================] - 2s 88us/step - loss: 0.0712 - acc: 0.9701 - val_loss: 0.9881 - val_acc: 0.8275\n",
      "Epoch 272/500\n",
      "20115/20115 [==============================] - 2s 90us/step - loss: 0.0669 - acc: 0.9712 - val_loss: 0.9602 - val_acc: 0.8369\n",
      "Epoch 273/500\n",
      "20115/20115 [==============================] - 3s 141us/step - loss: 0.0659 - acc: 0.9724 - val_loss: 1.0631 - val_acc: 0.8385\n",
      "Epoch 274/500\n",
      "20115/20115 [==============================] - 3s 159us/step - loss: 0.0661 - acc: 0.9734 - val_loss: 0.9204 - val_acc: 0.8325\n",
      "Epoch 275/500\n",
      "20115/20115 [==============================] - 3s 156us/step - loss: 0.0639 - acc: 0.9733 - val_loss: 1.0251 - val_acc: 0.8312\n",
      "Epoch 276/500\n",
      "20115/20115 [==============================] - 3s 158us/step - loss: 0.0588 - acc: 0.9748 - val_loss: 1.0584 - val_acc: 0.8331\n",
      "Epoch 277/500\n",
      "20115/20115 [==============================] - 3s 158us/step - loss: 0.0563 - acc: 0.9756 - val_loss: 1.0281 - val_acc: 0.8343\n",
      "Epoch 278/500\n",
      "20115/20115 [==============================] - 3s 158us/step - loss: 0.0589 - acc: 0.9756 - val_loss: 0.9867 - val_acc: 0.8358\n",
      "Epoch 279/500\n",
      "20115/20115 [==============================] - 3s 157us/step - loss: 0.0557 - acc: 0.9757 - val_loss: 1.0086 - val_acc: 0.8282\n",
      "Epoch 280/500\n"
     ]
    },
    {
     "name": "stdout",
     "output_type": "stream",
     "text": [
      "20115/20115 [==============================] - 3s 157us/step - loss: 0.0606 - acc: 0.9740 - val_loss: 1.1039 - val_acc: 0.8342\n",
      "Epoch 281/500\n",
      "20115/20115 [==============================] - 3s 157us/step - loss: 0.0626 - acc: 0.9744 - val_loss: 0.9713 - val_acc: 0.8366\n",
      "Epoch 282/500\n",
      "20115/20115 [==============================] - 3s 157us/step - loss: 0.0613 - acc: 0.9754 - val_loss: 0.9641 - val_acc: 0.8316\n",
      "Epoch 283/500\n",
      "20115/20115 [==============================] - 3s 160us/step - loss: 0.0585 - acc: 0.9749 - val_loss: 0.9476 - val_acc: 0.8276\n",
      "Epoch 284/500\n",
      "20115/20115 [==============================] - 3s 158us/step - loss: 0.0608 - acc: 0.9737 - val_loss: 1.0721 - val_acc: 0.8293\n",
      "Epoch 285/500\n",
      "20115/20115 [==============================] - 3s 145us/step - loss: 0.0838 - acc: 0.9651 - val_loss: 0.9720 - val_acc: 0.8334\n",
      "Epoch 286/500\n",
      "20115/20115 [==============================] - 3s 127us/step - loss: 0.0588 - acc: 0.9756 - val_loss: 1.0442 - val_acc: 0.8376\n",
      "Epoch 287/500\n",
      "20115/20115 [==============================] - 3s 125us/step - loss: 0.0508 - acc: 0.9781 - val_loss: 1.0878 - val_acc: 0.8378\n",
      "Epoch 288/500\n",
      "20115/20115 [==============================] - 2s 123us/step - loss: 0.0591 - acc: 0.9756 - val_loss: 1.0857 - val_acc: 0.8288\n",
      "Epoch 289/500\n",
      "20115/20115 [==============================] - 3s 125us/step - loss: 0.0606 - acc: 0.9747 - val_loss: 1.1131 - val_acc: 0.8370\n",
      "Epoch 290/500\n",
      "20115/20115 [==============================] - 3s 127us/step - loss: 0.0669 - acc: 0.9715 - val_loss: 0.9880 - val_acc: 0.8351\n",
      "Epoch 291/500\n",
      "20115/20115 [==============================] - 3s 141us/step - loss: 0.0584 - acc: 0.9758 - val_loss: 1.0437 - val_acc: 0.8316\n",
      "Epoch 292/500\n",
      "20115/20115 [==============================] - 3s 148us/step - loss: 0.0606 - acc: 0.9747 - val_loss: 1.1367 - val_acc: 0.8345\n",
      "Epoch 293/500\n",
      "20115/20115 [==============================] - 3s 158us/step - loss: 0.0594 - acc: 0.9750 - val_loss: 1.0561 - val_acc: 0.8360\n",
      "Epoch 294/500\n",
      "20115/20115 [==============================] - 3s 160us/step - loss: 0.0558 - acc: 0.9765 - val_loss: 1.0841 - val_acc: 0.8334\n",
      "Epoch 295/500\n",
      "20115/20115 [==============================] - 3s 156us/step - loss: 0.0521 - acc: 0.9769 - val_loss: 1.1631 - val_acc: 0.8327\n",
      "Epoch 296/500\n",
      "20115/20115 [==============================] - 3s 157us/step - loss: 0.0659 - acc: 0.9737 - val_loss: 0.9181 - val_acc: 0.8322\n",
      "Epoch 297/500\n",
      "20115/20115 [==============================] - 3s 160us/step - loss: 0.0707 - acc: 0.9706 - val_loss: 0.8714 - val_acc: 0.8302\n",
      "Epoch 298/500\n",
      "20115/20115 [==============================] - 3s 158us/step - loss: 0.0638 - acc: 0.9738 - val_loss: 0.9462 - val_acc: 0.8361\n",
      "Epoch 299/500\n",
      "20115/20115 [==============================] - 5s 248us/step - loss: 0.0661 - acc: 0.9710 - val_loss: 1.0184 - val_acc: 0.8328\n",
      "Epoch 300/500\n",
      "20115/20115 [==============================] - 3s 157us/step - loss: 0.0559 - acc: 0.9755 - val_loss: 1.1065 - val_acc: 0.8352\n",
      "Epoch 301/500\n",
      "20115/20115 [==============================] - 3s 158us/step - loss: 0.0563 - acc: 0.9761 - val_loss: 1.1152 - val_acc: 0.8348\n",
      "Epoch 302/500\n",
      "20115/20115 [==============================] - 3s 160us/step - loss: 0.0577 - acc: 0.9749 - val_loss: 1.0486 - val_acc: 0.8398\n",
      "Epoch 303/500\n",
      "20115/20115 [==============================] - 3s 160us/step - loss: 0.0534 - acc: 0.9774 - val_loss: 1.0167 - val_acc: 0.8376\n",
      "Epoch 304/500\n",
      "20115/20115 [==============================] - 3s 160us/step - loss: 0.0567 - acc: 0.9760 - val_loss: 0.9887 - val_acc: 0.8363\n",
      "Epoch 305/500\n",
      "20115/20115 [==============================] - 3s 157us/step - loss: 0.0597 - acc: 0.9755 - val_loss: 1.0748 - val_acc: 0.8258\n",
      "Epoch 306/500\n",
      "20115/20115 [==============================] - 3s 159us/step - loss: 0.0597 - acc: 0.9745 - val_loss: 1.0081 - val_acc: 0.8309\n",
      "Epoch 307/500\n",
      "20115/20115 [==============================] - 3s 157us/step - loss: 0.0632 - acc: 0.9727 - val_loss: 0.9366 - val_acc: 0.8373\n",
      "Epoch 308/500\n",
      "20115/20115 [==============================] - 3s 158us/step - loss: 0.0557 - acc: 0.9761 - val_loss: 1.0440 - val_acc: 0.8352\n",
      "Epoch 309/500\n",
      "20115/20115 [==============================] - 3s 158us/step - loss: 0.0558 - acc: 0.9766 - val_loss: 1.0512 - val_acc: 0.8358\n",
      "Epoch 310/500\n",
      "20115/20115 [==============================] - 3s 161us/step - loss: 0.0587 - acc: 0.9747 - val_loss: 1.0344 - val_acc: 0.8364\n",
      "Epoch 311/500\n",
      "20115/20115 [==============================] - 3s 158us/step - loss: 0.0583 - acc: 0.9756 - val_loss: 0.9099 - val_acc: 0.8348\n",
      "Epoch 312/500\n",
      "20115/20115 [==============================] - 3s 158us/step - loss: 0.0522 - acc: 0.9777 - val_loss: 1.0665 - val_acc: 0.8333\n",
      "Epoch 313/500\n",
      "20115/20115 [==============================] - 3s 158us/step - loss: 0.0572 - acc: 0.9766 - val_loss: 1.0106 - val_acc: 0.8387\n",
      "Epoch 314/500\n",
      "20115/20115 [==============================] - 3s 158us/step - loss: 0.0555 - acc: 0.9767 - val_loss: 1.1092 - val_acc: 0.8325\n",
      "Epoch 315/500\n",
      "20115/20115 [==============================] - 3s 159us/step - loss: 0.0622 - acc: 0.9745 - val_loss: 1.0313 - val_acc: 0.8349\n",
      "Epoch 316/500\n",
      "20115/20115 [==============================] - 3s 160us/step - loss: 0.0568 - acc: 0.9756 - val_loss: 1.0258 - val_acc: 0.8334\n",
      "Epoch 317/500\n",
      "20115/20115 [==============================] - 3s 156us/step - loss: 0.0656 - acc: 0.9724 - val_loss: 0.9310 - val_acc: 0.8354\n",
      "Epoch 318/500\n",
      "20115/20115 [==============================] - 3s 159us/step - loss: 0.0554 - acc: 0.9764 - val_loss: 1.0427 - val_acc: 0.8349\n",
      "Epoch 319/500\n",
      "20115/20115 [==============================] - 3s 157us/step - loss: 0.0498 - acc: 0.9781 - val_loss: 1.0640 - val_acc: 0.8321\n",
      "Epoch 320/500\n",
      "20115/20115 [==============================] - 3s 161us/step - loss: 0.0512 - acc: 0.9781 - val_loss: 0.9709 - val_acc: 0.8367\n",
      "Epoch 321/500\n",
      "20115/20115 [==============================] - 3s 158us/step - loss: 0.0519 - acc: 0.9783 - val_loss: 1.0997 - val_acc: 0.8357\n",
      "Epoch 322/500\n",
      "20115/20115 [==============================] - 3s 159us/step - loss: 0.0577 - acc: 0.9762 - val_loss: 0.9633 - val_acc: 0.8372\n",
      "Epoch 323/500\n",
      "20115/20115 [==============================] - 3s 157us/step - loss: 0.0551 - acc: 0.9766 - val_loss: 0.9322 - val_acc: 0.8345\n",
      "Epoch 324/500\n",
      "20115/20115 [==============================] - 3s 157us/step - loss: 0.0576 - acc: 0.9764 - val_loss: 0.9979 - val_acc: 0.8330\n",
      "Epoch 325/500\n",
      "20115/20115 [==============================] - 3s 159us/step - loss: 0.0520 - acc: 0.9777 - val_loss: 1.0244 - val_acc: 0.8366\n",
      "Epoch 326/500\n",
      "20115/20115 [==============================] - 3s 157us/step - loss: 0.0592 - acc: 0.9756 - val_loss: 0.9286 - val_acc: 0.8324\n",
      "Epoch 327/500\n",
      "20115/20115 [==============================] - 3s 158us/step - loss: 0.0550 - acc: 0.9758 - val_loss: 1.0283 - val_acc: 0.8363\n",
      "Epoch 328/500\n",
      "20115/20115 [==============================] - 3s 158us/step - loss: 0.0559 - acc: 0.9774 - val_loss: 0.9959 - val_acc: 0.8325\n",
      "Epoch 329/500\n",
      "20115/20115 [==============================] - 3s 157us/step - loss: 0.0473 - acc: 0.9797 - val_loss: 1.1234 - val_acc: 0.8337\n",
      "Epoch 330/500\n",
      "20115/20115 [==============================] - 3s 159us/step - loss: 0.0578 - acc: 0.9759 - val_loss: 1.0570 - val_acc: 0.8325\n",
      "Epoch 331/500\n",
      "20115/20115 [==============================] - 3s 157us/step - loss: 0.0514 - acc: 0.9776 - val_loss: 1.0056 - val_acc: 0.8334\n",
      "Epoch 332/500\n",
      "20115/20115 [==============================] - 3s 156us/step - loss: 0.0592 - acc: 0.9750 - val_loss: 0.9916 - val_acc: 0.8279\n",
      "Epoch 333/500\n",
      "20115/20115 [==============================] - 3s 159us/step - loss: 0.0516 - acc: 0.9774 - val_loss: 1.0470 - val_acc: 0.8273\n",
      "Epoch 334/500\n",
      "20115/20115 [==============================] - 3s 159us/step - loss: 0.0531 - acc: 0.9783 - val_loss: 0.9933 - val_acc: 0.8354\n",
      "Epoch 335/500\n",
      "20115/20115 [==============================] - 3s 149us/step - loss: 0.0601 - acc: 0.9748 - val_loss: 1.0271 - val_acc: 0.8276\n",
      "Epoch 336/500\n",
      "20115/20115 [==============================] - 3s 147us/step - loss: 0.0568 - acc: 0.9767 - val_loss: 1.0076 - val_acc: 0.8302\n",
      "Epoch 337/500\n",
      "20115/20115 [==============================] - 3s 127us/step - loss: 0.0532 - acc: 0.9780 - val_loss: 1.0324 - val_acc: 0.8302\n",
      "Epoch 338/500\n"
     ]
    },
    {
     "name": "stdout",
     "output_type": "stream",
     "text": [
      "20115/20115 [==============================] - 3s 130us/step - loss: 0.0580 - acc: 0.9760 - val_loss: 0.9525 - val_acc: 0.8305\n",
      "Epoch 339/500\n",
      "20115/20115 [==============================] - 3s 132us/step - loss: 0.0559 - acc: 0.9766 - val_loss: 0.9190 - val_acc: 0.8378\n",
      "Epoch 340/500\n",
      "20115/20115 [==============================] - 3s 133us/step - loss: 0.0601 - acc: 0.9757 - val_loss: 0.9882 - val_acc: 0.8334\n",
      "Epoch 341/500\n",
      "20115/20115 [==============================] - 3s 141us/step - loss: 0.0632 - acc: 0.9752 - val_loss: 0.9476 - val_acc: 0.8315\n",
      "Epoch 342/500\n",
      "20115/20115 [==============================] - 2s 106us/step - loss: 0.0600 - acc: 0.9738 - val_loss: 0.9742 - val_acc: 0.8352\n",
      "Epoch 343/500\n",
      "20115/20115 [==============================] - 2s 107us/step - loss: 0.0557 - acc: 0.9773 - val_loss: 1.0207 - val_acc: 0.8355\n",
      "Epoch 344/500\n",
      "20115/20115 [==============================] - 2s 94us/step - loss: 0.0529 - acc: 0.9791 - val_loss: 1.1022 - val_acc: 0.8358\n",
      "Epoch 345/500\n",
      "20115/20115 [==============================] - 2s 91us/step - loss: 0.0554 - acc: 0.9776 - val_loss: 0.9980 - val_acc: 0.8325\n",
      "Epoch 346/500\n",
      "20115/20115 [==============================] - 311s 15ms/step - loss: 0.0509 - acc: 0.9787 - val_loss: 1.1552 - val_acc: 0.8322\n",
      "Epoch 347/500\n",
      "20115/20115 [==============================] - 2s 113us/step - loss: 0.0567 - acc: 0.9767 - val_loss: 1.0779 - val_acc: 0.8349\n",
      "Epoch 348/500\n",
      "20115/20115 [==============================] - 2s 116us/step - loss: 0.0510 - acc: 0.9788 - val_loss: 1.1166 - val_acc: 0.8330\n",
      "Epoch 349/500\n",
      "20115/20115 [==============================] - 2s 114us/step - loss: 0.0561 - acc: 0.9778 - val_loss: 1.1161 - val_acc: 0.8327\n",
      "Epoch 350/500\n",
      "20115/20115 [==============================] - 2s 108us/step - loss: 0.0547 - acc: 0.9769 - val_loss: 1.0526 - val_acc: 0.8312\n",
      "Epoch 351/500\n",
      "20115/20115 [==============================] - 2s 109us/step - loss: 0.0590 - acc: 0.9731 - val_loss: 0.9574 - val_acc: 0.8291\n",
      "Epoch 352/500\n",
      "20115/20115 [==============================] - 2s 108us/step - loss: 0.0522 - acc: 0.9774 - val_loss: 1.1766 - val_acc: 0.8257\n",
      "Epoch 353/500\n",
      "20115/20115 [==============================] - 2s 99us/step - loss: 0.0531 - acc: 0.9762 - val_loss: 1.1010 - val_acc: 0.8330\n",
      "Epoch 354/500\n",
      "20115/20115 [==============================] - 2s 97us/step - loss: 0.0481 - acc: 0.9797 - val_loss: 1.1249 - val_acc: 0.8319\n",
      "Epoch 355/500\n",
      "20115/20115 [==============================] - 2s 98us/step - loss: 0.0712 - acc: 0.9707 - val_loss: 1.0108 - val_acc: 0.8357\n",
      "Epoch 356/500\n",
      "20115/20115 [==============================] - 2s 98us/step - loss: 0.0498 - acc: 0.9793 - val_loss: 1.0344 - val_acc: 0.8367\n",
      "Epoch 357/500\n",
      "20115/20115 [==============================] - 2s 98us/step - loss: 0.0482 - acc: 0.9796 - val_loss: 1.0638 - val_acc: 0.8333\n",
      "Epoch 358/500\n",
      "20115/20115 [==============================] - 2s 98us/step - loss: 0.0490 - acc: 0.9797 - val_loss: 1.0542 - val_acc: 0.8328\n",
      "Epoch 359/500\n",
      "20115/20115 [==============================] - 2s 98us/step - loss: 0.0497 - acc: 0.9787 - val_loss: 1.0939 - val_acc: 0.8319\n",
      "Epoch 360/500\n",
      "20115/20115 [==============================] - 2s 98us/step - loss: 0.0452 - acc: 0.9809 - val_loss: 1.1012 - val_acc: 0.8361\n",
      "Epoch 361/500\n",
      "20115/20115 [==============================] - 2s 97us/step - loss: 0.0491 - acc: 0.9790 - val_loss: 1.0532 - val_acc: 0.8336\n",
      "Epoch 362/500\n",
      "20115/20115 [==============================] - 2s 98us/step - loss: 0.0467 - acc: 0.9799 - val_loss: 1.0942 - val_acc: 0.8337\n",
      "Epoch 363/500\n",
      "20115/20115 [==============================] - 2s 99us/step - loss: 0.0470 - acc: 0.9800 - val_loss: 1.1167 - val_acc: 0.8337\n",
      "Epoch 364/500\n",
      "20115/20115 [==============================] - 2s 101us/step - loss: 0.0559 - acc: 0.9770 - val_loss: 1.0745 - val_acc: 0.8303\n",
      "Epoch 365/500\n",
      "20115/20115 [==============================] - 2s 104us/step - loss: 0.0571 - acc: 0.9764 - val_loss: 1.0085 - val_acc: 0.8287\n",
      "Epoch 366/500\n",
      "20115/20115 [==============================] - 2s 98us/step - loss: 0.0433 - acc: 0.9821 - val_loss: 1.1607 - val_acc: 0.8313\n",
      "Epoch 367/500\n",
      "20115/20115 [==============================] - 2s 96us/step - loss: 0.0543 - acc: 0.9772 - val_loss: 1.0263 - val_acc: 0.8331\n",
      "Epoch 368/500\n",
      "20115/20115 [==============================] - 2s 100us/step - loss: 0.0512 - acc: 0.9790 - val_loss: 1.0593 - val_acc: 0.8293\n",
      "Epoch 369/500\n",
      "20115/20115 [==============================] - 2s 99us/step - loss: 0.0541 - acc: 0.9783 - val_loss: 1.1088 - val_acc: 0.8273\n",
      "Epoch 370/500\n",
      "20115/20115 [==============================] - 2s 97us/step - loss: 0.0539 - acc: 0.9774 - val_loss: 1.0207 - val_acc: 0.8318\n",
      "Epoch 371/500\n",
      "20115/20115 [==============================] - 2s 97us/step - loss: 0.0518 - acc: 0.9785 - val_loss: 0.8801 - val_acc: 0.8299\n",
      "Epoch 372/500\n",
      "20115/20115 [==============================] - 2s 98us/step - loss: 0.0471 - acc: 0.9793 - val_loss: 1.1983 - val_acc: 0.8340\n",
      "Epoch 373/500\n",
      "20115/20115 [==============================] - 2s 97us/step - loss: 0.0622 - acc: 0.9739 - val_loss: 0.9708 - val_acc: 0.8322\n",
      "Epoch 374/500\n",
      "20115/20115 [==============================] - 2s 96us/step - loss: 0.0523 - acc: 0.9784 - val_loss: 1.1536 - val_acc: 0.8328\n",
      "Epoch 375/500\n",
      "20115/20115 [==============================] - 2s 97us/step - loss: 0.0572 - acc: 0.9759 - val_loss: 1.0005 - val_acc: 0.8337\n",
      "Epoch 376/500\n",
      "20115/20115 [==============================] - 2s 97us/step - loss: 0.0484 - acc: 0.9788 - val_loss: 1.0450 - val_acc: 0.8369\n",
      "Epoch 377/500\n",
      "20115/20115 [==============================] - 2s 97us/step - loss: 0.0505 - acc: 0.9786 - val_loss: 1.0652 - val_acc: 0.8324\n",
      "Epoch 378/500\n",
      "20115/20115 [==============================] - 2s 97us/step - loss: 0.0429 - acc: 0.9809 - val_loss: 1.1806 - val_acc: 0.8305\n",
      "Epoch 379/500\n",
      "20115/20115 [==============================] - 2s 97us/step - loss: 0.0456 - acc: 0.9803 - val_loss: 1.1539 - val_acc: 0.8361\n",
      "Epoch 380/500\n",
      "20115/20115 [==============================] - 2s 97us/step - loss: 0.0443 - acc: 0.9802 - val_loss: 1.2157 - val_acc: 0.8272\n",
      "Epoch 381/500\n",
      "20115/20115 [==============================] - 2s 96us/step - loss: 0.0440 - acc: 0.9823 - val_loss: 1.1455 - val_acc: 0.8346\n",
      "Epoch 382/500\n",
      "20115/20115 [==============================] - 2s 98us/step - loss: 0.0501 - acc: 0.9777 - val_loss: 1.0437 - val_acc: 0.8381\n",
      "Epoch 383/500\n",
      "20115/20115 [==============================] - 2s 98us/step - loss: 0.0524 - acc: 0.9767 - val_loss: 1.1059 - val_acc: 0.8315\n",
      "Epoch 384/500\n",
      "20115/20115 [==============================] - 2s 97us/step - loss: 0.0504 - acc: 0.9790 - val_loss: 0.9721 - val_acc: 0.8357\n",
      "Epoch 385/500\n",
      "20115/20115 [==============================] - 2s 98us/step - loss: 0.0465 - acc: 0.9811 - val_loss: 1.0522 - val_acc: 0.8355\n",
      "Epoch 386/500\n",
      "20115/20115 [==============================] - 2s 98us/step - loss: 0.0490 - acc: 0.9792 - val_loss: 1.1143 - val_acc: 0.8300\n",
      "Epoch 387/500\n",
      "20115/20115 [==============================] - 2s 97us/step - loss: 0.0478 - acc: 0.9798 - val_loss: 1.1443 - val_acc: 0.8358\n",
      "Epoch 388/500\n",
      "20115/20115 [==============================] - 2s 100us/step - loss: 0.0480 - acc: 0.9799 - val_loss: 1.0457 - val_acc: 0.8312\n",
      "Epoch 389/500\n",
      "20115/20115 [==============================] - 2s 99us/step - loss: 0.0459 - acc: 0.9807 - val_loss: 1.0496 - val_acc: 0.8345\n",
      "Epoch 390/500\n",
      "20115/20115 [==============================] - 2s 97us/step - loss: 0.0442 - acc: 0.9824 - val_loss: 1.0455 - val_acc: 0.8354\n",
      "Epoch 391/500\n",
      "20115/20115 [==============================] - 2s 97us/step - loss: 0.0468 - acc: 0.9788 - val_loss: 1.1091 - val_acc: 0.8327\n",
      "Epoch 392/500\n",
      "20115/20115 [==============================] - 2s 97us/step - loss: 0.0587 - acc: 0.9761 - val_loss: 0.9333 - val_acc: 0.8391\n",
      "Epoch 393/500\n",
      "20115/20115 [==============================] - 2s 98us/step - loss: 0.0485 - acc: 0.9791 - val_loss: 1.0277 - val_acc: 0.8342\n",
      "Epoch 394/500\n",
      "20115/20115 [==============================] - 2s 98us/step - loss: 0.0506 - acc: 0.9786 - val_loss: 1.0785 - val_acc: 0.8349\n",
      "Epoch 395/500\n",
      "20115/20115 [==============================] - 2s 98us/step - loss: 0.0511 - acc: 0.9781 - val_loss: 1.1344 - val_acc: 0.8336\n",
      "Epoch 396/500\n"
     ]
    },
    {
     "name": "stdout",
     "output_type": "stream",
     "text": [
      "20115/20115 [==============================] - 2s 99us/step - loss: 0.0487 - acc: 0.9792 - val_loss: 1.0448 - val_acc: 0.8294\n",
      "Epoch 397/500\n",
      "20115/20115 [==============================] - 2s 99us/step - loss: 0.0464 - acc: 0.9811 - val_loss: 1.1155 - val_acc: 0.8297\n",
      "Epoch 398/500\n",
      "20115/20115 [==============================] - 2s 98us/step - loss: 0.0465 - acc: 0.9791 - val_loss: 1.0930 - val_acc: 0.8346\n",
      "Epoch 399/500\n",
      "20115/20115 [==============================] - 2s 98us/step - loss: 0.0439 - acc: 0.9816 - val_loss: 1.0622 - val_acc: 0.8372\n",
      "Epoch 400/500\n",
      "20115/20115 [==============================] - 2s 100us/step - loss: 0.0469 - acc: 0.9811 - val_loss: 1.0277 - val_acc: 0.8336\n",
      "Epoch 401/500\n",
      "20115/20115 [==============================] - 2s 100us/step - loss: 0.0451 - acc: 0.9811 - val_loss: 1.0649 - val_acc: 0.8364\n",
      "Epoch 402/500\n",
      "20115/20115 [==============================] - 2s 100us/step - loss: 0.0474 - acc: 0.9809 - val_loss: 1.1129 - val_acc: 0.8352\n",
      "Epoch 403/500\n",
      "20115/20115 [==============================] - 2s 99us/step - loss: 0.0439 - acc: 0.9815 - val_loss: 1.1036 - val_acc: 0.8381\n",
      "Epoch 404/500\n",
      "20115/20115 [==============================] - 2s 100us/step - loss: 0.0514 - acc: 0.9792 - val_loss: 1.0578 - val_acc: 0.8395\n",
      "Epoch 405/500\n",
      "20115/20115 [==============================] - 2s 99us/step - loss: 0.0498 - acc: 0.9794 - val_loss: 1.0451 - val_acc: 0.8379\n",
      "Epoch 406/500\n",
      "20115/20115 [==============================] - 2s 100us/step - loss: 0.0467 - acc: 0.9814 - val_loss: 1.0256 - val_acc: 0.8369\n",
      "Epoch 407/500\n",
      "20115/20115 [==============================] - 2s 97us/step - loss: 0.0505 - acc: 0.9796 - val_loss: 1.0044 - val_acc: 0.8354\n",
      "Epoch 408/500\n",
      "20115/20115 [==============================] - 2s 98us/step - loss: 0.0414 - acc: 0.9828 - val_loss: 1.1371 - val_acc: 0.8397\n",
      "Epoch 409/500\n",
      "20115/20115 [==============================] - 2s 98us/step - loss: 0.0503 - acc: 0.9792 - val_loss: 1.1077 - val_acc: 0.8284\n",
      "Epoch 410/500\n",
      "20115/20115 [==============================] - 2s 98us/step - loss: 0.0450 - acc: 0.9821 - val_loss: 1.1520 - val_acc: 0.8340\n",
      "Epoch 411/500\n",
      "20115/20115 [==============================] - 2s 100us/step - loss: 0.0460 - acc: 0.9809 - val_loss: 1.1333 - val_acc: 0.8325\n",
      "Epoch 412/500\n",
      "20115/20115 [==============================] - 2s 99us/step - loss: 0.0490 - acc: 0.9795 - val_loss: 1.1205 - val_acc: 0.8336\n",
      "Epoch 413/500\n",
      "20115/20115 [==============================] - 2s 99us/step - loss: 0.0493 - acc: 0.9798 - val_loss: 1.0777 - val_acc: 0.8334\n",
      "Epoch 414/500\n",
      "20115/20115 [==============================] - 2s 98us/step - loss: 0.0554 - acc: 0.9770 - val_loss: 1.0285 - val_acc: 0.8358\n",
      "Epoch 415/500\n",
      "20115/20115 [==============================] - 2s 97us/step - loss: 0.0437 - acc: 0.9825 - val_loss: 1.1305 - val_acc: 0.8355\n",
      "Epoch 416/500\n",
      "20115/20115 [==============================] - 2s 98us/step - loss: 0.0437 - acc: 0.9822 - val_loss: 1.0677 - val_acc: 0.8321\n",
      "Epoch 417/500\n",
      "20115/20115 [==============================] - 2s 99us/step - loss: 0.0532 - acc: 0.9785 - val_loss: 0.8209 - val_acc: 0.8367\n",
      "Epoch 418/500\n",
      "20115/20115 [==============================] - 2s 99us/step - loss: 0.0486 - acc: 0.9794 - val_loss: 0.9968 - val_acc: 0.8349\n",
      "Epoch 419/500\n",
      "20115/20115 [==============================] - 2s 100us/step - loss: 0.0508 - acc: 0.9787 - val_loss: 0.9687 - val_acc: 0.8327\n",
      "Epoch 420/500\n",
      "20115/20115 [==============================] - 2s 98us/step - loss: 0.0465 - acc: 0.9800 - val_loss: 1.1019 - val_acc: 0.8318\n",
      "Epoch 421/500\n",
      "20115/20115 [==============================] - 2s 101us/step - loss: 0.0452 - acc: 0.9798 - val_loss: 1.0671 - val_acc: 0.8373\n",
      "Epoch 422/500\n",
      "20115/20115 [==============================] - 2s 104us/step - loss: 0.0419 - acc: 0.9820 - val_loss: 1.1838 - val_acc: 0.8364\n",
      "Epoch 423/500\n",
      "20115/20115 [==============================] - 2s 99us/step - loss: 0.0429 - acc: 0.9825 - val_loss: 1.0852 - val_acc: 0.8349\n",
      "Epoch 424/500\n",
      "20115/20115 [==============================] - 2s 97us/step - loss: 0.0464 - acc: 0.9798 - val_loss: 1.1910 - val_acc: 0.8322\n",
      "Epoch 425/500\n",
      "20115/20115 [==============================] - 2s 98us/step - loss: 0.0399 - acc: 0.9836 - val_loss: 1.1668 - val_acc: 0.8351\n",
      "Epoch 426/500\n",
      "20115/20115 [==============================] - 2s 97us/step - loss: 0.0435 - acc: 0.9826 - val_loss: 0.9987 - val_acc: 0.8346\n",
      "Epoch 427/500\n",
      "20115/20115 [==============================] - 2s 99us/step - loss: 0.0436 - acc: 0.9813 - val_loss: 1.1369 - val_acc: 0.8327\n",
      "Epoch 428/500\n",
      "20115/20115 [==============================] - 2s 97us/step - loss: 0.0407 - acc: 0.9829 - val_loss: 1.1947 - val_acc: 0.8285\n",
      "Epoch 429/500\n",
      "20115/20115 [==============================] - 2s 100us/step - loss: 0.0505 - acc: 0.9795 - val_loss: 1.1501 - val_acc: 0.8312\n",
      "Epoch 430/500\n",
      "20115/20115 [==============================] - 2s 98us/step - loss: 0.0475 - acc: 0.9800 - val_loss: 1.0532 - val_acc: 0.8305\n",
      "Epoch 431/500\n",
      "20115/20115 [==============================] - 2s 98us/step - loss: 0.0474 - acc: 0.9805 - val_loss: 1.1134 - val_acc: 0.8330\n",
      "Epoch 432/500\n",
      "20115/20115 [==============================] - 2s 99us/step - loss: 0.0453 - acc: 0.9814 - val_loss: 0.9796 - val_acc: 0.8318\n",
      "Epoch 433/500\n",
      "20115/20115 [==============================] - 2s 97us/step - loss: 0.0440 - acc: 0.9823 - val_loss: 1.0684 - val_acc: 0.8331\n",
      "Epoch 434/500\n",
      "20115/20115 [==============================] - 2s 99us/step - loss: 0.0485 - acc: 0.9799 - val_loss: 1.1541 - val_acc: 0.8322\n",
      "Epoch 435/500\n",
      "20115/20115 [==============================] - 2s 97us/step - loss: 0.0428 - acc: 0.9826 - val_loss: 1.1202 - val_acc: 0.8360\n",
      "Epoch 436/500\n",
      "20115/20115 [==============================] - 2s 97us/step - loss: 0.0414 - acc: 0.9822 - val_loss: 1.1963 - val_acc: 0.8345\n",
      "Epoch 437/500\n",
      "20115/20115 [==============================] - 2s 99us/step - loss: 0.0405 - acc: 0.9823 - val_loss: 1.2654 - val_acc: 0.8342\n",
      "Epoch 438/500\n",
      "20115/20115 [==============================] - 2s 98us/step - loss: 0.0454 - acc: 0.9812 - val_loss: 1.1376 - val_acc: 0.8306\n",
      "Epoch 439/500\n",
      "20115/20115 [==============================] - 2s 97us/step - loss: 0.0462 - acc: 0.9815 - val_loss: 1.0925 - val_acc: 0.8357\n",
      "Epoch 440/500\n",
      "20115/20115 [==============================] - 2s 103us/step - loss: 0.0452 - acc: 0.9822 - val_loss: 1.1127 - val_acc: 0.8352\n",
      "Epoch 441/500\n",
      "20115/20115 [==============================] - 2s 106us/step - loss: 0.0412 - acc: 0.9834 - val_loss: 1.1802 - val_acc: 0.8384\n",
      "Epoch 442/500\n",
      "20115/20115 [==============================] - 2s 102us/step - loss: 0.0455 - acc: 0.9812 - val_loss: 1.0962 - val_acc: 0.8342\n",
      "Epoch 443/500\n",
      "20115/20115 [==============================] - 2s 101us/step - loss: 0.0436 - acc: 0.9824 - val_loss: 1.1678 - val_acc: 0.8345\n",
      "Epoch 444/500\n",
      "20115/20115 [==============================] - 2s 99us/step - loss: 0.0445 - acc: 0.9810 - val_loss: 1.1333 - val_acc: 0.8355\n",
      "Epoch 445/500\n",
      "20115/20115 [==============================] - 2s 97us/step - loss: 0.0375 - acc: 0.9843 - val_loss: 1.2589 - val_acc: 0.8316\n",
      "Epoch 446/500\n",
      "20115/20115 [==============================] - 2s 98us/step - loss: 0.0586 - acc: 0.9781 - val_loss: 1.0760 - val_acc: 0.8307\n",
      "Epoch 447/500\n",
      "20115/20115 [==============================] - 2s 100us/step - loss: 0.0468 - acc: 0.9809 - val_loss: 1.0352 - val_acc: 0.8333\n",
      "Epoch 448/500\n",
      "20115/20115 [==============================] - 2s 98us/step - loss: 0.0446 - acc: 0.9822 - val_loss: 1.1019 - val_acc: 0.8388\n",
      "Epoch 449/500\n",
      "20115/20115 [==============================] - 2s 98us/step - loss: 0.0500 - acc: 0.9800 - val_loss: 1.1104 - val_acc: 0.8372\n",
      "Epoch 450/500\n",
      "20115/20115 [==============================] - 2s 99us/step - loss: 0.0408 - acc: 0.9833 - val_loss: 1.1114 - val_acc: 0.8325\n",
      "Epoch 451/500\n",
      "20115/20115 [==============================] - 2s 97us/step - loss: 0.0474 - acc: 0.9808 - val_loss: 1.0828 - val_acc: 0.8330\n",
      "Epoch 452/500\n",
      "20115/20115 [==============================] - 2s 95us/step - loss: 0.0407 - acc: 0.9827 - val_loss: 1.2541 - val_acc: 0.8325\n",
      "Epoch 453/500\n",
      "20115/20115 [==============================] - 2s 98us/step - loss: 0.0448 - acc: 0.9824 - val_loss: 1.1254 - val_acc: 0.8355\n",
      "Epoch 454/500\n"
     ]
    },
    {
     "name": "stdout",
     "output_type": "stream",
     "text": [
      "20115/20115 [==============================] - 2s 99us/step - loss: 0.0434 - acc: 0.9816 - val_loss: 1.1001 - val_acc: 0.8324\n",
      "Epoch 455/500\n",
      "20115/20115 [==============================] - 2s 100us/step - loss: 0.0449 - acc: 0.9817 - val_loss: 1.1506 - val_acc: 0.8331\n",
      "Epoch 456/500\n",
      "20115/20115 [==============================] - 2s 98us/step - loss: 0.0477 - acc: 0.9826 - val_loss: 0.9619 - val_acc: 0.8364\n",
      "Epoch 457/500\n",
      "20115/20115 [==============================] - 2s 96us/step - loss: 0.0411 - acc: 0.9841 - val_loss: 0.9383 - val_acc: 0.8379\n",
      "Epoch 458/500\n",
      "20115/20115 [==============================] - 2s 100us/step - loss: 0.0443 - acc: 0.9821 - val_loss: 1.0731 - val_acc: 0.8345\n",
      "Epoch 459/500\n",
      "20115/20115 [==============================] - 2s 97us/step - loss: 0.0401 - acc: 0.9839 - val_loss: 1.1507 - val_acc: 0.8305\n",
      "Epoch 460/500\n",
      "20115/20115 [==============================] - 2s 97us/step - loss: 0.0409 - acc: 0.9830 - val_loss: 1.1514 - val_acc: 0.8345\n",
      "Epoch 461/500\n",
      "20115/20115 [==============================] - 2s 96us/step - loss: 0.0469 - acc: 0.9822 - val_loss: 1.0056 - val_acc: 0.8385\n",
      "Epoch 462/500\n",
      "20115/20115 [==============================] - 2s 98us/step - loss: 0.0476 - acc: 0.9809 - val_loss: 0.9023 - val_acc: 0.8310\n",
      "Epoch 463/500\n",
      "20115/20115 [==============================] - 2s 98us/step - loss: 0.0510 - acc: 0.9796 - val_loss: 1.0047 - val_acc: 0.8379\n",
      "Epoch 464/500\n",
      "20115/20115 [==============================] - 2s 99us/step - loss: 0.0383 - acc: 0.9840 - val_loss: 1.1343 - val_acc: 0.8366\n",
      "Epoch 465/500\n",
      "20115/20115 [==============================] - 2s 99us/step - loss: 0.0402 - acc: 0.9835 - val_loss: 1.0869 - val_acc: 0.8369\n",
      "Epoch 466/500\n",
      "20115/20115 [==============================] - 2s 99us/step - loss: 0.0399 - acc: 0.9834 - val_loss: 1.1334 - val_acc: 0.8336\n",
      "Epoch 467/500\n",
      "20115/20115 [==============================] - 2s 98us/step - loss: 0.0408 - acc: 0.9828 - val_loss: 1.1108 - val_acc: 0.8342\n",
      "Epoch 468/500\n",
      "20115/20115 [==============================] - 2s 97us/step - loss: 0.0483 - acc: 0.9804 - val_loss: 0.9905 - val_acc: 0.8345\n",
      "Epoch 469/500\n",
      "20115/20115 [==============================] - 2s 99us/step - loss: 0.0387 - acc: 0.9833 - val_loss: 1.1741 - val_acc: 0.8339\n",
      "Epoch 470/500\n",
      "20115/20115 [==============================] - 2s 100us/step - loss: 0.0437 - acc: 0.9828 - val_loss: 1.1085 - val_acc: 0.8319\n",
      "Epoch 471/500\n",
      "20115/20115 [==============================] - 2s 102us/step - loss: 0.0388 - acc: 0.9841 - val_loss: 1.1059 - val_acc: 0.8363\n",
      "Epoch 472/500\n",
      "20115/20115 [==============================] - 2s 100us/step - loss: 0.0569 - acc: 0.9773 - val_loss: 0.9754 - val_acc: 0.8395\n",
      "Epoch 473/500\n",
      "20115/20115 [==============================] - 2s 99us/step - loss: 0.0421 - acc: 0.9831 - val_loss: 0.9899 - val_acc: 0.8319\n",
      "Epoch 474/500\n",
      "20115/20115 [==============================] - 2s 99us/step - loss: 0.0448 - acc: 0.9828 - val_loss: 0.9448 - val_acc: 0.8345\n",
      "Epoch 475/500\n",
      "20115/20115 [==============================] - 2s 98us/step - loss: 0.0415 - acc: 0.9826 - val_loss: 1.1872 - val_acc: 0.8376\n",
      "Epoch 476/500\n",
      "20115/20115 [==============================] - 2s 101us/step - loss: 0.0405 - acc: 0.9845 - val_loss: 1.1131 - val_acc: 0.8312\n",
      "Epoch 477/500\n",
      "20115/20115 [==============================] - 2s 97us/step - loss: 0.0504 - acc: 0.9801 - val_loss: 1.0504 - val_acc: 0.8331\n",
      "Epoch 478/500\n",
      "20115/20115 [==============================] - 2s 96us/step - loss: 0.0446 - acc: 0.9824 - val_loss: 1.0307 - val_acc: 0.8360\n",
      "Epoch 479/500\n",
      "20115/20115 [==============================] - 2s 103us/step - loss: 0.0530 - acc: 0.9788 - val_loss: 0.9794 - val_acc: 0.8379\n",
      "Epoch 480/500\n",
      "20115/20115 [==============================] - 2s 99us/step - loss: 0.0422 - acc: 0.9828 - val_loss: 1.0227 - val_acc: 0.8318\n",
      "Epoch 481/500\n",
      "20115/20115 [==============================] - 2s 99us/step - loss: 0.0503 - acc: 0.9800 - val_loss: 0.9840 - val_acc: 0.8346\n",
      "Epoch 482/500\n",
      "20115/20115 [==============================] - 2s 99us/step - loss: 0.0459 - acc: 0.9812 - val_loss: 0.9685 - val_acc: 0.8366\n",
      "Epoch 483/500\n",
      "20115/20115 [==============================] - 2s 100us/step - loss: 0.0400 - acc: 0.9833 - val_loss: 1.0990 - val_acc: 0.8385\n",
      "Epoch 484/500\n",
      "20115/20115 [==============================] - 2s 100us/step - loss: 0.0425 - acc: 0.9824 - val_loss: 1.1031 - val_acc: 0.8372\n",
      "Epoch 485/500\n",
      "20115/20115 [==============================] - 2s 106us/step - loss: 0.0401 - acc: 0.9828 - val_loss: 1.1094 - val_acc: 0.8409\n",
      "Epoch 486/500\n",
      "20115/20115 [==============================] - 2s 106us/step - loss: 0.0372 - acc: 0.9849 - val_loss: 1.1486 - val_acc: 0.8387\n",
      "Epoch 487/500\n",
      "20115/20115 [==============================] - 2s 101us/step - loss: 0.0369 - acc: 0.9845 - val_loss: 1.1346 - val_acc: 0.8372\n",
      "Epoch 488/500\n",
      "20115/20115 [==============================] - 2s 92us/step - loss: 0.0397 - acc: 0.9842 - val_loss: 1.1423 - val_acc: 0.8373\n",
      "Epoch 489/500\n",
      "20115/20115 [==============================] - 2s 101us/step - loss: 0.0374 - acc: 0.9846 - val_loss: 1.1279 - val_acc: 0.8391\n",
      "Epoch 490/500\n",
      "20115/20115 [==============================] - 2s 98us/step - loss: 0.0348 - acc: 0.9851 - val_loss: 1.1299 - val_acc: 0.8363\n",
      "Epoch 491/500\n",
      "20115/20115 [==============================] - 2s 99us/step - loss: 0.0372 - acc: 0.9843 - val_loss: 1.1722 - val_acc: 0.8415\n",
      "Epoch 492/500\n",
      "20115/20115 [==============================] - 2s 99us/step - loss: 0.0390 - acc: 0.9844 - val_loss: 1.0747 - val_acc: 0.8385\n",
      "Epoch 493/500\n",
      "20115/20115 [==============================] - 2s 96us/step - loss: 0.0457 - acc: 0.9810 - val_loss: 1.0694 - val_acc: 0.8388\n",
      "Epoch 494/500\n",
      "20115/20115 [==============================] - 2s 97us/step - loss: 0.0376 - acc: 0.9844 - val_loss: 1.1869 - val_acc: 0.8387\n",
      "Epoch 495/500\n",
      "20115/20115 [==============================] - 2s 99us/step - loss: 0.0393 - acc: 0.9844 - val_loss: 1.0412 - val_acc: 0.8387\n",
      "Epoch 496/500\n",
      "20115/20115 [==============================] - 2s 98us/step - loss: 0.0422 - acc: 0.9829 - val_loss: 1.1367 - val_acc: 0.8387\n",
      "Epoch 497/500\n",
      "20115/20115 [==============================] - 2s 99us/step - loss: 0.0498 - acc: 0.9801 - val_loss: 1.0582 - val_acc: 0.8343\n",
      "Epoch 498/500\n",
      "20115/20115 [==============================] - 2s 97us/step - loss: 0.0426 - acc: 0.9827 - val_loss: 1.0866 - val_acc: 0.8400\n",
      "Epoch 499/500\n",
      "20115/20115 [==============================] - 2s 97us/step - loss: 0.0350 - acc: 0.9852 - val_loss: 1.1970 - val_acc: 0.8342\n",
      "Epoch 500/500\n",
      "20115/20115 [==============================] - 2s 98us/step - loss: 0.0392 - acc: 0.9836 - val_loss: 1.1718 - val_acc: 0.8360\n",
      "2981/2981 [==============================] - 0s 75us/step\n",
      "\n",
      "acc: 83.26%\n"
     ]
    }
   ],
   "source": [
    "## neural network\n",
    "epochs = 500\n",
    "batch_size = 128\n",
    "dropout_rate = 0.4\n",
    "model1 = model_NN(X_train_nn.shape[1],dropout_rate)\n",
    "print(model1.summary())\n",
    "model1 = train_NN(model1,X_train_nn,y_train_nn,epochs,batch_size)\n",
    "eval_NN(model1,X_test_nn,y_test_nn)"
   ]
  },
  {
   "cell_type": "code",
   "execution_count": 241,
   "metadata": {
    "scrolled": false
   },
   "outputs": [
    {
     "data": {
      "image/png": "[encoded data removed]",
      "text/plain": [
       "<Figure size 432x288 with 1 Axes>"
      ]
     },
     "metadata": {},
     "output_type": "display_data"
    },
    {
     "data": {
      "image/png": "[encoded data removed]",
      "text/plain": [
       "<Figure size 432x288 with 1 Axes>"
      ]
     },
     "metadata": {},
     "output_type": "display_data"
    }
   ],
   "source": [
    "plotgraphs(model1.model.history)"
   ]
  },
  {
   "cell_type": "code",
   "execution_count": 249,
   "metadata": {
    "scrolled": false
   },
   "outputs": [
    {
     "data": {
      "image/png": "[encoded data removed]",
      "text/plain": [
       "<Figure size 432x288 with 1 Axes>"
      ]
     },
     "metadata": {},
     "output_type": "display_data"
    },
    {
     "data": {
      "image/png": "[encoded data removed]",
      "text/plain": [
       "<Figure size 432x288 with 1 Axes>"
      ]
     },
     "metadata": {},
     "output_type": "display_data"
    },
    {
     "data": {
      "image/png": "[encoded data removed]",
      "text/plain": [
       "<Figure size 432x288 with 1 Axes>"
      ]
     },
     "metadata": {},
     "output_type": "display_data"
    },
    {
     "name": "stdout",
     "output_type": "stream",
     "text": [
      "Saved model to disk\n"
     ]
    }
   ],
   "source": [
    "#Total params: 251,401\n",
    "#cv score - 83.26%\n",
    "plotgraphs(model1.model.history)\n",
    "y_pred_nn = model1.predict(X_test_nn)\n",
    "False_Pos_Rate,True_Pos_Rate,ROC_CURVE = roccurve(y_pred_nn,y_test_nn)\n",
    "plotroc(False_Pos_Rate,True_Pos_Rate,ROC_CURVE,'Receiver operating characteristic for Model - NN')\n",
    "yaml_filename = 'model1_500.yaml'\n",
    "hd5_filename= 'model1_500.hd5'\n",
    "savemodel(model1,yaml_filename,hd5_filename)"
   ]
  },
  {
   "cell_type": "code",
   "execution_count": null,
   "metadata": {},
   "outputs": [],
   "source": []
  },
  {
   "cell_type": "code",
   "execution_count": 262,
   "metadata": {},
   "outputs": [
    {
     "data": {
      "text/plain": [
       "(26821, 521)"
      ]
     },
     "execution_count": 262,
     "metadata": {},
     "output_type": "execute_result"
    }
   ],
   "source": [
    "X_train_nn.shape"
   ]
  },
  {
   "cell_type": "code",
   "execution_count": 269,
   "metadata": {
    "scrolled": true
   },
   "outputs": [
    {
     "name": "stdout",
     "output_type": "stream",
     "text": [
      "_________________________________________________________________\n",
      "Layer (type)                 Output Shape              Param #   \n",
      "=================================================================\n",
      "dense_157 (Dense)            (None, 300)               156600    \n",
      "_________________________________________________________________\n",
      "dense_158 (Dense)            (None, 200)               60200     \n",
      "_________________________________________________________________\n",
      "dense_159 (Dense)            (None, 100)               20100     \n",
      "_________________________________________________________________\n",
      "dense_160 (Dense)            (None, 80)                8080      \n",
      "_________________________________________________________________\n",
      "dense_161 (Dense)            (None, 50)                4050      \n",
      "_________________________________________________________________\n",
      "dense_162 (Dense)            (None, 30)                1530      \n",
      "_________________________________________________________________\n",
      "dense_163 (Dense)            (None, 20)                620       \n",
      "_________________________________________________________________\n",
      "dense_164 (Dense)            (None, 10)                210       \n",
      "_________________________________________________________________\n",
      "dense_165 (Dense)            (None, 1)                 11        \n",
      "=================================================================\n",
      "Total params: 251,401\n",
      "Trainable params: 251,401\n",
      "Non-trainable params: 0\n",
      "_________________________________________________________________\n",
      "None\n",
      "2981/2981 [==============================] - 0s 66us/step\n",
      "\n",
      "acc: 79.10%\n"
     ]
    }
   ],
   "source": [
    "## neural network\n",
    "epochs = 400\n",
    "batch_size = 256\n",
    "learning_rate = 0.1\n",
    "momentum  = 0.7\n",
    "decay_rate = learning_rate / epochs\n",
    "model2 = model_NN2(X_train_nn.shape[1],learning_rate,momentum,decay_rate)\n",
    "print(model2.summary())\n",
    "model2 = train_NN(model2,X_train_nn,y_train_nn,epochs,batch_size)\n",
    "eval_NN(model2,X_test_nn,y_test_nn)\n"
   ]
  },
  {
   "cell_type": "code",
   "execution_count": 270,
   "metadata": {},
   "outputs": [
    {
     "data": {
      "image/png": "[encoded data removed]",
      "text/plain": [
       "<Figure size 432x288 with 1 Axes>"
      ]
     },
     "metadata": {},
     "output_type": "display_data"
    },
    {
     "data": {
      "image/png": "[encoded data removed]",
      "text/plain": [
       "<Figure size 432x288 with 1 Axes>"
      ]
     },
     "metadata": {},
     "output_type": "display_data"
    },
    {
     "data": {
      "image/png": "[encoded data removed]",
      "text/plain": [
       "<Figure size 432x288 with 1 Axes>"
      ]
     },
     "metadata": {},
     "output_type": "display_data"
    }
   ],
   "source": [
    "#post training ...\n",
    "plotgraphs(model2.model.history)\n",
    "y_pred_nn = model2.predict(X_test_nn)\n",
    "False_Pos_Rate,True_Pos_Rate,ROC_CURVE = roccurve(y_pred_nn,y_test_nn)\n",
    "plotroc(False_Pos_Rate,True_Pos_Rate,ROC_CURVE,'Receiver operating characteristic for Model - SGD NN')\n",
    "yaml_filename = 'model2_500.yaml'\n",
    "hd5_filename= 'model2_500.hd5'\n",
    "#savemodel(model1,yaml_filename,hd5_filename)"
   ]
  },
  {
   "cell_type": "code",
   "execution_count": 272,
   "metadata": {},
   "outputs": [],
   "source": [
    "#XGBOOST"
   ]
  },
  {
   "cell_type": "code",
   "execution_count": 751,
   "metadata": {},
   "outputs": [
    {
     "name": "stderr",
     "output_type": "stream",
     "text": [
      "C:\\Users\\vbdon\\Anaconda3\\envs\\tensorflow\\lib\\site-packages\\sklearn\\preprocessing\\label.py:151: DeprecationWarning: The truth value of an empty array is ambiguous. Returning False, but in future this will result in an error. Use `array.size > 0` to check that an array is not empty.\n",
      "  if diff:\n"
     ]
    },
    {
     "name": "stdout",
     "output_type": "stream",
     "text": [
      "\n",
      "Model Report\n",
      "Accuracy : 0.9301\n",
      "AUC Score (Test): 0.965405\n"
     ]
    },
    {
     "data": {
      "image/png": "[encoded data removed]",
      "text/plain": [
       "<Figure size 1080x720 with 1 Axes>"
      ]
     },
     "metadata": {},
     "output_type": "display_data"
    }
   ],
   "source": [
    "\n",
    "xgb1 = XGBClassifier(\n",
    " learning_rate =0.4,\n",
    " n_estimators=1500,\n",
    " max_depth=7,\n",
    " min_child_weight=1,\n",
    " gamma=0,\n",
    " subsample=0.8,\n",
    " colsample_bytree=0.9,\n",
    " objective= 'binary:logistic',\n",
    " nthread =-1,\n",
    " scale_pos_weight=1,\n",
    " seed=42)\n",
    "xgmodel = modelfit(xgb1,X_train_norm, y_train_norm)\n",
    "xgeval(xgmodel,X_test_norm,y_test_norm)"
   ]
  },
  {
   "cell_type": "code",
   "execution_count": 752,
   "metadata": {
    "scrolled": true
   },
   "outputs": [
    {
     "name": "stderr",
     "output_type": "stream",
     "text": [
      "C:\\Users\\vbdon\\Anaconda3\\envs\\tensorflow\\lib\\site-packages\\sklearn\\preprocessing\\label.py:151: DeprecationWarning: The truth value of an empty array is ambiguous. Returning False, but in future this will result in an error. Use `array.size > 0` to check that an array is not empty.\n",
      "  if diff:\n"
     ]
    },
    {
     "name": "stdout",
     "output_type": "stream",
     "text": [
      "\n",
      "Model Report\n",
      "Accuracy : 0.9999\n",
      "AUC Score (Test): 1.000000\n"
     ]
    }
   ],
   "source": [
    "xgeval(xgmodel,X_train_norm,y_train_norm)"
   ]
  },
  {
   "cell_type": "code",
   "execution_count": 771,
   "metadata": {
    "scrolled": true
   },
   "outputs": [
    {
     "data": {
      "image/png": "[encoded data removed]",
      "text/plain": [
       "<Figure size 432x288 with 1 Axes>"
      ]
     },
     "metadata": {},
     "output_type": "display_data"
    }
   ],
   "source": [
    "sns.kdeplot(a.loc[a['Success_x']==0,'HourMinute'],label = 'Success = 0')\n",
    "sns.kdeplot(a.loc[a['Success_x']==1,'HourMinute'],label = 'Success = 1')\n",
    "plt.title('Distribution of Time by Success Value')\n",
    "plt.xlabel('Time of Day'); plt.ylabel('Density');\n"
   ]
  },
  {
   "cell_type": "code",
   "execution_count": 789,
   "metadata": {},
   "outputs": [
    {
     "data": {
      "image/png": "[encoded data removed]",
      "text/plain": [
       "<Figure size 432x288 with 1 Axes>"
      ]
     },
     "metadata": {},
     "output_type": "display_data"
    }
   ],
   "source": [
    "fig, ax = plt.subplots()\n",
    "sns.kdeplot(a.loc[a['Success_x']==0,'DayOfWeek'],label = 'Success = 0')\n",
    "sns.kdeplot(a.loc[a['Success_x']==1,'DayOfWeek'],label = 'Success = 1')\n",
    "plt.title('Distribution of TimePerSession by Success Value')\n",
    "plt.xlabel('Day of the week'); plt.ylabel('Density');\n",
    "plt.xticks([0,1,2,3,4,5,6,7,8],['Monday','Tuesday','Wednesday','Thursday','Friday','Saturday','Sunday'],rotation = \"vertical\")\n",
    "plt.subplots_adjust(bottom=0.25)\n",
    "plt.show()"
   ]
  },
  {
   "cell_type": "code",
   "execution_count": 817,
   "metadata": {},
   "outputs": [
    {
     "data": {
      "image/png": "[encoded data removed]",
      "text/plain": [
       "<Figure size 432x288 with 1 Axes>"
      ]
     },
     "metadata": {},
     "output_type": "display_data"
    }
   ],
   "source": [
    "fig, ax = plt.subplots()\n",
    "sns.kdeplot(a.loc[a['Success_x']==0,'Month'],label = 'Success = 0')\n",
    "sns.kdeplot(a.loc[a['Success_x']==1,'Month'],label = 'Success = 1')\n",
    "plt.title('Distribution of TimePerSession by Success Value')\n",
    "plt.xlabel('Month'); plt.ylabel('Density')\n",
    "#plt.subplots_adjust(bottom=0.25)\n",
    "plt.show()"
   ]
  },
  {
   "cell_type": "code",
   "execution_count": 549,
   "metadata": {},
   "outputs": [
    {
     "data": {
      "text/plain": [
       "<matplotlib.axes._subplots.AxesSubplot at 0x21a44e3a160>"
      ]
     },
     "execution_count": 549,
     "metadata": {},
     "output_type": "execute_result"
    },
    {
     "data": {
      "image/png": "[encoded data removed]",
      "text/plain": [
       "<Figure size 432x288 with 2 Axes>"
      ]
     },
     "metadata": {},
     "output_type": "display_data"
    }
   ],
   "source": [
    "cor_Data = a[['Success_x','ga_dateHourMinute','ga_sessionDurationBucket','ga_userBucket','ga_sessionCount','ga_language_encoded_D77','ga_browser_encoded_A4']].corr()\n",
    "sns.heatmap(cor_Data,xticklabels=cor_Data.columns,yticklabels=cor_Data.columns,annot=True)"
   ]
  },
  {
   "cell_type": "code",
   "execution_count": null,
   "metadata": {},
   "outputs": [],
   "source": [
    "\n"
   ]
  },
  {
   "cell_type": "markdown",
   "metadata": {},
   "source": [
    "## function definitions"
   ]
  },
  {
   "cell_type": "code",
   "execution_count": 167,
   "metadata": {},
   "outputs": [],
   "source": [
    "def roccurve(y_score,y_test):\n",
    "    # Compute ROC curve and ROC area for each class\n",
    "    fpr = dict()\n",
    "    tpr = dict()\n",
    "    roc_auc = dict()\n",
    "    fpr, tpr, _ = roc_curve(y_test, y_score)\n",
    "    roc_auc = auc(fpr, tpr)\n",
    "\n",
    "    # Compute micro-average ROC curve and ROC area\n",
    "    return fpr,tpr,roc_auc\n",
    "\n",
    "def plotroc(fpr,tpr,roc_auc,model_text):\n",
    "    plt.figure()\n",
    "    lw = 2\n",
    "    plt.plot(fpr, tpr, color='darkorange',\n",
    "             lw=lw, label='ROC curve (area = %0.2f)' % roc_auc)\n",
    "    plt.plot([0, 1], [0, 1], color='navy', lw=lw, linestyle='--')\n",
    "    plt.xlim([0.0, 1.0])\n",
    "    plt.ylim([0.0, 1.05])\n",
    "    plt.xlabel('False Positive Rate')\n",
    "    plt.ylabel('True Positive Rate')\n",
    "    plt.title(model_text)\n",
    "    plt.legend(loc=\"lower right\")\n",
    "    plt.show()"
   ]
  },
  {
   "cell_type": "code",
   "execution_count": 171,
   "metadata": {},
   "outputs": [],
   "source": [
    "def confusionmatrix(y_test,y_pred):\n",
    "    return classification_report(y_test, y_pred)"
   ]
  },
  {
   "cell_type": "code",
   "execution_count": 268,
   "metadata": {},
   "outputs": [],
   "source": [
    "def model_NN(input_shape,dropout_rate):\n",
    "    \n",
    "    # create model\n",
    "    model = Sequential()\n",
    "    model.add(Dense(300, input_dim=input_shape, activation='relu'))\n",
    "    model.add(Dense(200, activation='relu'))\n",
    "    model.add(Dense(100, activation='relu'))\n",
    "    #model.add(Dropout(dropout_rate))\n",
    "    model.add(Dense(80, activation='relu'))\n",
    "    model.add(Dense(50, activation='relu'))\n",
    "    #model.add(Dropout(dropout_rate))\n",
    "    model.add(Dense(30, activation='relu'))\n",
    "    model.add(Dense(20, activation='relu'))\n",
    "    #model.add(Dropout(dropout_rate))\n",
    "    model.add(Dense(10, activation='relu'))\n",
    "    model.add(Dense(1, activation='sigmoid'))\n",
    "    model.compile(loss='binary_crossentropy', optimizer='adam', metrics=['accuracy'])\n",
    "    return model\n",
    "def model_NN2(input_shape,learn_rate,momentum,decay_rate):\n",
    "    \n",
    "    # create model with stochastic gradient descent optimizer\n",
    "    model = Sequential()\n",
    "    model.add(Dense(300, input_dim=input_shape, activation='relu'))\n",
    "    model.add(Dense(200, activation='relu'))\n",
    "    model.add(Dense(100, activation='relu'))\n",
    "    #model.add(Dropout(dropout_rate))\n",
    "    model.add(Dense(80, activation='relu'))\n",
    "    model.add(Dense(50, activation='relu'))\n",
    "    #model.add(Dropout(dropout_rate))\n",
    "    model.add(Dense(30, activation='relu'))\n",
    "    model.add(Dense(20, activation='relu'))\n",
    "    #model.add(Dropout(dropout_rate))\n",
    "    model.add(Dense(10, activation='relu'))\n",
    "    model.add(Dense(1, activation='sigmoid'))\n",
    "    optimizer = SGD(lr=learn_rate, momentum=momentum,decay=decay_rate)\n",
    "    model.compile(loss='binary_crossentropy', optimizer=optimizer, metrics=['accuracy'])\n",
    "    return model\n",
    "    \n",
    "def train_NN(model,X_train,y_train,epochs,batch_size):\n",
    "    model.fit(X_train, y_train, epochs=epochs, batch_size=batch_size,validation_split=0.25,verbose=0)\n",
    "    return model\n",
    "\n",
    "def eval_NN(model,X_test,y_test):\n",
    "    # evaluate the model\n",
    "    scores = model.evaluate(X_test, y_test)\n",
    "    print(\"\\n%s: %.2f%%\" % (model.metrics_names[1], scores[1]*100))\n",
    "\n",
    "def plotgraphs(model):\n",
    "    # list all data in history\n",
    "#    print(model.model.keys())\n",
    "    # summarize history for accuracy\n",
    "    plt.plot(model.history['acc'])\n",
    "    plt.plot(model.history['val_acc'])\n",
    "    plt.title('model accuracy')\n",
    "    plt.ylabel('accuracy')\n",
    "    plt.xlabel('epoch')\n",
    "    plt.legend(['train', 'test'], loc='upper left')\n",
    "    plt.show()\n",
    "    # summarize history for loss\n",
    "    plt.plot(model.history['loss'])\n",
    "    plt.plot(model.history['val_loss'])\n",
    "    plt.title('model loss')\n",
    "    plt.ylabel('loss')\n",
    "    plt.xlabel('epoch')\n",
    "    plt.legend(['train', 'test'], loc='upper left')\n",
    "    plt.show()\n",
    "    \n",
    "def savemodel(model,yaml_filename,hd5_filename):\n",
    "    # serialize model to YAML\n",
    "    model_yaml = model.to_yaml()\n",
    "    with open(yaml_filename, \"w\") as yaml_file:\n",
    "        yaml_file.write(model_yaml)\n",
    "    # serialize weights to HDF5\n",
    "    model.save_weights(hd5_filename)\n",
    "    print(\"Saved model to disk\")"
   ]
  },
  {
   "cell_type": "code",
   "execution_count": 301,
   "metadata": {},
   "outputs": [],
   "source": [
    "def modelfit(alg, dtrain, predictors,useTrainCV=True, cv_folds=5, early_stopping_rounds=50):\n",
    "    \n",
    "    if useTrainCV:\n",
    "        xgb_param = alg.get_xgb_params()\n",
    "        xgtrain = xgb.DMatrix(dtrain.values, label=predictors)\n",
    "        cvresult = xgb.cv(xgb_param, xgtrain, num_boost_round=alg.get_params()['n_estimators'], nfold=cv_folds,\n",
    "            metrics='auc', early_stopping_rounds=early_stopping_rounds)\n",
    "        alg.set_params(n_estimators=cvresult.shape[0])\n",
    "    \n",
    "    #Fit the algorithm on the data\n",
    "    alg.fit(dtrain,predictors,eval_metric='auc')\n",
    "    feat_imp = pd.Series(alg.booster().get_fscore()).sort_values(ascending=False)\n",
    "    feat_imp[:40].plot(kind='bar', title='Feature Importances',figsize=(15,10))\n",
    "    plt.ylabel('Top 40 Feature Importance Score')\n",
    "    plt.xticks(fontsize=10)\n",
    "    return alg\n",
    "def xgeval(alg,dtest,predictors):       \n",
    "    #Predict training set:\n",
    "    dtest_predictions = alg.predict(dtest)\n",
    "    dtest_predprob = alg.predict_proba(dtest)[:,1]        \n",
    "    #Print model report:\n",
    "    print(\"\\nModel Report\")\n",
    "    print(\"Accuracy : %.4g\" % metrics.accuracy_score(predictors, dtest_predictions))\n",
    "    print(\"AUC Score (Test): %f\" % metrics.roc_auc_score(predictors, dtest_predprob))\n",
    "                    \n"
   ]
  },
  {
   "cell_type": "code",
   "execution_count": null,
   "metadata": {},
   "outputs": [],
   "source": []
  }
 ],
 "metadata": {
  "kernelspec": {
   "display_name": "Python 3",
   "language": "python",
   "name": "python3"
  },
  "language_info": {
   "codemirror_mode": {
    "name": "ipython",
    "version": 3
   },
   "file_extension": ".py",
   "mimetype": "text/x-python",
   "name": "python",
   "nbconvert_exporter": "python",
   "pygments_lexer": "ipython3",
   "version": "3.5.4"
  }
 },
 "nbformat": 4,
 "nbformat_minor": 2
}
